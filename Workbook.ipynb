{
 "cells": [
  {
   "cell_type": "markdown",
   "metadata": {},
   "source": [
    "# Statistics workbook \n",
    "## Chapter 1\n",
    "### Statistic is the science of data analysis\n",
    " - •\tIt is a scientific approach based on calculations.\n",
    " - •\tUses mathematical methods to characterize data.\n",
    " - •\tPredicts the outcome of various processes before they happen. \n",
    " - •\tFinds how various factors influence data.\n",
    " - •\tFinds how different factors behind the data depend on each other.\n",
    " - •\tIn many situations data is given by natural processes and thus observation plays a key role. \n",
    " - •\tIn general we need statistics for data of certain complexity. Simple data may not require a statistical description. \n",
    "\n",
    "### Sampling and descriptive statistics\n",
    "**Example:** what is the prevalence of diabetes in the Icelandic population? (prevalence = the percentage of people affected by the disease).\n",
    "In order to evaluate the proportion we consider a **sample** of the Icelandic population. \n",
    "Prevalence (%) = (number of individuals with diabetes in the sample / number of individuals in the sample) * 100\n",
    "\n",
    "**Sample = subset of the total population**\n",
    "\n",
    "A good sample should represent well the entire population, otherwise the sample is **biased**.\n",
    "\n",
    "The students of RU are not a good sample in this case because they are young and only very few have the disease.\n",
    "\n",
    "A small sample is not good because of the relatively large random factors.  \n",
    "\n",
    "A **population** is the entire collection of objects or outcomes about which information is sought. \n",
    "\n",
    "A **sample** is a subset of a population, containing the objects or outcomes that are actually observed.\n",
    "\n",
    "A **simple random sample** of size n is a sample chosen by a method in which each collection of n population items is equally likely to make up the sample, just as in lottery. (?)\n",
    "\n",
    "### Sample variation effect \n",
    "**Example 1.3**\n",
    "A quality inspector draws a simple random sample of 40 bolts from a large shipment and measures the length of each. He finds that 34 of them, or 85%, meet a length specification. He concludes that exactly 85% of the bolts in the shipment meet the specification. The inspector’s supervisor concludes that the proportion of good bolts is likely to be close to, but not exactly equal to, 85%. Which conclusion is appropriate? \n",
    "My answer: The inspector’s supervisor. \n",
    "\n",
    "**Example 1.4**\n",
    "Another inspector repeats the study with a different simple random sample of 40 bolts. She finds that 36 of them, or 90%, are good. The first inspector claims that she must have done something wrong, since his results showed that 85%, not 90%, of bolts are good. Is he right?\n",
    "My answer: No there is variance in such a small sample.\n",
    "Answer from book: This is sampling variation at work. Two different samples from the same population will differ from each other. However, the larger the samples the smaller the observed differences.\n",
    "\n",
    "### The case of multiple measurements\n",
    "**Example 1.5**\n",
    "A geologist weighs a rock several times on a sensitive scale. Each time, the scale gives a slightly different reading. Under what conditions can these readings be thought of as a simple random sample? What is the population? \n",
    "\n",
    "If the physical characteristics of the scale remain the same for each weighing, so that the measurements are made under identical conditions, then the readings may be considered to be a simple random sample. The population is conceptual. It consists of all the readings that the scale could in principle produce.\n",
    "\n",
    "### About bias\n",
    " - •\tThe word **bias** means an incorrect tendency of an evaluation or estimation.\n",
    " - •\tThe bias can possibly be in the data or in the method of analysis.\n",
    " \n",
    " **Examples**\n",
    " - •\tSystematic errors, due to incorrect measurements.\n",
    " - •\tThe measurments are not independant: for example the same result (or data) is reapeted without repeating the measurment. \n",
    " - •\tThe number of measurements are too small. \n",
    " - •\tSome data points have been ignored. \n",
    " - •\tAnd many other possible situations, from case to case. \n",
    "\n",
    "### Sample mean and sample varience\n",
    "Suppose x is a random variable in a data set of n variables.\n",
    "\n",
    "Data = [x1, x2, x3 . . ., xn] \n",
    "\n",
    "We want to find the mean value and we want to know the variability. \n",
    "\n",
    "Sample = [1.1, 1.3, 0.9, 1.1, 0.8], n=5 \n",
    "\n",
    "**Sample mean:**\n",
    "\n",
    "$\\hat{x} = \\frac{1}{n} \\sum \\limits _{i=1} ^{n} x_{i}$\n",
    "\n",
    "**Sample variance:**\n",
    "\n",
    "$s^{2} = \\frac{1}{n-1} \\sum \\limits _{i=1} ^{n} (x_{i} - \\hat{x})^{2}$\n",
    "\n",
    "$s^{2} = \\frac{1}{n-1} (\\sum \\limits _{i=1} ^{n} x^{2}_{i} - n\\hat{x}^{2})$\n",
    "\n",
    "n-1 because there are n-1 independant terms.\n",
    "\n",
    "**Standard deviation:**\n",
    "\n",
    "$s = \\sqrt{\\frac{1}{n-1} \\sum \\limits _{i=1} ^{n} (x_{i} - \\hat{x})^{2}}$\n",
    "\n",
    "### Summary statistics\n",
    "There are two types of data: **quantitative** or **qualitative**\n",
    "\n",
    "**Quantitative data = numbers**\n",
    "\n",
    "**Qualitative data = categories**\n",
    "\n",
    "Usually the summary statistics is applicable to quantitative data.\n",
    "Consider the numeric random variable x and data sample $[x_{1},x_{2},x_{3},. . ., x_{n}]$.\n",
    "\n",
    "**Outliers** are numbers that are much larger or much smaller than the other numbers. Look at them carefully:  Are they real data? Are they wrong numbers, are they wrong measurements?\n",
    "\n",
    "**Sample median**: Sort the numbers in ascending order.   The median is the number that divides the data in two halves.  If we have n data points, the median is $x_\\frac{n+1}{2}$ if n is an odd number, and $\\frac{(x_{\\frac{n}{2}} + x_{\\frac{n}{2} + 1})}{2}$ if n is an even number.\n",
    "\n",
    "**Quartiles:** Sort the data and find the three numbers that split the data points in four groups, each with the same number of data points. (Or four quarters.) The 2-nd quartile is identical to the median.\n",
    "\n",
    "**Percentiles:** Sort the data and find the number such that p% of the data points have lower values than it. The quartiles correspond to p=25, 50, and 75.\n",
    "\n",
    "## Chapter 2\n",
    "### Probability\n",
    "**Probability = chances = likelihood that an event occurs**\n",
    "\n",
    "Probability can be evaluated from data. It can be defined for phenomena or experiments that can be (at least potentially) repeated. \n",
    "\n",
    "**Example:**\n",
    "\n",
    "Team A plays against Team B. What are the chances that Team A wins?\n",
    "Use data: the previous matches between these teams.\n",
    "\n",
    "P(A wins) = number of previous games won by A / total number of games played against other team. **This is an estimated probability.**\n",
    "\n",
    "A possibly better **estimate** may be to use other information, like where the game will be held (at home, or away) etc. \n",
    "\n",
    "### The fundamental role of data\n",
    "\n",
    "**In practice the probability is obtained / inferred from the data observed for the particular phenomenon or experiment of interest.**\n",
    "\n",
    "**The probability of an event E to occur is:**\n",
    "P(E) = number of favorable outcomes (for event E) / number of all possible outcomes\n",
    "\n",
    "Data can be about the history of the events, or about their distribution, or about the details of a particular phenomenon or experiment. It represents what we already know. Probabilities are in general used for prediction, but also for characterization of a certain process, for understanding, etc. They are useful for processes of a certain complexity where causality may not be very simple and a certain randomness is working. Lack of data can prevent us from finding a probability of an event. \n",
    "\n",
    "**Example:**\n",
    "We have a box with identical objects, but they have two different colors A and B. What is the probability of extracting color A. \n",
    "\n",
    "**Method 1:** Do it a number of times and look at the data. \n",
    "\n",
    "P(A) = number of outcomes A / number of trials \n",
    "\n",
    "This is the estimated probability obtained from a sample. \n",
    "\n",
    "**Method 2:** Open the box and look at the proportions.\n",
    "\n",
    "P(A) = number of objects with color A / total number of objects\n",
    "\n",
    "This is the exact probability obtained from the whole population. In practice we may not have access to the whole population.\n",
    "\n",
    "### Terminology\n",
    "The set of all possible outcomes of an experiment is called **the sample space** for that experiment. A subset of the sample space is called an **event**.\n",
    "\n",
    "**Examples:**\n",
    "\n",
    "For a rolling die, the sample space is :{1,2,3,4,5,6}\n",
    "\n",
    "For a coin toss, the sample space is: {heads, tails}\n",
    "\n",
    "For weighing a box, the sample space is mass plus/minus uncertainty, but theoretically before we know any result the sample space is [0, infinity[\n",
    "\n",
    "**Events can be:** Die shows 2 after one roll, or shows 2 and the 4 after two rolls. Events can be simple or complex. \n",
    "\n",
    "### Refreshment on sets\n",
    "A set (mengi) is a collection of elements. Lets say we have set A and set B. \n",
    "Union of two sets $A \\cup B$ = all the elements from both sets put together. \n",
    "\n",
    "Intersection of two sets $A \\cap B$ = all the elements common in A and B. \n",
    "\n",
    "$A^{c} =$ **not** A\n",
    "\n",
    "$\\cup$ -> OR\n",
    "\n",
    "$\\cap$ -> AND\n",
    "\n",
    "$B \\subset A$ B is included A. Which means $A \\cup B = A$ and $A \\cap B = B$\n",
    "\n",
    "$A \\cup B = B \\cup A$\n",
    "\n",
    "$A \\cap B = B \\cap A$\n",
    "\n",
    "### Events as sets\n",
    "\n",
    "**S = the whole sample space**\n",
    "\n",
    "**E = Event**\n",
    "\n",
    "**It can be a simple event or a combination of events.**\n",
    "\n",
    "E is a subset of S: $E \\subset S$\n",
    "\n",
    "Possibly E = S or $E = \\phi$ (if event is not in sample space)\n",
    "\n",
    "### Mutually exclusive sets \n",
    "\n",
    "The events A and B are said to be mutually exclusive if they cannot occur together. That means $A \\cap B = \\phi$.\n",
    "\n",
    "**Example:**\n",
    "\n",
    "Iceland plays against France. The sample space is: {Iceland wins, France wins, draw}\n",
    "\n",
    "Events A = {Iceland wins} and B = {France wins} cannot occur together. \n",
    "A and B corresponds to set with no common element. \n",
    "\n",
    "### The addition rule\n",
    "\n",
    "What if A and B are not mutually exclusive. \n",
    "\n",
    "Then $P(A \\cup B) = P(A) + P(B) - P(A \\cap B)$\n",
    "\n",
    "An intuitive proof: if we assume that $P(A \\cup B) = P(A) + P(B)$ we have to notice that the intersection $P(A \\cap B)$ is included twice. To correct the result we have to subtract it once. \n",
    "\n",
    "Another version: $P(A \\cup B) = 1 - P(A^{c} \\cap B^{c})$\n",
    "\n",
    "### The difference between Probability Theory and Statistics\n",
    "\n",
    "These two sciences are related because they study random events.  But the \n",
    "approach is different.\n",
    "\n",
    "**Probability Theory**\n",
    " - The main goal is to evaluate the probability of complex events by \n",
    "considering the probability of some simple events being known.\n",
    " - Uses discrete mathematics, combinatorics, graph theory.\n",
    " - Traditionally it is a field of mathematics, with axioms, theorems, proofs.\n",
    "\n",
    "**Statistics**\n",
    " - The main goal is to evaluate the probabilities of random events using data.\n",
    " - Uses elements of probability theory, but often in an empirical way.\n",
    " - It can be considered an experimental or a natural science, with some \n",
    "mathematics in the background, but the main tool is the computer.\n",
    " - Because of the evolution of computers Statistics is now a very powerful \n",
    "research method in many fields: engineering, economy, medicine, \n",
    "sociology, business, etc.\n",
    "\n",
    "### Axioms of probability\n",
    "1. Let S be a sample space.  Then $P(S) = 1$ \n",
    "2. For any event A,  $0 \\leq P(A) \\leq 1$\n",
    "3. If A and B are mutually exclusive events, then $P(A \\cup B) = P(A) + P(B)$\n",
    "\n",
    "All the properties of probabilities can be seen as consequences of the \n",
    "axioms 1,2,3.  \n",
    "\n",
    "**For example:**\n",
    " - If $A^{c}$ is the complement of $A \\Rightarrow S = A^{c} \\cup A$; Use 1 and 3 $\\Rightarrow P(A^{c}) = 1- P(A)$\n",
    " - $S^{c} = \\phi \\Rightarrow P(\\phi) = 0$\n",
    "### Example of mutually exclusive events\n",
    "**Example 2.4**\n",
    "\n",
    "A target on a test firing range consists of a bull’s-eye \n",
    "with two concentric rings around it.  A projectile is fired at the target.  The \n",
    "probability that it hits the bull’s-eye is 0.10, the probability that it hits the inner \n",
    "ring is 0.25, and the probability that it hits the outer ring is 0.45.  \n",
    "\n",
    "What is the probability that the projectile hits the target?\n",
    "\n",
    "$0.10 + 0.25 + 0.45 = 0.80$ \n",
    "\n",
    "What is the probability that it misses the target?\n",
    "\n",
    "$1 - 0.80 = 0.20$\n",
    "\n",
    "[See rectangle on slide package 1 (Page 4)](https://reykjavik.instructure.com/courses/6357/pages/lecture-package-1-conditional-probabilities?module_item_id=262176)\n",
    "\n",
    "### Probabilities estimated from data\n",
    "**Examples 2.6-2.7 / p.56**\n",
    "\n",
    "A machine produces Aluminum rods with specified length and diameter.  \n",
    "The length can be:  to short, OK, or too long.\n",
    "\n",
    "The diameter can be: too thin, OK, or too thick. \n",
    "\n",
    "Data for a sample of 1000 rods is shown in the table.\n",
    "\n",
    "\n",
    "\n",
    "\n"
   ]
  },
  {
   "cell_type": "code",
   "execution_count": 2,
   "metadata": {},
   "outputs": [
    {
     "data": {
      "text/html": [
       "<div>\n",
       "<style scoped>\n",
       "    .dataframe tbody tr th:only-of-type {\n",
       "        vertical-align: middle;\n",
       "    }\n",
       "\n",
       "    .dataframe tbody tr th {\n",
       "        vertical-align: top;\n",
       "    }\n",
       "\n",
       "    .dataframe thead th {\n",
       "        text-align: right;\n",
       "    }\n",
       "</style>\n",
       "<table border=\"1\" class=\"dataframe\">\n",
       "  <thead>\n",
       "    <tr style=\"text-align: right;\">\n",
       "      <th></th>\n",
       "      <th>Too Thin</th>\n",
       "      <th>OK</th>\n",
       "      <th>Too Thick</th>\n",
       "    </tr>\n",
       "  </thead>\n",
       "  <tbody>\n",
       "    <tr>\n",
       "      <th>Too Short</th>\n",
       "      <td>10</td>\n",
       "      <td>3</td>\n",
       "      <td>5</td>\n",
       "    </tr>\n",
       "    <tr>\n",
       "      <th>OK</th>\n",
       "      <td>38</td>\n",
       "      <td>900</td>\n",
       "      <td>4</td>\n",
       "    </tr>\n",
       "    <tr>\n",
       "      <th>Too Long</th>\n",
       "      <td>2</td>\n",
       "      <td>25</td>\n",
       "      <td>13</td>\n",
       "    </tr>\n",
       "  </tbody>\n",
       "</table>\n",
       "</div>"
      ],
      "text/plain": [
       "           Too Thin   OK  Too Thick\n",
       "Too Short        10    3          5\n",
       "OK               38  900          4\n",
       "Too Long          2   25         13"
      ]
     },
     "execution_count": 2,
     "metadata": {},
     "output_type": "execute_result"
    }
   ],
   "source": [
    "import pandas as pd \n",
    "df = pd.read_csv('datasets/Ch2/table2-1.csv', header=0)\n",
    "df.rename(index={0:'Too Short', 1:'OK', 2:'Too Long'}) "
   ]
  },
  {
   "cell_type": "markdown",
   "metadata": {},
   "source": [
    "1. What is the probability that a rod is too short?  \n",
    "\n",
    "    $P(too short) = (10+3+5)/1000 = 0.018$\n",
    "2. What is the probability that a rod is either too short or too thick?\n",
    "    \n",
    "    $P(too thich) = (5+4+13)/1000 = 0.022$\n",
    "    \n",
    "    $P(too short AND too thick) = 5/1000 = 0.005$\n",
    "    \n",
    "    $P(too short OR too thick) = 0.018 + 0.022 - 0.005 = 0.035$\n",
    "\n",
    "### Conditional probability\n",
    "Let A and B be two different events. The probability for A to happen when B is true is called the probability of A conditioned by B, denoted $P(A|B)$.\n",
    "\n",
    "$P(A|B) =$ number of outcomes of A when B is true / number of outcomes of B\n",
    "\n",
    "Multiply and divide the total number of elements in the sample space $\\Rightarrow$\n",
    "\n",
    "$P(A|B) = \\frac{P(A \\cap B)}{P(B)}$ or $P(A \\cap B) = P(A|B) * P(B)$\n",
    "\n",
    "If we exchange A and B, because $P(A \\cap B) = P(B \\cap A) \\Rightarrow$\n",
    "\n",
    "**Bayes' rule:**\n",
    "\n",
    "$P(A|B)P(B) = P(B|A)P(A)$\n",
    "\n",
    "Bayes' rule is very useful in practical situations when data corresponds to the condition B true, but the interest is rather in the condition A true. \n",
    "\n",
    "In practise the probabilities are almost always conditioned by the available information, which is the data or knowledge about the specific process. \n",
    "\n",
    "The sample space in this case is not the total sample space, it is only a subset. \n",
    "\n",
    "### Independent events\n",
    "Two events are **independant** if the probability of each event remains the same whether or not the other occurs. \n",
    "\n",
    "$P(A|B) = P(A), P(B|A) = P(B)$\n",
    "\n",
    "For independent events we have the multiplication rule:\n",
    "\n",
    "$P(A \\cap B) = P(A)P(B)$\n",
    "\n",
    "**Examples:**\n",
    "\n",
    "1. Throw a die two times. What is the probability to have face 1 up both times? Does the second throw depend on the first throw? **No**.\n",
    "\n",
    "    $P(first\\,1 \\cap second\\,1) = P(first\\,1) P(second\\,1) = (\\frac{1}{6})^2$\n",
    "\n",
    "2. (Example 2.20 (Page 72)) Look at the data for the Aluminum rods. Show that $P(too \\, long \\mid too \\, thin) = P(too \\, long) = 0.04$\n",
    "\n",
    "    $$\n",
    "    P(too\\,long) = \\frac{(2 + 25 + 13)}{1000} = 0.04 \\\\ \\\\\n",
    "\n",
    "    P(too\\,thin) = \\frac{(10 + 38 + 2)}{1000} = 0.05 \\\\ \\\\\n",
    "    \n",
    "    P(too\\,long \\cap too\\,thin) = \\frac{2}{1000} = 0.002 \\\\ \\\\\n",
    "    \n",
    "    P(too\\,long \\mid too\\,thin) = \\frac{0.002}{0.05} = \\frac{2}{50} = 0.04\n",
    "    $$\n",
    "\n",
    "    Apparently too long and too thin are independent events, while we know that too short and too thick are not independent. In practise this result may be real for the whole population of rods, but it may also be limited to the sample of 1000 rods used. To clarify one has to increase the sample size, or perform more advanced statistical tests. \n",
    "\n",
    "### The muliplication rule for more events\n",
    "If A, B, C, D, ... are independent events then $P(A \\cap B \\cap C \\cap D \\cap ...) = P(A)P(B)P(C)P(D)...$\n",
    "\n",
    "**Example 2.23:**\n",
    "\n",
    "Of the microprocessors manufactured by a certain process, 20% are defective. Five microprocessors are chosen at random. Assum the function independently. What is the probability the all work?\n",
    "\n",
    "$$\n",
    "P(one\\, works) = 1 - 0.2 = 0.8 \\\\\n",
    "P(all\\,five\\,work) = (1 - 0.2)^5\n",
    "$$\n",
    "### Law of total probability\n",
    "Imagine an event B which can be seen as a combination (partition) of some other events $A_1, A_2, A_3,...,$ which are mutually exclusive. but they cover all possible occurrences of B. \n",
    "\n",
    "If so, $P(B) = \\sum_i P(B \\mid A_i)P(A_i)$\n",
    "\n",
    "Partition example: $S = A_1 \\cup A_2 \\cup A_3$ and $A_1 \\cap A_2 \\cap A_3 = \\phi$\n",
    "\n",
    "$B = (B \\cap A_1) \\cup (B \\cap A_2) \\cup (B \\cap A_3)$\n",
    "\n",
    "$P(B) = (B \\cap A_1) + (B \\cap A_2) + (B \\cap A_3)$\n",
    "\n",
    "$P(B) = P(B \\mid A_1)P(A_1) + P(B \\mid A_2)P(A_2) + P(B \\mid A_3)P(A_3)$ \n",
    "\n",
    "\n",
    "**Example:** Pic a random kennitala ID of a student registered to the course. The probability that the student is in the problem solving group H1 is:\n",
    "\n",
    "$P(H1) = P(H1 \\mid girl)P(girl) + P(H1 \\mid boy)P(boy) = \\sum_{field\\,of\\,study} P(H1 \\mid field\\,of\\,study)P(field\\,of\\,study)$\n",
    "\n",
    "Here we assume each student is registered in only one field of study. \n",
    "\n",
    "Mutually exclusive $\\Rightarrow$ not independent. "
   ]
  },
  {
   "cell_type": "markdown",
   "metadata": {},
   "source": [
    "**Example 2.26 (page 80)**\n",
    "- The proportion of people in a given community who have a certain disease is 0.005. \n",
    "A test is available to diagnose the disease.\n",
    "- If a person has the disease, the probability that the test will produce a positive \n",
    "signal is 0.99. If a person does not have the disease, the probability that the test will \n",
    "produce a positive signal is 0.01.\n",
    "- If a person tests positive, what is the probability that the person actually has the \n",
    "disease?\n",
    "\n",
    "**Solution**\n",
    "\n",
    "A person has the disease D with probability: $P(D) = 0.005$  \n",
    "$P(nD) = 1 - P(D) = 0.995$ is the probability of not having the disease: (nD = nonD or $D^c$) \n",
    "\n",
    "A person tests positive with probability:  $P(+)$\n",
    "\n",
    "We also know that $P(+|D) = 0.99$  and $P(+|nD) = 0.01$ \n",
    "\n",
    "We want: $P(D|+)$ \n",
    "\n",
    "Use Bayes' rule:\n",
    "\n",
    "$P(D \\mid +) = P(+ \\mid D)P(D) \\Rightarrow P(D \\mid +) = \\frac{P(+ \\mid D)P(D)}{P(+)}$\n",
    "\n",
    "Use the law of tota probability:\n",
    "\n",
    "$P(+) = P(+ \\mid D)P(D) + P(+ \\mid nD)P(nD)$ where $P(nD) = 1 - P(D)$\n",
    "\n",
    "and obtain: \n",
    "\n",
    "$P(D \\mid +) = \\frac{P(+ \\mid D)P(D)}{P(+ \\mid D)P(D) + P(+ \\mid nD)[1 - P(D)]} = \\frac{0.99 \\times 0.005}{0.99 \\times 0.005 + 0.01 \\times 0.995} = 0.332$\n",
    "\n",
    "**Comment**:\n",
    "We see that only about a third of the people who test positive for the disease actually have the disease. Note that the test is fairly accurate; it correctly classifies 99% \n",
    "of both diseased and non-diseased individuals. The reason that a large proportion of those who test positive are actually disease-free is that the disease is rare—only 0.5% of \n",
    "the population has it. Because many diseases are rare, it is the case for many medical tests that most positives are false positives, even when the test is fairly accurate. For \n",
    "this reason, when a test comes out positive, a second test is usually given before a firm diagnosis is made.  See also problem 2.3.30 in the list of problems for week 3.\n",
    "\n"
   ]
  },
  {
   "cell_type": "markdown",
   "metadata": {},
   "source": [
    "### Another application of Bayes' rule\n",
    "$P(A \\mid B)P(B) = P(B \\mid A)P(A)$ or $P(A \\mid B) = \\frac{P(A)P(B \\mid A)}{P(A)P(B \\mid A) + P(nA)P(B \\mid nA))} = \\frac{P(B \\mid A)P(A)}{P(B)}$\n",
    "\n",
    "*What is the probability of a smoker to develop lung cancer?*\n",
    "\n",
    "To answer the question we need data and a correct probability setup. \n",
    "\n",
    "**Q: How frequent is smoking in Iceland?**\n",
    "\n",
    "**Google:** Smoking (S) in Iceland is banned in resturants, cafés, bars and night clubs as of June 2007. A large majority of Icelanders approve the ban. At the time the ban went into effect, almost one in four Icelandic people were smokers. $\\Rightarrow P(S) = 0.25$\n",
    "\n",
    "**Q: What fraction of lung cancer is caused by smoking?**\n",
    "\n",
    "**Google:** It has been estimated that active smoking is responsible for 80 percent of lung cancer (LC) cases. $\\Rightarrow P(S \\mid LC) = 0.80$\n",
    "\n",
    "We want to estimate the probability of LC for smokers, which is $P(LC \\mid S)$\n",
    "\n",
    "Use Bayes' rule: $P(LC \\mid S) = \\frac{P(S \\mid LC)P(LC)}{P(S)}$\n",
    "\n",
    "In general we do not know P(LC) because the disease may not have been diagnosed yet. But LC can also develop in no smokers (nS). \n",
    "\n",
    "Use Bayes' rule: $P(LC \\mid nS) = \\frac{P(nS \\mid LC)P(LC)}{P(nS)} = \\frac{[1 - P(S \\mid LC)]P(LC)}{[1 - P(S)]}$\n",
    "\n",
    "Instead of $P(LC \\mid S)$ we can calculate the relative risk:\n",
    "\n",
    "$\\frac{P(LC \\mid S)}{P(LC \\mid nS)} = \\frac{P(S \\mid LC)}{1 - P(S \\mid LC)} \\times \\frac{1 - P(S)}{P(S)} = \\frac{0.8}{0.2} \\times \\frac{0.75}{0.25} = 12$\n",
    "\n",
    "\n"
   ]
  },
  {
   "cell_type": "markdown",
   "metadata": {},
   "source": [
    "### Genetics and diseases \n",
    "In a genetics study, the genome (DNA) of a large collection of individuals having a particular disease D is observed (genotyped). Instead of the smoking condition from the previous example of lung cancer consider now a certain gene varient X. The data collected allows the direct estimation of: \n",
    "\n",
    "$P(X \\mid D) = \\frac{The\\,number\\,of\\,patients\\,with\\,the\\,gene\\,X\\,variant}{The\\,number\\,of\\,all\\,patients}$\n",
    "\n",
    "The typical result of such a study is the relative risk of X for the disease: \n",
    "\n",
    "$R = \\frac{P(D \\mid X)}{P(D \\mid nX)} = \\frac{P(X \\mid D)}{1 - P(X\\mid D)} \\frac{1 - P(X)}{P(X)}$\n",
    "\n",
    "P(X) is the unconditional probability (frequency) of the genetic varient X, which is estimated from a seperated set of individuals randomly selected from the population. This is called population controls. \n",
    "\n"
   ]
  },
  {
   "cell_type": "markdown",
   "metadata": {},
   "source": [
    "### Random variables in general\n",
    "Consider the variable X, which:\n",
    "- Can be a two-level variable (also called binary): True/False, Yes/No\n",
    "- Can be a multilevel variable: a colour, a direction, etc.\n",
    "- Can be a sequence of numbers like: 1,2,3,... or 10,20,30,... or 0.3,4.1,4.8,...\n",
    "- Can be a any number in an interval, like (0,1) or (a,b)\n",
    "\n",
    "We assume the X variable takes one or another value at random, and we \n",
    "associate a probability to the event that X has a certain value.\n",
    "\n",
    "### Discrete random variables \n",
    "When flipping a coin the outcomes are one or the other face up.  This is a \n",
    "binary variable (two values): face 1 and face 2, or we could use 0 and 1 (bits). \n",
    "\n",
    "For a fair coin P(face 1) = P(face 2) = 0.5 \n",
    "\n",
    "In general, the probabilities of a binary variable are p and 1-p, where p ∊(0,1)\n",
    "For a fair die the top face 1,...,6  and P(top face = i) = 1/6 for any i = 1,...,6.\n",
    "\n",
    "In the textbook the random variable is often denoted with capital X and a \n",
    "particular outcome with small x.\n",
    "\n",
    "P(X = x) or P(x) is the probability that the outcome of X is x, and it is called the \n",
    "probability distribution function (or the probability mass function), or simply the \n",
    "distribution of X.\n",
    "\n",
    "In all cases $\\sum_i P(X = x_i) = 1$. \n",
    "\n",
    "### Cumulative distribution function\n",
    "**Example (page 93):** The number of flaws (imperfections) in a 1-inch length \n",
    "of copper wire manufactured by a certain process varies from wire to wire.  \n",
    "Overall, 48% of the wires produced have no flaws, 39% have one flaw, 12% \n",
    "have two flaws, and 1% have three flaws.  \n",
    "\n",
    "Denote by X be the number of flaws in a randomly selected piece of wire.  \n",
    "All possible values of X are 0,1,2,3\n",
    "\n",
    "The distribution function is: \n",
    "$P(X = 0) = 0.48$, $P(X = 1) = 0.39$, $P(X = 2) = 0.12$, and $P(X = 3) = 0.01$ \n",
    "\n",
    "The cumulative distribution function of X is the probability that the variable X \n",
    "is less than or equal to a given value x.\n",
    "\n",
    "$F(x) = P(X \\leq x) = \\sum_{x_i \\leq x}P(x_i)$\n",
    "\n",
    "For example: F(1) = 0.48 + 0.39\n",
    "\n",
    "### Mean and variance of a discrete random number \n",
    "Notation for mean: E(x) (E: Expected), $\\mu$ , $\\mu_x$, $<x>$. \n",
    "\n",
    "$E(x) = \\sum_i x_i P(x_i)$\n",
    "\n",
    "Variance: Var(x), V(x), $\\sigma^2$, $\\sigma^2_x$\n",
    "\n",
    "$$\n",
    "\\begin{align}\n",
    "Var(x) &= E[(x - \\mu)^2] \\\\\n",
    "&= \\sum_i (x_i - \\mu)^2P(x_i) \\\\\n",
    "&= \\sum_i (x^2_i - 2 \\mu x_i + \\mu^2)P(x_i) \\\\\n",
    "&= \\sum_i x^2_i P(x_i) - \\sum_i 2 \\mu x_i P(x_i) + \\sum_i \\mu^2 P(x_i) \\\\\n",
    "&= E(x^2) - 2 \\mu \\sum_i X P(x_i) + \\mu^2 \\sum_i P(x_i) \\\\\n",
    "&= E(x^2) - (E(x))^2\n",
    "\\end{align}\n",
    "$$\n",
    "\n",
    "$ \\sigma = \\sqrt{E[(x - \\mu)^2]}$ is the standard deviation.\n",
    "\n",
    "The variance is the mean of the square minus the square of the mean. \n",
    "\n"
   ]
  },
  {
   "cell_type": "markdown",
   "metadata": {},
   "source": [
    "### Mean and variance of a data sample\n",
    "\n",
    "$x: x_1, x_2,..., x_n \\quad P(x_i) = \\frac{1}{n} \\quad E(x) = \\sum_i x_i P(x_i) = \\frac{1}{n} \\sum_i x_i = \\bar{x}$\n",
    "\n",
    "$$\n",
    "\\begin{align}\n",
    "s^2 &= \\frac{1}{n-1} \\sum_i (x_i - \\bar{x})^2 \\\\\n",
    "&= \\frac{1}{n-1} \\sum_i (x^2_i -2\\bar{x}x_i + \\bar{x}^2) \\\\\n",
    "&= \\frac{1}{n-1} (\\sum_i x^2_i - \\sum_i 2\\bar{x}x_i + \\sum_i \\bar{x}^2) \\\\\n",
    "&= \\frac{1}{n-1} (\\sum_i x^2_i - 2\\bar{x}\\sum_i x_i + n\\bar{x}^2) \\\\\n",
    "&= \\frac{1}{n-1} (\\sum_i x^2_i - n\\bar{x}^2)\n",
    "\\end{align}\n",
    "$$\n",
    "\n",
    "$ n >> 1 \\qquad s^2 = \\frac{1}{n} \\sum_i x^2_i - \\bar{x}^2 \\Rightarrow s^2 = \\bar{x^2} - \\bar{x}^2$ "
   ]
  },
  {
   "cell_type": "markdown",
   "metadata": {},
   "source": [
    "### Continuous random variable\n",
    "A random number which can take any value in a certain interval. \n",
    "\n",
    "**Example:** The height of the individuals in the Icelandic population. \n",
    "\n",
    "The probability distribution f(x) is a continuous function of x. \n",
    "\n",
    "The continuous random variable X can never be equal to a given number. Therefore $P(X = a) = 0$"
   ]
  },
  {
   "cell_type": "code",
   "execution_count": 3,
   "metadata": {},
   "outputs": [
    {
     "data": {
      "text/html": [
       "<img src=\"exampleCh2.jpg\" width=\"600\" height=\"200\"/>"
      ],
      "text/plain": [
       "<IPython.core.display.Image object>"
      ]
     },
     "execution_count": 3,
     "metadata": {},
     "output_type": "execute_result"
    }
   ],
   "source": [
    "from IPython.display import Image\n",
    "  \n",
    "# get the image\n",
    "Image(url=\"exampleCh2.jpg\", width=600, height=200)"
   ]
  },
  {
   "cell_type": "markdown",
   "metadata": {},
   "source": [
    "For a continuous RV the probability distribution is also called probability density. \n",
    "\n",
    "In practice a discrete random variable with very many values can be considered continuous. The histogram will have many bins (columns) and will become a continuous function.\n",
    "\n",
    "Length: dx.\n",
    "\n",
    "$P(a - \\frac{dx}{2} \\lt x \\lt a + \\frac{dx}{2}) = dP (x \\approx a)$\n",
    "\n",
    "$dP(x) = f(x)dx \\Rightarrow$ **probability density or distribution function.** \n",
    "\n",
    "Or: $f(x) = \\frac{dP}{dx}$\n",
    "\n",
    "$$\n",
    "\\begin{align}\n",
    "P(a \\lt x \\lt b) &= P(a \\leq x \\leq b) \\\\\n",
    "&= \\sum_{x = a}^{x=b} dP(x) \\\\\n",
    "&= \\int_{a}^{b} dP(x) \\\\\n",
    "&= \\int_{a}^{b} f(x) dx\n",
    "\\end{align}\n",
    "$$\n",
    "\n",
    "$P(x_{min} \\lt x \\lt x_{max}) = 1 \\Rightarrow \\int_{x_{min}}^{x_{max}} f(x)dx = 1$ \n",
    "\n",
    "**The normalization condition.**\n",
    "\n",
    "Similar to $\\sum_i P(x_i) = 1$ for discrete random numbers. "
   ]
  },
  {
   "cell_type": "markdown",
   "metadata": {},
   "source": [
    "### The cumulatvie distribution function (CDF)\n",
    "\n",
    "The CDF F(a) is the probability that $x \\leq a$. \n",
    "\n",
    "$F(a) = P(x \\leq a) = \\int_{x_{min}}^a f(x) dx$\n",
    "\n",
    "F(a) is the area to the left of a. (See image above). \n",
    "\n",
    "Consequently $P(a \\leq x \\leq b) = F(b) - F(a)$ or the area between a and b. \n",
    "\n",
    "**Properties of CDF**\n",
    "- $F(x) \\gt 0$ because it is a probability. \n",
    "- F(x) always increases when x increases.\n",
    "- $F(x_{min}) = 0$\n",
    "- $F(x_{max}) = 1$ because of the normalization. "
   ]
  },
  {
   "cell_type": "markdown",
   "metadata": {},
   "source": [
    "### Different types of mean values \n",
    "When we have a limited set of data from a large population, which we call a \n",
    "sample,  $x_1, x_2, ... x_n,$ we use the sample mean:\n",
    "\n",
    "$\\bar{X} = \\frac{1}{n} \\sum_{i=1}^{n} x_i$\n",
    "\n",
    "This is an estimation (or approximation) of the population mean, the best we \n",
    "can have with our data. Usually the notation $\\bar{X}$ reserved for the sample mean.\n",
    "\n",
    "Assuming X a continuous variable, the true population mean should be:\n",
    "\n",
    "$\\mu = \\mu_x = <X> = E(X) = \\int_{x_{min}}^{x_{max}} xP(x) dx$\n",
    "\n",
    "Remember, several notations are used for the population mean: $\\mu, \\mu_x, <X> ,E(x)$. \n",
    "The population mean is the true (or real, or exact) mean value of $X$, but often \n",
    "we do not know it and we have to use instead the estimation $\\bar{X}$."
   ]
  },
  {
   "cell_type": "markdown",
   "metadata": {},
   "source": [
    "### The variance is also a mean value\n",
    "The variance (which is the square of the standard deviation) is also a mean \n",
    "value.  The one estimated from a data sample is denoted by $s^2$. \n",
    "\n",
    "$s^2 = \\frac{1}{n - 1} \\sum_{i=1}^{n} (x_i - \\bar{X})^2$\n",
    "\n",
    "Remember, we divide the sum by n-1 and not by n because the sum contains \n",
    "n-1 independent terms. \n",
    "\n",
    "The true, population values, often unknown, are denoted by $\\sigma^2, \\sigma_x^2, Var(X), V(X)$.\n",
    "\n",
    "$Var(X) = E[(X - \\mu_x)^2]$"
   ]
  },
  {
   "cell_type": "markdown",
   "metadata": {},
   "source": [
    "### Linear combination of RV \n",
    "RV $X = x_1,x_2,...,x_n \\quad P(x_i) = [1,n] \\quad E(X), Var(X)$ are known.\n",
    "\n",
    "RV $Y = y_1,y_2,...,y_m \\quad P(y_j) =b[1,m] \\quad E(Y), Var(Y)$ are known.\n",
    "\n",
    "a, b are constant numbers. Lets create a new random variable:\n",
    "\n",
    "RV $Z = aX + bY$ what is $E(Z) = ?$ and $Var(Z) = ?$\n",
    "\n",
    "This combination is called a linear combination cause we only use first powers. \n",
    "\n",
    "$ax_i + by_j = z_{ij} \\quad P(z_{ij}) = P(x_i \\cap y_j)$ (This is called joined distribution)\n",
    "\n",
    "$\\sum_j P(z_{ij}) = \\sum_j P(x_i \\cap y_j) = P(x_i)$ (law of total probability)\n",
    "\n",
    "$\\sum_i  P(z_{ij}) = \\sum_i P(x_i \\cap y_j) = P(y_j)$ (law of total probability)\n",
    "\n",
    "$\\sum_{ij}  P(z_{ij}) = 1$\n",
    "\n",
    "$$\n",
    "\\begin{align}\n",
    "E(Z)&= \\sum_{ij} z_{ij} P(z_{ij}) \\\\\n",
    "&= \\sum_{ij} (ax_i + by_j)P(x_i \\cap y_j) \\\\\n",
    "&= \\sum_{ij} a \\sum_{ij} x_i P(x_i \\cap y_j) + b \\sum_{ij} y_j P(x_i \\cap y_j) \\\\\n",
    "&= a \\sum_i x_i P(x_i) + b \\sum_j y_j P(y_j) \\\\ \n",
    "&= a E(X) + b E(Y) \\\\\n",
    "\\end{align}\n",
    "$$\n",
    "\n",
    "$ Var(Z) = E(Z^2) - [E(Z)]^2 \\quad z_{ij} = ax_i + by_j$\n",
    "\n",
    "$$\n",
    "\\begin{align}\n",
    "E(Z^2) &= \\sum_{ij} z^2_{ij} \\\\\n",
    "&= \\sum_{ij} (a^2x^2_i + 2abx_iy_j+ b^2y^2_j) P(z_{ij}) \\\\\n",
    "&= a^2 \\sum_i x^2_i P(x_i) + 2ab \\sum_{ij} x_i y_j P(z_{ij}) + b^2 \\sum_j y^2_j P(y_j) \\\\\n",
    "&= a^2 E(X^2) + 2ab E(XY) + b^2 E(Y^2)\n",
    "\\end{align}\n",
    "$$\n",
    "\n",
    "$[E(Z)]^2 = a^2 [E(X)]^2 + 2ab E(X)E(Y) + b^2 [E(Y)]^2$\n",
    "\n",
    "$Var(Z) = a^2Var(X) + b^2Var(Y) + 2ab [E(XY) - E(X)E(Y)] = Cov(X,Y)$ \n",
    "\n",
    "If X and Y are independant random variables the covariance (Cov(X,Y)) should be 0. $\\Rightarrow Cov(X,Y) = 0$\n",
    "\n",
    "$\\Rightarrow Var(Z) = a^2Var(X) + b^2Var(Y)$\n",
    "\n",
    "We discussed linear combinations (or linear functions) of two random variables, X and Y, of the form $F(X,Y) = aX + bY$ where a, b are constant numbers. \n",
    "\n",
    "Particular cases of linear functions of only on RV can be: \n",
    "\n",
    "$b = 0 \\quad F(X) = aX \\quad or\\, Y = 1 \\quad F(X) = aX + b$\n",
    "\n",
    "Another possibility:\n",
    "\n",
    "$F(X,Y) = aX + bY + c$ where c is another constant number. \n",
    "\n",
    "**In general:** if $X_1, X_2,...,X_n$ are random variables and $c_1, c_2,...,c_n$ are constant numbers, then the random variable $Z = c_1X_1 + c_2X_2 + ... + c_nX_n$ is called a linear combination of $X_1, X_2,...,X_n$. \n",
    "\n",
    "If X, Y are random variables and a, b two constant number then: \n",
    "\n",
    "$E(aX + bY) = aE(X) + bE(Y)$\n",
    "\n",
    "$Var(aX + bY) = a^2Var(X) + b^2Var(Y)$\n",
    "\n",
    "**Particular cases**\n",
    "\n",
    "1. Add a constant b to a random variable X $\\Rightarrow E(X + b) = E(X) + b$ and $Var(X + b) = Var(X)$\n",
    "\n",
    "2. Multiply X with a constant b $\\Rightarrow E(bX) = b E(X)$ and $Var(bX) = b^2Var(X)$\n",
    "\n",
    "3. Add two independant random variables X and Y.\n",
    "\n",
    "$E(X + Y) = E(X) + E(Y)$ and $Var(X + Y) = Var(X) + Var(Y)$ \n",
    "\n",
    "4. Consider the difference X-Y\n",
    "\n",
    "$E(X - Y) = E(X) - E(Y)$ and $Var(X - Y) = Var(X) + Var(Y)$"
   ]
  },
  {
   "cell_type": "markdown",
   "metadata": {},
   "source": [
    "### The covariance of independant variables\n",
    "Let X and Y be two random variables. By definition $Cov(X,Y) = E[(X - \\mu_x)(Y - \\mu_y)]$ where $\\mu_x = E(X)$ and $\\mu_y = E(Y)$ \n",
    "\n",
    "$Cov(X,Y) = E(XY - XE(Y) - E(X)Y + E(X)E(Y) = E(XY) - E(Y)E(X) - E(X)E(Y) +E(X)E(Y)$\n",
    "\n",
    "$\\Rightarrow Cov(X,Y) = E(XY) - E(X)E(Y)$\n",
    "\n",
    "Suppose $X = x_i$ with probability $P(x_i) \\quad i = 1,2,...,n$ and $Y = y_j$ with probability $P(y_j) \\quad j = 1,2,...,m$ \n",
    "\n",
    "$E(XY) = \\sum_{ij} x_iy_j P(x_i \\cap y_j)$ \n",
    "\n",
    "If X and Y are independant $\\Rightarrow P(x_i \\cap y_j) = P(x_i) P(y_j)$ \n",
    "\n",
    "$\\Rightarrow E(XY) = \\sum_{ij} x_iy_j P(x_i)P(y_j) = [\\sum_i x_iP(x_i)][\\sum_j y_jP(y_j)] = E(X)E(Y)$ \n",
    "\n",
    "$\\Rightarrow Cov(X,Y) = 0$"
   ]
  },
  {
   "cell_type": "markdown",
   "metadata": {},
   "source": [
    "### The sample mean is also a random variable\n",
    "Consider a random variable X with *true* mean $\\mu$ and *true* standard deviation $\\sigma$. We do not know $\\mu$ and $\\sigma$, but we have a limited set of values, for example from a measurement: $x_1,x_2, ... ,x_n$ (a data sample). \n",
    "\n",
    "the sample mean is $\\bar{X} = \\frac{1}{n} \\sum_{i = 1}^n x_i$\n",
    "\n",
    "Suppose we can repeat the n measurements many times. Then we obtain each time a slightly different $\\bar{X}$, because of different data and a finite n. So the sample mean is a random variable itself. \n",
    "\n",
    "Each particular value $x_i$ can be considered a replica of the random variable X with the mean $\\mu$ and the std. $\\sigma$. \n",
    "\n",
    "What are the mean and the standard deviation of $\\bar{X}$? "
   ]
  },
  {
   "cell_type": "markdown",
   "metadata": {},
   "source": [
    "### The mean and st.dev of the sample mean\n",
    "$\\bar{x} = \\frac{1}{n} \\sum_i x_i = \\frac{1}{n} x_1 + \\frac{1}{n} x_2 + ... + \\frac{1}{n} x_n$\n",
    "\n",
    "$E(ax_1 + bx_2) = aE(x_1) + bE(x_2)$\n",
    "\n",
    "$E(\\bar{x}) = \\frac{1}{n} E(x_1) + \\frac{1}{n} E(x_2) + ... + \\frac{1}{n} E(x_n)$\n",
    "\n",
    "$E(\\bar{x}) = \\mu_{\\bar{x}} = \\mu$\n",
    "\n",
    "$\\sigma_{\\bar{x}} = ?$\n",
    "\n",
    "$Var(ax_1 + bx_2) = a^2Var(x_1) + b^2Var(x_2)$\n",
    "\n",
    "$Var(\\bar{x}) = \\frac{1}{n^2} Var(x_1) + \\frac{1}{n^2} Var(x_2) + ... + \\frac{1}{n^2} Var(x_n) = \\frac{1}{n^2} \\sigma^2 n = \\frac{1}{n} \\sigma^2$ \n",
    "\n",
    "$\\Rightarrow \\sigma_{\\bar{x}} = \\frac{1}{\\sqrt{n}} \\sigma$\n"
   ]
  },
  {
   "cell_type": "markdown",
   "metadata": {},
   "source": [
    "The result for the mean value of $\\bar{x}$ is expected and does not tell us much. \n",
    "\n",
    "However the result for the std. is very important. It tells us the std. of $\\bar{x}$ is smaller than the std. of the observed data. In other words the mean value of $\\bar{x}$ is more stable than one single observed value $x_i$. \n",
    "\n",
    "**Therefore $\\bar{x}$ is a better estimate of the true (still unknown) mean value $\\mu$ that any individual value $x_i$**\n",
    "\n",
    "The std. of the sample mean is called standard error. We use the standard error to report the uncertainty of the sample mean value. Usually we do not know $\\sigma$, but use instead $\\sigma \\approx s$ (the sample std. dev.) and then $\\sigma{\\bar{x}} = \\frac{s}{\\sqrt{n}}$ where $s^2 = \\frac{1}{n-1} \\sum_i (x_i - \\bar{x})^2$"
   ]
  },
  {
   "cell_type": "markdown",
   "metadata": {},
   "source": [
    "### Propagation of errors\n",
    "\n",
    "- Measurements are typically imperfect due to limitations of the methods or of the intruments.\n",
    "- The errors in the measurements produce errors in the calculated values that depend on the measurements $\\Rightarrow$ **propagation of errors**\n",
    "- Systematic errors create a bias. For example a mass scale that indicates 5 grams when nothing is placed on the scale. These are *real errors*.\n",
    "- *Real errors* must be avoided or minimized.\n",
    "- Imperfect measurements are not considered real errors, but **uncertainties**. \n",
    "- The uncertainties are random errors and are treated with statistics.\n",
    "- Real errors due to accidentally incorrect measurements may still occur at random. They can create **outliers** in the data that should be checked or discarded.\n",
    "\n",
    "### Uncertainty\n",
    "- The measured value = true value + bias ± uncertainty\n",
    "- The measurement method should minimize the bias and the uncertainty.\n",
    "- Sometimes a bias is known and accepted, and the final result can be corrected.\n",
    "- The true value is typically unknown.\n",
    "- Assuming zero bias, we believe that **The true value = the measured value ± uncertainty**\n",
    "- We consider, empirically, that the uncertainty is the standard deviation of the measured value, seen as a random variable\n",
    "\n",
    "### Accuracy vs. precision \n",
    "- A measurement is accurate if the bias is small \n",
    "- A measurement is precise if the uncertainty is small\n",
    "\n",
    "### The main practical situations\n",
    "\n",
    "**Case 1:** The measurement is done once. Then the uncertainty is given by limitations of the instrument.     \n",
    "\n",
    "**Example:** The lenght of a metal pipe is measured with a regular tape. The measured lenght is approx. 42.3 cm, with a reading uncertainty of ± 1mm . \n",
    "\n",
    "**Case 2:** Suppose several independent measurements can be done. The best value is their mean value and the uncertainty is the standard error. See the dedicated item in this lecture package.\n",
    "\n",
    "**Case 3:**  The variable of interest is a function of one or more measurements. Then we experience the propagation of errors. See another dedicated item in this lecture package.\n",
    "\n",
    "**Case 4:** The variable of interest is a slope or and intercept of a linear fit. This case will be discussed later in the context of liner regression. \n"
   ]
  },
  {
   "cell_type": "markdown",
   "metadata": {},
   "source": [
    "### The case of multiple measurements\n",
    "- Consider $x_1, ..., x_n$ ndependent measurements of a (physical) quantity Q.\n",
    "- For example Q is a friction coefficient, or the height of individuals in a population, or the thickness of some metal rods, etc.\n",
    "- All measurements are done in the same conditions, and the differences between them can be attributed to some uncontrollable random factors.\n",
    "- Thus $x_1, ..., x_n$ can be considered the outcome of a random variable X with mean value Q.\n",
    "- The best estimate of Q is the sample mean $\\bar{x}$\n",
    "- How do we estimate the uncertainty of our result? (Remember,that is the std. of Q.)\n",
    "- We have two options, depending on how we estimate the std. of the measurements $x_i$\n",
    "\n",
    "### Method 1: Evaluate the uncertainty of each measurement\n",
    "- We could evaluate the error (or uncertainty, or limitation) of each particular $x_i$ considering the resolution of the instruments and possibly other factors.\n",
    "- In some cases $x_i$ is a result of a calculation, and we need to consider the propagation of errors from the primary measurements to the calculated $x_i$ \n",
    "- Suppose we have the uncertainty of each measurement $x_i$ as  ±$\\sigma_i$\n",
    "- Now we need the uncertainty of $\\bar{x} = \\frac{x_1 + x_2 + ... + x_n}{n}$. This is a **linear combination** of n RVs with coefficients $\\frac{1}{n}$ and we learned that $\\sigma^2_{\\bar{x}} = \\frac{1}{n^2}\\sigma^2_1 + \\frac{1}{n^2}\\sigma^2_2 + ... + \\frac{1}{n^2}\\sigma^2_n$\n",
    "- So the final result is $Q = \\bar{x} \\pm \\sigma_{\\bar{x}}$ where $\\sigma_{\\bar{x}} = \\frac{1}{n} \\sqrt{\\sigma^2_1 + \\sigma^2_2 + ... + \\sigma^2_n}$\n",
    "- all measurements are performed in the same conditions, we can assume that all $\\sigma_i$ are equal (call them $\\sigma$) and if so $\\sigma_{\\bar{x}} = \\frac{\\sigma}{\\sqrt{n}}$"
   ]
  },
  {
   "cell_type": "markdown",
   "metadata": {},
   "source": [
    "### Method 2: Consider the measurements a data sample\n",
    "- Instead of evaluating the uncertainty of each measurement (which may not be easy), we could consider $x_1, ..., x_n$ a data sample. \n",
    "- Then, we can use the sample std. $s = \\sqrt{\\frac{1}{n - 1} \\sum_i (x_i - \\bar{x})^2}$ as an estimated uncertainty of each measurement. \n",
    "- So the final result is $Q = \\bar{x} \\pm \\sigma_{\\bar{x}}$ where $\\sigma_{\\bar{x}} = \\frac{s}{\\sqrt{n}}$\n",
    "- This was one of the methods used in the Physics Lab.  However, we cannot use this method with very few measurements because the estimated standard deviation would be poor. A typical (empirical) recommendation is at least 6 measurements, but I prefer 10.\n",
    "- If we have only a few measurements, than we better use Method 1. \n",
    "- If we have enough measurements, the two methods should give the same result. But we should not forget that these are estimates, and not exactly equal. In practice we should report both the method and the result."
   ]
  },
  {
   "cell_type": "markdown",
   "metadata": {},
   "source": [
    "### The uncertainty of a function of measured variables \n",
    "x and y are independant RV (random variables) and we have a function U(x,y)\n",
    "\n",
    "We know the standard deviation of x and y. \n",
    "\n",
    "$x = \\mu_x \\pm \\sigma_x \\quad y = \\mu_y \\pm \\sigma_y$\n",
    "\n",
    "Then we would say that:\n",
    "\n",
    "$U = U(\\mu_x, \\mu_y) \\pm \\sigma_u \\quad \\sigma_u = ?$\n",
    "\n",
    "To do that we need to use the results from the calculus. First of all we assume the uncertainties of the measurements are not very big, which is very common. \n",
    "\n",
    "$U(x,y) = U(\\mu_x, \\mu_y) + \\frac{\\delta U}{\\delta x} \\Big|_{x = \\mu_x \\\\ y = \\mu_y} (x - \\mu_x) + \\frac{\\delta U}{\\delta y} \\Big|_{x = \\mu_x \\\\ y = \\mu_y} (y - \\mu_y) + ... $\n",
    "\n",
    "$U = const + a(x - \\mu_x) + b(y - \\mu_y)$ (linear combination of RV)\n",
    "\n",
    "$\\sigma_u^2 = \\sigma_{const}^2 + a^2 \\sigma_{x - \\mu_x}^2 + b^2 \\sigma_{y - \\mu_y}^2 = a^2 \\sigma_{x}^2 + b^2 \\sigma_{y}^2$\n",
    "\n",
    "$\\sigma_u^2 = (\\frac{\\delta U}{\\delta x})^2 \\sigma_x^2 + (\\frac{\\delta U}{\\delta y})^2 \\sigma_y^2$\n",
    "\n",
    "$\\sigma_u = \\sqrt{(\\frac{\\delta U}{\\delta x} \\sigma_x)^2 + (\\frac{\\delta U}{\\delta y} \\sigma_y)^2}$ (formula for the propagation of errors)\n",
    "\n",
    "### Particular cases\n",
    "\n",
    "**Case 1:** U is a function of one single variable, U(x). This means:\n",
    "\n",
    "$\\sigma_u = \\sqrt{(\\frac{\\delta U}{\\delta x} \\sigma_x)^2} = \\Big| \\frac{dU}{dx} \\Big| \\sigma_x \\quad x \\pm \\sigma_x \\quad U \\pm \\sigma_U$\n",
    "\n",
    "1. a) \n",
    "\n",
    "    $U = cx \\quad c = const \\quad \\sigma_U = c \\sigma_x$\n",
    "\n",
    "    $\\frac{dU}{dx} = c$\n",
    "\n",
    "   b) \n",
    "\n",
    "    Area of a square (with sides x) $A = x^2$\n",
    "\n",
    "    $\\sigma_A = \\Big| \\frac{dA}{dx} \\Big| \\sigma_x = 2x \\sigma_x$\n",
    "\n",
    "    Relative uncertainty: $\\frac{\\sigma_A}{A} = \\frac{2x\\sigma_x}{x^2} = \\frac{2\\sigma_x}{x}$\n",
    "\n",
    "    If relative uncertainty of side $\\frac{\\sigma_x}{x} = 1\\%$ then $ \\frac{\\sigma_A}{A} = 2\\%$\n",
    "\n",
    "    c) Volume $V = x^3$ \n",
    "\n",
    "    $\\sigma_V = \\Big| \\frac{dV}{dx} \\Big| \\sigma_x = 3x^2 \\sigma_x$\n",
    "\n",
    "    Relative uncertainty: $\\frac{\\sigma_V}{V} = \\frac{3x^2\\sigma_x}{x^3} = 3\\frac{\\sigma_x}{x} \\Rightarrow \\frac{\\sigma_x}{x} = 1\\%$ then $ \\frac{\\sigma_V}{V} = 3\\%$\n",
    "\n",
    "    d) $U = constant * x^n \\quad \\sigma_U = constant * n x^{n-1} \\sigma_x$\n",
    "\n",
    "    $\\frac{\\sigma_U}{U} = \\frac{const * n x^{n-1} \\sigma_x}{const * x^n} \\Rightarrow \\frac{\\sigma_U}{U} = \\big|n \\big| \\frac{\\sigma_x}{x}$\n",
    "\n",
    "    This means if $\\big| n \\big| \\gt 1 \\Rightarrow \\frac{\\sigma_U}{u} \\gt \\frac{\\sigma_x}{x}$ and $\\big| n \\big| \\lt 1 \\Rightarrow \\frac{\\sigma_U}{u} \\lt \\frac{\\sigma_x}{x}$\n",
    "\n",
    "2. U is function of two variables, U(x,y)\n",
    "\n",
    "    a) Example 3.6 page 171\n",
    "\n",
    "    A surveyor is measuring the perimeter of a rectangular lot. He measures two adjacent sides to be 50.11 ± 0.05 m and 75.21 ± 0.08 m. These measurements are independent. Estimate the perimeter of the lot and find the uncertainty in the estimate.\n",
    "\n",
    "    $x = 50.11 \\pm 0.05$ \n",
    "\n",
    "    $y = 75.21 \\pm 0.08$ \n",
    "\n",
    "    Perimeter $P = 2x + 2y$ \n",
    "\n",
    "    $\\sigma_p^2 = 2^2 \\sigma_x^2 + 2^2 \\sigma_y^2$\n",
    "\n",
    "    $\\sigma_p^2 = (2 \\sigma_x)^2 + (2 \\sigma_y)^2$\n",
    "\n",
    "    b) Area = xy \n",
    "\n",
    "    $\\sigma_A = \\sqrt{(\\frac{\\delta A}{\\delta x} \\sigma_x)^2 + (\\frac{\\delta A}{\\delta y} \\sigma_y)^2} = \\sqrt{(y \\sigma_x)^2 + (x \\sigma_y)^2}$\n",
    "\n",
    "    $\\frac{\\sigma_A}{A} = \\frac{\\sqrt{(y \\sigma_x)^2 + (x \\sigma_y)^2}}{xy} = \\sqrt{(\\frac{\\sigma_x}{x})^2 + (\\frac{\\sigma_y}{y})^2}$\n",
    "\n",
    "    c) $U = const * x^n * y^m$\n",
    "\n",
    "    $\\frac{\\sigma_U}{u} = \\sqrt{(\\big|n\\big| \\frac{\\sigma_x}{x})^2 + (\\big|m\\big|\\frac{\\sigma_y}{y})^2}$\n",
    "    \n",
    "     $\\frac{\\sigma_U}{u} = \\sqrt{(\\big|n\\big| \\frac{\\sigma_x}{x})^2 + (\\big|m\\big|\\frac{\\sigma_y}{y})^2 + (\\big|p\\big|\\frac{\\sigma_z}{z})^2 + ...}$\n",
    "\n",
    "    $\\sigma_U = \\sqrt{(\\frac{\\delta U}{\\delta x_1} \\sigma_{x_1})^2 + (\\frac{\\delta U}{\\delta x_2} \\sigma_{x_2})^2 + ... + (\\frac{\\delta U}{\\delta x_n} \\sigma_{x_n})^2}$\n",
    "\n",
    "\n"
   ]
  },
  {
   "cell_type": "markdown",
   "metadata": {},
   "source": [
    "### Relative error for a product of powers\n",
    "\n",
    "$U(x,y,z) = x^my^nz^k$ \n",
    "\n",
    "$\\frac{\\delta U}{\\delta x} = mx^{m-1}y^nz^k$\n",
    "\n",
    "$\\frac{\\delta U}{\\delta y} = x^mny^{n-1}z^k$\n",
    "\n",
    "$\\frac{\\delta U}{\\delta z} = x^my^nkz^{k-1}$\n",
    "\n",
    "$\\sigma_U = \\sqrt{(mx^{m-1}y^nz^k \\sigma_x)^2 + (x^mny^{n-1}z^k \\sigma_y)^2 + (x^my^nkz^{k-1} \\sigma_z)^2}$\n",
    "\n",
    "$$\n",
    "\\begin{align}\n",
    "\\frac{\\sigma_U}{U} &= \\frac{1}{x^my^nz^k} \\sqrt{(mx^{m-1}y^nz^k \\sigma_x)^2 + (x^mny^{n-1}z^k \\sigma_y)^2 + (x^my^nkz^{k-1} \\sigma_z)^2} \\\\\n",
    "&=  \\sqrt{(\\frac{mx^{m-1}y^nz^k}{x^my^nz^k} \\sigma_x)^2 + (\\frac{x^mny^{n-1}z^k}{x^my^nz^k} \\sigma_y)^2 + (\\frac{x^my^nkz^{k-1}}{x^my^nz^k} \\sigma_z)^2} \\\\\n",
    "&= \\sqrt{(m \\frac{\\sigma_x}{x}) + (n \\frac{\\sigma_y}{y}) + (p \\frac{\\sigma_k}{k}) }\n",
    "\n",
    "\\end{align}\n",
    "$$"
   ]
  },
  {
   "cell_type": "markdown",
   "metadata": {},
   "source": [
    "### The uniform distribution \n",
    "$a \\leq x \\leq b$ \n",
    "\n",
    "$f(x) = const$ \n",
    "\n",
    "$t = 0.3$ \n",
    "\n",
    "The probability of x equaling t is zero. What we are interested in is what is the probability of x being on an interval near t. \n",
    "\n",
    "$dP(0.3 - \\frac{dx}{2} \\leq x \\leq 0.3 + \\frac{dx}{2}) = f(0.3)dx$ \n",
    "\n",
    "$f(x) = \\frac{dP}{dx}$\n",
    "\n",
    "$\\int_{a}^{b} dP = 1 = \\int_{a}^{b} f(x)dx = const \\int_{a}^{b} dx = const (b - a) \\\\ \\Rightarrow f(x) = \\frac{1}{b-a}$\n",
    "\n",
    "$\\mu = E(x) = \\int_{a}^{b} x dP = \\int_{a}^{b} xf(x)dx = \\frac{1}{b - a} \\int_{a}^{b} x dx = \\frac{1}{b - a}\\, \\frac{x^2}{2} \\Big|_a^b = \\frac{b^2 - a^2}{2(a - b)} = \\frac{(b - a)(b - a)}{2(b - a)} \\Rightarrow \\mu = \\frac{b - a}{2}$\n",
    "\n",
    "$$\n",
    "\\begin{align}\n",
    "\\sigma^2 &= Var(x)\\\\\n",
    "&= \\mu_{x^2} - (\\mu_x)^2 \\\\\n",
    "&= \\int_{a}^{b} x^2 f(x)dx \\\\\n",
    "&= \\frac{1}{b - a} \\int_{a}^{b} x^2 dx \\\\\n",
    "&= \\frac{1}{b - a}\\, \\frac{x^3}{3} \\Big|_{a}^{b}\\\\\n",
    "&= \\frac{1}{b - a} \\times \\frac{b^3 - a^3}{3} \\\\\n",
    "&= \\frac{(b - a)(b^2 + ab + a^2)}{3(b - a)} \\\\\n",
    "&= \\frac{b^2 + ab + a^2}{3}\n",
    "\\end{align}\n",
    "$$\n",
    "\n",
    "$\\sigma^2 = \\frac{b^2 + ab + a^2}{3} - \\frac{b^2 + 2ab + a^2}{4} = \\frac{b^2 - 2ab + a^2}{12} = \\frac{(b - a)^2}{12}$\n",
    "\n",
    "$\\sigma = \\frac{b - a}{2\\sqrt{3}}$\n",
    "\n",
    "$a = 0 \\,\\, b= 1 \\quad 0 \\leq x \\leq 1 \\quad f(x) = 1 \\\\\n",
    "\\mu = 0.5 \\quad \\sigma = \\frac{1}{2\\sqrt{3}}$"
   ]
  },
  {
   "cell_type": "markdown",
   "metadata": {},
   "source": [
    "### Intro to combinatorics\n",
    "We have n elements/objects\n",
    "\n",
    "Make groups of k $\\quad 0 \\leq k \\leq n$\n",
    "\n",
    "$x_1, x_2, x_3, ..., x_n$\n",
    "\n",
    "$k = 2$ pairs fix one element $\\Rightarrow n - 1$\n",
    "\n",
    "repeat n times $\\Rightarrow n(n - 1) \\Big| \\Rightarrow \\frac{n(n - 1)}{2}$ \n",
    "\n",
    "$k = 3$ trios \\# pairs * (n - 2)$\\Rightarrow \\frac{n(n - 1)(n - 2)}{3}$\n",
    "\n",
    "$\n",
    "\\begin{pmatrix}\n",
    "n \\\\ k\n",
    "\\end{pmatrix} = \\frac{n(n - 1)(n - 2) ... (n - k + 1)}{1 * 2 * 3 ... * k} = \\frac{n!}{k!(n - k)!}\n",
    "$\n",
    "\n",
    "$\n",
    "\\begin{pmatrix}\n",
    "n \\\\ 0\n",
    "\\end{pmatrix} = 1\n",
    "$\n",
    "\n",
    "$\n",
    "\\begin{pmatrix}\n",
    "n \\\\ n\n",
    "\\end{pmatrix} = 1\n",
    "$\n",
    "\n",
    "$\n",
    "\\begin{pmatrix}\n",
    "n \\\\ k\n",
    "\\end{pmatrix} = \\begin{pmatrix}\n",
    "n \\\\ n\n",
    "\\end{pmatrix} \n",
    "$\n",
    "\n",
    "$\n",
    "\\begin{pmatrix}\n",
    "6 \\\\ 2\n",
    "\\end{pmatrix} = \\frac{6 * 5}{1 * 2} = 15 \\\\\n",
    "$\n",
    "\n",
    "$\n",
    "\\begin{pmatrix}\n",
    "6 \\\\ 4\n",
    "\\end{pmatrix} = \\frac{6 * 5 * 4 * 3}{1 * 2 * 3 * 4} = 15\n",
    "$"
   ]
  },
  {
   "cell_type": "markdown",
   "metadata": {},
   "source": [
    "### Binomial Formula\n",
    "$(a + b)^n = \\sum_{k = 0}^n \\begin{pmatrix} n \\\\ k \\end{pmatrix} a^k b^{n - k}$\n",
    "\n",
    "$(a + b)^2 = a^2 + 2ab + b^2$\n",
    "\n",
    "$(a + b)^3 = a^3 + 3a^2b + 3ab^2 + b^3$\n",
    "\n",
    "$(a + b)^4 = a^4 + 4a^3b + 6a^2b^2 + 4ab^3 + b^4$\n",
    "\n",
    "$a = b = 1 \\qquad \\sum_{k = 0}^n \\begin{pmatrix} n \\\\ k \\end{pmatrix} = 2^n$ \n",
    "\n",
    "$a = -1 \\quad b = 1 \\qquad \\sum_{k = 0}^n (-1)^k \\begin{pmatrix} n \\\\ k \\end{pmatrix} = 0$ \n",
    "\n"
   ]
  },
  {
   "cell_type": "markdown",
   "metadata": {},
   "source": [
    "### The unreturned ball problem \n",
    "n objects, b are black, w are white\n",
    "\n",
    "$b + w = n$\n",
    "\n",
    "We pick a ball from the box and we do not return it. \n",
    "\n",
    "$P(b_1 \\cap b_2) = ?$\n",
    "\n",
    "**Solution 1 (use conditional probabilities)**\n",
    "\n",
    "$P(b_1) = \\frac{b}{n}$\n",
    "\n",
    "$P(b_2 \\mid b_1) = {b - 1}{n - 1}$\n",
    "\n",
    "$P(b_1 \\cap b_2) = P(b_2 \\mid b_1) \\times P(b_1) = \\frac{b(b - 1)}{n(n - 1)}$\n",
    "\n",
    "**Solution 2 (count pairs)**\n",
    "\n",
    "$P(b_1 \\cap b_2) = \\frac{\\# black\\,pairs}{\\# pairs} = \\frac{\\begin{pmatrix} b \\\\ 2 \\end{pmatrix}}{\\begin{pmatrix} n \\\\ 2 \\end{pmatrix}} = \\frac{\\frac{b(b - 1)}{2}}{\\frac{n(n - 1)}{2}} \\Rightarrow \\frac{b(b - 1)}{n(n - 1)}$\n",
    "\n",
    "$P(b_1 \\cap w_2) = \\frac{b}{n} \\times \\frac{w}{n - 1} + \\frac{w}{n} \\times \\frac{b}{n - 1} = \\frac{2wb}{n(n - 1)}$\n",
    "\n",
    "Pairs: \n",
    "\n",
    "$P(b_1 \\cap w_2) = \\frac{bw}{\\frac{n(n - 1)}{2}} = \\frac{2wb}{n(n - 1)}$"
   ]
  },
  {
   "cell_type": "markdown",
   "metadata": {},
   "source": [
    "### Bernoulli distribution\n",
    "Consider an experiment which can result in one of two outcomes to be called “success” or “failure.”  \n",
    "\n",
    "The probability of a success is $p$ and thus the probability of a failure is then $1 – p$.  \n",
    "\n",
    "This is called a Bernoulli trial with success probability $p$. It can also be called a two-level or a binary \n",
    "process.\n",
    "\n",
    "Let $x$ be the number of successes in a Bernoulli trial.  We have $x = 0$ or $x = 1$\n",
    "\n",
    "So we can see $x$ as a binary random variable with $P(0) = 1 - p$ and $P(1) = p$\n",
    "\n",
    "Mean value: $E(x) = \\mu = p$\n",
    "Variance: $Var(x) = \\sigma^2 = p(1 - p)$ "
   ]
  },
  {
   "cell_type": "markdown",
   "metadata": {},
   "source": [
    "### Binomial distribution\n",
    "Consider n Bernoulli trials and assume that \n",
    "- The trials are independant\n",
    "- Each trial has the same success probability p\n",
    "- X is the number of successes in n trials\n",
    "\n",
    "The possible values of X are:$0,1,2,...,n$. The *probability distribution* of X is called the binomial distribution with parameters n and p denoted as Bin(n,p).\n",
    "\n",
    "We specify that X has a binomial distribution with the notation X ~ Bin(n,p)\n",
    "\n",
    "The probability that X has a specific value $k = 0,1,2,...,n$ is:\n",
    "\n",
    "$P(X = k) = \\begin{pmatrix} n \\\\ k \\end{pmatrix} p^k (1 - p)^{n - k}$\n",
    "\n",
    "These are independant events so $P(A \\cap B) = P(A)P(B)$\n",
    "\n",
    "$0 \\leq k \\leq n$\n",
    "\n",
    "$P(X = 0) = (1 - p)^n$\n",
    "\n",
    "$P(X = 1) = p(1 - p)^{n - 1} n$\n",
    "\n",
    "$P(X = 2) = p^2 (1 - p)^{n - 2} \\begin{pmatrix} n \\\\ 2 \\end{pmatrix} \\quad \\quad \\begin{pmatrix} n \\\\ 2 \\end{pmatrix} = \\frac{n(n - 1)}{2}$\n",
    "\n",
    "$P(X = 3) = p^3 (1 - p)^{n - 3} \\begin{pmatrix} n \\\\ 3 \\end{pmatrix}$\n",
    "\n",
    "$\\sum_{k = 0}^n \\begin{pmatrix} n \\\\ k \\end{pmatrix} p^k (1 - p)^{n - k} = [p + (1 - p)]^n = 1^n = 1$\n",
    "\n",
    "### Mean and variance of the binomial distribution\n",
    "X ~ Bin(n,p)\n",
    "\n",
    "$\\mu_x = \\sum_{k = 0}^n k P(k) =\\sum_{k = 0}^n \\begin{pmatrix} n \\\\ k \\end{pmatrix} p^k (1 - p)^{n - k}$\n",
    "\n",
    "$s = 0,1$ number of successes per trial \n",
    "\n",
    "$s = 1$ with p\n",
    "\n",
    "$s = 0$ with 1 - p\n",
    "\n",
    "$\\mu = 1 * p + 0 * (1 - p) = p$\n",
    "\n",
    "$\\sigma^2 = 1^2 p + 0^2 (1 - p) - p^2 = p - p^2 = p(1 - p)$\n",
    "\n",
    "n-trials $\\Rightarrow X = s_1 + s_2 + ... + s_n$\n",
    "\n",
    "$\\mu_x = \\mu + \\mu + ... + \\mu = np$\n",
    "\n",
    "$\\sigma^2_x = \\sigma^2 + \\sigma^2 + ... + \\sigma^2 = np(1 - p)$\n",
    "\n",
    "$\\sigma_x = \\sqrt{np(1 - p)}$"
   ]
  },
  {
   "cell_type": "markdown",
   "metadata": {},
   "source": [
    "Suppose we have a box with a large number of coloured balls and we want to find \n",
    "experimentally the probability that a ball is black.  We pick one ball at a time and we put \n",
    "it back, in total n times.  The number of times the ball was black is a random variable of \n",
    "binomial type X ~ Bin(n, p).  In this example the success at one attempt is getting a \n",
    "black ball, and that occurs with probability p.\n",
    "\n",
    "Although we do not know p, we can estimate (approximate) it as $\\hat{p} = \\frac{X}{n}$ where X is the *observed value* of the binomial variable. What is the uncertainty of this estimated value?\n",
    "\n",
    "Remember the properties of linear combinations of RV’s : \n",
    "\n",
    "$\\hat{p} = \\frac{X}{n} \\Rightarrow Var(\\hat{p}) = \\frac{1}{n^2} Var(X)$ or $\\sigma_{\\hat{p}} = \\frac{1}{n} \\sigma_X$\n",
    "\n",
    "We know that  X ~ Bin(n, p) has std: \n",
    "\n",
    "$\\sigma_X = \\sqrt{np(1 - p)}$ where p is the unknown exact \n",
    "value. Using now $p \\approx \\hat{p}$ we obtain $\\sigma_{\\hat{p}} = \\frac{1}{n} \\sigma_X \\approx \\sqrt{\\frac{\\hat{p}(1 - \\hat{p})}{n}}$\n",
    "\n",
    "So we can say that p = estimated value $\\pm$ uncertainty $= \\hat{p} \\pm \\sigma_{\\hat{p}}$\n",
    "\n",
    "Instead of calling $\\hat{p}$ estimated probability we can call it an estimated proportion, \n",
    "depending on the interpretation of this number. "
   ]
  },
  {
   "cell_type": "markdown",
   "metadata": {},
   "source": [
    "### Poisson distribution\n",
    "- Consider a random variable X with binomial distribution Bin(n,p) \n",
    "- Consider n very large and p very small, but such that λ=np is not too large\n",
    "(Let’s say λ < 100)\n",
    "\n",
    "In these conditions the binomial distribution becomes (see next notes in this lecture \n",
    "package)\n",
    "\n",
    "$P(k) = \\frac{\\lambda^k}{k!} e^{–\\lambda} \\quad where\\, k = 0,1,2,...,n$\n",
    "\n",
    "and it is called the Poisson distribution.  It depends on one parameter (λ), whereas the \n",
    "Binomial distribution depends on two parameters (n, p).\n",
    "\n",
    "The mean (E(k) or $\\mu$) and the variance (or $\\sigma^2$) of the Poisson distribution are:\n",
    "\n",
    "$E(k) = \\lambda$ and $Var(k) = \\lambda \\Rightarrow (std.)\\, \\sigma = \\sqrt{\\lambda}$\n",
    "\n",
    "**The interpretation of the λ parameter is the mean (or average) number of successes \n",
    "in a very large binomial process.**\n",
    "\n",
    "**Example 1:**\n",
    "\n",
    "Because a Poisson random variable is a discrete number $k=0,1,2 ...,n$ the \n",
    "(mass) distribution (function) can be represented with a histogram.  Here we \n",
    "see P(k)  for λ= 1.  Or P(k, λ= 1).\n",
    "\n",
    "Inspect the histogram visually and observe the mean value:\n",
    "\n",
    "$E(k) = \\sum_k kP(k) = \\lambda = 1$ \n",
    "\n",
    "**Example 2:**\n",
    "\n",
    "Here we see P(k)  for λ= 10.  Or P(k, λ= 10).  \n",
    "\n",
    "Inspect the histogram visually and observe the mean value:\n",
    "\n",
    "$E(k) = \\sum_k kP(k) = \\lambda = 10$\n",
    "\n",
    "Observe also that the distribution is now wider than before.\n",
    "Because the std. is now $\\sqrt{10} = 3.2$ instead of 1 like before.\n",
    "\n",
    "Always remember the definition of the **cumulative distribution function (CDF):**\n",
    "\n",
    "$F(X) = \\sum_{k \\leq X} = \\sum_{k \\leq X} \\frac{\\lambda^k}{k!} e^{–\\lambda}$\n",
    "\n",
    "### Comparing Binomial and Poisson distributions\n",
    "Poisson is a Binomial distribution with a large number of trials n and a small probability \n",
    "of success in one single trial p.  See the tables below.  For Poisson λ = np. When n \n",
    "increases or p decreases or the numbers are closer and closer. (See slides Week 5)\n",
    "\n",
    "If we know n and p, yes. However, when n is large the computer will do \n",
    "approximations of the binomial  coefficients, such that in practice it will give you \n",
    "Poisson. But, usually, in a Poisson process n and p are not known.  See next the example \n",
    "with radiation.  The radiation in the surrounding environment can be described \n",
    "with Poisson distribution.   But there is no information on how much radiation is in \n",
    "total (that would be n) and what is the probability of one radiation event (that \n",
    "would be p).  All we can do is to measure the mean value (λ) and use only this \n",
    "number, so we can only use Poisson.  And forget about n, p, and Binomial.\n"
   ]
  },
  {
   "cell_type": "markdown",
   "metadata": {},
   "source": [
    "### More math on the Poisson distribution\n",
    "**-derivation** \n",
    "\n",
    "Start with the binomial distribution $P(k) = \\begin{pmatrix} n \\\\ k \\end{pmatrix}p^k(1-p)^{n - k} \\quad 0 \\leq k \\leq n$\n",
    "\n",
    "Consider n large and p small, and denote $\\lambda = np$ \n",
    "$$\n",
    "\\begin{align}\n",
    "P(k) &= \\frac{n!}{k!(n - k)!}(\\frac{\\lambda}{n})^k (1 - \\frac{\\lambda}{n})^{n - k} \\\\\n",
    "&= \\frac{n!}{(n - k)!n^k} \\frac{\\lambda^k}{k!}(1 - \\frac{\\lambda}{n})^{n - k}\n",
    "\\end{align}\n",
    "$$\n",
    "\n",
    "$\\frac{n!}{(n - k)!k!} = \\frac{1 * 2 * 3 ... n}{1 * 2 * 3 ... n - k} \\frac{1}{n^k} = \\frac{(n - k + 1)(n - k + 2)...n}{n^k} \\rightarrow 1$ when $n \\rightarrow \\infty$\n",
    "\n",
    "$(1 - \\frac{\\lambda}{n})^{n - k} = [(1 - \\frac{\\lambda}{n})^{\\frac{n}{\\lambda}}]^\\lambda (1 - \\frac{\\lambda}{n})^{-k} = (\\frac{1}{e})^\\lambda 1^{-k} \\rightarrow e^{-\\lambda}$ when $n \\rightarrow \\infty$\n",
    "\n",
    "$\\Rightarrow$ for n large $P(k) = \\frac{\\lambda^k}{k!} e^{–\\lambda}$ where $k = 0,1,2,...,n$\n",
    "\n",
    "**-normalization:**\n",
    "\n",
    "$\\sum_{k = 0}^\\infty P(k) = e^{-\\lambda} \\sum_{k = 0}^\\infty \\frac{\\lambda^k}{k}$ (Taylor series of $e^\\lambda) = e^{-\\lambda} e^\\lambda = 1$\n",
    "\n",
    "**-mean value:**\n",
    "$\\mu = \\sum_{k = 0}^\\infty kP(k) = e^{-\\lambda} \\sum_{k = 0} k \\frac{\\lambda^k}{k!} = e^{-\\lambda}S_1$ where \n",
    "\n",
    "$S_1 = \\sum_{k = 0}^\\infty k \\frac{\\lambda^k}{k!} = \\sum_{k = 1} \\frac{\\lambda^k}{(k - 1)!} = \\sum_{k = 0}^\\lambda \\frac{\\lambda^{k + 1}}{k!} = \\lambda \\sum_{k = 0}^\\infty \\frac{\\lambda^k}{k!} = e^\\lambda$\n",
    "\n",
    "$\\Rightarrow \\mu = \\lambda$\n",
    "\n",
    "**-variance**\n",
    "$\\sigma^2 = \\sum_{k = 0}^\\infty k^2 P(k) - \\mu^2 = e^{-\\lambda} \\sum_{k = 0} k^2 \\frac{\\lambda^k}{k!} - \\mu^2$\n",
    "\n",
    "$S_2 = \\sum_{k = 1} k^2 \\frac{\\lambda^k}{k!} = \\sum_{k = 1} k \\frac{\\lambda^k}{(k - 1)!} = \\sum_{k = 0} (k + 1) \\frac{\\lambda^{k + 1}}{k!} = \\lambda(\\sum_{k = 0} k \\frac{\\lambda^k}{k!} + \\sum_{k = 0} \\frac{\\lambda^k}{k!}) = \\lambda (\\lambda e^\\lambda + e^\\lambda)$\n",
    "\n",
    "$\\Rightarrow \\sigma^2 = e^{-\\lambda}\\lambda (\\lambda e^\\lambda + e^\\lambda) - \\lambda^2 = \\lambda^2 + \\lambda - \\lambda^2$\n",
    "\n",
    "$\\Rightarrow \\sigma^2 = \\lambda$ or $\\sigma = \\sqrt{\\lambda}$\n",
    "\n"
   ]
  },
  {
   "cell_type": "markdown",
   "metadata": {},
   "source": [
    "### Radiation (Poisson conclusion)\n",
    "- The radiation events can be well described by the Poission distribution\n",
    "- To do that we need the mean number of radiation events (or particles) in a fixed time interval T\n",
    "- The mean number $\\lambda$ can be measured with a radiation detector or can be calculated\n",
    "- Once we know $\\lambda$ the probability of k radiation events in the Time T is:\n",
    "\n",
    "Probability of (k events in time T) = Poisson(k,$\\lambda$) = $\\frac{\\lambda^k}{k!} e^{-\\lambda}$  $k = 0,1,2,...,\\infty$"
   ]
  },
  {
   "cell_type": "markdown",
   "metadata": {},
   "source": [
    "### Introduction to the normal distribution\n",
    "- The **normal distribution** (also called the Gaussian distribution) is by far the \n",
    "most commonly used distribution in statistics.  \n",
    "- It provides a good model for many, although not all, continuous populations.\n",
    "- It is a continuous (and not discrete) distribution and the random variable x \n",
    "may have any value from $]-\\infty, \\infty[$\n",
    "- Graphically it is a bell-shaped curve \n",
    "(sometimes called Gauss’ bell).\n",
    "\n",
    "### The basic idea of the normal distribution\n",
    "The normal distribution is the distribution of sample means, seen as random \n",
    "variables.\n",
    "\n",
    "*The key idea:*  Consider a sample of numbers $x_1,x_2, ...,x_n$ for example with \n",
    "uniform distribution between 0 and 1. Calculate their sample mean $\\bar{x}$. Repeat \n",
    "this process many times. The distribution of all the sample means has a peak \n",
    "around the theoretically expected mean value $\\mu = 0.5$. \n",
    "\n",
    "The numbers $x_1,x_2, ...,x_n$ do not need to have a uniform distribution, they can \n",
    "also have a binomial or Poisson, or anything.  What is important is that they all \n",
    "come from the same distribution. And if so, their sample means have a normal \n",
    "distribution.\n",
    "\n",
    "**The fact that the sample means have a normal distribution is the famous \n",
    "Central Limit Theorem (CLT).**"
   ]
  },
  {
   "cell_type": "markdown",
   "metadata": {},
   "source": [
    "### The normal distribution N($\\mu,\\sigma^2$)\n",
    "The probability density function is:\n",
    "\n",
    "$f(x) = \\frac{1}{\\sigma \\sqrt{2\\pi}}e^{- \\frac{(x - \\mu)^2}{2\\sigma^2}},\\, \\quad x \\in (-\\infty, \\infty)$\n",
    "\n",
    "- By definition it depends on TWO parameters denoted as $\\mu$ and $\\sigma$\n",
    "- When a random variable X obeys the normal distribution we write: X ~N($\\mu, \\sigma^2$)\n",
    "- Observe that in the notation N($\\mu, \\sigma^2$) we have $\\sigma^2$ and not $\\sigma$ "
   ]
  },
  {
   "cell_type": "markdown",
   "metadata": {},
   "source": [
    "### Mean value and variance of the normal distribution\n",
    "A fundamental result from Math 2: \n",
    "\n",
    "$\\int_{-\\infty}^{\\infty} e^{-x^2} dx = \\sqrt{\\pi}$\n",
    "\n",
    "Using this result one can show the following results (textbook pages 251-252):\n",
    "\n",
    "1. The normalization condition is true:\n",
    "\n",
    "    $\\frac{1}{\\sigma \\sqrt{2\\pi}} \\int_{-\\infty}^{\\infty}e^{- \\frac{(x - \\mu)^2}{2\\sigma^2}} dx = 1$\n",
    "\n",
    "2. The mean value $E(x) = \\mu_x = \\mu$\n",
    "3. The variance $Var(x) = \\sigma_x^2 = \\sigma^2$ or the standard deviation $\\sigma_x = \\sigma$\n",
    "\n",
    "**So now we have the interpretation of the two parameters of the distribution \n",
    "function: μ is the mean value and σ is the std.  That is what the notation \n",
    "anticipated.**"
   ]
  },
  {
   "cell_type": "markdown",
   "metadata": {},
   "source": [
    "### The standard normal distribution\n",
    "The normal distribution with $\\mu = 0$ and $\\sigma = 1$, or N(0,1), is called the \n",
    "*standard normal distribution*, the density function being:\n",
    "\n",
    "$$ f(x) = \\frac{1}{2\\pi}e^{- \\frac{x^2}{2}}$$\n",
    "\n",
    "We will often use the so-called z-score which is $z = \\frac{x - \\mu}{\\sigma}$"
   ]
  },
  {
   "cell_type": "markdown",
   "metadata": {},
   "source": [
    "### Comparison between binomial and Poisson distributions \n",
    "Consider  an  integer  random  variable  k  with  binomial  distribution k  ~  Bin(n,p). k  is  the \n",
    "numbers of “successes” out of n trials, and p is the probability of “success” in one trial.  The \n",
    "mean value of the Binomial is np and the std. is $\\sqrt{np(1 - p)}$\n",
    "\n",
    "If $n$ is large and $p$ is small we use instead Poisson with parameter $\\lambda = np$.  How large and how \n",
    "small, that depends on the situation. In principle we could use Poisson as an approximation of \n",
    "the Binomial, for example for $n = 100$ and $p = 0.1$ or so.  Obviously, when $n$ is even larger and $p$ \n",
    "is even smaller, the approximation is better and better. But remember also that in the Binomial \n",
    "distribution $k$ runs between $0$ and $n$, whereas in the Poisson it is between 0 and $\\infty$\n",
    "\n",
    "The Poisson distribution should be used when either $n$ or $p$ are unknown.  Like in the radiation \n",
    "example.  When what we know,  or what we can measure, is only the mean value $\\lambda$.  If so, we \n",
    "have k ~ Poisson($\\lambda$).      \n",
    " \n",
    "Remember also, the variance of Poisson is $\\lambda$ or the std. is $\\sqrt{\\lambda}$ A simple way to understand this \n",
    "result is to look at the std. for the Binomial and consider a very small $p$, much smaller than 1.  \n",
    "Then $1 – p \\approx 1$ and the std. of the Binomial becomes that of Poisson."
   ]
  },
  {
   "cell_type": "markdown",
   "metadata": {},
   "source": [
    "### The normal approximation of the binomial distribution \n",
    "Suppose now only n is large in the Binomial distribution, but p is not necessarily small.  Then \n",
    "the number of successes k ~ Bin(n,p) can have very many values. If so it is like a histogram \n",
    "with very many bins, and we could compare the Binomial with a normal distribution with mean \n",
    "np and std. $\\sqrt{np(1 - p)}$. "
   ]
  },
  {
   "cell_type": "markdown",
   "metadata": {},
   "source": [
    "### The lognormal distribution\n",
    "A random variable $x \\gt 0$ has a lognormal distribution x ~ LN, when its natural logarithm has a normal distribution: ln(x) ~$N(\\mu, \\sigma^2)$\n",
    "\n",
    "Or, the other way: if $y = ln(x)$ and y ~ $N(\\mu, \\sigma^2)$ then $x = e^y ~LN(\\mu, \\sigma^2$\n",
    "\n",
    "Another notation x ~ Lognormal($\\mu\\,,\\sigma^2$)\n",
    "\n",
    "**ATTENTION:** $\\mu$, $\\sigma^2$ are mean value and variance of the **normal** distribution associated to the lognormal, but they are also used as parameters for the lognormal. So be careful, they are **not** the mean value and variance of the lognormal.  "
   ]
  },
  {
   "cell_type": "markdown",
   "metadata": {},
   "source": [
    "### Lognormal probability density function (PDF)\n",
    "if x ~ LN($\\mu$, $\\sigma^2$) then the PDF f(x) is:\n",
    "\n",
    "$$f(x) = \\frac{1}{\\sigma x \\sqrt{2\\pi}} exp[-\\frac{(ln(x) - \\mu)^2}{2\\sigma^2}], \\quad x \\gt 0$$\n",
    "\n",
    "Using this f(x) one obtains the mean and the variance:\n",
    "\n",
    "Mean value $E(x) =e^{\\mu + \\frac{\\sigma^2}{2}}$\n",
    "\n",
    "Variance $Var(x) = e^{2\\mu + 2\\sigma^2} - [E(x)]^2$\n"
   ]
  },
  {
   "cell_type": "markdown",
   "metadata": {},
   "source": [
    "### Skewness of a distribution\n",
    "Relationship of mean and median\n",
    "\n",
    "If the distribution is symmetric the distribution has zero skewness and mean = median. \n",
    "If not, often the mean value is skewed to the left/right of a typical centre of the data. \n",
    "\n",
    "It is tempting to believe that the mean is smaller/larger than the median for a left/right \n",
    "skewed distribution.  But this is not necessarily true, for example in multimodal \n",
    "distributions, or in many discrete distributions, both inequalities are possible for the \n",
    "same kind of skewness."
   ]
  },
  {
   "cell_type": "markdown",
   "metadata": {},
   "source": [
    "### The exponential distribution\n",
    "The probability density of the Exp distribution describes a continuous and positive random \n",
    "variable $x \\gt 0$ using a parameter $λ \\gt 0$. \n",
    "\n",
    "$f(x) = \\lambda e^{-\\lambda x}$ and we write x ~ Exp($\\lambda$)\n",
    "\n",
    "Check the normalization condition: $\\int_{0}^{\\infty} f(x) dx = 1$ (Meaning the sum of all probabilities = 1)\n",
    "The basic result needed is $\\int_{0}^{\\infty} e^{-\\lambda x} dx = \\frac{1}{\\lambda}$. Take the derivative of this result with respect to $\\lambda$ to obtain the mean value $\\mu = \\int_{0}^{\\infty} xf(x)dx$. Take one more deritative with respect $\\lambda$ to find the mean value of $x^2$ which is needed in the variance $\\sigma^2$  Performing these calculations one obtains the mean value equal to the standard deviation: \n",
    "\n",
    "$$\\mu = \\sigma = \\frac{1}{\\lambda}$$\n",
    "\n",
    "It is easy to calculate the cumulative function $F(x) = \\int_{0}^{\\infty} f(x^{'}) dx^{'} = 1 - e^{-\\lambda x}$"
   ]
  },
  {
   "cell_type": "markdown",
   "metadata": {},
   "source": [
    "### The connection with the Poisson distribution\n",
    "The exponential distribution is a model for the waiting time between “rare” events which \n",
    "follow a Poisson distribution.  Remember that k ~ Poisson(λ) means that the probability of k \n",
    "events is:\n",
    "\n",
    "$$P(k) = \\frac{\\lambda^k}{k!}e^{-\\lambda}$$\n",
    "\n",
    "We know that $\\lambda$ is the expected or mean number of events.  We usually count such events in a \n",
    "certain time interval. Remember the radiation example, when we used intervals of 5 seconds. Then, if  $\\lambda$ is the expected number of events per time unit, in a time t we have $\\lambda t$ events. And then, in this time t, we have k events with probability   \n",
    "\n",
    "$$P(k) = \\frac{(\\lambda t)^k}{k!}e^{-\\lambda t}$$\n",
    "\n",
    "Now, the probability of having no event in time t corresponds to k=0, and that probability is:\n",
    "\n",
    "$$P(0) = \\frac{(\\lambda t)^0}{0!}e^{-\\lambda t} = e^{-\\lambda t}$$\n",
    "\n",
    " \n",
    "We can interpret this result as the probability that the time needed until we observe $k = 1$ \n",
    "event is t.  Which is the waiting time until that moment. This result looks similar to the Exp \n",
    "distribution, only that we need to normalize it, according to the sum of all probabilities being \n",
    "1 . To do that multiply with a constant and fix that constant such that the integral over all \n",
    "times, from 0 to infinity, is 1. And we obtain that constant equal to $\\lambda$, and thus the Exp \n",
    "distribution $f(x) = \\lambda e - \\lambda x$.  In conclusion, the waiting time t between Poisson events with \n",
    "rate $\\lambda$ follows an exponential distribution with parameter $\\lambda$,  t ~ Exp($\\lambda$).  See Problem 4.7.11 in the textbook, page 271. \n",
    "\n"
   ]
  },
  {
   "cell_type": "markdown",
   "metadata": {},
   "source": [
    "### The case of distances between random locations on a surface \n",
    "Instead of counting events per time, we can also count events per distance, like the number of \n",
    "holes in the asphalt per kilometre, and so we can replace the time with distance.  Assuming \n",
    "the mean number of holes per kilometre is $\\lambda$ (or per another length unit, depending on the \n",
    "specific case), then the distance d between consecutive holes, or another kind of random \n",
    "locations, follows an exponential distribution,  d ~ Exp($\\lambda$).  See Problem 4.2 at page 318 of \n",
    "the textbook."
   ]
  },
  {
   "cell_type": "markdown",
   "metadata": {},
   "source": [
    "### Estimates\n",
    "*Estimates*,  or *estimated* values, are approximations of statistical parameters \n",
    "using the observed (or existing) data. The formula used for obtaining an \n",
    "estimated value is called *estimator*. \n",
    "\n",
    "They can be more or less accurate, depending on the available data, and on \n",
    "the estimation method used.\n",
    "\n",
    "**Examples:**\n",
    "- The sample mean $\\bar{x} = \\frac{1}{n} \\sum_{i = 1}^n x_i$ \n",
    "- The sample variance  $s^2 = \\frac{1}{n - 1} \\sum_{i = 1}^n (x_i - \\bar{x})^2$\n",
    "- The probability of a binary event using the Binomial distribution\n",
    "- The correlation coefficient obtained from data, Chapter 7\n",
    "- The regression coefficients (or the parameters of the best line), Chapter 7 "
   ]
  },
  {
   "cell_type": "markdown",
   "metadata": {},
   "source": [
    "### How to compare the estimate with the true (or exact) value\n",
    "- Consider $\\theta$ the true (or the exact, or the real), but unknown value of a parameter\n",
    "- We denote by $\\bar{\\theta}$ an estimated value, obtained with a certain estimator, using the available data.\n",
    "- $\\bar{\\theta}$ is seen as a random variable (like the sample mean or sample variance), with mean value $E(\\bar{\\theta})$ or $\\mu_{\\bar{\\theta}}$ and variance $Var(\\bar{\\theta})$ or $\\sigma_{\\bar{\\theta}}$\n",
    "- The standard deviation of an estimator is usually called *standard error*\n",
    "- $\\mu_{\\bar{\\theta}} − \\theta = E(\\bar{\\theta}) − \\theta$ is called bias. Ideally, we would like the mean value of $\\bar{\\theta}$ to be equal to the exact value $\\theta$, but if not we say that the estimator is *biased*.\n"
   ]
  },
  {
   "cell_type": "markdown",
   "metadata": {},
   "source": [
    "### How good is an estimator?\n",
    "- The goodness of an estimator is evaluated by the mean squared error:\n",
    "\n",
    "$$MSE_{\\bar{\\theta}} = (\\mu_{\\bar{\\theta}} - \\theta)^2 + \\sigma_{\\bar{\\theta}}^2 = \\mu_{(\\bar{\\theta} - \\theta)^2}$$\n",
    "- Or, with the alternative E and Var notations:\n",
    "\n",
    "$$MSE(\\bar{\\theta}) = [E(\\bar{\\theta}) - \\theta]^2 + Var(\\bar{\\theta}) = E[(\\bar{\\theta} - \\theta)^2]$$\n",
    "- To show that these two expressions are equivalent expand the powers in the left  form and obtain the right form\n",
    "- The MSE looks like the variance of the estimate (or estimator) $\\bar{\\theta}$ relatively to the exact (or true) value $\\theta$\n",
    "- In principle, the smaller the MSE the better the estimate is, but not always see the example of the sample standard deviation."
   ]
  },
  {
   "cell_type": "markdown",
   "metadata": {},
   "source": [
    "### Example 4.67:  The estimated probability from the Binomial distribution \n",
    "- Consider a binary variable = 1 (success) or = 0 (failure). The number of successes x in n trials have Binomial distribution: x~Bin(n,p)\n",
    "- We do one experiment and we observe x successes. Then we estimate the probability of one success as $\\bar{p} = \\frac{x}{n}$\n",
    "- Is $\\bar{p} = \\frac{x}{n}$ a biased estimator? In other words is $E(\\bar{p}) = p$?\n",
    "$$E(\\bar{p}) = E(\\frac{x}{n}) = \\frac{1}{n}E(x) = \\frac{1}{n}np = p \\Rightarrow \\bar{p} \\quad is\\,unbiased$$\n",
    "- Remember: $Var(x) = np(1 − p) \\Rightarrow Var(\\bar{p}) = \\frac{p(1 - p)}{n}$ \n",
    "- We see that $MSE(\\bar{p}) = [E(\\bar{p}) - p]^2 + Var(\\bar{p}) = \\frac{p(1 - p)}{n}$"
   ]
  },
  {
   "cell_type": "markdown",
   "metadata": {},
   "source": [
    "### The example of the sample variance $s^2$\n",
    "Consider a limited set of values (a sample) of a random variable x with $\\mu$\n",
    "and $\\sigma$ the true (or exact) mean and std.\n",
    "\n",
    "Using the properties of linear combinations of random variable we can easily show that the sample mean $\\bar{x} = \\frac{1}{n} \\sum_{i = 1}^n x_i$ is an unbiased estimator for $\\mu$\n",
    "\n",
    "Let’s concentrate on the sample variance $s^2 = \\frac{1}{n - 1} \\sum_{i = 1}^n (x_i - \\bar{x})^2$\n",
    "\n",
    "Why we use $\\frac{1}{n - 1}$ and not $\\frac{1}{n}$? Let's use the notation $\\bar{\\sigma}^2 = \\frac{1}{n} \\sum_{i = 1}^n (x_i - \\bar{x})^2$.\n",
    "\n",
    "We can see both $s^2$ and $\\bar{\\sigma}^2$ as estimators for the true variance $\\sigma^2$. \n",
    "\n",
    "But we can show that $\\bar{\\sigma}^2$ is *biased*"
   ]
  },
  {
   "cell_type": "markdown",
   "metadata": {},
   "source": [
    "\n",
    "$$\n",
    "\\begin{align}\n",
    "E[\\sum_{i = 1}^n (x_i - \\bar{x})^2] &= E[\\sum_{i = 1}^n (x_i - \\mu + \\mu - \\bar{x})^2] \\\\\n",
    "&= E[\\sum_{i = 1}^n (x_i - \\mu)^2 + 2(x_i - \\mu)(\\mu + \\bar{x}) + (\\mu - \\bar{x})^2] \\\\\n",
    "&= E[\\sum_{i = 1}^n (x_i - \\mu)^2] + 2E[n(\\bar{x} - \\mu)(\\mu - \\bar{x})] + E[n(\\mu - \\bar{x})^2] \\\\\n",
    "&= \\sum_{i = 1}^n E[(x_i - \\mu)^2] - nE[(\\mu - \\bar{x})^2] \\\\ \n",
    "&= n \\sigma^2 - \\sigma^2 \\\\\n",
    "&= (n - 1)\\sigma^2\n",
    "\\end{align}\n",
    "$$\n",
    "\n",
    "We see now that if we use $s^2 = \\frac{1}{n} \\sum_{i = 1}^n (x_i - \\bar{x})^2$ we obtain $E(s^2) = \\frac{1}{n} E[\\sum_{i = 1}^n (x_i - \\bar{x})^2] = \\frac{n - 1}{n} \\sigma^2 \\neq \\sigma^2$, meaning that this estimator of the sample variance is biased.\n",
    "\n",
    "Instead, the unbiased estimator is $s^2 = \\frac{1}{n - 1} \\sum_{i = 1}^n (x_i - \\bar{x})^2$ since in this case $E(s^2) = \\sigma^2$"
   ]
  },
  {
   "cell_type": "markdown",
   "metadata": {},
   "source": [
    "### Bessel correction \n",
    "Using $\\frac{1}{n - 1}$ instead of $\\frac{1}{n }$ in the estimator of the sample variance $s^2$ is called \n",
    "Bessel correction. \n",
    "\n",
    "We see now that Bessel correction is used to make $s^2$ an *unbiased* estimator of the true (but often unknown) variance of the random variable x.\n",
    "\n",
    "Bessel correction also has to do with the number of *independent* terms in the sum: because we subtract the sample mean we have $n - 1$ independent terms and not n.  Check with $n = 2$, you get two equal terms, which are not independent. So if we see $s^2$ as an average of independent squared deviations, we should divide by $n-1$.\n",
    "\n",
    "But of course, in practice, if n is large enough there is no big difference \n",
    "between $\\frac{1}{n - 1}$ and $\\frac{1}{n}$ \n",
    "\n",
    "Considering now x ~ N($\\mu,\\sigma^2$) , after a pretty long, but straight forward \n",
    "calculation, we can obtain the variance and the mean squared error for $s^2$\n",
    "\n",
    "$$MSE(s^2) = Var(s^2) = \\frac{2\\sigma^4}{n - 1}$$\n",
    "\n",
    "because the bias is 0. We can also calculate the corresponding result for $\\bar{\\sigma}^2$\n",
    "\n",
    "$$MSE(\\bar{\\sigma}^2) = \\frac{(2n - 1)\\sigma^4}{n^2}$$\n",
    "\n",
    "Interestingly, although $\\bar{\\sigma}^2$ is biased, MSE($\\bar{\\sigma}^2$) $\\lt$ MSE($s^2$) Does this mean we \n",
    "should use $\\bar{\\sigma}^2$ instead of $s^2$ as an estimator for the true variance?  Not in this \n",
    "case, the unbiased estimator $s^2$ is still preferred. Observe also that we used x ~ N($\\mu,\\sigma^2$), whereas in general we do not know the distribution of the data.  \n",
    "\n",
    "But in other cases the fact that a bias may reduce the MSE of an estimator is \n",
    "important, for example in machine learning.\n",
    "\n",
    "We will show soon that $\\bar{\\sigma}^2$ is in fact the maximum likelihood estimator.\n",
    "\n"
   ]
  },
  {
   "cell_type": "markdown",
   "metadata": {},
   "source": [
    "### Estimation methods \n",
    "- There are various methods to estimate parameters, more or less intuitive.\n",
    "- One of the most powerful and important is the method of maximum likelihood\n",
    "- The likelihood theory is a more advanced and deeper way to connect probabilities with observed data, using Bayes rule, and it is often named Bayesian statistics\n",
    "- The alternative, considered more rigid, is called the frequentist approach, when the probabilities are seen as proportions, rather than estimates.\n",
    "- This classification is more about the interpretation of the concept of probability, and often goes into a philosophical direction.\n",
    "- Practical data analyses combines ideas from both directions"
   ]
  },
  {
   "cell_type": "markdown",
   "metadata": {},
   "source": [
    "### The likelihood function\n",
    "- Consider $\\theta$ a parameter to be obtained from data\n",
    "- Both data and the estimated parameter have a random character, so we can treat them as events\n",
    "- According to Bayes rule:\n",
    "$$P(\\theta | data) = \\frac{P(data | \\theta) P(\\theta)}{P(data)}$$\n",
    "- In Bayesian statistics $P(\\theta)$ is called the prior probability and $P(\\theta | data)$ is called posterior probability\n",
    "- The interpretation of the likelihood function is the probability of the observed data given the parameter $\\theta$. Or as a function of $\\theta$."
   ]
  },
  {
   "cell_type": "markdown",
   "metadata": {},
   "source": [
    "### The maximum likelihood method of estimation\n",
    "- The basic assumption is that the observed data corresponds to a maximum probability as a function of the parameter $\\theta$\n",
    "- That means we have to maximize the likelihood function $L(\\theta) = P(data | \\theta)$\n",
    "$$\\frac{d}{d\\theta}L(\\theta) = 0$$\n",
    "- The solution of this equation is an estimated value of  our the parameter, denoted as $\\bar{\\theta}$ and called the maximum likelihood estimator or MLE.\n",
    "- In practice it is often more convenient to use the log-likelihood function, \n",
    "which is $ln(L(\\theta))$"
   ]
  },
  {
   "cell_type": "markdown",
   "metadata": {},
   "source": [
    "### Estimate a probability using the ML method\n",
    "sucess = 1      failure = 0     p = ? for success\n",
    "\n",
    "n trials        k ~ Bin(n,p)    282-283 textbook\n",
    "\n",
    "$k_1$ successes in 1 experiment     $k_1 = data$\n",
    "\n",
    "$P(k_1) = \\begin{pmatrix} n \\\\ k_1 \\end{pmatrix} p^{k_1}(1 - p)^{n - k_1} = P(data | p) = L(p)$\n",
    "\n",
    "$max\\,L(p) \\quad \\frac{dL}{dP} = 0 \\Rightarrow p = \\hat{p}$\n",
    "\n",
    "Use $ln(L) instead of L: $\\frac{d}{dP} ln(L) = 0$\n",
    "\n",
    "$ln(L) = ln\\begin{pmatrix} n \\\\ k_1 \\end{pmatrix} + ln(p^{k_1}) + ln((1 - p)^{n - k_1}) = ln\\begin{pmatrix} n \\\\ k_1 \\end{pmatrix} k_1 ln(p) + (n - k_1) ln(1 - p)$\n",
    "\n",
    "$\\frac{d}{dP}ln(L) = \\frac{k_1}{p} - (n - k_1) \\frac{1}{1 - p} = 0 \\quad \\frac{k_1}{p} = \\frac{n - k_1}{1 - p} = k_1(1 - p) = p(n - k_1) \\Rightarrow \\hat{p} = \\frac{k_1}{n}$\n"
   ]
  },
  {
   "cell_type": "markdown",
   "metadata": {},
   "source": [
    "Two experiments: $k_1\\,,k_2$ successes = data \n",
    "\n",
    "$P(data | p) = P(k_1 \\cap k_2 | p) = P(k_1)P(k_2) = L(p)$\n",
    "\n",
    "$L(p) = \\begin{pmatrix} n \\\\ k_1 \\end{pmatrix} p^{k_1}(1 - p)^{n - k_1} \\begin{pmatrix} n \\\\ k_2 \\end{pmatrix} p^{k_2}(1 - p)^{n - k_2}$\n",
    "\n",
    "$\\frac{dL}{dP} = 0 \\Longleftrightarrow \\frac{d ln(L)}{dP} = 0$\n",
    "\n",
    "$ln(L) = ln\\begin{pmatrix} n \\\\ k_1 \\end{pmatrix} k_1 ln(p) + (n - k_1) ln(1 - p) + ln\\begin{pmatrix} n \\\\ k_2 \\end{pmatrix} k_2 ln(p) + (n - k_2) ln(1 - p)$\n",
    "\n",
    "$\\frac{d}{dP}ln(L) = \\frac{k_1}{p} - (n - k_1) \\frac{1}{1 - p} + \\frac{k_2}{p} - (n - k_2) \\frac{1}{1 - p} = \\frac{k_1 + k_2}{p} = \\frac{n - k_1 + n - k_2}{1 - p} = (k_1 + k_2)(1 - p) = p(2n - k_1 - k_2$\n",
    "\n",
    "$\\Rightarrow \\hat{p} = \\frac{k_1 + k_2}{2n} = \\frac{\\bar{k}}{n}$ MLE of p\n",
    "\n"
   ]
  },
  {
   "cell_type": "markdown",
   "metadata": {},
   "source": [
    "### Recap. on the uncertainty of a population mean\n",
    "- Consider $x_1,x_2,...,x_n$ *independent* random variables with the same distribution that we do not necessarily know.\n",
    "- All $x_i$ variables have the same mean value $\\mu$ and variance $\\sigma^2$, **but unknown**\n",
    "- The sample mean $\\bar{x} = \\frac{1}{n} \\sum_{i = 1}^n(x_i - \\bar{x})^2$ is our best estimate for $\\sigma^2$\n",
    "- Central limit theorem: If n is sufficiently large then $\\bar{x}$ ~N($\\mu, \\frac{\\sigma^2}{n}$)\n",
    "- Then we conclude $\\mu = \\bar{x} \\pm \\sigma_{\\bar{x}}$ where $\\sigma_{\\bar{x}} \\approx \\frac{s}{\\sqrt{n}}$ is the *estimated* std. of $\\bar{x}$ which is also call *uncertainty*"
   ]
  },
  {
   "cell_type": "markdown",
   "metadata": {},
   "source": [
    "### From uncertainty to intervals\n",
    "- We want to transform the evaluation of the uncertainty as $\\mu = \\bar{x} \\pm Z_{score} \\sigma_{\\bar{x}}$ into an interval that captures $\\mu$:\n",
    "\n",
    "$$\\mu \\in [\\bar{x} - \\sigma_{\\bar{x}}, \\bar{x} + \\sigma_{\\bar{x}}]$$\n",
    "\n",
    "- In this case we can say that the true or exact, but unknown number $\\mu$, is in the mentioned interval with a probability p. How much is p?\n",
    "- The confidence interval is an interval between two estimated numbers which includes the true value of a parameter with a certain probability.\n",
    "- Alternatively, we can also consider:\n",
    "\n",
    "$$\\bar{x} \\in [\\mu - \\sigma_{\\bar{x}}, \\mu + \\sigma_{\\bar{x}}]$$\n",
    "\n",
    "- In this case we can say that our estimate is $\\pm$ one std. away from the true (or \n",
    "exact) mean value with probability p. "
   ]
  },
  {
   "cell_type": "markdown",
   "metadata": {},
   "source": [
    "### 68% Confidence intervals (CI)\n",
    "- The interval of $\\pm$ one std. around the mean value of a normal distribution \n",
    "corresponds to 68% probability (or area). We will call this interval the 68% CI\n",
    "- **Exercise:** Obtain this number yourselves.  Chose any numbers you want for \n",
    "$\\mu$ and $\\sigma$ and show that  "
   ]
  },
  {
   "cell_type": "markdown",
   "metadata": {},
   "source": [
    "### Other confidence intervals\n",
    "- In general the 68% CI associated with $\\pm$ one std. is mostly used by engineers\n",
    "- Statisticians prefer a higher probability, most often 95% , sometimes 99%\n",
    "- How do we find these intervals in terms of the standard deviation σ of the normal distribution ?  By using the percentile function, qnorm or NORM.INV"
   ]
  },
  {
   "cell_type": "markdown",
   "metadata": {},
   "source": [
    "### Calculate the 95%CI\n",
    "We can always convert the random variable x into a z-score $z = \\frac{x - \\mu}{\\sigma}$ and we know that z~N(0,1)\n",
    "\n",
    "We want the 95%CI. That means the left and right tails outside this interval correspond to $\\frac{1 - 0.95}{2}$ each one.\n",
    "\n",
    "R: qnorm(0.05/2,0,1) = -1.96   Exercise: qnorm(1-0.05/2,0,1) = ? \n",
    "\n",
    "$(100 - \\alpha)\\%CI = [\\bar{x} - Z_{\\frac{\\alpha}{2}} \\sigma_{\\bar{x}}, bar{x} + Z_{\\frac{\\alpha}{2}} \\sigma_{\\bar{x}}]$\n",
    "\n",
    "**Conclusion:**\n",
    "\n",
    "$z \\in [-1.96, 1.96]$ with 95% probability\n",
    "\n",
    "Or $x \\in [\\mu - 1.96\\sigma, \\mu + 1.96\\sigma]$ with 95% probability\n",
    "\n",
    "Or $\\mu \\in [x - 1.96\\sigma_{x}, x + 1.96\\sigma_{x}]$\n",
    "\n",
    "Or use $\\bar{x}$ instead of x if it represents a sample mean\n",
    "\n",
    "**Exercise**\n",
    "\n",
    "Show that the 99%CI corresponds to $\\mu \\in [x - 2.58\\sigma_{x}, x + 2.58\\sigma_{x}]$"
   ]
  },
  {
   "cell_type": "markdown",
   "metadata": {},
   "source": [
    "### In general (see also textbook p. 326-327)\n",
    "$100(1 - \\alpha)%$ CI corresponds to the interval $x \\pm z_{\\frac{\\alpha}{2} \\sigma_{\\bar{x}}}$ Here $\\alpha$ represents the probability that $\\mu$ is outside the CI\n",
    "- $\\alpha = 0.32 \\Rightarrow z_{\\frac{\\alpha}{2}} = 1 \\quad$  68% CI\n",
    "- $\\alpha = 0.10 \\Rightarrow z_{\\frac{\\alpha}{2}} = 1.645 \\quad$ 90% CI\n",
    "- $\\alpha = 0.05 \\Rightarrow z_{\\frac{\\alpha}{2}} = 1.96 \\quad$  95% CI (the most common)\n",
    "- $\\alpha = 0.01 \\Rightarrow z_{\\frac{\\alpha}{2}} = 2.58 \\quad$  99% CI"
   ]
  },
  {
   "cell_type": "markdown",
   "metadata": {},
   "source": [
    "### Possible scenarios\n",
    "Consider a 95% CI: There are 95% chances that the exact mean value is captured by the 95%CI\n",
    "\n",
    "There are still 5% chances that the exact mean value lies outside the 95%CI"
   ]
  },
  {
   "cell_type": "markdown",
   "metadata": {},
   "source": [
    "### The Chi-square distribution\n",
    "- Let $z_1,z_2,...,z_k$ be independent random variables, all with the standard normal distribution N(0,1)\n",
    "- Consider the random variable $X = z_1^2 + z_2^2 + ... + z_k^2$\n",
    "- Then X ~ $\\chi_k^2$ called Chi-square distribution with k degrees of freedom (DOF)\n",
    "- This distribution has the probability density function\n",
    "$$f(x) = \\frac{1}{2^{\\frac{k}{2}} \\Gamma(\\frac{k}{2})} x^{\\frac{k}{2} - 1} e^{- \\frac{x}{2}},\\quad x \\lt 0$$\n",
    "- the mean value $\\mu = k$\n",
    "- the std. $\\sigma = \\sqrt{2k}$"
   ]
  },
  {
   "cell_type": "markdown",
   "metadata": {},
   "source": [
    "### Example: Maxwell-Boltzmann distribution(s)\n",
    "- Distribution of velocities and kinetic energies of molecules in a gas\n",
    "- The distribution of velocities in the x direction in a normal distribution\n",
    "$$ f(v_x) = (\\frac{m}{2\\pi kT})^{\\frac{1}{2}} e^{-\\frac{m v_x^2}{2kT}}$$\n",
    "- $k = 1.38 \\times 10^{-23}$ J/K is Boltzmann‘s constant and T is the temperature in Kelvin\n",
    "- The kinetic energy $E = \\frac{1}{2}mv^2 = \\frac{1}{2}m(v_x^2 + v_y^2 + v_z^2)$ is a sum of 3 random \n",
    "variables and has a Chi-squared distribution with 3 degrees of freedom $\\chi^2_3$\n",
    "$$f(E) = 2 (\\frac{E}{\\pi})^{\\frac{1}{2}} (\\frac{1}{kT})^{\\frac{3}{2}} e^{-\\frac{E}{kT}}$$"
   ]
  },
  {
   "cell_type": "markdown",
   "metadata": {},
   "source": [
    "### R and Excel functions\n",
    "R:  \n",
    "\n",
    "dchisq(x,k)   the distribution function\n",
    "\n",
    "pchisq(x,k)   the cumulative function \n",
    "\n",
    "qchisq(p,k)   the quantile (or percentile) function\n",
    "\n",
    "rchisq(n,k)    a random number generator of n numbers ~χk2\n",
    "\n",
    "Excel:  CHISQ.DIST(x,k,cumulative=T or F) \n",
    "\n",
    "CHISQ.INV(p,k)\n",
    "\n",
    "CHISQ.INV(RAND(),k)  the random number generator "
   ]
  },
  {
   "cell_type": "markdown",
   "metadata": {},
   "source": [
    "### Computer simulation of Chi square distribution\n",
    "1. Generate random numbers ~ N(0,1) with the computer\n",
    "\n",
    "    *Method 1*: generate samples with uniform dist. and get their sample means, as \n",
    "    you did until now in R or Excel\n",
    "\n",
    "    *Method 2*: In R, use rnorm(n,0,1) and you have n numbers with N(0,1).  \n",
    "\n",
    "    *Method 3*: In R, use qnorm(runif(n,0,1),0,1) , meaning you input a random number between 0 and 1 and qnorm will convert it into a percentile. In Excel this method is the only possibility, use NORM.INV(RAND(), 0, 1)\n",
    "\n",
    "2. Now, add the squares of k random numbers ~N(0,1) to obtain one random number with Chi square distrib. with k degrees of freedom (DOF)\n",
    "\n",
    "3. In R use rchisq(n,k) to generate n random numbers with Chi sq. dist with k \n",
    "DOF.  In Excel use CHISQ.INV(RAND(),k)"
   ]
  },
  {
   "cell_type": "markdown",
   "metadata": {},
   "source": [
    "### The distribution of the sample variance\n",
    "- We want the distribution of the sample variance $s^2 = \\frac{1}{n - 1} \\sum_{i = 1}^n (x_i - \\bar{x})^2$\n",
    "- Let's assume now that all $x_i$ ~ N($\\mu, \\sigma^2$)\n",
    "- Consider the random variable $r = \\frac{(n - 1)s^2}{\\sigma^2} = \\sum_{i = 1}^n \\frac{(x_i - \\bar{x})^2}{\\sigma^2} = \\sum_{i = 1}^n z_i^2$\n",
    "- We used the \"z-score\" $z_i = \\frac{x_i - \\bar{x}}{\\sigma}$ considering $\\bar{x} \\approx \\mu \\Rightarrow z_i$ ~ $N(0,1) \\Rightarrow r$ ~ $\\chi^2_{n - 1}$: Chi square with n - 1 DOF\n",
    "- NOTE: we only have n - 1 DOF because we always subtract the mean, and thus we add together only n - 1 independant random number $z_i^2$"
   ]
  },
  {
   "cell_type": "markdown",
   "metadata": {},
   "source": [
    "### The 95% probability interval for r\n",
    "- We learned before how to build a CI for the true population mean value $\\mu$ using the normal distribution of the sample mean $\\bar{x}$.\n",
    "- We want now a 95% CI for the true variance $\\sigma^2$, using the distribution of the sample variance $s^2$, which does not have a normal distribution\n",
    "- But we know that the number $r = \\frac{(n - 1)s^2}{\\sigma^2}$ ~ $\\chi^2_{n - 1}$\n",
    "- See **Example 5.28** in the text book\n",
    "\n",
    "To find the confidence interval of sigma we use: \n",
    "\n",
    "$5.629 \\lt \\frac{(n - 1)s^2}{\\sigma^2} \\lt 26.119$ where the lower and upper 0.025 points of $\\chi^2_{14}$ are:\n",
    "\n",
    "$\\chi^2_{14, 0.975} = 26.119$\n",
    "\n",
    "$\\chi^2_{14, 0.025} = 5.629$\n",
    "\n",
    "$\\Rightarrow \\frac{(n - 1)s^2}{26.119} \\lt \\sigma^2 \\lt \\frac{(n - 1)s^2}{5.629}$ take squareroot of both sides to get 95% CI for sigma\n",
    "\n",
    "In general for any CI of sigma: \n",
    "\n",
    "$(\\sqrt{\\frac{(n - 1)s^2}{\\chi_{n - 1, \\frac{\\alpha}{2}}^2}}, \\sqrt{\\frac{(n - 1)s^2}{\\chi_{n - 1, 1 - \\frac{\\alpha}{2}}^2}})$"
   ]
  },
  {
   "cell_type": "markdown",
   "metadata": {},
   "source": [
    "### Introduction to hypothesis testing | problem 4.7.6\n",
    "Someone claims that the waiting time in minutes, between hits at a certain website has the exponential distribution with parameter $\\lambda = 1$. Let T be the witing time until the next hit. \n",
    "\n",
    "a) If the claim is true, what is $P(T \\geq 5)$\n",
    "\n",
    "$$P(T \\geq 5) = 1 - F(5) = 1 - (1 - e^{-\\lambda * 5}) = 0.00674$$\n",
    "\n",
    "b) Based on the answer to part (a), if the claim is true, is 5 minutes an unusually long time to wait? Remember the mean waiting time is $\\frac{1}{\\lambda}$\n",
    "\n",
    "The null hypothesis $\\qquad H_0: \\lambda = 1$\n",
    "\n",
    "The alternative hypothesis $\\qquad H_1: \\lambda < 1$\n",
    "\n",
    "P-value = $P(5 \\geq X) = 0.00674$\n",
    "\n",
    "**Conclusion:** Yes, T = 5 min is unusually long, and if this is the only data point we have, most likely $H_0$ is not correct.\n"
   ]
  },
  {
   "cell_type": "markdown",
   "metadata": {},
   "source": [
    "### Large-sample test for a population mean\n",
    "A car engine emits a mean of $\\mu = 100$ mg NOx per second. A modification of the engine may reduce emissions. A sample of $n = 50$ modified engines yield a sample mean $\\bar{x} = 92$ mg/s with sample std. dev. $s = 21$ mg/s\n",
    "\n",
    "*The problem:* Is $\\bar{x}$ really lower than $\\mu$? Or is it only a sample fluctuation effect?\n",
    "\n",
    "The *null hypothesis* or $H_0:$ the new mean emission is still 100 mg/s\n",
    "\n",
    "The *alternative hypothesis* or $H_1:$ the new mean is less than 100 mg/s "
   ]
  },
  {
   "cell_type": "markdown",
   "metadata": {},
   "source": [
    "### How the null hypothesis is tested\n",
    "We know that $\\bar{x}$ ~ N($\\mu, \\sigma^2$) with $\\sigma_{\\mu_x} = \\frac{s}{\\sqrt{n}} = 2.970$\n",
    "\n",
    "Assuming $H_0$ true $\\mu = 100$ mg/s\n",
    "\n",
    "We use the Z-score: z ~ N(0,1) $\\quad z = \\frac{\\bar{x} - \\mu}{\\sigma_{\\bar{x}}} = -2.69$\n",
    "\n",
    "The *left sided* P-value = norm.cdf(z, 0, 1) = 0.0036\n",
    "\n",
    "The conventional signifincance level is 0.05 and our p-value is < 0.05\n",
    "\n",
    "*Conclusion*\n",
    "\n",
    "The reduction of the NOx is *significant*\n",
    "\n",
    "Therefore $H_0$ is rejected and $H_1$ should be accepted"
   ]
  },
  {
   "cell_type": "markdown",
   "metadata": {},
   "source": [
    "### Changing the direction of the test\n",
    "Suppose now $\\bar{x} = 105$ mg/s\n",
    "\n",
    "Let's change $H_1:$ the new mean is *greater* than $\\mu = 100$ mg/s\n",
    "\n",
    "The new Z-score: $z= \\frac{\\bar{x} - \\mu}{\\sigma_{\\bar{x}}} = 1.35$\n",
    "\n",
    "The *right sided* P-value = $1 -$ norm.cdf(z, 0, 1) = 0.089 > 0.05\n",
    "\n",
    "**Conclusion**\n",
    "In this case the modified engines have an *increased emission* of NOx. However that is statistically not *significant*. Therefore $H_0$ is accepted or $H_1$ is rejected. "
   ]
  },
  {
   "cell_type": "markdown",
   "metadata": {},
   "source": [
    "### A 2-sided test (preferred)\n",
    "A scale is to be calibrated by weighing a 1000 g test weight $n = 60$ times. The scale readings have mean $\\bar{x} = 1000.6$ g and standard deviation $s = 2$ g\n",
    "\n",
    "Test $H_0: \\mu = 1000$ g versus $H_1: \\mu \\neq 1000 g$.\n",
    "\n",
    "Assuming $H_0$ is true $\\quad \\bar{x}$ ~ N($\\mu, \\sigma^2$) where $\\sigma_{\\bar{x}} = \\frac{s}{\\sqrt{n}}$\n",
    "\n",
    "Calculate the z-score: $z = \\frac{\\bar{x} - \\mu}{\\sigma_{\\bar{x}}} = 2.324$\n",
    "\n",
    "According to $H_1$ we must look at both tails of the distribution. \n",
    "\n",
    "P-value = 2 * norm.cdf(-z, 0, 1) = 2 * 0.0102 = 0.0204 < 0.05\n",
    "\n",
    "**Conclusion:**\n",
    "\n",
    "The probability bias of absolute value 0.6 or larger to occur purely by chance is 0.02. Therefore the bias of the scale is significant. We reject the null and accept the alternative. The scale should be recalibrated. "
   ]
  },
  {
   "cell_type": "markdown",
   "metadata": {},
   "source": [
    "### The connection with the confidence interval \n",
    "We can calculate the 95% CI for the *true mean* value of the measurements\n",
    "\n",
    "[$\\bar{x} - 1.96 \\sigma_{\\bar{x}}$, $\\bar{x} + 1.96 \\sigma_{\\bar{x}}$] = [1000.094, 1001.106]\n",
    "\n",
    "We can see that the real mass of 1000g is outside the 95% CI. That means there are at least 95% chances the scale is biased. Or at most 5% chances that the observed bias is only a result of randomness\n",
    "\n",
    "However, a complete hypothesis must report a p-value\n",
    "\n",
    "**Important**\n",
    "\n",
    "It is not enough only to conclude a statistical test with \"significant\" and \"not significant\". A complete result must report a p-value. The lower the p-value the more convincing the significance. A p-value larger than 0.05 may still indicate something, if we already have other information about the behavior of the data. Other researchers may prefer a lower significance threshold and they need your p-value."
   ]
  },
  {
   "cell_type": "markdown",
   "metadata": {},
   "source": [
    "### 1-sided vs 2-sided tests\n",
    "- If the alternative hypothesis is $H_1: \\mu > \\mu_0$ then the P-value is the area to the right of z. \n",
    "- If the alternative hypothesis is $H_1: \\mu < \\mu_0$ then the P-value is the area to the left of z. \n",
    "- If the alternative hypothesis is $H_1: \\mu \\neq \\mu_0$ then the P-value is the sum of the areas in the tails cut off by z and -z. \n",
    "- In practical statistics a 2-sided test is usually preferred\n",
    "- One reason is that most often there should be no preliminary expectation on the observed sample mean.\n",
    "- A second reason is that the p-value for a 2-sided test is larger (typically double) than for a 1-sided test and thus the significance, if that exists, is more convincing. \n",
    "- In practical statistics a 1-sided test may be accepted in a replication experiment, when the direction of the result was found in a previous study"
   ]
  },
  {
   "cell_type": "markdown",
   "metadata": {},
   "source": [
    "### Steps in performing a hypothesis test\n",
    "First understand the data.  Then:\n",
    "- Define $H_0$ and $H_1$  also known as null and alternative hypotheses\n",
    "- Assume $H_0$ to be true\n",
    "- Compute a test statistic.  A test statistic is a number that is assumed to obey the distribution implied by $H_0$\n",
    "- Compute the P-value corresponding the test-statistic number\n",
    "- Conclude: reject or accept $H_0$ (or accept or reject $H_1$)\n"
   ]
  },
  {
   "cell_type": "markdown",
   "metadata": {},
   "source": [
    "### Comments on the p-value\n",
    "- The p-value is the probability that the disagreement between the two hypotheses $H_0$ and $H_1$ is even greater than observed\n",
    "- **The p-value is not the probability that $H_0$ is true !!!**\n",
    "- The P-value measures the validity of $H_0$ or $H_1$\n",
    "- If the P-value is sufficiently small, we reject $H_0$ and possibly accept H\n",
    "- The conventional threshold is $p = 0.05$ \n",
    "- If $p < 0.05$ the difference between the two hypotheses is called significant. We reject $H_0$ which looks unlikely.\n",
    "- If $p \\approx 0.05$ we have to be careful, the case is marginally (borderline) significant.  In practice we need more information, larger sample, etc.\n",
    "- If $p \\gt 0.05$ the difference between $H_0$ and  $H_1$ is not significant, it should be attributed to chances, randomness, data noise, and we have to accept $H_0$"
   ]
  },
  {
   "cell_type": "markdown",
   "metadata": {},
   "source": [
    "### Test for population proportions\n",
    "- A supplier of semiconductor wafers claims that no more than 10% of his wafers are defective. \n",
    "- A sample of n = 400 wafers is tested, and k = 50 of them are defective. \n",
    "- Can we conclude that supplier’s claim is false?"
   ]
  },
  {
   "cell_type": "markdown",
   "metadata": {},
   "source": [
    "### The implementation of the 5-step scheme\n",
    "First understand the data.  The observed proportion of the defective samples is $\\hat{p} = \\frac{k}{n} = 0.125, which is  also an estimated probability that a sample is defective.  Remember the standard deviation of an estimated proportion (or \n",
    "the “uncertainty of a probability”) $\\sigma_{\\hat{p}} = \\sqrt{\\frac{p(1 - p)}{n}}\n",
    "\n",
    "**Step 1** Define $H_0$ and $H_1$\n",
    "\n",
    "$H_0:$ the real proportion is $p = 0.1$  (as claimed by the producer) \n",
    "\n",
    "$H_1:$ the real proportion is $\\gt 0.1$ \n",
    "\n",
    "**Step 2** Assume $H_0$ to be true\n",
    "\n",
    "If $H_0$ would be true the estimated proportion $\\hat{p}$ ~ N($p,\\sigma_{\\hat{p}}^2$)\n",
    "\n",
    "**Step 3** Compute a test statistic\n",
    "\n",
    "The test statistic $z = \\frac{\\hat{p} - p}{\\sigma_{\\hat{p}}} =1.67$\n",
    "\n",
    "This number follows the distribution N(0,1) \n",
    "\n",
    "**Step 4** Compute the P-value\n",
    "\n",
    "p-value = 1 - pnorm(z,0,1) = 0.0475 (this is a one-sided or one-tailed test) Remember, the p-value is the probability that the proportion of defective wafers is even larger than the observed value 0.125, or z > 1.67 (Do not confuse the p-value with the p used for the proportion) \n",
    "\n",
    "**Step 5** Conclude \n",
    "\n",
    "The observed larger proportion is only marginally significant.  We may still trust the producer, but with some level of reservation, and we should do further testing."
   ]
  },
  {
   "cell_type": "markdown",
   "metadata": {},
   "source": [
    "### Z tests\n",
    "- When the z score ~ N(0,1) is being used, the test is called a z test.\n",
    "- Z tests that we already covered:\n",
    "    - Large sample test of a population mean\n",
    "    - Large sample test of a population proportion\n",
    "- We still need to go over a z test of the difference between the sample means of two large samples when the normal distribution is appropriate. "
   ]
  },
  {
   "cell_type": "markdown",
   "metadata": {},
   "source": [
    "### Test the difference between two means, large sample case\n",
    "A sample of 544 inclusions in welds made using argon shielding averaged 0.37 $\\mu m$ in diameter, \n",
    "with a standard deviation of 0.25 $\\mu m$. A sample of 581 inclusions in welds \n",
    "made using carbon dioxide shielding averaged 0.40 $\\mu m$ in diameter, with a \n",
    "standard deviation of 0.26 $\\mu m$. Can you conclude that the mean diameters of \n",
    "inclusions differ between the two shielding gases?\n",
    "\n",
    "Sample 1: $n_x$ = 544 inclusions with mean $\\bar{x}$= 0.37 and st.dev. $s_x$= 0.25 micron\n",
    "\n",
    "Sample 2: $n_y$ = 581 inclusions with mean $\\bar{x}$= 0.40 and st.dev. $s_y$= 0.26 micron\n",
    "\n",
    "D = the difference between the two sample means = $\\bar{x} - \\bar{y}$ seen as random numbers \n",
    "\n",
    "*The null hypothesis* $H_0$: $D = 0$   \n",
    "\n",
    "*The alternative hypothesis* $H_1$: $D \\neq 0$   \n",
    "\n",
    "*The distribution* of D: As we know the sample means of large samples have normal distributions. Since the two samples are independent the difference of their means D has also a normal distribution. According to $H_0$ the mean (or \n",
    "expected) value of D is $\\mu_D = 0$. The variance of D is (linear comb. of RV’s) \n",
    "\n",
    "$$\\sigma^2_D = \\sigma_{\\bar{x}}^2 + \\sigma_{\\bar{y}}^2 = \\frac{s^2_x}{n_x} + \\frac{s^2_y}{n_y}$$\n",
    "\n",
    "So we have  D ~ N($0,\\sigma^2_D$)\n",
    "\n",
    "The z score for D: $z = \\frac{D - \\mu_D}{\\sigma_D} = \\frac{\\bar{x} - \\bar{y} - 0}{\\sqrt{\\frac{s^2_x}{n_x} + \\frac{s^2_y}{n_y}}} = -1.97$\n",
    "\n",
    "This is a 2-sided test. We are testing whether $\\bar{x} \\neq \\bar{y}$ without considering which one is larger or smaller.\n",
    "\n",
    "The 2-sided p-value = 2 * norm.cdf(-z,0,1) = 0.0488\n",
    "\n",
    "The p-value is marginal.  $H_0$ could be rejected, but the best would be to increase the sample sizes. Or at least one of them.\n",
    "\n",
    "**Exercise:** Try to increase the sample sizes one at a time and repeat the test.  \n",
    "Calculate again the p-value and conclude."
   ]
  },
  {
   "cell_type": "code",
   "execution_count": 4,
   "metadata": {},
   "outputs": [
    {
     "name": "stdout",
     "output_type": "stream",
     "text": [
      "0.048838370560445085\n"
     ]
    }
   ],
   "source": [
    "from scipy.stats import norm\n",
    "print(2 * norm.cdf(-1.97, 0 ,1))"
   ]
  },
  {
   "cell_type": "markdown",
   "metadata": {},
   "source": [
    "### The t distribution \n",
    "Consider $x_1,x_2,...,x_n$ *independant* random variables with sample mean $\\bar{x} = \\frac{1}{n} \\sum_{i = 1}^n x_i$ and with sample variance $s^2 = \\frac{1}{n - 1} \\sum_{i = 1}^n (x_1 - \\bar{x})^2$\n",
    "\n",
    "- If **n is large** we know that $z = \\frac{\\bar{x} - \\mu}{\\sigma_{\\bar{x}}} = \\frac{\\bar{x} - \\mu}{\\frac{\\sigma}{\\sqrt{n}}}$ ~ N(0,1) and in practice, if we do not know the true std. $\\sigma$ we use $s \\approx \\sigma$\n",
    "- **But how large n should be? And what if n is small ?**\n",
    "- Instead of z, consider the random variable $\\frac{\\bar{x} - \\mu}{\\frac{s}{\\sqrt{n}}}$ \n",
    "    - It can be shown that if all $x_i$ have normal distribution, this variable does not have a normal distribution, but another one called t distribution with $n - 1$ degrees of freedom.\n",
    "- But when n is large enough, then t becomes z which has N(0,1)"
   ]
  },
  {
   "cell_type": "markdown",
   "metadata": {},
   "source": [
    "### The t probability density\n",
    "- The t distribution is also called Student’s distribution. \n",
    "- The probability density function (PDF) for n degrees of freedom is: \n",
    "$$f(t) = \\frac{\\Gamma (\\frac{n + 1}{2})}{\\sqrt{n\\pi} \\Gamma(\\frac{n}{2})} (1 + \\frac{t^2}{n})^{-\\frac{n + 1}{2}}$$\n",
    "\n",
    "Where the $\\Gamma(z) = \\int_0^\\infty x^{z - 1}e^{-x} dx$ is the famous special function Gamma"
   ]
  },
  {
   "cell_type": "code",
   "execution_count": 5,
   "metadata": {},
   "outputs": [
    {
     "data": {
      "text/html": [
       "<img src=\"t-distribution.jpg\" width=\"400\" height=\"300\"/>"
      ],
      "text/plain": [
       "<IPython.core.display.Image object>"
      ]
     },
     "execution_count": 5,
     "metadata": {},
     "output_type": "execute_result"
    }
   ],
   "source": [
    "from IPython.display import Image\n",
    "  \n",
    "# get the image\n",
    "Image(url=\"t-distribution.jpg\", width=400, height=300)"
   ]
  },
  {
   "cell_type": "markdown",
   "metadata": {},
   "source": [
    "### Comparing t and normal distributions\n",
    "Plots of the probability density function of the Student’s t curve for \n",
    "various degrees of freedom. The normal curve with mean 0 and variance 1 (z curve) \n",
    "is plotted for comparison (solid blue line). The t curves are more spread out than the \n",
    "normal, but the amount of extra spread decreases as the number of degrees of \n",
    "freedom increases. **For n = 30 the t distribution becomes practically N(0,1).**"
   ]
  },
  {
   "cell_type": "markdown",
   "metadata": {},
   "source": [
    "### Computer functions (t-distribution)\n",
    "R functions:  \n",
    "\n",
    "dt(t,n)   density function of t with n DOF\n",
    "\n",
    "pt(t,n)   cumulative function\n",
    "\n",
    "qt(t,n)   percentile function\n",
    "\n",
    "rt (1000,n)  gives 1000 random numbers with n DOF’s\n",
    "\n",
    "Excel functions:   \n",
    "\n",
    "T.DIST(t,n,cumulative)  with n is the number of DOF’s\n",
    "\n",
    "T.INV(p,n)  the percentile function\n",
    "\n",
    "T.INV(RAND(0),n)  generates random numbers"
   ]
  },
  {
   "cell_type": "markdown",
   "metadata": {},
   "source": [
    "### Small-sample test for population mean \n",
    "Spacer collars for a transmission countershaft have a thickness specification of 38.98–39.02 mm. The process that manufactures the collars is supposed to be calibrated so that the mean thickness is 39.00 mm, which is in the center of the specification window. A sample of six collars is drawn and measured for thickness. The six thicknesses are 39.030, 38.997, 39.012, 39.008, 39.019, and 39.002. Assume that the population of thicknesses of the collars is approximately normal. Can we conclude that the process needs recalibration?\n",
    "\n",
    "The null and alternative hypotheses: $H_0$ :  $\\mu$ = 39.00  H1 :  $\\mu \\neq 39.00$\n",
    "\n",
    "This is a 2-sided test."
   ]
  },
  {
   "cell_type": "markdown",
   "metadata": {},
   "source": [
    "### Calculate the statistic\n",
    "Thickness x must be between 38.98-39.02 mm with mean $\\mu = 39.00$ mm.\n",
    "\n",
    "For $n = 6$ inspected samples the observed thickness are:\n",
    "x = 39.030, 38.997, 39.012, 39.008, 39.019, 39.002 mm\n",
    "\n",
    "We calculate: \n",
    "\n",
    "$\\bar{x} = \\frac{1}{n} \\sum_{i = 1}^n x_i = 39.011$\n",
    "\n",
    "$s = \\sqrt{\\frac{1}{n - 1} \\sum_{i = 1}^n (x_i - \\bar{x})^2}$\n",
    "\n",
    "The “statistic” number for our problem is $t = \\frac{\\bar{x} - \\mu}{\\frac{s}{\\sqrt{n}}} = 2.327$\n",
    "\n",
    "Assuming all x’s have a normal distribution then the number t follows a t distribution with $n - 1 = 5$  degrees  of freedom (DOF), or  t ~ $t_5$"
   ]
  },
  {
   "cell_type": "markdown",
   "metadata": {},
   "source": [
    "### Calculate the p-value\n",
    "R:   pt(-2.327,5)*2  # this is the 2-sded p-value = 0.067\n",
    "\n",
    "Excel: T.DIST(-2.327,5,TRUE)*2 = 0.067\n",
    "\n",
    "The test is 2 sided so the left tail and righttail (indicated by the blue arrows) are added together\n",
    "\n",
    "**Conclusion:**\n",
    "\n",
    "The observed mean thickness in the tested sample in not significantly different from the expected thickness.  However, the p-value is pretty close to the 0.05 threshold, so a more careful calibration might be considered, if possible."
   ]
  },
  {
   "cell_type": "markdown",
   "metadata": {},
   "source": [
    "### Using the t.test function in R\n",
    "x = c(39.030, 38.997, 39.012, 39.008, 39.019, 39.002)\n",
    "\n",
    "t.test(x,mu=39)\n",
    "\n",
    "One Sample t-test\n",
    "\n",
    "data:  x\n",
    "\n",
    "t = 2.3275, df = 5, p-value = 0.06742\n",
    "\n",
    "alternative hypothesis: true mean is not equal to 39\n",
    "\n",
    "95 percent confidence interval: [38.99882 39.02385]\n",
    "\n",
    "Sample estimates:\n",
    "\n",
    "mean of x 39.01133 \n",
    "\n",
    "See help(t.test)"
   ]
  },
  {
   "cell_type": "markdown",
   "metadata": {},
   "source": [
    "### Comparing with a z test\n",
    "Suppose we ignore the fact that the sample is small, with n=6, and we perform a z-test.  That means the same approach, with z = 2.327, but using N(0,1) instead of the t distribution.\n",
    "\n",
    "If so, the resulting p-value is  pnorm(-2.327,0,1)*2 = 0.02\n",
    "\n",
    "That means a significant difference between the observed and expected mean \n",
    "thickness.\n",
    "\n",
    "However, this conclusion is not correct, because we used a normal distribution \n",
    "for a sample which is too small.\n",
    "\n",
    "**We see that using an incorrect distribution, or a poor approximation (or and incorrect test) might lead to wrong conclusions.** "
   ]
  },
  {
   "cell_type": "markdown",
   "metadata": {},
   "source": [
    "### Testing the difference between two means, small sample case\n",
    "**Example at the beginning of section 6.7 in the textbook.** DNA molecules present in 6 biological solutions are counted. Then, DNA molecules are counted in another 4 solutions which were treated with an enzyme. Is the mean number of DNA molecules different in the two types of solutions?\n",
    "\n",
    "**Sample 1:** $n_x = 6, \\quad x = 33, 30, 26, 22, 37, 34$ **without enzyme**\n",
    "\n",
    "**Sample 2:** $n_y = 4, \\quad x = 22, 29, 25, 23$ **with enzyme**\n",
    "\n",
    "The difference between the mean numbers $D = \\bar{x} - \\bar{y} = 5.58$\n",
    "\n",
    "The variance of D: $\\sigma_D^2 = \\frac{s^2_x}{n_x} + \\frac{s^2_y}{n_y}$\n",
    "\n",
    "The two hypothesis are $H_0$: $D = 0$ and $H_1$: $D \\neq 0$\n",
    "\n",
    "The t statistic: $t = \\frac{Observed\\,D - Expected\\,D}{std.of\\,D} = \\frac{(\\bar{x} - \\bar{y} - 0)}{\\sqrt{\\frac{s^2_x}{n_x} + \\frac{s^2_y}{n_y}}} = 2.038$ **How many DOF v?**"
   ]
  },
  {
   "cell_type": "markdown",
   "metadata": {},
   "source": [
    "### Welch formula \n",
    "The number DOF, often denoted by v, is calculated with the Welch formula. \n",
    "\n",
    "$$v = \\frac{(\\frac{s^2_x}{n_x} + \\frac{s^2_y}{n_y})^2}{\\frac{(\\frac{s^2_x}{n_x})^2}{n_x - 1} + \\frac{(\\frac{s^2_y}{n_y})^2}{n_y - 1}}$$\n",
    "\n",
    "Here we obtain v = 7.89, but often a software uses the nearest integer or the nearest smaller integer (depending on the software)\n",
    "\n",
    "However the t distribution can also be used for non-integer DOF. "
   ]
  },
  {
   "cell_type": "markdown",
   "metadata": {},
   "source": [
    "### Get the p-value\n",
    "Lets calculate the p-value. We have a 2-sided test with a t distribution with 7.89 DOF. Make your own graph of the t-distribution and the right and left tails to complete your understanding. \n",
    "\n",
    "R: 2 * pt(-2.038, 7.89) = 2 * (1 - pt(2.038, 7.89)) = 0.0764"
   ]
  },
  {
   "cell_type": "markdown",
   "metadata": {},
   "source": [
    "### Implementation of this t test in R and Excel\n",
    "**R:**\n",
    "\n",
    "x = c(33,30,26,22,37,34)\n",
    "\n",
    "y = c(22,29,25,23)\n",
    "\n",
    "t.test(x,y)"
   ]
  },
  {
   "cell_type": "markdown",
   "metadata": {},
   "source": [
    "### Three types of t test\n",
    "Options for t test when comparing two samples:\n",
    "\n",
    "1. Unequal variances - the most common. The std. of the **mean** diffrence is calculated as $\\sigma_{\\bar{x} - \\bar{y}} = \\sqrt{\\frac{s^2_x}{n_x} + \\frac{s^2_y}{n_y}}$\n",
    "2. Equal variances - when this information is known. In this case variance is calculated by putting all data in one sample and the software uses: $\\sigma_x = \\sigma_y = \\sqrt{\\frac{1}{n_x + n_y - 2}[ \\sum_i (x_i - \\bar{x})^2 + \\sum_j (y_j - \\bar{y})^2]}$\n",
    "3. Paired data. x and y have the same number of elements and the data consists in the *differences* between pairs of data points $x_i - y_i$. The software uses $\\sigma_{\\bar{x} - \\bar{y}} = \\sqrt{\\frac{1}{n(n - 1)} \\sum_{i = 1}^n [(x_i - y_i) - (\\bar{x} - \\bar{y})]^2}$"
   ]
  },
  {
   "cell_type": "markdown",
   "metadata": {},
   "source": [
    "### More on t test with paired data\n",
    "X data with n values: $x_1, x_2, ... x_n$\n",
    "\n",
    "Y data with n values: $y_1, y_2, ... y_n$\n",
    "\n",
    "We have the same number of data points for X and Y, equal to n. \n",
    "\n",
    "**In a paired sample t-test, each subject or element is measured twice, resulting in pairs of observations. The X and Y data must be logically paired.**\n",
    "\n",
    "For example: X corresponds to one situation and Y corresponds to another situation of the same object, or of the same individual, or at the same place, etc. Like before and after a certain treatment, or action, etc., on the same object. "
   ]
  },
  {
   "cell_type": "markdown",
   "metadata": {},
   "source": [
    "### Chi-squared tests\n",
    " - Goodness-of-fit (GOF) test\n",
    " - Test of homogeneity\n",
    " - Test of independance "
   ]
  },
  {
   "cell_type": "markdown",
   "metadata": {},
   "source": [
    "### Catogorical data \n",
    "- The data describes different categories or groups. For example: \n",
    "    - Girls and boys (2 categories)\n",
    "    - Low, medium, high\n",
    "    - Yellow, blue, red, green (4 categories)\n",
    "- A large class of tests are performed to compare how many elements are observed in different groups with the expected numbers"
   ]
  },
  {
   "cell_type": "markdown",
   "metadata": {},
   "source": [
    "### Z test of two categories\n",
    "In our course we have N = 222 students: G = 86 girls and B = 136 boys. Is the observed gender difference statistically significant?\n",
    "\n",
    "We can use the z-test method for proportions. Consider p the proportion of girls and 1 - p proportions of boys. \n",
    "\n",
    "$H_0: p = 0.5\\,,\\, or\\, G = B$ but possibly slightly different due to statistical randomness.\n",
    "\n",
    "$H_0: p \\neq 0.5\\,,\\, or\\, G \\neq B$ meaning truly different\n",
    "\n",
    "We observe $\\hat{p} = \\frac{G}{N} = \\frac{86}{222} = 0.387$  the z-score is $z = \\frac{\\hat{p} - p}{\\sigma_{\\hat{p}}}$ with $\\sigma_{\\hat{p}} = \\sqrt{\\frac{p(1 - p)}{N}}$\n",
    "\n",
    "We obtain $z = -3.36$ and a two-sided $p-value = 0.00079$\n",
    "\n",
    "Conclusion: Yes, there is a significant gender imbalance, thus we reject $H_0$."
   ]
  },
  {
   "cell_type": "markdown",
   "metadata": {},
   "source": [
    "### The chi-square method\n",
    "- The observed number are $O_g = G = 86$ girls and $O_b = B = 136$ boys.\n",
    "- The expected numbers are $E_g = \\frac{N}{2} = 111$ girls and $E_b = \\frac{N}{2} = 111$ boys. \n",
    "- Calculate the number\n",
    "\n",
    "$$\\chi^2 = \\frac{(O_g - E_g)^2}{E_g} + \\frac{(O_b - E_b)^2}{E_b} = 11.26$$ \n",
    "\n",
    "- This value is excatly $z^2$ from the z-test. *Exercise:* show that this is true for any numbers $G + B = N$ (do calculation with letters).\n",
    "- Remember that if z follows a standard norma distribution then $z^2$ follows a chi-square distribution with one DOF $\\chi_1^2$\n",
    "- The p-value is the probability that the difference between girls and boys is even larger than observed. That correspons to the tail $\\chi^2 \\gt 11.26$ \n",
    "\n",
    "R: $1 - pchisq(11.26,1) = 0.00079$\n",
    "\n",
    "Python: $1 - chi2.cdf(11.26,1) = 0.00079$"
   ]
  },
  {
   "cell_type": "markdown",
   "metadata": {},
   "source": [
    "### The goodness-of-fit (GOF) test\n",
    "- The chi-square test that we performed for gender balance is called the goodness-of-fit test. It evaluates how well can we describe (or predict) the observed data with a known probability.\n",
    "- We used only 2 categories, girls and boys, and in that case a z-test was possible. That is no longer possible when we have more than 2 categories.\n",
    "- Example from Section 6.10 Table 6.3. A die is rolled 600 times and the observed values for the top face are:"
   ]
  },
  {
   "cell_type": "code",
   "execution_count": 6,
   "metadata": {},
   "outputs": [
    {
     "data": {
      "text/html": [
       "<div>\n",
       "<style scoped>\n",
       "    .dataframe tbody tr th:only-of-type {\n",
       "        vertical-align: middle;\n",
       "    }\n",
       "\n",
       "    .dataframe tbody tr th {\n",
       "        vertical-align: top;\n",
       "    }\n",
       "\n",
       "    .dataframe thead th {\n",
       "        text-align: right;\n",
       "    }\n",
       "</style>\n",
       "<table border=\"1\" class=\"dataframe\">\n",
       "  <thead>\n",
       "    <tr style=\"text-align: right;\">\n",
       "      <th></th>\n",
       "      <th>Category</th>\n",
       "      <th>Observed</th>\n",
       "      <th>Expected</th>\n",
       "    </tr>\n",
       "  </thead>\n",
       "  <tbody>\n",
       "    <tr>\n",
       "      <th>0</th>\n",
       "      <td>1</td>\n",
       "      <td>115</td>\n",
       "      <td>100</td>\n",
       "    </tr>\n",
       "    <tr>\n",
       "      <th>1</th>\n",
       "      <td>2</td>\n",
       "      <td>97</td>\n",
       "      <td>100</td>\n",
       "    </tr>\n",
       "    <tr>\n",
       "      <th>2</th>\n",
       "      <td>3</td>\n",
       "      <td>91</td>\n",
       "      <td>100</td>\n",
       "    </tr>\n",
       "    <tr>\n",
       "      <th>3</th>\n",
       "      <td>4</td>\n",
       "      <td>101</td>\n",
       "      <td>100</td>\n",
       "    </tr>\n",
       "    <tr>\n",
       "      <th>4</th>\n",
       "      <td>5</td>\n",
       "      <td>110</td>\n",
       "      <td>100</td>\n",
       "    </tr>\n",
       "    <tr>\n",
       "      <th>5</th>\n",
       "      <td>6</td>\n",
       "      <td>86</td>\n",
       "      <td>100</td>\n",
       "    </tr>\n",
       "    <tr>\n",
       "      <th>6</th>\n",
       "      <td>Total</td>\n",
       "      <td>600</td>\n",
       "      <td>600</td>\n",
       "    </tr>\n",
       "  </tbody>\n",
       "</table>\n",
       "</div>"
      ],
      "text/plain": [
       "  Category  Observed  Expected\n",
       "0        1       115       100\n",
       "1        2        97       100\n",
       "2        3        91       100\n",
       "3        4       101       100\n",
       "4        5       110       100\n",
       "5        6        86       100\n",
       "6    Total       600       600"
      ]
     },
     "execution_count": 6,
     "metadata": {},
     "output_type": "execute_result"
    }
   ],
   "source": [
    "import pandas as pd\n",
    "\n",
    "df = pd.read_csv(\"datasets/Ch6/table6.3.csv\", index_col=False)\n",
    "\n",
    "df"
   ]
  },
  {
   "cell_type": "markdown",
   "metadata": {},
   "source": [
    "The question is: Is this die fair?\n",
    "\n",
    "For a fair die the expected numbers are all equal to 100, corresponding to the constant probability 1/6 for each face.  But there might be some fluctuations.\n",
    "\n",
    "(In general, in a goodness-of-fit test, we can have different probabilities for each expected number, but here they are all 1/6.)\n"
   ]
  },
  {
   "cell_type": "markdown",
   "metadata": {},
   "source": [
    "### $H_0$, $H_1$, and the chi-square number\n",
    "$H_0$:  observed numbers = expected numbers  ($\\pm$ some random fluctuations)\n",
    "\n",
    "$H_1$: observed numbers $\\neq$ expected numbers  (meaning a systematic difference)\n",
    "\n",
    "We use the observed (O) and expected (E) numbers  from each cell i=1,6 and calculate:\n",
    "\n",
    "$$\\chi^2 = \\sum_{i = 1}^6 \\frac{O_i - E_i}{E_i} = 6.12$$ \n",
    "\n",
    "This number has a chi-square distribution with $6 - 1 = 5$ degrees of freedom.  \n",
    "\n",
    "The number of DOF is the number of cells –1.\n",
    "\n",
    "Find the p-value \n",
    "\n",
    "$1 - pchisq(6.12, 5) = 0.29 > 0.05 \\Rightarrow$ Accept $H_0$ the die can be considered fair"
   ]
  },
  {
   "cell_type": "code",
   "execution_count": 7,
   "metadata": {},
   "outputs": [
    {
     "name": "stdout",
     "output_type": "stream",
     "text": [
      "Power_divergenceResult(statistic=6.12, pvalue=0.29471693654506914)\n",
      "Power_divergenceResult(statistic=6.12, pvalue=0.29471693654506914)\n",
      "0.29471693654506914\n",
      "0.043035946898983046\n"
     ]
    }
   ],
   "source": [
    "from scipy.stats import chi2, chisquare\n",
    "\n",
    "obs = [115, 97, 91, 101, 110, 86]\n",
    "exp = [100, 100, 100, 100, 100, 100]\n",
    "\n",
    "print(chisquare(f_obs=obs))\n",
    "\n",
    "print(chisquare(f_obs=obs, f_exp=exp))\n",
    "\n",
    "\n",
    "print(1 - chi2.cdf(6.12, 5))\n",
    "\n",
    "print(1 - chi2.cdf(13,6))"
   ]
  },
  {
   "cell_type": "markdown",
   "metadata": {},
   "source": [
    "The graphical representation of the p-valueA chi square test is always a two-sided test, because the $\\chi^2$ number is always positive. It represents the squared deviation between the observed and expected data. Therefore the sign or the direction of the deviation is not seen. However, if we want a 1-sided p-value we can divide the 2-sided p-value by 2."
   ]
  },
  {
   "cell_type": "markdown",
   "metadata": {},
   "source": []
  },
  {
   "cell_type": "markdown",
   "metadata": {},
   "source": [
    "### The Chi-square test for homogeneity\n",
    "Section 6.10, Example 6.22. The observed number of steel pins produced by several machines are classified in the following contingency table (tabla 6.4)"
   ]
  },
  {
   "cell_type": "code",
   "execution_count": 8,
   "metadata": {},
   "outputs": [
    {
     "data": {
      "text/html": [
       "<div>\n",
       "<style scoped>\n",
       "    .dataframe tbody tr th:only-of-type {\n",
       "        vertical-align: middle;\n",
       "    }\n",
       "\n",
       "    .dataframe tbody tr th {\n",
       "        vertical-align: top;\n",
       "    }\n",
       "\n",
       "    .dataframe thead th {\n",
       "        text-align: right;\n",
       "    }\n",
       "</style>\n",
       "<table border=\"1\" class=\"dataframe\">\n",
       "  <thead>\n",
       "    <tr style=\"text-align: right;\">\n",
       "      <th></th>\n",
       "      <th>Machines</th>\n",
       "      <th>Too thin</th>\n",
       "      <th>OK</th>\n",
       "      <th>Too thick</th>\n",
       "      <th>Total</th>\n",
       "    </tr>\n",
       "  </thead>\n",
       "  <tbody>\n",
       "    <tr>\n",
       "      <th>0</th>\n",
       "      <td>Machine 1</td>\n",
       "      <td>10</td>\n",
       "      <td>102</td>\n",
       "      <td>8</td>\n",
       "      <td>120</td>\n",
       "    </tr>\n",
       "    <tr>\n",
       "      <th>1</th>\n",
       "      <td>Machine 2</td>\n",
       "      <td>34</td>\n",
       "      <td>161</td>\n",
       "      <td>5</td>\n",
       "      <td>200</td>\n",
       "    </tr>\n",
       "    <tr>\n",
       "      <th>2</th>\n",
       "      <td>Machine 3</td>\n",
       "      <td>12</td>\n",
       "      <td>79</td>\n",
       "      <td>9</td>\n",
       "      <td>100</td>\n",
       "    </tr>\n",
       "    <tr>\n",
       "      <th>3</th>\n",
       "      <td>Machine 4</td>\n",
       "      <td>10</td>\n",
       "      <td>60</td>\n",
       "      <td>10</td>\n",
       "      <td>80</td>\n",
       "    </tr>\n",
       "    <tr>\n",
       "      <th>4</th>\n",
       "      <td>Total</td>\n",
       "      <td>66</td>\n",
       "      <td>402</td>\n",
       "      <td>32</td>\n",
       "      <td>500</td>\n",
       "    </tr>\n",
       "  </tbody>\n",
       "</table>\n",
       "</div>"
      ],
      "text/plain": [
       "    Machines  Too thin   OK  Too thick  Total\n",
       "0  Machine 1        10  102          8    120\n",
       "1  Machine 2        34  161          5    200\n",
       "2  Machine 3        12   79          9    100\n",
       "3  Machine 4        10   60         10     80\n",
       "4      Total        66  402         32    500"
      ]
     },
     "execution_count": 8,
     "metadata": {},
     "output_type": "execute_result"
    }
   ],
   "source": [
    "import numpy as np\n",
    "import pandas as pd \n",
    "from scipy.stats import chisquare, chi2_contingency\n",
    "\n",
    "df = pd.read_csv(\"datasets/Ch6/table6.4.csv\", names=[\"Machines\", \"Too thin\", \"OK\", \"Too thick\", \"Total\"], header=0, index_col=False)\n",
    "df"
   ]
  },
  {
   "cell_type": "markdown",
   "metadata": {},
   "source": [
    "The question is: Can we claim that the machines 1-4 give similar proportions of thin, Ok, and thick pins? In other words is this group of machines **homogenous**?\n",
    "\n",
    "For ex. suppose one machine produces 10% too thin, 80% Ok, 10% too thick. Are these numbers valid for all machines?"
   ]
  },
  {
   "cell_type": "markdown",
   "metadata": {},
   "source": [
    "### $H_0$ and $H_1$\n",
    "- We look at the numbers in a raw and think about a probability distribution behind these numbers.\n",
    "- Remember the die. In that case we had only one row and the numbers were expected to be consistent with a probability $\\frac{1}{6}$ \n",
    "- Now we have several rows and the probabilities are not known, but we can guess them by combining rows and columns and looking at proportions\n",
    "\n",
    "$H_0$: The proportions of thin-OK-thick pins are the same for all machines. Or, more generally, the probability distribution of the numbers in a row is the same for each row.\n",
    "\n",
    "$H_1$: These probability distributions are different. They depend on the row"
   ]
  },
  {
   "cell_type": "markdown",
   "metadata": {},
   "source": [
    "### How do we calculate the expected numbers\n",
    "Assuming the null hypothesis $H_0$ the machines are not different. If so, we use the observed data in each cell $O_{ij}$ (i for rows, j for columns) to find the probabilities.\n",
    "\n",
    "P(thin) = $\\frac{66}{500}$, P(OK) = $\\frac{402}{500}$, P(thick) = $\\frac{32}{500}$ \n",
    "\n",
    "The expected values in each cell $E_{ij}$ are given by these probabilities multiplied with the total number of machines of type i. For example:\n",
    "\n",
    "$E_{11} = P(thin) \\times\\, Total\\,M1 = \\frac{66}{500} \\times 120 = 15.84$\n",
    "\n",
    "$E_{21} = P(thin) \\times\\, Total\\,M2 = \\frac{66}{500} \\times 200 = 26.40$\n",
    "\n",
    "$E_{22} = P(OK) \\times\\, Total\\,M2 = \\frac{402}{500} \\times 200 = 160.80$\n",
    "\n",
    "$E_{23} = P(thick) \\times\\, Total\\,M2 = \\frac{32}{500} \\times 200 = 12.80$\n",
    "\n",
    "In general: $E_{ij} = \\frac{1}{total\\,pins} (\\sum_j O_{ij}) (\\sum_i O_{ij})$"
   ]
  },
  {
   "cell_type": "markdown",
   "metadata": {},
   "source": [
    "### Calculate the test statistic \n",
    "Next steps is to calculate the statistics for this test which is\n",
    "\n",
    "$\\chi^2 = \\sum_{i = 1}^n \\sum_{j = 1}^m \\frac{(O_{ij} - E_{ij})^2}{E_{ij}} = 15.84$\n",
    "\n",
    "This number has a chi-square distribution with (n - 1)(m - 1) DOF, n = number of rows, m = number of columns. Here (4 - 1)(3 - 1) = 6 DOF \n",
    "\n",
    "Observe that the rows ant the columns of the data matrix can be switched and we get the same $\\chi^2$. In fact we could transpose our matrix and reformulate the problem for the probabilites of a certain pin diameter produced by each machine. \n",
    "\n",
    "The p-value = 1 - chi2.cdf(15.84, 6) = 0.0146 < 0.05\n",
    "\n",
    "*Conclusion:* The proportions of thin-Ok-thick pins differ between machines. Reject $H_0$"
   ]
  },
  {
   "cell_type": "code",
   "execution_count": 9,
   "metadata": {},
   "outputs": [
    {
     "name": "stdout",
     "output_type": "stream",
     "text": [
      "(15.584353328056686, 0.01616760116149423, 6, array([[ 15.84,  96.48,   7.68],\n",
      "       [ 26.4 , 160.8 ,  12.8 ],\n",
      "       [ 13.2 ,  80.4 ,   6.4 ],\n",
      "       [ 10.56,  64.32,   5.12]]))\n",
      "0.016169816116471503\n"
     ]
    },
    {
     "data": {
      "text/html": [
       "<div>\n",
       "<style scoped>\n",
       "    .dataframe tbody tr th:only-of-type {\n",
       "        vertical-align: middle;\n",
       "    }\n",
       "\n",
       "    .dataframe tbody tr th {\n",
       "        vertical-align: top;\n",
       "    }\n",
       "\n",
       "    .dataframe thead th {\n",
       "        text-align: right;\n",
       "    }\n",
       "</style>\n",
       "<table border=\"1\" class=\"dataframe\">\n",
       "  <thead>\n",
       "    <tr style=\"text-align: right;\">\n",
       "      <th></th>\n",
       "      <th>Too thin</th>\n",
       "      <th>OK</th>\n",
       "      <th>Too thick</th>\n",
       "    </tr>\n",
       "  </thead>\n",
       "  <tbody>\n",
       "    <tr>\n",
       "      <th>0</th>\n",
       "      <td>10</td>\n",
       "      <td>102</td>\n",
       "      <td>8</td>\n",
       "    </tr>\n",
       "    <tr>\n",
       "      <th>1</th>\n",
       "      <td>34</td>\n",
       "      <td>161</td>\n",
       "      <td>5</td>\n",
       "    </tr>\n",
       "    <tr>\n",
       "      <th>2</th>\n",
       "      <td>12</td>\n",
       "      <td>79</td>\n",
       "      <td>9</td>\n",
       "    </tr>\n",
       "    <tr>\n",
       "      <th>3</th>\n",
       "      <td>10</td>\n",
       "      <td>60</td>\n",
       "      <td>10</td>\n",
       "    </tr>\n",
       "  </tbody>\n",
       "</table>\n",
       "</div>"
      ],
      "text/plain": [
       "   Too thin   OK  Too thick\n",
       "0        10  102          8\n",
       "1        34  161          5\n",
       "2        12   79          9\n",
       "3        10   60         10"
      ]
     },
     "execution_count": 9,
     "metadata": {},
     "output_type": "execute_result"
    }
   ],
   "source": [
    "import numpy as np\n",
    "import pandas as pd \n",
    "from scipy.stats import chisquare, chi2_contingency\n",
    "\n",
    "df = pd.read_csv(\"datasets/Ch6/table6.4.csv\", names=[\"Machines\", \"Too thin\", \"OK\", \"Too thick\", \"Total\"], header=0, index_col=False)\n",
    "\n",
    "df2 = df[0:4].drop(columns=[\"Total\", \"Machines\"])\n",
    "\n",
    "print(chi2_contingency(df2, correction=True))\n",
    "\n",
    "print(1 - chi2.cdf(15.584, 6))\n",
    "\n",
    "df2\n",
    "\n",
    "\n"
   ]
  },
  {
   "cell_type": "markdown",
   "metadata": {},
   "source": [
    "### The Chi-square test for independence \n",
    "Example 6.23. The steel pins are now classified by length and diameter. "
   ]
  },
  {
   "cell_type": "code",
   "execution_count": 10,
   "metadata": {},
   "outputs": [
    {
     "data": {
      "text/html": [
       "<div>\n",
       "<style scoped>\n",
       "    .dataframe tbody tr th:only-of-type {\n",
       "        vertical-align: middle;\n",
       "    }\n",
       "\n",
       "    .dataframe tbody tr th {\n",
       "        vertical-align: top;\n",
       "    }\n",
       "\n",
       "    .dataframe thead th {\n",
       "        text-align: right;\n",
       "    }\n",
       "</style>\n",
       "<table border=\"1\" class=\"dataframe\">\n",
       "  <thead>\n",
       "    <tr style=\"text-align: right;\">\n",
       "      <th></th>\n",
       "      <th>Defects</th>\n",
       "      <th>Too thin</th>\n",
       "      <th>OK</th>\n",
       "      <th>Too thick</th>\n",
       "      <th>Total</th>\n",
       "    </tr>\n",
       "  </thead>\n",
       "  <tbody>\n",
       "    <tr>\n",
       "      <th>0</th>\n",
       "      <td>Too short</td>\n",
       "      <td>13</td>\n",
       "      <td>117</td>\n",
       "      <td>4</td>\n",
       "      <td>134</td>\n",
       "    </tr>\n",
       "    <tr>\n",
       "      <th>1</th>\n",
       "      <td>OK</td>\n",
       "      <td>62</td>\n",
       "      <td>664</td>\n",
       "      <td>80</td>\n",
       "      <td>806</td>\n",
       "    </tr>\n",
       "    <tr>\n",
       "      <th>2</th>\n",
       "      <td>Too long</td>\n",
       "      <td>5</td>\n",
       "      <td>68</td>\n",
       "      <td>8</td>\n",
       "      <td>81</td>\n",
       "    </tr>\n",
       "  </tbody>\n",
       "</table>\n",
       "</div>"
      ],
      "text/plain": [
       "     Defects  Too thin   OK  Too thick  Total\n",
       "0  Too short        13  117          4    134\n",
       "1         OK        62  664         80    806\n",
       "2   Too long         5   68          8     81"
      ]
     },
     "execution_count": 10,
     "metadata": {},
     "output_type": "execute_result"
    }
   ],
   "source": [
    "import pandas as pd\n",
    "\n",
    "df = pd.read_csv(\"datasets/Ch6/exm6-23.csv\", names=[\"Defects\", \"Too thin\", \"OK\", \"Too thick\", \"Total\"], header=0)\n",
    "\n",
    "df[0:3]"
   ]
  },
  {
   "cell_type": "markdown",
   "metadata": {},
   "source": [
    "Can we claim that the diameter and length are independent variables? \n",
    "\n",
    "$H_0:$ Yes, they are. That means $P(line\\,i \\cap column\\,j) = P(line\\,i) \\times P(column\\,j)$ for any i and j\n",
    "\n",
    "$H_1:$ No, they are not. That means $P(line\\,i \\cap column\\,j) \\neq P(line\\,i) \\times P(column\\,j)$ at least for some i and j "
   ]
  },
  {
   "cell_type": "markdown",
   "metadata": {},
   "source": [
    "### Implementation\n",
    "- Technically the test for independence is similar to the test for homogeneity. \n",
    "- Only the interpretation of the test is (more or less) different \n",
    "- $H_0$ will be rejected, and the variables will not be considered independent, if the p-value < 0.05  \n",
    "- Do the test yourselves, like in the case of the test for the homogeneity, and obtain:\n",
    "\n",
    "$$\\chi^2 = 7.46505\\,, DOF = 4\\,, p-value = 0.1135 \\gt 0.05$$\n",
    "\n",
    "- Conclusion: the length and diameter can be considered independent. $H_0$ accepted."
   ]
  },
  {
   "cell_type": "code",
   "execution_count": 11,
   "metadata": {},
   "outputs": [
    {
     "name": "stdout",
     "output_type": "stream",
     "text": [
      "(7.4605304872121865, 0.11346237829192939, 4, array([[ 10.49951028, 111.42605289,  12.07443683],\n",
      "       [ 63.15377081, 670.21939275,  72.62683643],\n",
      "       [  6.3467189 ,  67.35455436,   7.29872674]]))\n"
     ]
    }
   ],
   "source": [
    "import pandas as pd\n",
    "import numpy as np\n",
    "from scipy.stats import chisquare, chi2_contingency\n",
    "\n",
    "df = pd.read_csv(\"datasets/Ch6/exm6-23.csv\", names=[\"Defects\", \"Too thin\", \"OK\", \"Too thick\", \"Total\"], header=0)\n",
    "\n",
    "df2 = df[0:3].drop(columns=[\"Total\", \"Defects\"])\n",
    "\n",
    "df2\n",
    "print(chi2_contingency(df2))\n"
   ]
  },
  {
   "cell_type": "markdown",
   "metadata": {},
   "source": [
    "### The multiple testing problem\n",
    "Measure brain signals in brain region $\\alpha$. If there is no action -> background activity $x = ...$. With action -> increased activity $y = ...$ and I know $\\bar{y} \\gt \\bar{x}$\n",
    "\n",
    "x is represented by 10 random numbers in the uniform distribution, background noice (0,1). \n",
    "\n",
    "y is represented by 10 random numbers in the unirform distribution (0,1) + 0.5. \n",
    "\n",
    "We get a significant value from the paired ttest. p = 0.0039. This is a significant change in signal.\n",
    "\n",
    "Now we want to test other regions of the brain so our research is based on multiple testing research. \n",
    "\n"
   ]
  },
  {
   "cell_type": "code",
   "execution_count": 12,
   "metadata": {},
   "outputs": [
    {
     "name": "stdout",
     "output_type": "stream",
     "text": [
      "[0.0003137747040350692, 0.0016652471415034347, 0.0017392314348070451, 0.0032481139623964793, 0.00472767089388486, 0.005205525321265917, 0.00794610682373038, 0.010804538593441009, 0.011127919007178862, 0.013069098374896783, 0.014748637740886203, 0.015132810790827877, 0.015229157259076184, 0.015384769940984127, 0.016481907194042775, 0.016650839948899092, 0.016691059017389806, 0.016915867573311868, 0.01729998284005443, 0.020324970138267902, 0.02092611975026326, 0.02122806066835742, 0.021261462374106938, 0.022351218406819858, 0.024118285513766744, 0.024598639059562184, 0.026711454223385174, 0.027285320071866986, 0.02825945602699424, 0.028448315478931847, 0.029573646517481473, 0.030084197805024217, 0.030548315596983365, 0.031303268111860266, 0.032349143569342854, 0.03313349333967702, 0.03317875645513633, 0.03387170177842716, 0.03647523047204545, 0.036915079437473804, 0.03793735935887112, 0.03940690043217947, 0.03979783200263994, 0.04106931617613868, 0.04167018410304741, 0.044497530832651, 0.04592742977710414, 0.04708051262512677, 0.048705087210729595, 0.04901705304973872, 0.04969132961290385, 0.05079647849748625, 0.052138570445327936, 0.052681450428850626, 0.055694406310554403, 0.05579098493105556, 0.05594663152264107, 0.056511840568328656, 0.05656652599870743, 0.057135009383143566, 0.06254477023833625, 0.06293018139955434, 0.06331630069853468, 0.06348760752447181, 0.06400675148907511, 0.06466974245418017, 0.06494322744318483, 0.06570288988356947, 0.066125539163946, 0.06938344278227102, 0.06944036167401477, 0.0730473707056554, 0.07361643419209535, 0.07432303093507987, 0.07483881968166642, 0.07609730149529989, 0.08087320982472586, 0.08095990968234001, 0.08338676316553573, 0.08349824049372324, 0.08649283283930993, 0.08775056109939618, 0.08870455393052816, 0.08871331169612467, 0.08943070027849277, 0.08949992298802935, 0.08992997992237244, 0.09146290078436055, 0.09204660724043048, 0.09246281858025907, 0.09427187878559272, 0.09459088815991905, 0.09469058321443213, 0.09583576109528784, 0.09695349568755955, 0.09728765131050247, 0.09949820274863855, 0.1000723501950471, 0.10044060823069523, 0.10072949686602034, 0.10158414462487486, 0.10186982496673944, 0.10219043848303057, 0.10516256457958535, 0.10605577684821499, 0.10657195061045546, 0.10657939928648635, 0.10682881963280463, 0.10703335779486846, 0.10759218680007797, 0.10859069137778746, 0.1094740034945899, 0.10971740896858438, 0.11233702976810706, 0.11315597867876058, 0.11322192196623476, 0.11325929012190701, 0.11359104215208199, 0.11453315047319693, 0.11457545790100829, 0.1153313396065474, 0.11551608736700461, 0.11568479628502452, 0.11967841310796551, 0.12356301432670479, 0.12477358544864438, 0.12481443639098877, 0.12545214160971524, 0.12549747731016753, 0.12558706990402033, 0.12733328806709227, 0.13160223966705245, 0.1320640408169731, 0.13219428684770348, 0.13224833356755872, 0.13285121523929203, 0.13500394279717035, 0.1370862029698459, 0.1373812561029571, 0.1374255877270837, 0.1394594034295234, 0.1398338564129628, 0.14011283627157584, 0.14016139999709756, 0.14064658894082355, 0.14214077096333277, 0.14330726035184335, 0.1456528644995464, 0.14655758559885929, 0.1465674381804146, 0.1469854463553935, 0.1471258304279302, 0.14742487914747396, 0.1481365486931659, 0.14910636586126158, 0.14915327553628224, 0.15072629261608614, 0.152667293571229, 0.15480520707012238, 0.15604855119918432, 0.15710684227389587, 0.15717932568061346, 0.15823728187087133, 0.15951214209296172, 0.159694071784019, 0.16237924622475455, 0.16251071992626048, 0.1640751782078224, 0.16575479229383974, 0.16609720016233268, 0.1666891760708616, 0.1683996706262877, 0.1694623874611486, 0.16969400738324564, 0.17064805039395925, 0.1706580348793629, 0.17128734868332718, 0.17167209824902283, 0.17804453009455476, 0.18096054618955096, 0.1832806858690038, 0.18416033794912398, 0.18461032037136088, 0.18550747692849465, 0.18734558103870444, 0.18852241702492495, 0.18862484390157666, 0.1894331304724986, 0.19070829165978337, 0.19216086950303657, 0.19223727394241794, 0.19304973391522554, 0.1938787890430845, 0.19510123277754315, 0.19511180327841088, 0.19524186681899003, 0.19566503491406442, 0.1958467196344722, 0.19635203433735796, 0.19857846562147596, 0.1989690885652465, 0.19944081455070498, 0.2000599450173471, 0.20241183516552522, 0.20269704880930442, 0.20440309053509526, 0.20444331624580708, 0.20482626175767416, 0.2049085198318379, 0.20583112484948032, 0.20585504794595655, 0.20643677835368768, 0.2064921100719602, 0.20677867194625865, 0.20737592097074467, 0.21162592733774224, 0.21228528169016325, 0.21366072855409074, 0.214375674464007, 0.2171210118007302, 0.21772930404240118, 0.21799346431581018, 0.21813328703559864, 0.21928518239334877, 0.21936042613863138, 0.21954105621650416, 0.22130559799704855, 0.22235111307854227, 0.22457231598110686, 0.22902821288570105, 0.22916815741746774, 0.23025189709787358, 0.2312658622219247, 0.2312823493117568, 0.2338527820781215, 0.23549021029857745, 0.23801113839259364, 0.23934125809414103, 0.24289889883544433, 0.24320220385407035, 0.24343439313283086, 0.2469008891645824, 0.24713216886519485, 0.25018302416666766, 0.251816270404237, 0.2541043159742732, 0.2546744982183014, 0.2567846059580151, 0.25837652769401465, 0.25873191036346455, 0.25892873112639025, 0.2591220404938244, 0.25962770588611295, 0.2605674176960166, 0.2607383527152614, 0.2616051683490757, 0.2620956604528156, 0.2629800565379871, 0.2641230385394032, 0.2665398085801443, 0.26778867714897425, 0.2679525022999525, 0.2680233942206209, 0.2686446780178021, 0.26880458629934084, 0.26950776104189667, 0.27018574382263416, 0.2709246922053581, 0.27570409140176705, 0.2768423847200771, 0.28095514402795474, 0.2836584547196503, 0.2848246802993159, 0.2856339871762473, 0.28797690925532077, 0.2888201753066747, 0.28904319721124505, 0.2894143737420599, 0.2919594768872988, 0.29203799496045185, 0.29357053709497555, 0.2941364457184992, 0.29480897437270825, 0.2961840755033439, 0.2989211647724813, 0.298950073179159, 0.30200225951576065, 0.30305366876364026, 0.30475731317955873, 0.3058612364310722, 0.30619050106824824, 0.30737238553768137, 0.3080846471279656, 0.30952475131903484, 0.309731205164739, 0.3104877075971722, 0.31101175151755, 0.31108802248150497, 0.31136696505689426, 0.3134272209629602, 0.3139626187345274, 0.31399276531393494, 0.31404769809929234, 0.3147044215716558, 0.31718481993665393, 0.31726562132933955, 0.31958081562937074, 0.3198971202589426, 0.32060834628740015, 0.32093598262621376, 0.32168086596497936, 0.3230518323312794, 0.327903073526628, 0.3283561406298434, 0.32933981857757283, 0.329757035887727, 0.33010520438285923, 0.3303511783887691, 0.33067851009755034, 0.33141394956904674, 0.33252271330378697, 0.33282563746462956, 0.3328332032600134, 0.3333322579217339, 0.3342696323884223, 0.33469196822403596, 0.33585108772358985, 0.3367687038705922, 0.3420126078906729, 0.3426398133570979, 0.3433279174507054, 0.3434432953597407, 0.34452701898107085, 0.3453097081855885, 0.34872040254044046, 0.3490010763948358, 0.3504644381841626, 0.3505809922906524, 0.3506400988957724, 0.35080106707767367, 0.3509685728184908, 0.35341875126950606, 0.3541242256124397, 0.3544332995660383, 0.3545839340339053, 0.35490573156018723, 0.3553671133864398, 0.3556156384685262, 0.35609992372455745, 0.356334368813655, 0.35663536241063976, 0.3571644424553533, 0.35829667068274373, 0.358540897178515, 0.35861156446820874, 0.3603973282970854, 0.36124292205545927, 0.3612748818944471, 0.3614021336465906, 0.36222887069665755, 0.36326416724367305, 0.3636850128738882, 0.36369184362067863, 0.3654809754538947, 0.3657597962958651, 0.3679355610801046, 0.3705464170507936, 0.3723441137950223, 0.3773893617789419, 0.3776899728416713, 0.37838399936348177, 0.3788187203021891, 0.38060651716717864, 0.3807751919408825, 0.38405128913153597, 0.3865895417426668, 0.38777050768947974, 0.38783514840221833, 0.3886066997957265, 0.3905698136543234, 0.39419238626741926, 0.39495020222127686, 0.3959581232090946, 0.3963846549314862, 0.39645984418468094, 0.39727438209349364, 0.3987358083455017, 0.4003504605920394, 0.4006497218252224, 0.40115526676984825, 0.4016014641774962, 0.4021095779751447, 0.4036803329604135, 0.4050255270061234, 0.4054162852139044, 0.4097596319412833, 0.41061666841104594, 0.41198053134604407, 0.4127556282922986, 0.41301090725052203, 0.4152738219738682, 0.4179400095686562, 0.4199623356180877, 0.42063206634737227, 0.42240022146542877, 0.4229424695302205, 0.4241676103687818, 0.42458911660629495, 0.4248013079253724, 0.4249909901808593, 0.42699524861507265, 0.427114677190804, 0.4274082931493811, 0.42773862844626265, 0.42829071436492483, 0.4284598115255329, 0.4287670159885413, 0.4290726538718921, 0.43090996566629847, 0.4319202733832699, 0.43221230013148304, 0.433746474703667, 0.43452165451346203, 0.4349513727146339, 0.4357416682950881, 0.43701404305316527, 0.4375705367088234, 0.4378792695557825, 0.43789143487693893, 0.438959849070662, 0.4401740167399647, 0.4409358372173592, 0.4412870579450421, 0.44139430778720445, 0.4420266428912005, 0.4425837680455874, 0.4426748671776749, 0.4430518553197642, 0.443457944574965, 0.44474607905001695, 0.44538568906298226, 0.4457812879336007, 0.44871607729940743, 0.44887428888655034, 0.4518442554305996, 0.452018679334091, 0.4522948377591567, 0.45280945332432554, 0.45305257669862786, 0.4541351203935525, 0.4561329695829691, 0.457197078494596, 0.4572476121448441, 0.458220222637853, 0.459057601126342, 0.4590741066790889, 0.4592398621556967, 0.4608908744676067, 0.46266219985455503, 0.4634015929433495, 0.4654752362980984, 0.46602342620141746, 0.4663637566542487, 0.46999896526951235, 0.4705411520217224, 0.47181231557129366, 0.47399504002127446, 0.47690115063183147, 0.47753808550541554, 0.4780184116633742, 0.4780720050249947, 0.4784766428114374, 0.4825700188087936, 0.48389104473454214, 0.4887276996215717, 0.4888435286776016, 0.48901620552599523, 0.48934119472427084, 0.4893616907344335, 0.49157470937444214, 0.4925066502887272, 0.49380623880530516, 0.49451049787925005, 0.4954366193316646, 0.49596196943241844, 0.4959748083347998, 0.49639490198829295, 0.49810367671207423, 0.49897950392845525, 0.5017684464748804, 0.5029361439420712, 0.5039639966325333, 0.504318645488689, 0.5050405695415892, 0.5054047675258796, 0.5071494013848615, 0.5085276822638642, 0.5089097316711526, 0.5089391885637433, 0.5101206892504477, 0.5105937079958704, 0.5106027779813146, 0.511059089452121, 0.5121715719335216, 0.5126527188866485, 0.5128336938624343, 0.513505898053195, 0.5150927382935793, 0.5161018703050388, 0.5162276389333507, 0.516523050633789, 0.5175797732231704, 0.518236128048214, 0.5185437880302065, 0.5199392365783029, 0.5207495178701262, 0.5207970275246177, 0.5213114285042806, 0.5216523598422764, 0.5266135155556575, 0.5267555463789109, 0.5275301922303043, 0.5296545070834071, 0.5299043183869658, 0.5311916200229981, 0.5319107423972762, 0.5322856564048896, 0.5336231228351277, 0.5362283318742468, 0.5381352400446444, 0.5382507553491429, 0.5399419097536597, 0.5408418836940934, 0.5413337620078198, 0.5420784690300251, 0.5429178848466986, 0.5429432284808144, 0.5430051097034083, 0.5434219420643819, 0.5442108338753632, 0.5467008347140905, 0.5473754978923423, 0.548725814358964, 0.5502043407180666, 0.5512852388146202, 0.5521611504442494, 0.5524382994912426, 0.5527655251994636, 0.5535011488273506, 0.5548647568508231, 0.5549608692934855, 0.5560174641150967, 0.556154075240632, 0.5567754598420718, 0.5582186714619857, 0.5604294058217375, 0.5604295055552933, 0.56049979177878, 0.5614878819848563, 0.5620366312963897, 0.5635538254367571, 0.5655765696198107, 0.5671014811621327, 0.5671593068741173, 0.5684312485535992, 0.569163300417684, 0.5703727763037947, 0.5705445409024257, 0.570949683217284, 0.5712421656091445, 0.5715323341375915, 0.5733646923946836, 0.576947623137843, 0.5776240399297647, 0.5796534980430071, 0.5796575739692532, 0.5798920498267324, 0.5825118408930785, 0.5832158591669161, 0.5840931718808026, 0.5840972535699386, 0.5845708230842873, 0.5849997112765044, 0.5850856292792344, 0.5861787945061223, 0.5866536332526383, 0.5870761909328068, 0.5872619541232557, 0.587315203668835, 0.5878838015857327, 0.590493165976055, 0.5906897891420309, 0.5931551622533565, 0.5932661903772372, 0.5933020166708702, 0.5941518921772277, 0.5943387040845745, 0.5957392476158543, 0.5959729524328394, 0.5976366118377475, 0.5977571259288792, 0.5984307249301937, 0.5995086604780591, 0.6010303214990091, 0.6011465080216152, 0.6019977855993252, 0.6028186324837086, 0.603341974065059, 0.6040445174399542, 0.6043411214329721, 0.6055594015394392, 0.6064660229070691, 0.6069347947633355, 0.6071243372258863, 0.6076437144394494, 0.6087123935351815, 0.6088267323664577, 0.6093380470764074, 0.6137091455466782, 0.6137297311412229, 0.616246816320397, 0.616792350816293, 0.61732260238561, 0.6189564897971481, 0.6192705855445371, 0.6195446399133565, 0.6211504667385792, 0.6213317092318971, 0.6240850332789342, 0.6247646560683227, 0.6267109908910734, 0.6274016359909007, 0.627528163115415, 0.6281538827773816, 0.628717394198026, 0.628879423897748, 0.6306580320667863, 0.6306953113576806, 0.6308108589680186, 0.6323109861777144, 0.6351380750101014, 0.6377532315142775, 0.6387840670366567, 0.6396457385999301, 0.6419104076846135, 0.6428822006378553, 0.6436598108307912, 0.6440393475590931, 0.6445939661904735, 0.6451336182926211, 0.6451532372987626, 0.6454802710306542, 0.6466736237988336, 0.64782959861855, 0.6478929625549665, 0.6492402281650415, 0.649517576871768, 0.651081894056515, 0.6514359320935825, 0.6544290091344748, 0.655639438464285, 0.6565220174078656, 0.6567707049300617, 0.6575934464046016, 0.6576456701937834, 0.6584324243827924, 0.6606732510816764, 0.661536468808926, 0.662072597771723, 0.6622204367334315, 0.6629029188568547, 0.6673131978561742, 0.6675708067238306, 0.6675981778271971, 0.6679102404730358, 0.6706734039146156, 0.6707111893641569, 0.6728637205242912, 0.672999466681296, 0.6750642878423188, 0.6760074988384519, 0.6775212128226835, 0.6777347662449114, 0.6815496775957433, 0.6816039133631779, 0.6817290521509565, 0.6829259590374341, 0.6834012864539805, 0.6836211273374591, 0.6845542204938547, 0.6864538010500181, 0.687083405649048, 0.6876854078736316, 0.6884530708859332, 0.6897760552691814, 0.6900067127407794, 0.692061048359079, 0.6942198013357843, 0.6980025733133155, 0.6980523508286945, 0.6984049034110955, 0.6984547419539101, 0.6985439949064371, 0.698996345690303, 0.699903593120633, 0.7008850120106649, 0.7026861666352182, 0.7043578440985134, 0.7045772354103109, 0.7061886336659228, 0.7062444120154949, 0.7086683347079921, 0.7093441879887228, 0.7108894203266098, 0.7110163753248173, 0.7111455098093875, 0.7125020193923067, 0.7131158606572787, 0.7133951975094732, 0.7147005230471343, 0.7152657060142095, 0.7163439281942394, 0.7184595124119828, 0.7198465889429475, 0.7210273755537864, 0.7221965448144204, 0.7224520886369545, 0.7232275694190835, 0.7246174219882535, 0.7246638553172167, 0.7250917450164875, 0.7257237894240771, 0.7274423947239311, 0.727837218056426, 0.728132813479114, 0.7285116670854868, 0.729763708243117, 0.7300388275135488, 0.7300583392968145, 0.731509444590301, 0.7326655095707956, 0.7362441202097189, 0.7378074888083974, 0.739947138407365, 0.741372044271284, 0.7414102963450686, 0.7414735925852592, 0.7423545092589201, 0.7423821619776019, 0.7431168092898379, 0.7445794649232673, 0.7497255132723785, 0.7508179856517553, 0.7514330190483447, 0.7517772539428219, 0.7519537548036301, 0.7520416273219013, 0.7559800421398245, 0.7563638841814754, 0.7577984435494344, 0.7587566820772413, 0.7640085638623919, 0.7642188702448311, 0.7655182979471009, 0.7687919305461735, 0.7689532486299165, 0.7706501388271805, 0.7742965066028877, 0.7752280008333629, 0.7757228627750252, 0.7758174961872906, 0.7759938871504598, 0.7760211759195941, 0.776733523793603, 0.7767878355892629, 0.7768265799032259, 0.7770363453942302, 0.7775492381221478, 0.7779376216057357, 0.7788486125708944, 0.7792158602103951, 0.7796107602129984, 0.7798191320580792, 0.7831286569774998, 0.7844713404142416, 0.784987458999449, 0.7850661343475329, 0.7857621484679524, 0.7877362009307222, 0.7882280042332701, 0.7892708848163964, 0.7903106198255968, 0.7913856421459814, 0.7917719717918456, 0.7925393136747895, 0.7941036126690424, 0.7946288518437978, 0.7948022329323192, 0.7951289897584285, 0.7965180011068672, 0.7965746495873693, 0.7974425495122259, 0.7985087206988746, 0.7985317420154645, 0.7993957079215812, 0.8014240512549102, 0.8017977107783991, 0.8037349443006964, 0.8049345556361047, 0.8052341287507149, 0.8054704317784181, 0.8055023232713969, 0.8068303532958485, 0.8087181451406684, 0.8096525246114581, 0.8098257574010153, 0.8113655835102056, 0.8113862285994027, 0.8125788658992887, 0.8174066952427546, 0.8191245717058488, 0.8203271110822652, 0.8216755993534992, 0.822264267121262, 0.8225220072532019, 0.8227496141918558, 0.8230474966170414, 0.8272790381236844, 0.8284309438525989, 0.8316663983269549, 0.8324374317697852, 0.8336986919629751, 0.8370553958276525, 0.8388749646333873, 0.8403354527665057, 0.8409964710268392, 0.8420832001618208, 0.8434963073838248, 0.8448408794753642, 0.845124718519044, 0.8452098104333787, 0.8459273494679301, 0.8465347309163466, 0.8474806162453938, 0.8479117458741029, 0.8490123597757488, 0.849311519281525, 0.853448737809447, 0.853741658634475, 0.8539866410286434, 0.8541409178947553, 0.8574120976580433, 0.8574722185513357, 0.8578760511949676, 0.8592529308675128, 0.8601255927669573, 0.8614762158542967, 0.8616409496441357, 0.8619851819131534, 0.8621230354650675, 0.8626554817125984, 0.8635273231140365, 0.865800265094223, 0.8675147751993996, 0.8680899009411722, 0.8695529926907751, 0.8702780128612952, 0.8704892887489801, 0.8705380215524544, 0.8705861333102723, 0.8716583462113099, 0.8720312543661773, 0.8725271210935693, 0.8727753134957582, 0.8740186052723055, 0.8753669559805186, 0.8761284416338794, 0.8790927787289813, 0.8797191040537004, 0.8804583291154164, 0.8812836263902808, 0.8818348459072143, 0.8828560328942912, 0.8837419498213404, 0.8846165698509334, 0.8858983176399764, 0.8875074552606179, 0.8912996741517891, 0.8929623065520234, 0.8930602040990282, 0.894660981107043, 0.8954671463967978, 0.896225555317377, 0.8969166763450521, 0.8990619494264556, 0.9019941980209544, 0.9063309672519642, 0.9069994853757507, 0.9081413046850937, 0.9101844960846333, 0.9106480521616823, 0.9110082317302048, 0.9115803179293076, 0.9118416244768428, 0.9129649636509525, 0.9141258551368048, 0.9142646203978069, 0.9142846441622976, 0.9144600314821151, 0.9162295825323002, 0.9187045189090361, 0.9188675009558092, 0.9192218890286495, 0.9208730891897072, 0.9231974885869842, 0.9255180819866132, 0.9266911401610476, 0.9271807826129402, 0.9274746636529314, 0.9288240169862665, 0.9294933947633469, 0.9296338834793814, 0.9312411846471449, 0.9321012144057219, 0.9329146442192411, 0.9336452283868022, 0.933833925531605, 0.9338390024015619, 0.9347549238173634, 0.9360449328330519, 0.9372833203471687, 0.9377760315129517, 0.9380627980257756, 0.93867980282117, 0.9394737113603021, 0.9403973161475447, 0.9410413643990696, 0.9420504084233516, 0.9429850804897317, 0.9431095467184687, 0.9435224418302902, 0.9452315727987063, 0.9460200917656353, 0.9465402082283895, 0.946951931795002, 0.9469565477884461, 0.9473934234954715, 0.9474607917895178, 0.9477493185489776, 0.9492578200038679, 0.9498266916056106, 0.9502626104156691, 0.951060249228722, 0.9515157814884856, 0.9515380132861441, 0.951869548193533, 0.9526026234519931, 0.9527649014916667, 0.9543253473304318, 0.9551119349970953, 0.9576068386379335, 0.9576350395842981, 0.9576411646813914, 0.9593831438501379, 0.964943444383227, 0.9656779585052235, 0.9659533738794652, 0.9670593844986851, 0.9675367923108851, 0.9679348827360352, 0.9679578860839189, 0.9689247399888454, 0.9692892939470343, 0.9704074138175466, 0.9705978402878299, 0.9721745012954234, 0.972844978568878, 0.9739753868821515, 0.9753245093922192, 0.9763886385570336, 0.9791364053651503, 0.9797189727523686, 0.980088594867588, 0.982380646564216, 0.9840436049424425, 0.9851908600795005, 0.9863200771844156, 0.9917729820624881, 0.9924185529173093, 0.9924543753467965, 0.9936062999008992, 0.994847213986676, 0.9959158508341539, 0.9963942124652725, 0.9965229956457125, 0.9973846778915225, 0.9975625240674233, 0.9977912580614026, 0.998330807524964, 0.9986655681650634]\n"
     ]
    },
    {
     "data": {
      "text/plain": [
       "(array([ 98., 104.,  84., 101., 102., 113., 102., 100.,  90., 106.]),\n",
       " array([3.13774704e-04, 1.00148954e-01, 1.99984133e-01, 2.99819313e-01,\n",
       "        3.99654492e-01, 4.99489671e-01, 5.99324851e-01, 6.99160030e-01,\n",
       "        7.98995209e-01, 8.98830389e-01, 9.98665568e-01]),\n",
       " <BarContainer object of 10 artists>)"
      ]
     },
     "execution_count": 12,
     "metadata": {},
     "output_type": "execute_result"
    },
    {
     "data": {
      "image/png": "[encoded data removed]",
      "text/plain": [
       "<Figure size 432x288 with 1 Axes>"
      ]
     },
     "metadata": {
      "needs_background": "light"
     },
     "output_type": "display_data"
    }
   ],
   "source": [
    "from statistics import mean\n",
    "import numpy as np\n",
    "from scipy.stats import ttest_rel\n",
    "import matplotlib.pyplot as plt\n",
    "\n",
    "p_vec = []\n",
    "k = 1000\n",
    "n = 10\n",
    "\n",
    "for i in range(k):\n",
    "    x = [np.random.random_sample() for i in range(n)]\n",
    "    y = [np.random.random_sample() for i in range(n)]\n",
    "    t, p = ttest_rel(x,y)\n",
    "    p_vec.append(p)\n",
    "\n",
    "pp = sorted(p_vec)\n",
    "\n",
    "print(pp)\n",
    "\n",
    "plt.hist(pp)\n"
   ]
  },
  {
   "cell_type": "markdown",
   "metadata": {},
   "source": [
    "All values do too randomness so we can see that there are a lot of false positives below 0.05 so we have to reconsider the the threshold and make it lower. This means that due to noise we need to reduce the significance threshold. $k = 1000 \\Rightarrow$ lot of noise. We need to reduce the significant threshold from 0.05 to q = ?.\n",
    "\n",
    "Our p-values have a pretty uniform distribution. Our region of interest is p below 0.05. If p < 0.05 we will call the result nominally significant. \n",
    "\n",
    "If p-value < q, truly significant. The number of truly significant result should actually follow a binomial distribution TS ~Bin(k=trials, prob=q)\n",
    "\n",
    "$P(TS \\geq 1) = 1 - P(TS = 0) = 1 - (1 - q)^k$\n",
    "\n",
    "q is small $\\Rightarrow (1 - q)^k \\approx 1 - k(1 - q)^{k - 1} q + ... q^2 + ... q^3+ ... \\approx 1 - kq$ (taylor around q = 0)\n",
    "\n",
    "$P(TS \\geq 1) = kq = 0.05 \\Rightarrow q = \\frac{0.05}{k}$\n",
    "\n",
    "$q = \\frac{0.05}{1000} = 0.00005$ this is the corrected p-value for multiple testing. \n",
    "\n",
    "Our original p-value which we know is represented by real effect, wil not actually be considered truly significant.\n",
    "\n",
    "$\\alpha$ becomes a false negative. This is the so call bonferroni-correction of the p-value do to multiple testing. "
   ]
  },
  {
   "cell_type": "markdown",
   "metadata": {},
   "source": [
    "### Summary on multiple testing\n",
    "- A typical discovery experiment is to perform many statistical tests and select the significant cases. What significance level should be used to reject $H_0$?\n",
    "- P-values are random number themselves and you can obtain one or more below a significance level 0.05 simply by chance. How often? \n",
    "- Assuming the p-values have a uniform distribution between 0 and 1 you expect numbers below 0.05 simply 5% of the times, if $H_0$ would be true. \n",
    "- This means that you have to *adjust* the significance level from 0.05 to a lower level in order to validate $H_1$.\n",
    "- If the tests are independant the *adjusted* significance level is 0.05 divided by the number of tests. This is called the **Bonferroni correction** (or method)\n",
    "- If the tests are not independant other methods are used, for example creating the null distribution by randomizing the observed data. "
   ]
  },
  {
   "cell_type": "markdown",
   "metadata": {},
   "source": [
    "### A typical genetic study\n",
    "In a typical genetic study the subjects are put in a 2x2 contingency table: \n",
    "- patients with a disease and healthy controls \n",
    "- carriers and non-carriers of specific gene varient G "
   ]
  },
  {
   "cell_type": "code",
   "execution_count": 13,
   "metadata": {},
   "outputs": [
    {
     "data": {
      "text/html": [
       "<div>\n",
       "<style scoped>\n",
       "    .dataframe tbody tr th:only-of-type {\n",
       "        vertical-align: middle;\n",
       "    }\n",
       "\n",
       "    .dataframe tbody tr th {\n",
       "        vertical-align: top;\n",
       "    }\n",
       "\n",
       "    .dataframe thead th {\n",
       "        text-align: right;\n",
       "    }\n",
       "</style>\n",
       "<table border=\"1\" class=\"dataframe\">\n",
       "  <thead>\n",
       "    <tr style=\"text-align: right;\">\n",
       "      <th></th>\n",
       "      <th>Carriers</th>\n",
       "      <th>Non-carriers</th>\n",
       "    </tr>\n",
       "  </thead>\n",
       "  <tbody>\n",
       "    <tr>\n",
       "      <th>Patients</th>\n",
       "      <td>18</td>\n",
       "      <td>4</td>\n",
       "    </tr>\n",
       "    <tr>\n",
       "      <th>Controls</th>\n",
       "      <td>40</td>\n",
       "      <td>30</td>\n",
       "    </tr>\n",
       "  </tbody>\n",
       "</table>\n",
       "</div>"
      ],
      "text/plain": [
       "          Carriers  Non-carriers\n",
       "Patients        18             4\n",
       "Controls        40            30"
      ]
     },
     "execution_count": 13,
     "metadata": {},
     "output_type": "execute_result"
    }
   ],
   "source": [
    "import pandas as pd\n",
    "\n",
    "data = {'Carriers': [18, 40], \"Non-carriers\": [4, 30]}\n",
    "\n",
    "df = pd.DataFrame(data, index=[\"Patients\", \"Controls\"])\n",
    "\n",
    "df"
   ]
  },
  {
   "cell_type": "markdown",
   "metadata": {},
   "source": [
    "In this case the observed proportion of carriers in the group of patients is larger than in the group of controls. Is this a significant trend? \n",
    "\n",
    "The odds that the patients carry the gene: $\\frac{18}{4} = 4.5$ \n",
    "\n",
    "The odds that the controls carry the gene: $\\frac{40}{30} = 1.3$\n",
    "\n",
    "The odds ratio: $\\frac{4.5}{1.3} = 3.375$ \n",
    "\n",
    "$H_0$: there is no real difference, what we see appeared only by chance. \n",
    "\n",
    "$H_1$: the is a difference and the genetic varient G has a role in the disease. "
   ]
  },
  {
   "cell_type": "markdown",
   "metadata": {},
   "source": [
    "### Limitations of the Chi-squared test\n",
    "- Do a chi-squared test: p-value = 0.036 (2 sided)\n",
    "- Do a chi-squared test with Yates correction: p-value = 0.066\n",
    "- Apart of the correction needed, a chi-squared test should no be used when a cell has a number < 5. **In this case a Fisher test is more appropriate**"
   ]
  },
  {
   "cell_type": "markdown",
   "metadata": {},
   "source": [
    "### The hypergeometric distribution"
   ]
  },
  {
   "cell_type": "code",
   "execution_count": 14,
   "metadata": {},
   "outputs": [
    {
     "name": "stdout",
     "output_type": "stream",
     "text": [
      "0.044273417018135156\n",
      "3.375\n"
     ]
    },
    {
     "data": {
      "text/html": [
       "<div>\n",
       "<style scoped>\n",
       "    .dataframe tbody tr th:only-of-type {\n",
       "        vertical-align: middle;\n",
       "    }\n",
       "\n",
       "    .dataframe tbody tr th {\n",
       "        vertical-align: top;\n",
       "    }\n",
       "\n",
       "    .dataframe thead th {\n",
       "        text-align: right;\n",
       "    }\n",
       "</style>\n",
       "<table border=\"1\" class=\"dataframe\">\n",
       "  <thead>\n",
       "    <tr style=\"text-align: right;\">\n",
       "      <th></th>\n",
       "      <th>Carriers</th>\n",
       "      <th>Non-carriers</th>\n",
       "    </tr>\n",
       "  </thead>\n",
       "  <tbody>\n",
       "    <tr>\n",
       "      <th>Patients</th>\n",
       "      <td>18</td>\n",
       "      <td>4</td>\n",
       "    </tr>\n",
       "    <tr>\n",
       "      <th>Controls</th>\n",
       "      <td>40</td>\n",
       "      <td>30</td>\n",
       "    </tr>\n",
       "  </tbody>\n",
       "</table>\n",
       "</div>"
      ],
      "text/plain": [
       "          Carriers  Non-carriers\n",
       "Patients        18             4\n",
       "Controls        40            30"
      ]
     },
     "execution_count": 14,
     "metadata": {},
     "output_type": "execute_result"
    }
   ],
   "source": [
    "import pandas as pd\n",
    "import numpy as np\n",
    "from scipy.stats import fisher_exact\n",
    "\n",
    "data = {'Carriers': [18, 40, 58], \"Non-carriers\": [4, 30, 34], \"Total\": [22, 70, 92]}\n",
    "\n",
    "df = pd.DataFrame(data, index=[\"Patients\", \"Controls\", \"Total\"])\n",
    "\n",
    "df2 = df.iloc[0:2].drop(columns=\"Total\")\n",
    "\n",
    "odds_ratio, p_value = fisher_exact(df2)\n",
    "\n",
    "print(p_value)\n",
    "print(odds_ratio)\n",
    "\n",
    "df2\n"
   ]
  },
  {
   "cell_type": "markdown",
   "metadata": {},
   "source": [
    "Since the total numbers are fixed the number in one cell determines all the other numbers $\\Rightarrow$ one degree of freedom. "
   ]
  },
  {
   "cell_type": "code",
   "execution_count": 15,
   "metadata": {},
   "outputs": [
    {
     "data": {
      "text/html": [
       "<div>\n",
       "<style scoped>\n",
       "    .dataframe tbody tr th:only-of-type {\n",
       "        vertical-align: middle;\n",
       "    }\n",
       "\n",
       "    .dataframe tbody tr th {\n",
       "        vertical-align: top;\n",
       "    }\n",
       "\n",
       "    .dataframe thead th {\n",
       "        text-align: right;\n",
       "    }\n",
       "</style>\n",
       "<table border=\"1\" class=\"dataframe\">\n",
       "  <thead>\n",
       "    <tr style=\"text-align: right;\">\n",
       "      <th></th>\n",
       "      <th>Carriers</th>\n",
       "      <th>Non-carriers</th>\n",
       "      <th>Total</th>\n",
       "    </tr>\n",
       "  </thead>\n",
       "  <tbody>\n",
       "    <tr>\n",
       "      <th>Patients</th>\n",
       "      <td>k</td>\n",
       "      <td>22 - k</td>\n",
       "      <td>22</td>\n",
       "    </tr>\n",
       "    <tr>\n",
       "      <th>Controls</th>\n",
       "      <td>58 - k</td>\n",
       "      <td>12 + k</td>\n",
       "      <td>70</td>\n",
       "    </tr>\n",
       "    <tr>\n",
       "      <th>Total</th>\n",
       "      <td>58</td>\n",
       "      <td>34</td>\n",
       "      <td>92</td>\n",
       "    </tr>\n",
       "  </tbody>\n",
       "</table>\n",
       "</div>"
      ],
      "text/plain": [
       "         Carriers Non-carriers  Total\n",
       "Patients        k       22 - k     22\n",
       "Controls   58 - k       12 + k     70\n",
       "Total          58           34     92"
      ]
     },
     "execution_count": 15,
     "metadata": {},
     "output_type": "execute_result"
    }
   ],
   "source": [
    "import pandas as pd\n",
    "\n",
    "data = {'Carriers': [\"k\", \"58 - k\", 58], \"Non-carriers\": [\"22 - k\", \"12 + k\", 34], \"Total\": [22, 70, 92]}\n",
    "\n",
    "df = pd.DataFrame(data, index=[\"Patients\", \"Controls\", \"Total\"])\n",
    "df"
   ]
  },
  {
   "cell_type": "markdown",
   "metadata": {},
   "source": [
    "Assuming now k a random number, what is the probability that $k \\geq 18$?\n",
    "\n",
    "$P(k) = \\frac{\\begin{pmatrix} 22\\\\ k \\end{pmatrix} \\times \\begin{pmatrix} 70 \\\\ 58 - k \\end{pmatrix}}{\\begin{pmatrix} 92\\\\ 58 \\end{pmatrix}}\\, \\quad k = 1, 2, ..., 22$\n",
    "\n",
    "This is called the hypergeometric distribution (Section 4.4)\n",
    "\n",
    "R: dhyper(k, 22, 70, 58)    p-value=sum(dhyper(18:22, 22, 70, 58)) = 0.030 (1 sided)\n",
    "\n",
    "Increasing the sample size in a fisher test, decreases the p-value if the result is truly significant.  \n",
    "\n",
    "The Fisher test uses the hypergeometric distribution which is exact, and not approximate like the chi-squared test. "
   ]
  },
  {
   "cell_type": "markdown",
   "metadata": {},
   "source": [
    "### Quality aspects of a statistical test\n",
    "Errors:\n",
    "\n",
    "- Type I errors or false positive: the p-value < 0.05 and one accepts $H_1$, but in reality $H_0$ is still true \n",
    "- Type II or false negative: the p-value > 0.05 and one rejects $H_1$, but in reality $H_1$ is true\n",
    "\n",
    "The statistical power is the capacity of the test to identify the correct hypothesis: $H_0$ or $H_1$ , when the truth in not known.\n",
    "\n",
    "The formal definition is:  Power = 1 – Probability of false negative. Meaning that in the absence of false negatives the power is 1."
   ]
  },
  {
   "cell_type": "markdown",
   "metadata": {},
   "source": [
    "### Methods to increase the statistical power\n",
    "- Maximize or increase the sample size, if  possible. In general the data collection is a major effort and may also cost a lot of money.\n",
    "- Formulate correctly both $H_0$ and $H_1$\n",
    "- Use all available data or other information\n",
    "- Prepare the data carefully, remove outliers if they are dubious\n",
    "- Use the log of the data if needed\n",
    "- Use a correct test.  See the discussion on t tests with unequal variance vs. paired data  \n",
    "- Avoid unnecessary approximations of the distributions if possible. See the discussion on chi square vs. Fisher tests.\n",
    "- Use an efficient test.  That my require to minimize the number of degrees of freedom if possible"
   ]
  },
  {
   "cell_type": "markdown",
   "metadata": {},
   "source": [
    "### Introduction to correlation\n",
    "The data show the reaction time to respond to a visual stimulus (x) and the time to respond to an auditory stimulus, in units of milliseconds (ms), for n=10 individuals.\n",
    "\n",
    "This data set is paired. The x and y measurement refers to the same individual.\n",
    "\n",
    "The problem:   Are x and y independent variables or not? "
   ]
  },
  {
   "cell_type": "markdown",
   "metadata": {},
   "source": [
    "### Joint distribution \n",
    "let's think about a discrete ranodm variable $x: x_1, x_2, x_3, ...,x_n \\quad p_x(x_i) \\quad i = 1, 2, 3, ..., n$\n",
    "\n",
    "let's think about another discrete random variable $y: y_1, y_2, y_3, ..., y_n \\quad p_y(y_j) \\quad j = 1, 2, 3, ..., j$\n",
    "\n",
    "We want to introduce the joint probability distribution. Which is the probability that x has a specific value and y has a spefici value:\n",
    "\n",
    "$$\n",
    "P(x = x_i, y = y_j) \\Longleftrightarrow P(x = x_i \\cap y = y_j) \\quad joint\\,probability \n",
    "$$\n",
    "If x and y are independant variables $\\Rightarrow P(x, y) = p_x(X)p_y(Y)$ \n",
    "\n",
    "Marginal probabilites ($p_x, p_y$):\n",
    "\n",
    "$p_x(x_i) = \\sum_j P(x = x_i, y = y_j)$ \n",
    "\n",
    "$p_y(y_j) = \\sum_i P(x = x_i, y = y_j)$"
   ]
  },
  {
   "cell_type": "markdown",
   "metadata": {},
   "source": [
    "### Covariance \n",
    "$Var(x) = \\sigma^2_x = E[(x - \\mu_x)^2] = E(x^2) - (E(x))^2$\n",
    "\n",
    "$Var(x) \\gt 0$\n",
    "\n",
    "The covariance of two random vairables is defined in a similar manner:\n",
    "\n",
    "$$\n",
    "\\begin{align}\n",
    "Cov(x,y) &= E[(x - \\mu_x)(y - \\mu_y)] \\\\\n",
    "&= E(xy - \\mu_x y - x \\mu_y + \\mu_x \\mu_y) \\\\\n",
    "&= E(xy) - E(\\mu_x y) - E(x \\mu_y) + E(\\mu_x \\mu_y) \\\\\n",
    "&= E(xy) - \\mu_x E(y) - E(x) \\mu_y + \\mu_x \\mu_y \\\\\n",
    "&= E(xy) - E(x)E(y)\n",
    "\\end{align}\n",
    "$$\n",
    "\n",
    "Cov(x,y) can be > 0 or < 0\n",
    "\n",
    "$E(xy) = \\sum_{ij} x_i y_j P(x_i, y_j)$ if x and y are independant, $\\Rightarrow \\sum_{ij} x_i y_j p_x(x_i) p_y(y_j) = \\sum_i x_i p_x(x_i) \\sum_j y_j p_y(y_j) = \\mu_x \\mu_y$\n",
    "\n",
    "If x and y are independant $\\Rightarrow Cov(x,y) = 0$\n",
    "\n",
    "If not the covariance can be positive or negative depending on the distribution function. \n",
    "\n",
    "Observe that $Cov(x,y) = Cov(y,x)$\n",
    "\n",
    "Correlation coefficient $\\rho = \\frac{Cov(x,y)}{\\sigma_x \\sigma_y}$"
   ]
  },
  {
   "cell_type": "markdown",
   "metadata": {},
   "source": [
    "### Correlation coefficient\n",
    "Suppose we have two random variables, and they are paired.\n",
    "\n",
    "$x: x_1, x_2, ..., x_n$ \n",
    "\n",
    "$y: y_1, y_2, ..., y_n$\n",
    "\n",
    "The data is represented as pairs and we can easily make a table with the data. \n",
    "\n",
    "Correlation coefficient $\\rho = \\frac{Cov(x,y)}{\\sigma_x \\sigma_y}$\n",
    "\n",
    "Suppose $y = ax \\quad a = const.$\n",
    "\n",
    "$\\sigma_y = abs(const.) \\sigma_x$\n",
    "\n",
    "$E(xy) = ax\n",
    "\n",
    "Remember $Cov(x,y) = E(xy) - E(x)E(y) = a E(x^2) - a[E(x)]^2 = a Var(x) = a \\sigma^2_x$\n",
    "\n",
    "$$\\rho(x,y) = \\frac{a \\sigma^2_x}{\\sigma_x |a| \\sigma_x} = \\frac{a}{|a|} = \\pm 1$$\n",
    "\n",
    "If x and y are independant $\\Rightarrow \\rho(x,y) = 0$\n",
    "\n",
    "Correlation efficient is always between $-1 \\leq \\rho \\leq 1$\n",
    "\n",
    "The correlation efficient gives information on how much x and y depend on each other.\n",
    "\n",
    "If x increases $\\Rightarrow$ y increases, then $\\rho \\gt 0$\n",
    "\n",
    "If x increases $\\Rightarrow$ y decreases, then $\\rho \\lt 0$\n",
    "\n",
    "Prove that $-1 \\leq \\rho \\leq 1$ problem 2.6.29."
   ]
  },
  {
   "cell_type": "markdown",
   "metadata": {},
   "source": [
    "### Estimated correlation coefficient using data \n",
    "In general, the true correlation coefficient of two random variables $\\rho(x,y)$ is not known, but it can be estimated from data. \n",
    "\n",
    "Given a data sample for x and y we use the estimated std's from the data: \n",
    "\n",
    "$\\sigma^2_x = E[(x - \\mu_x)(y - \\mu_y)] \\approx s^2_x = \\frac{1}{n - 1}\\sum_(i = 1)^n (x_i - \\bar{x})^2$, similar for y. \n",
    "\n",
    "This formula can be extended to: \n",
    "\n",
    "$Cov(x,y) = E[(x - \\mu_x)(y - \\mu_y)] \\approx \\frac{1}{n - 1} \\sum_{i = 1}^n[(x_i - \\bar{x})(y_i - \\bar{y})]$\n",
    "\n",
    "We obtain the sample estimated $\\rho$:\n",
    "\n",
    "$$\\rho(x,y) = \\frac{Cov(x,y)}{\\sigma_x \\sigma_y} \\approx r = \\frac{1}{n - 1} \\sum_i \\frac{x_i - \\bar{x}}{s_x} \\frac{y_i - \\bar{y}}{s_y}$$\n",
    "\n",
    "The fractions inside the summation can be interpreted as z- or t-scores, depending on the sample size. "
   ]
  },
  {
   "cell_type": "markdown",
   "metadata": {},
   "source": [
    "### The distribution of the correlation coefficient\n",
    "The distribution of Pearson correlation coefficient r is complicated. In the textbook (p. 522 Ed. 4 and p.527 Ed. 5) the approximation is based on the Fisher transformation. \n",
    "\n",
    "$W = \\frac{1}{2}ln(\\frac{1 + r}{1 - r})$ ~N($\\mu, \\sigma^2$) where $\\mu = \\frac{1}{2}ln(\\frac{1 + r}{1 - r})$ and $\\sigma = \\frac{1}{n - 3}$ (n = data points)\n",
    "\n",
    "Another possible approximation is for independant x and y, when we expect r = 0:\n",
    "\n",
    "$U = \\frac{r \\sqrt{n - 2}}{\\sqrt{1 - r^2}}$, which has a t distribution with n - 2 DOF."
   ]
  },
  {
   "cell_type": "markdown",
   "metadata": {},
   "source": [
    "### Correlation test\n",
    "- Considering a data sample of the random variable x and y, how can we establish if they are independant or not?\n",
    "- A correlation coefficient can always be calculated. It will be a positive or negative number, possibly at random. \n",
    "- How do we decide that it indicates a real correlation between x and y?\n",
    "- In other words is their correlation coefficient significantly different from 0?\n",
    "- Therefore we need to perfomr a correlation test using the hypothesis: \n",
    "    - $H_0: r = 0\\quad H_1: r \\neq 0$\n",
    "- If the resulting p-value < 0.05, we conclude that x and y are correlated. Otherwise the should be considered independant. \n",
    "\n",
    "See example 7.3 below. \n",
    "\n",
    "If the 95% CI for the correlation test has a lower bound that is negative, and a upper bound that is positive, we know that the correlation doesn't exist. "
   ]
  },
  {
   "cell_type": "markdown",
   "metadata": {},
   "source": [
    "### Example 7.3\n",
    "In a study of reaction times, the time to respond to a visual stimulus (x) and the time to respond to an auditory stimulus (y) were recorded for each of 10 subjects. Times were measured in ms. The results are presented in the following table. (table below in code).\n",
    "\n",
    "Find a 95% confidence interval for the correlation between the two reaction times.\n",
    "\n",
    "Find the 2-sided p-value. (always preferble to do a 2-sided correlation test)"
   ]
  },
  {
   "cell_type": "code",
   "execution_count": 16,
   "metadata": {},
   "outputs": [
    {
     "name": "stdout",
     "output_type": "stream",
     "text": [
      "correlation coefficient: 0.8158796182130656\n",
      "p-value: 0.003999985228619669\n",
      "95% CI: [0.3830002807748358,0.9549492105023168]\n",
      "     x    y\n",
      "0  161  159\n",
      "1  203  206\n",
      "2  235  241\n",
      "3  176  163\n",
      "4  201  197\n",
      "5  188  193\n",
      "6  228  209\n",
      "7  211  189\n",
      "8  191  169\n",
      "9  178  201\n"
     ]
    }
   ],
   "source": [
    "import pandas as pd\n",
    "import numpy as np\n",
    "from scipy import stats\n",
    "\n",
    "def pearsonr_ci(x,y,alpha=0.05):\n",
    "    #see documentation https://zhiyzuo.github.io/Pearson-Correlation-CI-in-Python/\n",
    "    r, p = stats.pearsonr(x,y)\n",
    "    r_z = np.arctanh(r)\n",
    "    se = 1/np.sqrt(x.size-3)\n",
    "    z = stats.norm.ppf(1-alpha/2)\n",
    "    lo_z, hi_z = r_z-z*se, r_z+z*se\n",
    "    lo, hi = np.tanh((lo_z, hi_z))\n",
    "    return r, p, lo, hi\n",
    "\n",
    "df = pd.read_csv(\"datasets/Ch7/exm7-3.csv\")\n",
    "\n",
    "r, p , lo, hi = pearsonr_ci(df['x'], df['y'])\n",
    "\n",
    "#r, p = pearsonr(df['x'], df['y'])\n",
    "\n",
    "\n",
    "\n",
    "print(f'correlation coefficient: {r}')\n",
    "print(f'p-value: {p}')\n",
    "print(f'95% CI: [{lo},{hi}]')\n",
    "print(df)"
   ]
  },
  {
   "cell_type": "markdown",
   "metadata": {},
   "source": [
    "### The best line problem\n",
    "The linear regression is the mathematical procedure for the linear fit or the best line or the least-squares line for a set of pairs of data points . \n",
    "\n",
    "Example from section 7.2 of the textbook: The relation between the length of a spring and a hanging mass. Data file table7-1.csv\n",
    "The linear fit or best line has the form: \n",
    "\n",
    "$y=\\beta_0 +\\beta1x$\n",
    "\n",
    "For the present data:\n",
    "\n",
    "$y = 4.9997 + 0.2046x$ \n",
    "\n",
    "Questions: \n",
    "- How are the coefficients β calculated? \n",
    "- What is their meaning? \n",
    "- What if the data does not have an obvious trend?\n",
    "- See next part of this lecture package"
   ]
  },
  {
   "cell_type": "code",
   "execution_count": 17,
   "metadata": {},
   "outputs": [
    {
     "name": "stdout",
     "output_type": "stream",
     "text": [
      "LinregressResult(slope=0.20462406015037599, intercept=4.999714285714285, rvalue=0.9743193083175269, pvalue=4.2037584649203017e-13, stderr=0.011146311882917918, intercept_stderr=0.02477391625966531)\n"
     ]
    },
    {
     "data": {
      "text/plain": [
       "Text(0.25, 5.7, 'y = 4.9997 + 0.2046x')"
      ]
     },
     "execution_count": 17,
     "metadata": {},
     "output_type": "execute_result"
    },
    {
     "data": {
      "image/png": "[encoded data removed]",
      "text/plain": [
       "<Figure size 432x288 with 1 Axes>"
      ]
     },
     "metadata": {
      "needs_background": "light"
     },
     "output_type": "display_data"
    }
   ],
   "source": [
    "import pandas as pd\n",
    "import numpy as np\n",
    "import matplotlib.pylab as plt\n",
    "from scipy.stats import linregress\n",
    "\n",
    "\n",
    "df = pd.read_csv(\"datasets/Ch7/table7-1.csv\")\n",
    "\n",
    "x = df['Weight (x)']\n",
    "y = df['Measured Length (y)']\n",
    "\n",
    "reg = linregress(x, y)\n",
    "print(reg) \n",
    "slope = reg[0]\n",
    "intercept = reg[1]\n",
    "\n",
    "a, b = np.polyfit(x, y, 1)\n",
    "\n",
    "plt.scatter(x, y)\n",
    "plt.plot(x, a * x + b, color='red',linestyle='--')\n",
    "\n",
    "\n",
    "plt.xlabel('Weight (lb)')\n",
    "plt.ylabel('Measured Length (in)')\n",
    "\n",
    "best_line = f'y = {round(b,4)} + {round(a,4)}x'\n",
    "\n",
    "plt.text(0.25, 5.7, best_line)\n"
   ]
  },
  {
   "cell_type": "markdown",
   "metadata": {},
   "source": [
    "### The calculus of the regression coefficients\n",
    "$Data(x_i, y_i) \\quad i = 1,2,3,...,n$\n",
    "\n",
    "x = independant variable\n",
    "\n",
    "y = response (dependant variable)\n",
    "\n",
    "We want to create a line that goes through the data point, optimally:\n",
    "\n",
    "$y = \\beta_0 + \\beta_1x$\n",
    "\n",
    "Predicted values: \n",
    "\n",
    "$\\hat{y_i} = \\beta_0 + \\beta_1x_i$\n",
    "\n",
    "$e_i = y_i - \\hat{y_i}$ residual\n",
    "\n",
    "$S = \\sum_i (y_i - \\hat{y_i})^2$ the optimal line would be the minimum sum. \n",
    "\n",
    "$S = \\sum_i (\\beta_0 + \\beta_1x_i - y_i)^2$\n",
    "\n",
    "$\\frac{\\delta S}{\\delta \\beta_0} = \\sum_i 2(\\beta_0 + \\beta_1x_i - y_i) = 0$ (1)\n",
    "\n",
    "$\\frac{\\delta S}{\\delta \\beta_1} = \\sum_i 2(\\beta_0 + \\beta_1x_i - y_i) x_i = 0$ (2)\n",
    "\n",
    "(1) : \n",
    "\n",
    "$\\sum_i \\beta_0 + \\beta_1 \\sum_i x_i - \\sum_i y_i = n \\beta_0 + \\beta_1 n \\bar{x} - n \\bar{y} = 0$\n",
    "\n",
    "$\\bar{x} = \\frac{1}{n} \\sum_i x_i$\n",
    "\n",
    "$\\bar{x}^2 = \\frac{1}{n} \\sum_i x_i^2$\n",
    "\n",
    "$\\bar{y} = \\frac{1}{n} \\sum_i y_i$\n",
    "\n",
    "$\\Rightarrow \\beta_0 = \\bar{y} - \\beta_1 \\bar{x}$\n",
    "\n",
    "(2) :\n",
    "\n",
    "$\\sum_i \\beta_0 x_i + \\sum_i \\beta_1 x_i^2 - \\sum_i x_i y_i = 0$\n",
    "\n",
    "$\\beta_0 n \\bar{x} + \\beta_1 n\\bar{x^2} - n \\bar{xy} = 0$\n",
    "\n",
    "$\\beta_0 \\bar{x} + \\beta_1 \\bar{x^2}  = \\bar{xy}$\n",
    "\n",
    "lets take $\\beta_0$ and plug it in the second equation:\n",
    "\n",
    "$(\\bar{y} - \\beta_1 \\bar{x}) \\bar{x} + \\beta_1 \\bar{x}^2  = \\bar{xy} \\Rightarrow \\bar{x} \\bar{y} - \\beta_1 (\\bar{x})^2 + \\beta_1 \\bar{x^2} = \\bar{xy}$\n",
    "\n",
    "$$\\beta_1 = \\frac{\\bar{xy} - \\bar{x} \\bar{y}}{\\bar{x^2} - \\bar{x}^2} \\approx \\frac{Cov(x,y)}{\\sigma_x^2}$$\n",
    "\n",
    "$$\\beta_0 = \\bar{y} - \\beta_1 \\bar{x}$$\n",
    "\n",
    "$\\beta_1$ slope $\\frac{dy}{dx}$\n",
    "\n",
    "$\\beta_0$ intersect y(x = 0) = $\\beta_0$\n",
    "\n"
   ]
  },
  {
   "cell_type": "code",
   "execution_count": 18,
   "metadata": {},
   "outputs": [
    {
     "data": {
      "text/html": [
       "<img src=\"bestline.jpg\" width=\"400\" height=\"300\"/>"
      ],
      "text/plain": [
       "<IPython.core.display.Image object>"
      ]
     },
     "execution_count": 18,
     "metadata": {},
     "output_type": "execute_result"
    }
   ],
   "source": [
    "from IPython.display import Image\n",
    "  \n",
    "# get the image\n",
    "Image(url=\"bestline.jpg\", width=400, height=300)"
   ]
  },
  {
   "cell_type": "markdown",
   "metadata": {},
   "source": [
    "### The least square method\n",
    "- Points above the line have positive residuals, and points below the line have negative residuals.\n",
    "- The closer the residuals are to O, the closer the fitted values are to the observations and the better the line fits the data.\n",
    "- The line is fitted such that the sum of squared residuals is minimized. This is the least square method (see above)"
   ]
  },
  {
   "cell_type": "markdown",
   "metadata": {},
   "source": [
    "### The connection of $\\beta_1$ with r\n",
    "x, y random variables $\\quad (x_i, y_i) \\quad i = 1,2,3, ...,n$ \n",
    "\n",
    "$rho(x,y) = \\frac{Cov(x,y)}{\\sigma_x \\sigma_y} \\approx r$ (r is the estimated coefficient from the data sample)\n",
    "\n",
    "$r = \\frac{1}{n} \\sum_i \\frac{x_i - \\bar{x}}{S_x} \\frac{y_i \\bar{y}}{S_y}$\n",
    "\n",
    "$S^2_x = \\frac{1}{n - 1} \\sum_i (x_i - \\bar{x})^2$ \n",
    "\n",
    "$S^2_y = \\frac{1}{n - 1} \\sum_i (y_i - \\bar{y})^2$\n",
    "\n",
    "Another way to write r:\n",
    "\n",
    "$$\n",
    "\\begin{align}\n",
    "r &= \\frac{1}{n - 1} \\frac{1}{S_x S_y} (\\frac{S_x}{S_x}) \\sum_i (x_i - \\bar{x})(y_i \\bar{y}) \\\\\n",
    "&= \\frac{S_x}{S_y} \\frac{1}{n - 1} \\frac{1}{S^2_x} \\sum_i (x_i - \\bar{x})(y_i - \\bar{y}) \\\\\n",
    "&= \\frac{S_x}{S_y} \\frac{1}{\\sum_i (x_i - \\bar{x})} \\sum_i (x_i - \\bar{x})(y_i - \\bar{y}) \\\\ \n",
    "&= \\frac{S_x}{S_y} \\beta_1 \\quad (have\\,to\\,prove)\n",
    "\\end{align}\n",
    "$$\n",
    "\n",
    "$$\\Rightarrow \\beta_1 = r \\frac{S_y}{S_x}$$\n",
    "\n",
    "$\\beta_1' = r \\frac{S_x}{S_y}$ for the flipped data $\\Rightarrow \\beta_1 \\beta_1' = r^2$\n",
    "\n",
    "$\\beta_1' = \\frac{r^2}{\\beta_1}$\n",
    "\n",
    "check on spring result."
   ]
  },
  {
   "cell_type": "markdown",
   "metadata": {},
   "source": [
    "### The $R^2$ coefficient of determination \n",
    "$x_i$ is a independant variable, and $y_i$ is the response. $i = 1,2,...,n$, where n is the sample size. \n",
    "\n",
    "$y = \\beta_0 + \\beta_1 x$\n",
    "\n",
    "$\\beta_1 = \\frac{\\bar{xy} - \\bar{x} \\bar{y}}{\\bar{x^2} - \\bar{x}^2}$\n",
    "\n",
    "$\\hat{y_i} = \\beta_0 + \\beta_1 x_i$\n",
    "\n",
    "$e_i = y_i - \\hat{y_i}$\n",
    "\n",
    "$\\frac{1}{n} \\sum_i e_i = \\bar{e} = 0$\n",
    "\n",
    "$\\hat{y_i} = \\bar{y} - \\beta_1 \\bar{x} + \\beta_1 x_i$\n",
    "\n",
    "$\\hat{y_i} - \\bar{y} = \\beta_1(x_i - \\bar{x}) \\Rightarrow \\bar{\\hat{y}} - \\bar{y} = \\beta_1 (\\bar{x} - \\bar{x}) = 0$\n",
    "\n",
    "$\\bar{\\hat{y}} = \\bar{y} \\Rightarrow \\bar{e} = 0$"
   ]
  },
  {
   "cell_type": "markdown",
   "metadata": {},
   "source": [
    "### Variance, variability of the response\n",
    "$y_i, \\hat{y_i}, \\bar{y}$ \n",
    "\n",
    "$S = \\sum_i e^2_i \\quad$ used to minimize $\\Rightarrow \\beta_0, \\beta_1$ = Error sum of squares = ESS\n",
    "\n",
    "$ESS = \\sum_i (\\hat{y_i} - y_i)^2$\n",
    "\n",
    "-> Represents the variance of the response data relativily to the line = noise\n",
    "\n",
    "Regression sum of squares = RSS =$\\sum_i (\\hat{y} - \\bar{y})^2$\n",
    "\n",
    "-> Represents the variation of the predicted response along the line\n",
    "\n",
    "Total sum of squares = TSS =$\\sum_i (y_i - \\bar{y})^2$\n",
    "\n",
    "-> Represents the total variance of the response\n",
    "\n",
    "TSS = ESS + RSS (Eq.7.28)\n",
    "\n",
    "RSS =$\\sum_i (\\hat{y} - \\bar{y})^2 = r^2 \\sum_i (y_i - \\bar{y})^2 = TSS$\n",
    "\n",
    "$r^2 = \\frac{RSS}{TSS} = R^2$: the proportions of the total variance of the response, which can be explained to the regression\n",
    "\n",
    "$-1 \\leq r \\leq 1 \\quad \\Rightarrow 0 \\leq R^2 \\leq 1$\n",
    "\n",
    "For the simple linear regression $R^2 = r^2$, r being the sample estimate of the correlation coefficient. Not also for multiple regression (next lecture package)\n",
    "\n",
    "low $R^2$ a lot of noise\n",
    "\n",
    "high $R^2$ small noise, data close to trendline"
   ]
  },
  {
   "cell_type": "markdown",
   "metadata": {},
   "source": [
    "### The uncertainty of the slope and intercept\n",
    "- In error analysis we call uncertainty the standard deviation of the variable\n",
    "and we report the result as mean value $\\pm$ uncertainty\n",
    "- The standard deviation of a mean value is often called standard error (as\n",
    "discussed earlier). It is supposed to *decrease* by *increasing* the sample size\n",
    "- The regression coefficients (RC's) should be considered a sort of average\n",
    "values of the data and thus we will call their standard deviations standard\n",
    "errors.\n",
    "- If the RC's are significant (p-value < 0.05) their standard error should\n",
    "decrease with increasing the sample size\n",
    "- We are now in a position to evaluate the uncertainty of the slope coefficient,\n",
    "which was a first introduced in the error analysis performed for the physics\n",
    "labs in a more empirical way."
   ]
  },
  {
   "cell_type": "markdown",
   "metadata": {},
   "source": [
    "### Standard error of regression coefficients (RC's)\n",
    "The uncertainty of the slope is related to the variance of $y_i$ data above and\n",
    "below the line, called the residual standard error and it is calculated as:\n",
    "\n",
    "$$s^2  = \\frac{ESS}{n - 2} = \\frac{1}{n - 2} \\sum_{i = 1}^n (y_i - \\hat{y_i})^2$$\n",
    "\n",
    "We calculated the std. of $\\beta_1$, as for a linear combination of the $y_i$, values, all of\n",
    "them with std = s and we obtained:\n",
    "\n",
    "$$s_{\\beta_1} = \\frac{s}{\\sqrt{n(\\bar{x^2} - \\bar{x}^2)}}$$\n",
    "\n",
    "We used the standard error of $\\beta_1$ and the residual standard error and found the\n",
    "standard error for the intercept coefficient:\n",
    "\n",
    "$$s_{\\beta_0} = s\\sqrt{\\frac{\\bar{x^2}}{n(\\bar{x^2} - \\bar{x}^2)}}$$\n",
    "\n",
    "Note: The results is the book are equations 7.36 and 7.37, and look a little more complicated, but they are equivalent to ours. Please check, for example on the spring case."
   ]
  },
  {
   "cell_type": "markdown",
   "metadata": {},
   "source": [
    "### What distribution the regression coefficients obey?\n",
    "If the $y_i$ numbers (the response data) are normally distributed above and below the regression line, then the differences between the values of $\\beta_0$ and $\\beta_1$ estimated from the data and their true, but unknown mean values $\\mu_{\\beta_0}$ and $\\mu_{\\beta_1}$, divided by their standard errors follow a t distribution with n-2 DOF: \n",
    "\n",
    "$\\frac{\\beta_0 - \\mu_{\\beta_0}}{s_{\\beta_0}}$ ~ $t_{n - 2}$ and $\\frac{\\beta_1 - \\mu_{\\beta_1}}{s_{\\beta_1}}$ ~ $t_{n - 2}$\n",
    "\n",
    "Therefore, when we want the confidence intervals and the p-values of the regression coefficients we need to consider the t distribution with n-2 DOF where n is the data sample, meaning the number of pairs of data points ($x_i$,$y_i$)."
   ]
  },
  {
   "cell_type": "markdown",
   "metadata": {},
   "source": [
    "### Confidence intervals of the regression coefficients\n",
    "95% CI: $[\\beta_0 - as_{\\beta_0}]$ and $[\\beta_0 - as_{\\beta_0}]$"
   ]
  },
  {
   "cell_type": "markdown",
   "metadata": {},
   "source": [
    "### P-values of the regression coefficients\n",
    "Is the linear trend real and systematic, or it is only a random effect?  \n",
    "\n",
    "Is the intercept zero or not? \n",
    "\n",
    "The answers are in the (two sided) p-values.  \n",
    "\n",
    "The working hypotheses are:\n",
    "\n",
    "$H_0:B_{0,1} = 0$\n",
    "\n",
    "$H_1:B_{0,1} \\neq 0$\n",
    "\n",
    "Verify these results in the output data of your software for the spring problem. For example, with n = 20 data points, the t values and 2-sided p-values are:\n",
    "\n",
    "$\\beta_0:\\quad t = -16.95 \\quad p-value = 1.65e^{-12}\\quad = 2*pt(-16.95,18)$\n",
    "\n",
    "$\\beta_1:\\quad t = 18.36 \\quad p-value = 4.2e^{-13} \\quad = 2*pt(-18.36,18)$"
   ]
  },
  {
   "cell_type": "markdown",
   "metadata": {},
   "source": [
    "### Using a P-value to make conclusions in a test about slope\n",
    "Alicia took a random sample of mobile phones and found a positive linear relationship between their processor speeds and their prices. Here is the computer output from a least-squares regression analysis on her sample."
   ]
  },
  {
   "cell_type": "code",
   "execution_count": 19,
   "metadata": {},
   "outputs": [
    {
     "name": "stdout",
     "output_type": "stream",
     "text": [
      "Regression: Price vs. speed.\n"
     ]
    },
    {
     "data": {
      "text/html": [
       "<div>\n",
       "<style scoped>\n",
       "    .dataframe tbody tr th:only-of-type {\n",
       "        vertical-align: middle;\n",
       "    }\n",
       "\n",
       "    .dataframe tbody tr th {\n",
       "        vertical-align: top;\n",
       "    }\n",
       "\n",
       "    .dataframe thead th {\n",
       "        text-align: right;\n",
       "    }\n",
       "</style>\n",
       "<table border=\"1\" class=\"dataframe\">\n",
       "  <thead>\n",
       "    <tr style=\"text-align: right;\">\n",
       "      <th></th>\n",
       "      <th>Coef</th>\n",
       "      <th>SE Coef</th>\n",
       "      <th>T</th>\n",
       "      <th>P</th>\n",
       "    </tr>\n",
       "  </thead>\n",
       "  <tbody>\n",
       "    <tr>\n",
       "      <th>Constant</th>\n",
       "      <td>127.092</td>\n",
       "      <td>57.507</td>\n",
       "      <td>2.210</td>\n",
       "      <td>0.032</td>\n",
       "    </tr>\n",
       "    <tr>\n",
       "      <th>Speed</th>\n",
       "      <td>6.084</td>\n",
       "      <td>2.029</td>\n",
       "      <td>2.999</td>\n",
       "      <td>0.004</td>\n",
       "    </tr>\n",
       "  </tbody>\n",
       "</table>\n",
       "</div>"
      ],
      "text/plain": [
       "             Coef  SE Coef      T      P\n",
       "Constant  127.092   57.507  2.210  0.032\n",
       "Speed       6.084    2.029  2.999  0.004"
      ]
     },
     "execution_count": 19,
     "metadata": {},
     "output_type": "execute_result"
    }
   ],
   "source": [
    "import pandas as pd\n",
    "\n",
    "print(f'Regression: Price vs. speed.')\n",
    "df = pd.DataFrame({\n",
    "    \"Coef\": [127.092, 6.084],\n",
    "    \"SE Coef\": [57.507, 2.029],\n",
    "    \"T\": [2.210, 2.999],\n",
    "    \"P\": [0.032, 0.004]\n",
    "    }, \n",
    "    index = [\"Constant\", \"Speed\"]\n",
    ")\n",
    "\n",
    "df"
   ]
  },
  {
   "cell_type": "markdown",
   "metadata": {},
   "source": [
    "Alicia wants to test $H_0: \\beta = 0$ vs $H_1: \\beta \\gt 0$. Assume that all conditions for inference have been met. At the $\\alpha = 0.01$ level of significance, is there sufficient evidence to conclude a positive linear relationship between these variables for all mobile phones? Why?\n",
    "\n",
    "We compare the p value of speed against $\\alpha$. We have to correct the p-value since we want a one sided test. new_p = $\\frac{0.004}{2} = 0.002$ and since our p-value is less than $\\alpha$ we reject $H_0$, and conclude that there is a linear relationship between the price and the processor speed of mobile phones. "
   ]
  },
  {
   "cell_type": "markdown",
   "metadata": {},
   "source": [
    "### Using a confidence interval to test slope\n",
    "Hashem obtained a random sample of students and noticed a positive linear relationship between their ages and their backpack weights. A 95% CI for the slope of the regression line was $0.39 \\pm 0.23$\n",
    "\n",
    "Hashem wants to use this interval to test $H_0: \\beta = 0$ vs $H_1: \\beta \\neq 0$ at the $\\alpha = 0.05$ level of significance. Assume that all conditions for interference have been met. \n",
    "\n",
    "95% CI: [0.16, 0.62]\n",
    "\n",
    "Assuming $H_0$ true, we are in $\\leq 5%$ situations where $\\beta$ does not overlap with 95% CI. So we reject $H_0$ and conclude that there is a linear relationship."
   ]
  },
  {
   "cell_type": "markdown",
   "metadata": {},
   "source": [
    "### Summary of simple linear regression\n",
    "What is the main goal?\n",
    "- Aproximate the data with a simple mathematical function y = f(x)\n",
    "\n",
    "What means simple?\n",
    "- Simple means to use only one independent variable x to describe the response y\n",
    "\n",
    "What means linear?\n",
    "- Linear means that the function is of the form f(x) = a + bx\n",
    "\n",
    "Why not nonlinear? Like f(x) = a + bx + cx?\n",
    "- That would be a parabolic fit, or a polynomial fit, and we could include other powers of x. It is possible to use nonlinear functions, but the statistical properties of the cofficients are more and more complex and difficult to evaluate\n",
    "- We do not study nonlinear fitting in this course\n",
    "\n",
    "A second goal of linear regression\n",
    "- Detect if the data has a trend. Even if we do not obtain a good model for the data, if the slope coefficient is significant we know there is a positive or negative trend, depending on the sign of the coefficient"
   ]
  },
  {
   "cell_type": "markdown",
   "metadata": {},
   "source": [
    "### Multiple regression\n",
    "- This time the response is a linear function of several independent variables\n",
    "- In practice the multiple regression can be a very powerful research tool, but it can also be very complex\n",
    "- Here we want to introduce it as a step ahead from the simple regression"
   ]
  },
  {
   "cell_type": "markdown",
   "metadata": {},
   "source": [
    "### Independent variables and response\n",
    "- The simple linear regression is to fit a two-column data set with the linear function $y = \\beta_0 + \\beta_1x$. That means we have the response and one independent variable\n",
    "- The multiple linear regression is performed for a n-column data set with one response and n-1 independent variables\n",
    "- **Important:** independent variables means they are not correlated; in practice a correlation test is needed (otherwise we have to deal with confounding problems).\n",
    "- For example, consider z response and x, y two independent variables. The data is\n",
    "$$\n",
    "x:x_1,x_2,...,x_n\\\\\n",
    "y:y_1,y_2,...,y_n\\\\\n",
    "z:z_1,z_2,...,z_n\\\\\n",
    "$$\n",
    "- We want the regression function $z = \\beta_0 + \\beta_1x + \\beta_2y$\n",
    "- Fitted data: $\\hat{z_i}= \\beta_0 + \\beta_1x_i + \\beta_2y_i$\n",
    "- Residuals: $z_i - \\hat{z_i}$"
   ]
  },
  {
   "cell_type": "markdown",
   "metadata": {},
   "source": [
    "### The calculus of the regression coefficients\n",
    "- The method of least squares: minimize the sum of residuals squared, this time using three regression coefficients:\n",
    "$$ S = \\sum_i(\\hat{z_i} - z_i)^2 = \\sum_i(\\beta_0 + \\beta_1x_i + \\beta_2y_i - z_i)^2$$\n",
    "\n",
    "- Now we have one intercept $\\beta_0$ and two slope parameters $\\beta_{1,2}$ to be found from three equations:\n",
    "$$\\frac{\\delta S}{\\delta \\beta_0} = 0 \\qquad \\frac{\\delta S}{\\delta \\beta_1} = 0 \\qquad \\frac{\\delta S}{\\delta \\beta_2} = 0$$\n",
    "\n",
    "- We obtain a system 3x3 and we can solve it to find the beta's\n",
    "- Formulas for the beta coefficients more complicated than for the simple regression, not shown here. Still nothing super difficult, just linear algebra."
   ]
  },
  {
   "cell_type": "markdown",
   "metadata": {},
   "source": [
    "### The multiple R squared\n",
    "- The $R^2$ coefficient is a key number in the multiple regression problem\n",
    "- The formula for $R^2$ is the same as for the simple regression, but now the result is no longer the square of a correlation coefficient of two variables.\n",
    "$$R^2 = \\frac{\\sum_i(\\hat{z_i} - \\bar{z})^2}{\\sum_i(z_i - \\bar{z})^2} = \\frac{Regression\\,sum\\,of\\,squares}{Total\\,sum\\,of\\,squares}$$\n",
    "- The interpretation is the same as for the simple regression: the fraction of the variance of the data described by the multiple regression. The rest is due to factors not considered, including data noise of unknown origin\n",
    "- The key question is: Is the multiple regression line $z = \\beta_0 + \\beta_1x + \\beta_2y$ better than a\n",
    "simple regression line $z = \\beta_0 + \\beta_1x$ or $z = \\beta_0 + \\beta_2y$?\n",
    "- The answer is yes only if each slope coefficient in the multiple regression is\n",
    "significant, and if $R^2$ is larger than in the simple regressions.\n",
    "- An increased $R^2$ means that the response data is better described with the formula with two variables. See the following example."
   ]
  },
  {
   "cell_type": "markdown",
   "metadata": {},
   "source": [
    "### An example of multiple regression analysis on problems 8.1.1 - 8.1.2 - 8.1.3\n",
    "A research on steel quality is conducted. The influence of the Manganese (M) content and of the sample thickness on the tensile strength is studied. The data file is ex8-1-3.csv\n",
    "\n",
    "Strength = response (z)\n",
    "\n",
    "Manganese = independant variable 1 (x)\n",
    "\n",
    "Thickness = independant variable 2 (y)\n",
    "\n",
    "Simple regression 1: \n",
    "\n",
    "Strength = 23.57 + 3.22 Manganese\n",
    "\n",
    "p-val of slope = $3.7e^{-7}$\n",
    "\n",
    "$R^2 = 0.77$\n",
    "\n",
    "77% of the data (of the variability of the strength) is attributable to the trend. Relatively strong trend, and significant. \n",
    "\n",
    "Simple regression 2:\n",
    "\n",
    "Strength = 51.37 - 0.3166 thickness\n",
    "\n",
    "p-val of slope = 0.336 (not significant)\n",
    "\n",
    "$R^2 = 0.05$\n",
    "\n",
    "Multiple regression:\n",
    "\n",
    "Strength = 26.64 + 3.32 manganese - 0.4249 thickness\n",
    "\n",
    "manganese p-val: 1.55 $e^{-8}$\n",
    "\n",
    "thickness p-val: 0.0036\n",
    "\n",
    "$R^2 = 0.86$\n",
    "\n",
    "As we can see the R^2 coefficient is higher for the multiple regression, and we can conclude that the this is a significant correlation since the p-value < 0.05. Thus the the multiple regression is a better approximation of the data than the simple linear regression. And this result is the same as is derived in the book on page 613. "
   ]
  },
  {
   "cell_type": "code",
   "execution_count": 4,
   "metadata": {},
   "outputs": [
    {
     "name": "stdout",
     "output_type": "stream",
     "text": [
      "Strength vs manganese\n",
      "LinregressResult(slope=3.223981900452487, intercept=23.571380090497748, rvalue=0.8775644154750207, pvalue=3.7345664922889427e-07, stderr=0.41517251045986087, intercept_stderr=3.221722630644887)\n",
      "R^2: 0.7701193033080148\n",
      "The correlation between the strength and the manganese is significant since p < 0.05\n",
      "95% CI: [2.3517,4.0962]\n",
      "\n",
      "Correlation coefficient of thickness and manganese: 0.08590840883408823\n",
      "p-value for thickness and manganese: 0.7187552212791959\n",
      "As we can see the correlation is not significant so we can conclude that the two variables are independant\n",
      "Strength vs thickness\n",
      "LinregressResult(slope=-0.316595794256422, intercept=51.36644725345138, rvalue=-0.2269517868019605, pvalue=0.3359277928413328, stderr=0.3202228522262508, intercept_stderr=2.9120302763549333)\n",
      "0.051507113532602525\n",
      "95% CI: [-0.9894,0.3562]\n",
      "\n"
     ]
    },
    {
     "data": {
      "text/plain": [
       "[<matplotlib.lines.Line2D at 0x7fb6b8421390>]"
      ]
     },
     "execution_count": 4,
     "metadata": {},
     "output_type": "execute_result"
    },
    {
     "data": {
      "image/png": "[encoded data removed]",
      "text/plain": [
       "<Figure size 432x288 with 2 Axes>"
      ]
     },
     "metadata": {
      "needs_background": "light"
     },
     "output_type": "display_data"
    },
    {
     "data": {
      "image/png": "[encoded data removed]",
      "text/plain": [
       "<Figure size 432x288 with 2 Axes>"
      ]
     },
     "metadata": {
      "needs_background": "light"
     },
     "output_type": "display_data"
    }
   ],
   "source": [
    "import pandas as pd\n",
    "import numpy as np\n",
    "from scipy.stats import linregress, pearsonr, t\n",
    "import matplotlib.pyplot as plt\n",
    "from sklearn import linear_model\n",
    "import statsmodels.api as sm\n",
    "\n",
    "df = pd.read_csv(\"datasets/Ch8/ex8-1-3.csv\")\n",
    "\n",
    "strength = df['Strength']\n",
    "manganese = df['Manganese']\n",
    "thickness = df['Thickness']\n",
    "\n",
    "figure, axis = plt.subplots(2)\n",
    "\n",
    "# simple regression 1; strength vs manganese\n",
    "axis[0].scatter(manganese, strength)\n",
    "sre_one = linregress(manganese, strength)\n",
    "sre_one_slope = sre_one.slope\n",
    "sre_one_intercept = sre_one.intercept\n",
    "sre_one_r_sq = sre_one.rvalue**2\n",
    "\n",
    "a1 = t.ppf(0.975, len(strength) - 2)\n",
    "\n",
    "lower_interval_r1 = sre_one_slope - a1 * sre_one.stderr\n",
    "higher_interval_r1 = sre_one_slope + a1 * sre_one.stderr\n",
    "\n",
    "figure, axis = plt.subplots(2)\n",
    "\n",
    "print(\"Strength vs manganese\")\n",
    "print(sre_one)\n",
    "print(f\"R^2: {sre_one_r_sq}\")\n",
    "print(\"The correlation between the strength and the manganese is significant since p < 0.05\")\n",
    "print(f\"95% CI: [{round(lower_interval_r1,4)},{round(higher_interval_r1,4)}]\")\n",
    "print()\n",
    "\n",
    "axis[0].plot(manganese, sre_one_slope * manganese + sre_one_intercept, color='red',linestyle='-')\n",
    "\n",
    "### test if thickness and maganese are independant variables\n",
    "r, p = pearsonr(thickness, manganese)\n",
    "print(f\"Correlation coefficient of thickness and manganese: {r}\")\n",
    "print(f\"p-value for thickness and manganese: {p}\")\n",
    "print(\"As we can see the correlation is not significant so we can conclude that the two variables are independant\")\n",
    "### p-value not significant, and thus not correlated\n",
    "\n",
    "### simple regression 2; strength vs thickness\n",
    "axis[1].scatter(thickness, strength)\n",
    "sre_two = linregress(thickness, strength)\n",
    "sre_two_slope = sre_two.slope\n",
    "sre_two_intercept = sre_two.intercept\n",
    "sre_two_r_sq = sre_two.rvalue**2\n",
    "\n",
    "a2 = t.ppf(0.975, len(strength) - 2)\n",
    "\n",
    "lower_interval_r2 = sre_two_slope - a2 * sre_two.stderr\n",
    "higher_interval_r2 = sre_two_slope + a2 * sre_two.stderr\n",
    "\n",
    "\n",
    "print(\"Strength vs thickness\")\n",
    "print(sre_two)\n",
    "print(sre_two_r_sq)\n",
    "print(f\"95% CI: [{round(lower_interval_r2,4)},{round(higher_interval_r2,4)}]\")\n",
    "print()\n",
    "\n",
    "axis[1].plot(thickness, sre_two_slope * thickness + sre_two_intercept, color='blue')\n",
    "#p-value not significant\n",
    "\n",
    "### try multiple regression\n",
    "#with statsmodel\n",
    "#see code cell below\n",
    " "
   ]
  },
  {
   "cell_type": "code",
   "execution_count": 38,
   "metadata": {},
   "outputs": [
    {
     "name": "stdout",
     "output_type": "stream",
     "text": [
      "                            OLS Regression Results                            \n",
      "==============================================================================\n",
      "Dep. Variable:               Strength   R-squared:                       0.862\n",
      "Model:                            OLS   Adj. R-squared:                  0.846\n",
      "Method:                 Least Squares   F-statistic:                     53.19\n",
      "Date:                Thu, 27 Oct 2022   Prob (F-statistic):           4.82e-08\n",
      "Time:                        14:47:11   Log-Likelihood:                -22.852\n",
      "No. Observations:                  20   AIC:                             51.70\n",
      "Df Residuals:                      17   BIC:                             54.69\n",
      "Df Model:                           2                                         \n",
      "Covariance Type:            nonrobust                                         \n",
      "==============================================================================\n",
      "                 coef    std err          t      P>|t|      [0.025      0.975]\n",
      "------------------------------------------------------------------------------\n",
      "const         26.6408      2.723      9.782      0.000      20.895      32.387\n",
      "Manganese      3.3201      0.332     10.001      0.000       2.620       4.021\n",
      "Thickness     -0.4249      0.126     -3.371      0.004      -0.691      -0.159\n",
      "==============================================================================\n",
      "Omnibus:                        1.387   Durbin-Watson:                   3.073\n",
      "Prob(Omnibus):                  0.500   Jarque-Bera (JB):                0.296\n",
      "Skew:                           0.186   Prob(JB):                        0.862\n",
      "Kurtosis:                       3.466   Cond. No.                         178.\n",
      "==============================================================================\n",
      "\n",
      "Notes:\n",
      "[1] Standard Errors assume that the covariance matrix of the errors is correctly specified.\n"
     ]
    }
   ],
   "source": [
    "x = sm.add_constant(df[['Manganese', 'Thickness']])\n",
    "\n",
    "model = sm.OLS(df['Strength'], x).fit()\n",
    "\n",
    "print_model = model.summary()\n",
    "print(print_model)"
   ]
  },
  {
   "cell_type": "markdown",
   "metadata": {},
   "source": [
    "### Is a multiple regression line better than a simple regression line \n",
    "We have to establish which case describes better the response data z:\n",
    "1. $z = \\beta_0 + \\beta_1x$\n",
    "2. $z = \\beta_0 + \\beta_2y$\n",
    "3. $z = \\beta_0 + \\beta_1x + \\beta2y$\n",
    "- The best approximation of the response data is given by the model with the largest R square coefficient. In the multiple regression model we need to check the p-values for the slope of each independent variable (x and y).\n",
    "- If such a p-value is > 0.05 - that variable has no contribution to the model and it should be removed. It only adds noise.\n",
    "- In practice the \"independent\" variables x. may be to some extent correlated.\n",
    "If they are \"too much\" correlated they create a \"confounding\" effect."
   ]
  },
  {
   "cell_type": "markdown",
   "metadata": {},
   "source": [
    "## Problems"
   ]
  },
  {
   "cell_type": "code",
   "execution_count": 5,
   "metadata": {},
   "outputs": [
    {
     "data": {
      "text/plain": [
       "(array([19., 21., 13.,  2.,  3.,  1.,  2.,  1.]),\n",
       " array([ 1.11   ,  3.89375,  6.6775 ,  9.46125, 12.245  , 15.02875,\n",
       "        17.8125 , 20.59625, 23.38   ]),\n",
       " <BarContainer object of 8 artists>)"
      ]
     },
     "execution_count": 5,
     "metadata": {},
     "output_type": "execute_result"
    },
    {
     "data": {
      "image/png": "[encoded data removed]",
      "text/plain": [
       "<Figure size 432x288 with 1 Axes>"
      ]
     },
     "metadata": {
      "needs_background": "light"
     },
     "output_type": "display_data"
    }
   ],
   "source": [
    "import pandas as pd\n",
    "import matplotlib.pyplot as plt\n",
    "\n",
    "df = pd.read_csv(\"./datasets/Ch1/table1-2.csv\")\n",
    "\n",
    "plt.hist(df, bins=4, color=\"blue\")\n",
    "\n",
    "plt.hist(df, bins=6, color=\"red\")\n",
    "\n",
    "plt.hist(df, bins=8, color=\"green\")"
   ]
  },
  {
   "cell_type": "code",
   "execution_count": 6,
   "metadata": {},
   "outputs": [
    {
     "data": {
      "text/plain": [
       "{'whiskers': [<matplotlib.lines.Line2D at 0x7fa250b65840>,\n",
       "  <matplotlib.lines.Line2D at 0x7fa250b65b10>],\n",
       " 'caps': [<matplotlib.lines.Line2D at 0x7fa250b65de0>,\n",
       "  <matplotlib.lines.Line2D at 0x7fa250b660b0>],\n",
       " 'boxes': [<matplotlib.lines.Line2D at 0x7fa250b65570>],\n",
       " 'medians': [<matplotlib.lines.Line2D at 0x7fa250b66380>],\n",
       " 'fliers': [<matplotlib.lines.Line2D at 0x7fa250b66650>],\n",
       " 'means': []}"
      ]
     },
     "execution_count": 6,
     "metadata": {},
     "output_type": "execute_result"
    },
    {
     "data": {
      "image/png": "[encoded data removed]",
      "text/plain": [
       "<Figure size 432x288 with 1 Axes>"
      ]
     },
     "metadata": {
      "needs_background": "light"
     },
     "output_type": "display_data"
    }
   ],
   "source": [
    "import pandas as pd\n",
    "import matplotlib.pyplot as plt\n",
    "\n",
    "df = pd.read_csv(\"./datasets/Ch1/table1-2.csv\")\n",
    "\n",
    "plt.boxplot(df)"
   ]
  },
  {
   "cell_type": "markdown",
   "metadata": {},
   "source": [
    "### Problem 1.1.5 (Page 13):\n",
    "A certain process for manufacturing integrated circuits has been in use for a period of time, and it is known that 12% of the circuits it produces are defective. A new process that is supposed to reduce the proportion of defectives is being tested. In a simple random sample of 100 circuits produced by the new process, 12 were defective. \n",
    "\n",
    "a)\tOne of the engineers suggests that the test proves that the new process is no better than the old process, since the proportion of defectives in the sample is the same. Is this conclusion justified? Explain. \n",
    "\n",
    "No, I think the sample size is too small to determine whether the new process is better, worse or the same. Since in such a small sample randomness plays a large role. \n",
    "\n",
    "b)\tAssume that there had been only 11 defective circuits in the sample of 100. Would this have proven that the new process is better? Explain.\n",
    "\n",
    "Again like in the answer above the sample size is just too small to justify when there is such a small difference.  \n",
    "\n",
    "c)\tWhich outcome represents stronger evidence that the new process is better: finding 11 defective circuits in the sample, or finding 2 defective circuits in the sample? \n",
    "\n",
    "Finding 2 defective circuits in the sample is much stronger evidence since the chance of that coming down to variance is much smaller than the process has actually improved. Going down from 12% defective circuits to 2% is such an significant improvement it is hard to argue that it because of variance. \n"
   ]
  },
  {
   "cell_type": "markdown",
   "metadata": {},
   "source": [
    "### Problem 1.1.6 (Page 13):\n",
    "Refer to Exercise 5. True or false: \n",
    "\n",
    "a)\tIf the proportion of defectives in the sample is less than 12%, it is reasonable to conclude that the new process is better. \n",
    "\n",
    "False\n",
    "\n",
    "b)\tIf the proportion of defectives in the sample is only slightly less than 12%, the difference could well be due entirely to sampling variation, and it is not reasonable to conclude that the new process is better. \n",
    "\n",
    "True\n",
    "\n",
    "c)\tIf the proportion of defectives in the sample is a lot less than 12%, it is very unlikely that the difference is due entirely to sampling variation, so it is reasonable to conclude that the new process is better. \n",
    "\n",
    "True\n"
   ]
  },
  {
   "cell_type": "markdown",
   "metadata": {},
   "source": [
    "### Problem 1.1.7 (Page 13):\n",
    "To determine whether a sample should be treated as a simple random sample, which is more important: a good knowledge of statistics, or a good knowledge of the process that produced the data? \n",
    "\n",
    "Good knowledge of statistics is more important and especially how to choose the data in the simple random sample, since a person who doesn’t know the correct method is likely to choose a sample of convenience instead a simple random sample. \n"
   ]
  },
  {
   "cell_type": "markdown",
   "metadata": {},
   "source": [
    "### Problem 1.2.5 (Page 23):\n",
    "Find a sample size for which the median will always equal one of the values in the sample. \n",
    "\n",
    "Sample size = 2n + 1 \n"
   ]
  },
  {
   "cell_type": "markdown",
   "metadata": {},
   "source": [
    "### Problem 1.2.6 (Page 23):\n",
    "For a list of positive numbers, is it possible for the standard deviation to be greater than the mean? If so, give an example. If not, explain why not. \n",
    "\n",
    "I would argue that the standard deviation is a calculation of how spread the data is from the mean and thus if all the data points are positive numbers it should be impossible for the standard devitation to be greater than the mean. Let‘s take a spread data set: \n",
    "\n",
    "data = [5.000, 10.000, 15.000, 20.000]\n",
    "\n",
    "Mean = 12.500\n",
    "\n",
    "Sd = 6454.97\n"
   ]
  },
  {
   "cell_type": "markdown",
   "metadata": {},
   "source": [
    "### Problem 1.2.7 (Page 23):\n",
    "Is it possible for the standard deviation of a list of numbers to equal 0? If so, give an example. If not, explain why not. \n",
    "\n",
    "Yes, if it is a list of the same number there is no devition, else there is always some deviation. \n",
    "\n",
    "Example:\n",
    "\n",
    "Data = [2, 2, 2, 2, 2]\n",
    "\n",
    "Mean = 2 \n",
    "\n",
    "Sd = 0\n",
    "\n",
    "Example:\n",
    "\n",
    "Data = [-1, 0, 1]\n",
    "\n",
    "Mean = 0 \n",
    "\n",
    "Sd = 1 \n"
   ]
  },
  {
   "cell_type": "markdown",
   "metadata": {},
   "source": [
    "### Problem 1.2.8\n",
    "In a certain company, every worker received a $50-per-week raise. How does this affect the mean salary? The standard deviation of the salaries?\n",
    "\n",
    "Let's look at an example: \n",
    "\n",
    "Salary before: {100, 150, 200}\n",
    "\n",
    "Mean before: 150\n",
    "\n",
    "Std before: 40.82\n",
    "\n",
    "Salary after: {150, 200, 250}\n",
    "\n",
    "Mean after: 200\n",
    "\n",
    "Std after: 40.82\n",
    "\n",
    "So we can see since the whole population is affected by the salary change the std doesn't change and the mean raises by the raise. "
   ]
  },
  {
   "cell_type": "markdown",
   "metadata": {},
   "source": [
    "### Problem 1.2.9\n",
    "In another company, every worker received a 5% raise. How does this affect the mean salary? The standard deviation of the salaries?\n",
    "\n",
    "Let's look at an example: \n",
    "\n",
    "Salary before: {100, 150, 200}\n",
    "\n",
    "Mean before: 150\n",
    "\n",
    "Std before: 40.82\n",
    "\n",
    "Salary after: {105, 157.5, 210}\n",
    "\n",
    "Mean after: 157.5\n",
    "\n",
    "Std after: 42.86\n",
    "\n",
    "So we can see since the whole population is affected by the salary change the std increases by 5% and the mean raises by 5% as well. "
   ]
  },
  {
   "cell_type": "markdown",
   "metadata": {},
   "source": [
    "### Problem 1.2.10"
   ]
  },
  {
   "cell_type": "code",
   "execution_count": 20,
   "metadata": {},
   "outputs": [
    {
     "data": {
      "text/html": [
       "<img src=\"problem1.2.10.jpg\" width=\"600\" height=\"200\"/>"
      ],
      "text/plain": [
       "<IPython.core.display.Image object>"
      ]
     },
     "execution_count": 20,
     "metadata": {},
     "output_type": "execute_result"
    }
   ],
   "source": [
    "from IPython.display import Image\n",
    "  \n",
    "# get the image\n",
    "Image(url=\"problem1.2.10.jpg\", width=600, height=200)"
   ]
  },
  {
   "cell_type": "markdown",
   "metadata": {},
   "source": [
    "### Problem 1.3.7 (Page 40):\n",
    "The figure below is a histogram showing the distribution of serum cholesterol level for a sample of men. Use the histogram to answer the following questions: \n",
    "\n",
    "a)\tIs the percentage of men with cholesterol levels above 240 mg/dL closest to 30%, 50%, or 70%? \n",
    "\n",
    "Relative Frequency (240mg/dL+) = 0.14 + 0.1 + 0.05 + 0 + 0.02 = 0.31\n",
    "\n",
    "So it‘s the closest to 30%\n",
    "\n",
    "b)\tIn which interval are there more men: 240–260 mg/dL or 280–340 mg/dL? \n",
    "\n",
    "Relative Frequency (240-260mg/dL) =  0.14 + 0.1 = 0.24  \n",
    "\n",
    "Relative Frequency (280-340mg/dL) = 0.05 + 0 + 0.02 = 0.07\n",
    "\n",
    "There are more men in the 240-260mg/dL.\n"
   ]
  },
  {
   "cell_type": "markdown",
   "metadata": {},
   "source": [
    "### Example 2.1 (Page 49):\n",
    "An electrical engineer has on hand two boxes of resistors, with four resistors in each box. The resistors in the first box are labeled 10 Ω (ohms), but in fact their resistances are 9, 10, 11, and 12 Ω. The resistors in the second box are labeled 20 Ω, but in fact their resistances are 18, 19, 20, and 21 Ω. The engineer chooses one resistor from each box and determines the resistance of each. \n",
    "\n",
    "Let A be the event that the first resistor has a resistance greater than 10, let B be the event that the second resistor has a resistance less than 19, and let C be the event that the sum of the resistances is equal to 28. Find a sample space for this experiment, and specify the subsets corresponding to the events A, B, and C. \n",
    "\n",
    "10 ohm box = {9, 10, 11, 12}\n",
    "\n",
    "20 ohm box = {18, 19, 20, 21}\n",
    "\n",
    "Sample space = all possible outcomes of picking one resistor from each box (16 outcomes) \n",
    "\n",
    "A = {(11, any out of box2), (12, any out of box2)}\n",
    "\n",
    "B = {(any out of box1,18), (any out of box1, 18}}\n",
    "\n",
    "C = {(9,19), (10,18}}\n"
   ]
  },
  {
   "cell_type": "markdown",
   "metadata": {},
   "source": [
    "### Problem 2.1.2 (Page 60):\n",
    "A die (six faces) has the number 1 painted on three of its faces, the number 2 painted on two of its faces, and the number 3 painted on one face. Assume that each face is equally likely to come up. \n",
    "\n",
    "1.\tFind a sample space for this experiment.\n",
    "\n",
    "    Sample space = {1,1,1,2,2,3} \n",
    "\n",
    "2.\tFind P(odd number). \n",
    "\n",
    "    P(odd number) = {1,1,1,3} / {1,1,1,2,2,3} = 4/6 = 2/3 = 66,67%\n",
    "\n",
    "3.\tIf the die were loaded so that the face with the 3 on it were twice as likely to come up as each of the other five faces, would this change the sample space? Explain.\n",
    "\n",
    "    Yes cause the likelihood that the three would come up would go from 1/6 to 2/7 which would change the sample space to {1,1,1,2,2,3,3}\n",
    "4.\tIf the die were loaded so that the face with the 3 on it were twice as likely to come up as each of the other   five faces, would this change the value of P(odd number)? Explain. \n",
    "\n",
    "    Yes since the sample space changes so does the probability. \n",
    "\n",
    "    P(odd number) = {1,1,1,3,3} / (1,1,1,2,2,3,3} = 5/7 \n",
    "\n",
    "    So the odds of rolling a odd number increases when the likelihood of an three increases. Which is logical. \n"
   ]
  },
  {
   "cell_type": "markdown",
   "metadata": {},
   "source": [
    "### Problem 2.1.3 (Page 60):\n",
    "A section of an exam contains four True-False questions. A completed exam paper is selected at random, and the four answers are recorded.\n",
    "1.\tList all 16 outcomes in the sample space.\n",
    "\n",
    "    SS = {TTTT, TTTF,TTFF, TFFF, FFFF, FTTT, FFTT, FFFT, TFFT,FTTF, FTFT, TFTF, FTFF, FFTF, TTFT, TFTT} \n",
    "\n",
    "2.\tAssuming the outcomes to be equally likely, find the probability that all the answers are the same. \n",
    "\n",
    "    P(All answers the same) = {TTTT, FFFF} / SS = 2/16 = 1/8\n",
    "\n",
    "3.\tAssuming the outcomes to be equally likely, find the probability that exactly one of the four answers is “True.” \n",
    "\n",
    "    P(exactly one True) = {TFFF, FTFF, FFTF, FFFT} / SS = 4/16 = 1/4\n",
    "\n",
    "4.\tAssuming the outcomes to be equally likely, find the probability that at most one of the four answers is “True.” \n",
    "\n",
    "    P(at most one True} = {FFFF, TFFF, FTFF, FFTF, FFFT} / SS = 5/16\n"
   ]
  },
  {
   "cell_type": "markdown",
   "metadata": {},
   "source": [
    "Problem 2.1.13 (Page 61)\n",
    "Let S be the event that a randomly selected college student has taken a statistics course, and let C be the event that the same student has taken a chemistry course. Suppose P(S) = 0.4, P(C) = 0.3, and P(S ∩ C) = 0.2. \n",
    "\t\n",
    "a)Find the probability that a student has taken statistics, chemistry, or both. \n",
    "\n",
    "P(Student completing S, C or both)= P(S∪C)= P(C) + P(S) - P(S∩C) = 0.9 = 50%\n",
    "\t\n",
    "b) Find the probability that a student has taken neither statistics nor chemistry. \n",
    "\n",
    "P(A^c)=1-P(A)\n",
    "\n",
    "P(A)=1-P(A^C)\n",
    "\n",
    "P(Student completing neither S nor C) = P(S^c∩C^c) = 1 -  P(Student completing S, C or both) = 0.5 = 50%\n",
    "\n",
    "c)Find the probability that a student has taken statistics but not chemistry. \n",
    "\n",
    "P(Student completing S but not C) = P(S) – P(S∩C) = 0.2 = 20%\n"
   ]
  },
  {
   "cell_type": "markdown",
   "metadata": {},
   "source": [
    "### Problem 2.16\n",
    "A system contains two components, A and B. The system will function so long as either A or B functions. The probability that A functions is 0.95, the probability that B functions is 0.90, and the probability that both function is 0.88. What is the probability that the system functions?\n",
    "\n",
    "$$ \n",
    "\\begin{align}P(A \\cup B) &= P(A) + P(B) - P(A \\cap B) \\\\ \n",
    "& = 0.95 + 0.90 - 0.88 \\\\ \n",
    "& = 0.97 \\\\ \n",
    "& = 97\\%\n",
    "\\end{align}\n",
    "$$\n",
    "\n"
   ]
  },
  {
   "cell_type": "markdown",
   "metadata": {},
   "source": [
    "### Problem 2.1.13\n",
    "Let S be the event that a randomly selected college student has taken a statistics course, and let C be the event that the same student has taken a chemistry course. Suppose $P(S) = 0.4, P(C) = 0.3, and P(S \\cap C) = 0.2$.\n",
    "\n",
    "a. Find the probability that a student has taken statistics, chemistry, or both.\n",
    "\n",
    "$P(S \\cup C) = P(S) + P(C) - P(S \\cap C)$\n",
    "\n",
    "$P(S \\cup C) = 0.4 + 0.3 - 0.2 = 0.5$\n",
    "\n",
    "b. Find the probability that a student has taken neither statistics nor chemistry.\n",
    "\n",
    "$P(S^c \\cap C^c) = 1 - P(S \\cup C)$ \n",
    "\n",
    "$P(S^c \\cap C^c)  = 1 - 0.5 = 0.5$\n",
    "\n",
    "c. Find the probability that a student has taken statistics but not chemistry.\n",
    "\n",
    "$P(S \\cap C^c) = P(S) - P(S \\cap C)$\n",
    "\n",
    "$P(S \\cap C^c) = 0.4 - 0.2 = 0.2$ \n"
   ]
  },
  {
   "cell_type": "markdown",
   "metadata": {},
   "source": [
    "### Problem 2.1.14\n",
    "Six hundred paving stones were examined for cracks, and 15 were found to be cracked. The same 600 stones were then examined for discoloration, and 27 were found to be discolored. A total of 562 stones were neither cracked nor discolored. One of the 600 stones is selected at random.\n",
    "\n",
    "$P(C) = 0.025$\n",
    "\n",
    "$P(D) = 0.045$\n",
    "\n",
    "$P(C^c \\cap D^c) = 0.9367$\n",
    "\n",
    "a. Find the probability that it is cracked, discolored, or both.\n",
    "\n",
    "$P(C \\cup D) = 1 - 0.9367 = 0.0633$\n",
    "\n",
    "b. Find the probability that it is both cracked and discolored.\n",
    "\n",
    "$P(C \\cup D) = P(C) + P(D) - P(C \\cap D)$ \n",
    "\n",
    "$ 0.0633 = 0.025 + 0.045 - P(C \\cap D)$\n",
    "\n",
    "$P(C \\cap D) = 0.025 + 0.045 - 0.0633 = 0.0067$\n",
    "\n",
    "c. Find the probability that it is cracked but not discolored.\n",
    "\n",
    "$P(C \\cap D^c) = P(C) - P(C \\cap D)$\n",
    "\n",
    "$P(C \\cap D^c) = 0.025 - 0.0067 = 0.0183$"
   ]
  },
  {
   "cell_type": "markdown",
   "metadata": {},
   "source": [
    "### Problem 2.1.16\n",
    "A system contains two components, A and B. The system will function so long as either A or B functions. The probability that A functions is 0.95, the probability that B functions is 0.90, and the probability that both function is 0.88. What is the probability that the system functions?\n",
    "\n",
    "$P(A) = 0.95$\n",
    "\n",
    "$P(B) = 0.90$\n",
    "\n",
    "$P(A \\cap B) = 0.88$\n",
    "\n",
    "$P(A \\cup B) = P(A) + P(B) - P(A \\cap B)$ \n",
    "\n",
    "$P(A \\cup B) = 0.95 + 0.90 - 0.88 = 0.97$"
   ]
  },
  {
   "cell_type": "markdown",
   "metadata": {},
   "source": [
    "### Problem 2.1.17\n",
    "A system contains two components, A and B. The system will function only if both components function. The probability that A functions is 0.98, the probability that B functions is 0.95, and the probability that either A or B functions is 0.99. What is the probability that the system functions?\n",
    "\n",
    "$P(A) = 0.98$\n",
    "\n",
    "$P(B) = 0.95$\n",
    "\n",
    "$P(A \\cup B) = 0.99$\n",
    "\n",
    "$P(A \\cap B) = P(A) + P(B) - P(A \\cup B)$\n",
    "\n",
    "$P(A \\cap B) = 0.98 + 0.95 - 0.99 = 0.94$"
   ]
  },
  {
   "cell_type": "markdown",
   "metadata": {},
   "source": [
    "### Problem 2.2.4 \n",
    "A group of 18 people have gotten together to play baseball. They will divide themselves into two teams of 9 players each, with one team wearing green uniforms and the other wearing yellow uniforms. In how many ways can this be done?\n",
    "\n",
    "This can be done in $\\begin{pmatrix} 18 \\\\ 9 \\end{pmatrix}$ ways.\n",
    "\n",
    "$\\begin{pmatrix} 18 \\\\ 9 \\end{pmatrix} = \\frac{18!}{9!(18 - 9)!} = 48620$ "
   ]
  },
  {
   "cell_type": "markdown",
   "metadata": {},
   "source": [
    "### Problem 2.2.6\n",
    "A college math department consisting of 10 faculty members must choose a department head, an assistant department head, and a faculty senate representative. In how many ways can this be done?\n",
    "\n",
    "\n",
    "This can be done:\n",
    "\n",
    "$\\begin{pmatrix} 10\\\\ 1 \\end{pmatrix} \\times \\begin{pmatrix} 9 \\\\ 1 \\end{pmatrix} \\times \\begin{pmatrix} 8\\\\ 1 \\end{pmatrix} = 720$\n"
   ]
  },
  {
   "cell_type": "markdown",
   "metadata": {},
   "source": [
    "### Problem 2.2.10\n",
    "Joe, Megan, and Santana are salespeople. Their sales manager has 18 accounts and must assign six accounts to each of them. In how many ways can this be done?\n",
    "\n",
    "$\\begin{pmatrix} 18 \\\\ 6 \\end{pmatrix} \\times \\begin{pmatrix} 12 \\\\ 6 \\end{pmatrix} \\times \\begin{pmatrix} 6 \\\\ 6 \\end{pmatrix} = 19489$\n"
   ]
  },
  {
   "cell_type": "markdown",
   "metadata": {},
   "source": [
    "### Problem 2.2.10 (4th edition)\n",
    "A company has hired 15 employees, and must assign 6 to the day shift, 5 to the graveyard shift, and 4 to the night shift. In how many ways can the assignment be made?\n",
    "\n",
    "$N = 15$\n",
    "\n",
    "$n_1 + n_2 + n_3 = 15$\n",
    "\n",
    "$n_1 = 6 \\quad n_2 = 5 \\quad n_3 = 4$\n",
    "\n",
    "Number of assignments to day shift:\n",
    "\n",
    "$\\begin{pmatrix} N \\\\ n_1 \\end{pmatrix} = \\begin{pmatrix} 15 \\\\ 6 \\end{pmatrix} = \\frac{15!}{6!(15 - 6)!}$\n",
    "\n",
    "Number of assignments to graveyard shift:\n",
    "\n",
    "$\\begin{pmatrix} N - n_1 \\\\ n_2 \\end{pmatrix} = \\begin{pmatrix} 9 \\\\ 5 \\end{pmatrix} = \\frac{9!}{5!(9 - 5)!}$\n",
    "\n",
    "Number of assignments to night shift:\n",
    "\n",
    "$\\begin{pmatrix} N - n_1 - n_2 \\\\ n_3 \\end{pmatrix} = \\begin{pmatrix} 4 \\\\ 4 \\end{pmatrix} = \\frac{4!}{4!(4 - 4)!}$\n",
    "\n",
    "Total number of possible assignment:\n",
    "\n",
    "$\\begin{pmatrix} N \\\\ n_1 \\end{pmatrix} \\begin{pmatrix} N - n_1 \\\\ n_2 \\end{pmatrix} \\begin{pmatrix} N - n_1 - n_2 \\\\ n_3 \\end{pmatrix} = \\frac{N!}{n_1!(N - n_1)!} \\times \\frac{(N - n_1)!}{n_2!(N - n_1 - n_2)!} \\times \\frac{(N - n_1 - n_2)!}{n_3!(N - n_1 - n_2 - n_3)!} = \\frac{N!}{n_1!n_2!n_3!} = \\frac{15!}{6!5!4!} = 630630$\n",
    "\n",
    "Skiptir ekki mali hvaða röð við veljum á vaktirnar þar sem loka svarið er ekki háð því. \n"
   ]
  },
  {
   "cell_type": "markdown",
   "metadata": {},
   "source": [
    "### Problem 2.2.11\n",
    "One drawer in a dresser contains 8 blue socks and 6 white socks. A second drawer contains 4 blue socks and 2 white socks. One sock is chosen from each drawer. What is the probability that they match?\n",
    "\n",
    "$\\frac{8}{14} * \\frac{4}{6} + \\frac{6}{14} * \\frac{2}{6} = 0.5238$"
   ]
  },
  {
   "cell_type": "markdown",
   "metadata": {},
   "source": [
    "### Problem 2.2.12\n",
    "A drawer contains 6 red socks, 4 green socks, and 2 black socks. Two socks are chosen at random. What is the probability that they match?\n",
    "\n",
    "$\\frac{6}{12} \\times \\frac{5}{11} + \\frac{4}{12} \\times \\frac{3}{11} + \\frac{2}{12} \\times \\frac{1}{11} = 0.33$"
   ]
  },
  {
   "cell_type": "markdown",
   "metadata": {},
   "source": [
    "### Problem week 2"
   ]
  },
  {
   "cell_type": "code",
   "execution_count": 21,
   "metadata": {},
   "outputs": [
    {
     "data": {
      "text/html": [
       "<div>\n",
       "<style scoped>\n",
       "    .dataframe tbody tr th:only-of-type {\n",
       "        vertical-align: middle;\n",
       "    }\n",
       "\n",
       "    .dataframe tbody tr th {\n",
       "        vertical-align: top;\n",
       "    }\n",
       "\n",
       "    .dataframe thead th {\n",
       "        text-align: right;\n",
       "    }\n",
       "</style>\n",
       "<table border=\"1\" class=\"dataframe\">\n",
       "  <thead>\n",
       "    <tr style=\"text-align: right;\">\n",
       "      <th></th>\n",
       "      <th>Too Thin</th>\n",
       "      <th>OK</th>\n",
       "      <th>Too Thick</th>\n",
       "    </tr>\n",
       "  </thead>\n",
       "  <tbody>\n",
       "    <tr>\n",
       "      <th>Too Short</th>\n",
       "      <td>10</td>\n",
       "      <td>3</td>\n",
       "      <td>5</td>\n",
       "    </tr>\n",
       "    <tr>\n",
       "      <th>OK</th>\n",
       "      <td>38</td>\n",
       "      <td>900</td>\n",
       "      <td>4</td>\n",
       "    </tr>\n",
       "    <tr>\n",
       "      <th>Too Long</th>\n",
       "      <td>2</td>\n",
       "      <td>25</td>\n",
       "      <td>13</td>\n",
       "    </tr>\n",
       "  </tbody>\n",
       "</table>\n",
       "</div>"
      ],
      "text/plain": [
       "           Too Thin   OK  Too Thick\n",
       "Too Short        10    3          5\n",
       "OK               38  900          4\n",
       "Too Long          2   25         13"
      ]
     },
     "execution_count": 21,
     "metadata": {},
     "output_type": "execute_result"
    }
   ],
   "source": [
    "import pandas as pd \n",
    "df = pd.read_csv('./datasets/Ch2/table2-1.csv', header=0)\n",
    "df.rename(index={0:'Too Short', 1:'OK', 2:'Too Long'}) "
   ]
  },
  {
   "cell_type": "markdown",
   "metadata": {},
   "source": [
    "a) P(too short), P(too thin), P(too short | too thin), P(too thin | too short), and show how Bayes’ rule \n",
    "works with these numbers. \n",
    "\n",
    "$P(too\\,short) = \\frac{18}{1000} = 0.018$ \n",
    "\n",
    "$P(too\\,thin) = \\frac{50}{1000} = 0.05$\n",
    "\n",
    "$P(too\\,short \\mid too thin) = \\frac{10}{50} = 0.20$\n",
    "\n",
    "$P(too\\,thin \\mid too short) = \\frac{10}{18} = 0.556$"
   ]
  },
  {
   "cell_type": "markdown",
   "metadata": {},
   "source": [
    "b) P(too long), P(too thick), P(too long | too thick), P(too thick | too long), and show how Bayes’ rule \n",
    "works with these numbers. \n",
    "\n",
    "$P(too\\,long) = \\frac{40}{1000} = 0.04$ \n",
    "\n",
    "$P(too\\,thick) = \\frac{22}{1000} = 0.022$\n",
    "\n",
    "$P(too\\,long \\mid too\\,thick) = \\frac{13}{22} = 0.59$ \n",
    "\n",
    "$P(too\\,thick \\mid too\\,long) = \\frac{13}{40} = 0.325$\n"
   ]
  },
  {
   "cell_type": "markdown",
   "metadata": {},
   "source": [
    "### Problem 2.3.8\n",
    "A drag racer has two parachutes, a main and a backup, that are designed to bring the vehicle to a stop after the end of a run. A = Suppose that the main chute deploys with probability 0.99, and that if the main fails to deploy, B = the backup deploys with probability 0.98.\n",
    "\n",
    "a. What is the probability that one of the two parachutes deploys?\n",
    "\n",
    "$P(A) = 0.99$\n",
    "\n",
    "$P(B \\mid A^c) = 0.98$\n",
    "\n",
    "$\\Rightarrow P(A \\cap B) = P(A \\mid B)P(B)$\n",
    "\n",
    "$\\Rightarrow P(B \\cap A) = P(B \\mid A)P(A)$\n",
    "\n",
    "$$\n",
    "\\begin{align}\n",
    "P(A \\cup B) &= 1 - P(A^c \\cap B^c) \\\\\n",
    "& = 1 - P(B^c \\cap A^c) \\\\\n",
    "& = 1 - P(B^c \\mid A^c) P(A^c) \\\\\n",
    "& = 1 - (1 - P(B \\mid A^c))(1 - P(A)) \\\\\n",
    "& = 1 - (1 - 0.98)(1 - 0.99) \\\\\n",
    "& = 0.998\n",
    "\\end{align}\n",
    "$$\n",
    "\n",
    "b. What is the probability that the backup parachute deploys?\n",
    "\n",
    "$$\n",
    "\\begin{align}\n",
    "P(B) &= P(B \\cap A) + P(B \\cap A^c) \\\\\n",
    "&= P(B \\mid A)P(A) + P(B \\mid A^c)P(A^c) \\\\\n",
    "&= 0 + 0.98 * 0.01 \\\\\n",
    "&= 0.0098\n",
    "\\end{align}\n",
    "$$"
   ]
  },
  {
   "cell_type": "markdown",
   "metadata": {},
   "source": [
    "### Problem 2.3.9 \n",
    "At a certain car dealership, 20% of customers who bought a new vehicle bought an SUV, and 3% of them bought a black SUV. Given that a customer bought an SUV, what is the probability that it was black?\n",
    "\n",
    "$P(S) = 0.20$\n",
    "\n",
    "$P(BS) = 0.03$\n",
    "\n",
    "$$\n",
    "\\begin{align}\n",
    "P(BS \\mid S) &= \\frac{P(BS \\cap S)}{P(S)} \\\\\n",
    "&= \\frac{P(BS)}{P(S)} \\\\\n",
    "&= \\frac{0.03}{0.20} \\\\\n",
    "&= 0.15\n",
    "\\end{align}\n",
    "$$"
   ]
  },
  {
   "cell_type": "markdown",
   "metadata": {},
   "source": [
    "### Problem 2.3.9 (4th edition)\n",
    "Of people in a certain city who bought a new vehicle in the past year, 12% of them bought a hybrid vehicle, and 5% of them bought a hybrid truck. Given that a person bought a hybrid vehicle, what is the probability that it was a truck. \n",
    "\n",
    "$P(A) = 0.12$\n",
    "\n",
    "$P(B) = P(A \\cap B) = 0.05$\n",
    "\n",
    "$P(B \\mid A) = \\frac{0.05}{0.12} = 0.4167$"
   ]
  },
  {
   "cell_type": "markdown",
   "metadata": {},
   "source": [
    "### Problem 2.3.15\n",
    "A population of 600 semiconductor wafers contains wafers from three lots. The wafers are categorized by lot and by whether they conform to a thickness specification. The (Page 86) following table presents the number of wafers in each category. A wafer is chosen\n",
    "at random from the population."
   ]
  },
  {
   "cell_type": "markdown",
   "metadata": {},
   "source": [
    "a) If the wafer is from Lot A, what is the probability that it is conforming?\n",
    "\n",
    "$$\n",
    "\\begin{align}\n",
    "P(C \\mid A) &= \\frac{P(C \\cap A)}{P(A)} \\\\\n",
    "&= \\frac{88}{100}\n",
    "\\end{align}\n",
    "$$"
   ]
  },
  {
   "cell_type": "code",
   "execution_count": 22,
   "metadata": {},
   "outputs": [
    {
     "data": {
      "text/html": [
       "<div>\n",
       "<style scoped>\n",
       "    .dataframe tbody tr th:only-of-type {\n",
       "        vertical-align: middle;\n",
       "    }\n",
       "\n",
       "    .dataframe tbody tr th {\n",
       "        vertical-align: top;\n",
       "    }\n",
       "\n",
       "    .dataframe thead th {\n",
       "        text-align: right;\n",
       "    }\n",
       "</style>\n",
       "<table border=\"1\" class=\"dataframe\">\n",
       "  <thead>\n",
       "    <tr style=\"text-align: right;\">\n",
       "      <th></th>\n",
       "      <th>Conforming</th>\n",
       "      <th>Nonconforming</th>\n",
       "    </tr>\n",
       "  </thead>\n",
       "  <tbody>\n",
       "    <tr>\n",
       "      <th>A</th>\n",
       "      <td>88</td>\n",
       "      <td>12</td>\n",
       "    </tr>\n",
       "    <tr>\n",
       "      <th>B</th>\n",
       "      <td>165</td>\n",
       "      <td>35</td>\n",
       "    </tr>\n",
       "    <tr>\n",
       "      <th>C</th>\n",
       "      <td>260</td>\n",
       "      <td>40</td>\n",
       "    </tr>\n",
       "  </tbody>\n",
       "</table>\n",
       "</div>"
      ],
      "text/plain": [
       "   Conforming  Nonconforming\n",
       "A          88             12\n",
       "B         165             35\n",
       "C         260             40"
      ]
     },
     "execution_count": 22,
     "metadata": {},
     "output_type": "execute_result"
    }
   ],
   "source": [
    "import pandas as pd\n",
    "\n",
    "df = pd.read_csv('./datasets/Ch2/ex2-3-15.csv', index_col=0)\n",
    "df"
   ]
  },
  {
   "cell_type": "code",
   "execution_count": 23,
   "metadata": {},
   "outputs": [
    {
     "data": {
      "text/plain": [
       "0.88"
      ]
     },
     "execution_count": 23,
     "metadata": {},
     "output_type": "execute_result"
    }
   ],
   "source": [
    "import pandas as pd\n",
    "import matplotlib.pyplot as plt\n",
    "\n",
    "df = pd.read_csv('./datasets/Ch2/ex2-3-15.csv', index_col=0)\n",
    "prob_conform_A = df.at['A', 'Conforming'] / df.loc['A'].sum()\n",
    "prob_conform_A\n"
   ]
  },
  {
   "cell_type": "markdown",
   "metadata": {},
   "source": [
    "b) If the wafer is conforming, what is the probability that it is from Lot A?\n",
    "\n",
    "$P(A) = 0.1667$\n",
    "\n",
    "$P(C) = 0.855$\n",
    "\n",
    "$$\n",
    "\\begin{align}\n",
    "P(A \\mid C) &= \\frac{P(C \\mid A)P(A)}{P(C)} \\\\\n",
    "&= \\frac{0.88 \\times 0.1667}{0.855} \\\\\n",
    "&= 0.172\n",
    "\\end{align}\n",
    "$$\n",
    "\n"
   ]
  },
  {
   "cell_type": "markdown",
   "metadata": {},
   "source": [
    "c. If the wafer is conforming, what is the probability that it is not from Lot C?\n",
    "\n",
    "$P(LC) = 0.5$\n",
    "\n",
    "$P(C) = 0.855$\n",
    "\n",
    "$P(C \\mid LC) = \\frac{260}{300} = 0.8667$\n",
    "\n",
    "$$\n",
    "\\begin{align}\n",
    "P(LC \\mid C) &= \\frac{P(C \\mid LC)P(LC)}{P(C)} \\\\\n",
    "&= \\frac{0.8667 \\times 0.5}{0.855} \\\\\n",
    "&= 0.507\n",
    "\\end{align}\n",
    "$$\n"
   ]
  },
  {
   "cell_type": "markdown",
   "metadata": {},
   "source": [
    "d. If the wafer is not from Lot C, what is the probability that it is conforming?\n",
    "\n",
    "$P(C \\mid nLC) = \\frac{253}{300} = 0.843$"
   ]
  },
  {
   "cell_type": "markdown",
   "metadata": {},
   "source": [
    "### Problem 2.3.24 \n",
    "A lot of 1000 components contains 300 that are defective. Two components are drawn at random and tested. Let A be the event that the first component drawn is defective, and let B be the event that the second component drawn is defective.\n",
    "\n",
    "$P(A) = \\frac{300}{1000} = 0.30$\n",
    "\n",
    "$P(B) = \\frac{\\frac{300}{999}\\frac{299}{999}}{2} = 0.2998$\n",
    "\n",
    "$P(B \\mid A) = \\frac{299}{999} = 0.2993$\n",
    "\n",
    "$P(A \\cap B) = \\frac{300}{1000} \\times \\frac{299}{999} = 0.09$ \n",
    "\n",
    "$P(A^c \\cap B) = \\frac{700}{1000} \\times \\frac{300}{999} = 0.21$\n",
    "\n",
    "$P(A \\mid B) = \\frac{P(A)P(B \\mid A)}{P(A)P(B \\mid A) + P(nA)P(B \\mid nA)} = \\frac{P(B \\mid A)P(A)}{P(B)}$\n",
    "\n",
    "$P(A \\mid B) = \\frac{0.30 \\times 0.2993}{0.30 \\times 0.2993 + 0.70 \\times 0.7001} = 0.155$\n",
    "\n",
    "Are A and B independent? Is it reasonable to treat A and B as though they were independent? Explain. (?)"
   ]
  },
  {
   "cell_type": "code",
   "execution_count": 24,
   "metadata": {},
   "outputs": [
    {
     "name": "stdout",
     "output_type": "stream",
     "text": [
      "0.300000\n",
      "0.301160\n",
      "0.090510\n"
     ]
    }
   ],
   "source": [
    "from random import sample\n",
    "\n",
    "\n",
    "x = 300 * [1] + 700 * [0]  \n",
    "n = 100000\n",
    "\n",
    "draw_A = []\n",
    "draw_B = []\n",
    "for i in range(0,n):\n",
    "    rand_draw = sample(x,2)\n",
    "    draw_A.append(rand_draw[0])\n",
    "    draw_B.append(rand_draw[1])\n",
    "\n",
    "P_A = sum(draw_A) / n\n",
    "P_B = sum(draw_B) / n\n",
    "\n",
    "print(f'{P_A:5f}')\n",
    "print(f'{P_B:5f}')\n",
    "\n",
    "\n",
    "multiplyAB = [a*b for a,b in zip(draw_A, draw_B)]\n",
    "\n",
    "P_A_and_B = sum(multiplyAB) / n\n",
    "\n",
    "print(f'{P_A_and_B:5f}')"
   ]
  },
  {
   "cell_type": "markdown",
   "metadata": {},
   "source": [
    "### Problem 2.3.27\n",
    "Each day, a weather forecaster predicts whether or not it will rain. For 80% of rainy days, she correctly predicts that it will rain. For 90% of non-rainy days, she correctly predicts that it will not rain. Suppose that 10% of days are rainy and 90% are non-rainy.\n",
    "\n",
    "a) What proportion of the forecasts are correct?\n",
    "\n",
    "$P(R) = 0.10$\n",
    "\n",
    "$P(nR) = 0.90$ \n",
    "\n",
    "$P(P \\mid R) = 0.80$\n",
    "\n",
    "$P(P \\mid nR) = 0.90$\n",
    "\n",
    "$P(P) = 0.90 \\times 0.90 + 0.1 \\times 0.8 = 0.89$\n",
    "\n",
    "b) Another forecaster always predicts that there will be no rain. What proportion of these forecasts are correct?\n",
    "\n",
    "$P(nR) = 0.90$"
   ]
  },
  {
   "cell_type": "markdown",
   "metadata": {},
   "source": [
    "### Problem 2.3.30\n",
    "The proportion of people in a given community who have a certain disease is 0.05. A test is available to diagnose the disease. If a person has the disease, the probability that the test will produce a positive signal is 0.99. If a person does not have the disease, the probability that the test will produce a positive signal is 0.01. \n",
    "\n",
    "$\n",
    "P(D) = 0.05 \\\\\n",
    "P(+) = 0.01 \\\\\n",
    "P(+ \\mid D) = 0.99\n",
    "$\n",
    "\n",
    "a) Given that the test is positive, what is the probability that the person has the disease?\n",
    "\n",
    "$P(D \\mid +) = \\frac{0.05 * 0.99}{0.05 * 0.99 + 0.95 * 0.01} = 0.83898$\n",
    "\n",
    "b) Given that the test is negative, what is the probability that the person does not have the disease?\n",
    "\n",
    "$P(nD \\mid -) = \\frac{0.95 * 0.99}{0.95 * 0.99 + 0.05 * 0.01} = 0.99946865$"
   ]
  },
  {
   "cell_type": "markdown",
   "metadata": {},
   "source": [
    "### Problem 2.3.31\n",
    "Sickle-cell anemia is an inherited disease in which red blood cells are misshapen and sticky. Sickle cells tend to form clumps in blood vessels, inhibiting the flow of blood. Humans have two genes for sickle-cell anemia, either of which may be S for normal cells or s for sickle cells. A person with two copies of the s gene will have sickle-cell anemia. A person with one s gene and one S gene will not have the disease, but will be a carrier, which means that the s gene may be transmitted to the person’s offspring. If two carriers have a child, the probability is 0.25 that the child will have the disease and 0.5 that the child will be a carrier. Outcomes among children are independent.\n",
    "\n",
    "Sample space = {ss, sS, Ss, SS}\n",
    "$\n",
    "P(SC \\mid PC) = 0.25 \\\\\n",
    "P(CC \\mid PC) = 0.5\n",
    "$ \n",
    "\n",
    "a) A mother and father who are both carriers have two children. What is the probability that neither child has the disease?\n",
    "\n",
    "$P(SC \\mid PC) * P(SC \\mid PC) = 0.0625$\n",
    "\n",
    "b) What is the probability that both children are carriers?\n",
    "\n",
    "$P(CC \\mid PC) * P(CC \\mid PC) = 0.25$ \n",
    "\n",
    "c) If neither child has the disease, what is the probability that both are carriers?\n",
    "\n",
    "$P(Both carriers, if not diseas) = \\frac{2}{3} \\times \\frac{2}{3} = 0.444$\n",
    "\n",
    "d) A woman who is the child of two carriers has a child by a man who is a carrier. What is the probability that this child has the disease?\n",
    "\n",
    "$P(women is carrier) * P(disease) = 0.5 * 0.25 = 0.125$ "
   ]
  },
  {
   "cell_type": "markdown",
   "metadata": {},
   "source": [
    "### Problem 2.3.34\n",
    "A system consists of four components connected as shown in the following diagram:"
   ]
  },
  {
   "cell_type": "code",
   "execution_count": 25,
   "metadata": {},
   "outputs": [
    {
     "data": {
      "text/html": [
       "<img src=\"Problem2.3.34.jpg\" width=\"600\" height=\"200\"/>"
      ],
      "text/plain": [
       "<IPython.core.display.Image object>"
      ]
     },
     "execution_count": 25,
     "metadata": {},
     "output_type": "execute_result"
    }
   ],
   "source": [
    "from IPython.display import Image\n",
    "  \n",
    "# get the image\n",
    "Image(url=\"Problem2.3.34.jpg\", width=600, height=200)"
   ]
  },
  {
   "cell_type": "markdown",
   "metadata": {},
   "source": [
    "Assume A, B, C, and D function independently. If the probabilities that A, B, C, and D fail are 0.10, 0.05, 0.10, and 0.20, respectively, what is the probability that the system functions?"
   ]
  },
  {
   "cell_type": "markdown",
   "metadata": {},
   "source": [
    "$P(A) = 1 - 0.10 = 0.90$ \n",
    "\n",
    "$P(B) = 1 - 0.05 = 0.95$\n",
    "\n",
    "$P(C) = 1 - 0.10 = 0.90$\n",
    "\n",
    "$P(D) = 1 - 0.20 = 0.80$\n",
    "\n",
    "$P(K) = P(L1 \\cup L2) = P((A \\cap B) \\cup (C \\cup D))$\n",
    "\n",
    "$P(K) = P(A \\cap B) + P(C \\cup D) - P((A \\cap B) \\cap (C \\cup D))$\n",
    "\n",
    "$P(A \\cap B) = P(A)P(B) = 0.855$ because the events are independent. \n",
    "\n",
    "$P(C \\cup D) = P(C) + P(D) - P(C \\cap D) = P(C) + P(D) - P(C)P(D) = 0.98$\n",
    "\n",
    "$$\n",
    "\\begin{align}\n",
    "P(K) &= P(A \\cap B) + P(C \\cup D) - P((A \\cap B) \\cap (C \\cup D)) \\\\ \n",
    "&= (0.855) + (0.98) - P(A \\cap B)P(C \\cup D) \\\\\n",
    "&= (0.855) + (0.98) - (0.855)(0.98) \\\\\n",
    "&= 0.9971 \n",
    "\\end{align}\n",
    "$$\n",
    "\n"
   ]
  },
  {
   "cell_type": "markdown",
   "metadata": {},
   "source": [
    "### Problem 2.3.35\n",
    "A system consists of four components, connected as shown in the diagram. Suppose that the components function independently, and that the probabilities of failure are 0.05 for A, 0.03 for B, 0.07 for C, and 0.14 for D. Find the probability that the system functions.\n"
   ]
  },
  {
   "cell_type": "code",
   "execution_count": 26,
   "metadata": {},
   "outputs": [
    {
     "data": {
      "text/html": [
       "<img src=\"Problem2.3.35.jpg\" width=\"600\" height=\"200\"/>"
      ],
      "text/plain": [
       "<IPython.core.display.Image object>"
      ]
     },
     "execution_count": 26,
     "metadata": {},
     "output_type": "execute_result"
    }
   ],
   "source": [
    "from IPython.display import Image\n",
    "  \n",
    "# get the image\n",
    "Image(url=\"Problem2.3.35.jpg\", width=600, height=200)"
   ]
  },
  {
   "cell_type": "markdown",
   "metadata": {},
   "source": [
    "$ \n",
    "P(A) = 0.95 \\\\\n",
    "P(B) = 0.97 \\\\\n",
    "P(C) = 0.93 \\\\\n",
    "P(D) = 0.86\n",
    "$\n",
    "\n",
    "$\n",
    "P(C \\cap D) = P(C) + P(D) - P(C \\cap D) = 0.93 + 0.86 - 0.93 * 0.86 = 0.9902 \\\\\n",
    "P(K) = P(A \\cap B) + P(C \\cup D) - P((A \\cap B) \\cap (C \\cup D)) \\\\\n",
    "P(K) = P(A)P(B) + P(C \\cup D) - P(A \\cap B)P(C \\cup D) \\\\\n",
    "P(K) = 0.95 * 0.97 + 0.9902 - 0.9215 * 0.9902 = 0.99923\n",
    "$"
   ]
  },
  {
   "cell_type": "markdown",
   "metadata": {},
   "source": [
    "### Problem 2.4.2"
   ]
  },
  {
   "cell_type": "code",
   "execution_count": 27,
   "metadata": {},
   "outputs": [
    {
     "data": {
      "text/html": [
       "<div>\n",
       "<style scoped>\n",
       "    .dataframe tbody tr th:only-of-type {\n",
       "        vertical-align: middle;\n",
       "    }\n",
       "\n",
       "    .dataframe tbody tr th {\n",
       "        vertical-align: top;\n",
       "    }\n",
       "\n",
       "    .dataframe thead th {\n",
       "        text-align: right;\n",
       "    }\n",
       "</style>\n",
       "<table border=\"1\" class=\"dataframe\">\n",
       "  <thead>\n",
       "    <tr style=\"text-align: right;\">\n",
       "      <th></th>\n",
       "      <th>p(x)</th>\n",
       "    </tr>\n",
       "    <tr>\n",
       "      <th>x</th>\n",
       "      <th></th>\n",
       "    </tr>\n",
       "  </thead>\n",
       "  <tbody>\n",
       "    <tr>\n",
       "      <th>0</th>\n",
       "      <td>0.40</td>\n",
       "    </tr>\n",
       "    <tr>\n",
       "      <th>1</th>\n",
       "      <td>0.30</td>\n",
       "    </tr>\n",
       "    <tr>\n",
       "      <th>2</th>\n",
       "      <td>0.15</td>\n",
       "    </tr>\n",
       "    <tr>\n",
       "      <th>3</th>\n",
       "      <td>0.10</td>\n",
       "    </tr>\n",
       "    <tr>\n",
       "      <th>4</th>\n",
       "      <td>0.05</td>\n",
       "    </tr>\n",
       "  </tbody>\n",
       "</table>\n",
       "</div>"
      ],
      "text/plain": [
       "   p(x)\n",
       "x      \n",
       "0  0.40\n",
       "1  0.30\n",
       "2  0.15\n",
       "3  0.10\n",
       "4  0.05"
      ]
     },
     "execution_count": 27,
     "metadata": {},
     "output_type": "execute_result"
    }
   ],
   "source": [
    "import pandas as pd \n",
    "\n",
    "df = pd.read_csv('./datasets/Ch2/ex2-4-2.csv', index_col=0)\n",
    "\n",
    "df"
   ]
  },
  {
   "cell_type": "markdown",
   "metadata": {},
   "source": [
    "$P(X \\leq x) = \\sum_{x_i \\leq x} P(x_i)$\n",
    "\n",
    "$P(X \\leq 2) = P(0) + P(1) + P(2)$ "
   ]
  },
  {
   "cell_type": "code",
   "execution_count": 28,
   "metadata": {},
   "outputs": [
    {
     "data": {
      "text/plain": [
       "p(x)    0.85\n",
       "dtype: float64"
      ]
     },
     "execution_count": 28,
     "metadata": {},
     "output_type": "execute_result"
    }
   ],
   "source": [
    "import pandas as pd \n",
    "\n",
    "df = pd.read_csv('./datasets/Ch2/ex2-4-2.csv', index_col=0)\n",
    "\n",
    "df[0:3].sum()\n"
   ]
  },
  {
   "cell_type": "markdown",
   "metadata": {},
   "source": [
    "$P(X > 1) = 1 - P(x \\leq 1) = 1 - (P(0) + P(1)) = 0.30$\n",
    "\n",
    "eða \n",
    "\n",
    "$P(2) + P(3) + P(4) = 0.30$ "
   ]
  },
  {
   "cell_type": "markdown",
   "metadata": {},
   "source": [
    "Find expected value (E(X))\n",
    "\n",
    "$\\mu_x = \\sum_i P(x_i)$"
   ]
  },
  {
   "cell_type": "code",
   "execution_count": 29,
   "metadata": {},
   "outputs": [
    {
     "data": {
      "text/plain": [
       "1.1"
      ]
     },
     "execution_count": 29,
     "metadata": {},
     "output_type": "execute_result"
    }
   ],
   "source": [
    "import pandas as pd \n",
    "\n",
    "df = pd.read_csv('./datasets/Ch2/ex2-4-2.csv')\n",
    "\n",
    "E_x = (df['x'] * df['p(x)']).sum()\n",
    "\n",
    "E_x\n"
   ]
  },
  {
   "cell_type": "markdown",
   "metadata": {},
   "source": [
    "d) find variance ($ \\sigma^2_x$)\n",
    "\n",
    "$\\sigma^2_x = \\sum_i x^2 P(x_i) - (E(x))^2 = 2,6 - (1,1)^2 = 1,39$ \n"
   ]
  },
  {
   "cell_type": "markdown",
   "metadata": {},
   "source": [
    "### Problem 2.4.2 (page 112)  \n",
    "Computer chips often contain surface imperfections. For a certain type of computer chip, the probability mass function of the number of defects X is presented in the following table.\n",
    "\n",
    "a) Find $P(X \\leq 2)$\n",
    "\n",
    "b) Find $P(X \\gt 1)$\n",
    "\n",
    "c) Find $\\mu_x$\n",
    "\n",
    "d) Find $\\sigma_x^2$"
   ]
  },
  {
   "cell_type": "code",
   "execution_count": 30,
   "metadata": {},
   "outputs": [
    {
     "name": "stdout",
     "output_type": "stream",
     "text": [
      "a) P(X <= 2) = 0.85\n",
      "b) P(X > 1) = 0.3\n",
      "c) E(x) = 1.1\n",
      "d) Var(x) = 1.39\n"
     ]
    }
   ],
   "source": [
    "import pandas as pd \n",
    "\n",
    "df = pd.read_csv('./datasets/Ch2/ex2-4-2.csv')\n",
    "\n",
    "a = df.loc[df['x'] <= 2, 'p(x)'].sum()\n",
    "print(f'a) P(X <= 2) = {a}')\n",
    "\n",
    "b = df.loc[df['x'] > 1 , 'p(x)'].sum()\n",
    "print(f'b) P(X > 1) = {b}')\n",
    "\n",
    "mean = (df['x'] * df['p(x)']).sum()\n",
    "print(f'c) E(x) = {mean}')\n",
    "\n",
    "var = ((df['x'] - mean) * (df['x'] - mean) * df['p(x)']).sum()\n",
    "\n",
    "print(f'd) Var(x) = {round(var, 2)}')"
   ]
  },
  {
   "cell_type": "markdown",
   "metadata": {},
   "source": [
    "### Problem 2.4.7 (page 113) \n",
    "A computer sends a packet of information along a channel and waits for a return signal acknowledging that the packet has been received. If no acknowledgment is (page 113) received within a certain time, the packet is re-sent. Let X represent the number of times the packet is sent. Assume that the probability mass function of X is given by\n",
    "\n",
    "$$\n",
    " \\begin{equation}\n",
    "    p(x)=\n",
    "    \\begin{cases}\n",
    "      cx & for\\,x = 1,2,3,4,5 \\\\\n",
    "      0 & otherwise\n",
    "    \\end{cases}\n",
    "  \\end{equation}\n",
    "$$\n",
    "\n",
    "\n",
    "a) Find the value of the constant c so that p(x) is a probability mass function.\n",
    "\n",
    "$ \\sum_{x} cx = c(1 + 2 + 3 + 4 + 5) = 1$ \n",
    "\n",
    "$c = \\frac{1}{15}$\n",
    "\n",
    "b) Find P(X = 2).\n",
    "\n",
    "$P(X = 2) = 2 * \\frac{1}{15} = \\frac{2}{15}$ \n",
    "\n",
    "c) Find the mean number of times the packet is sent.\n",
    "\n",
    "$E(x) = \\frac{1}{15} * 1 + \\frac{2}{15} * 2 +  \\frac{3}{15} * 3 + \\frac{4}{15} * 4 + \\frac{5}{15} * 5 = 3.67$\n",
    "\n",
    "d) Find the variance of the number of times the packet is sent.\n",
    "\n",
    "$Var(x) = (1 - 3.67)^2 * \\frac{1}{15} + (2 - 3.67)^2 * \\frac{2}{15} +  (3 - 3.67)^2 * \\frac{3}{15} + (4 - 3.67)^2 * \\frac{4}{15} + (5 - 3.67)^2 * \\frac{5}{15} = \\frac{14}{9} = 1.56$\n",
    "\n",
    "e) Find the standard deviation of the number of times the packet is sent.\n",
    "\n",
    "$\\sigma = \\sqrt{Var(x)} = \\sqrt{\\frac{14}{9}} = \\frac{\\sqrt{14}}{3} = 1.247$"
   ]
  },
  {
   "cell_type": "markdown",
   "metadata": {},
   "source": [
    "### Problem 2.4.8 (page 113) \n",
    "After manufacture, computer disks are tested for errors. Let X be the number of errors detected on a randomly chosen disk. The following table presents values of the cumulative distribution function F(x) of X.\n",
    "\n",
    "a) What is the probability that two or fewer errors are detected?\n",
    "\n",
    "b) What is the probability that more than three errors are detected?\n",
    "\n",
    "c) What is the probability that exactly one error is detected?\n",
    "\n",
    "d) What is the probability that no errors are detected?\n",
    "\n",
    "e) What is the most probable number of errors to be detected?"
   ]
  },
  {
   "cell_type": "code",
   "execution_count": 31,
   "metadata": {},
   "outputs": [
    {
     "name": "stdout",
     "output_type": "stream",
     "text": [
      "a) F(2) = 0.83\n",
      "b) 1 - F(3) = 0.05\n",
      "c) F(1) - F(0) = 0.31\n",
      "d) F(0) = P(0) = 0.41\n",
      "e) P(Most likely) = 0\n"
     ]
    }
   ],
   "source": [
    "import pandas as pd \n",
    "\n",
    "df = pd.read_csv('./datasets/Ch2/ex2-4-8.csv')\n",
    "\n",
    "f_2 = df.at[2, 'F(x)']\n",
    "print(f'a) F(2) = {f_2}')\n",
    "\n",
    "b = 1 - df.at[3, 'F(x)']\n",
    "print(f'b) 1 - F(3) = {round(b,2)}')\n",
    "\n",
    "c = df.at[1, 'F(x)'] - df.at[0, 'F(x)']\n",
    "print(f'c) F(1) - F(0) = {c}')\n",
    "\n",
    "d = df.at[0, 'F(x)']\n",
    "print(f'd) F(0) = P(0) = {d}')\n",
    "\n",
    "p_x = pd.Series([0, 0.41, 0.72, 0.83, 0.95])\n",
    "df['P(x)'] = df['F(x)'] - p_x\n",
    "e = df.at[0, 'x']\n",
    "print(f'e) P(Most likely) = {e}')\n",
    "\n"
   ]
  },
  {
   "cell_type": "markdown",
   "metadata": {},
   "source": [
    "### Problem 2.4.10 (page 113) \n",
    "Candidates for a job are interviewed one by one until a qualified candidate is found. Thirty percent of the candidates are qualified.\n",
    "\n",
    "a) What is the probability that the first candidate is qualified?\n",
    "\n",
    "P(Q) = 0.3 \n",
    "\n",
    "b) What is the probability that the first candidate is unqualified and the second candidate is qualified?\n",
    "\n",
    "$P(nQ) * P(Q) = 0.7 * 0.3 = 0.21$\n",
    "\n",
    "c) Let X represent the number of candidates interviewed up to and including the first qualified candidate. Find P(X = 4).\n",
    "\n",
    "$P(X = 4) = 0.7 * 0.7 * 0.7 * 0.3 = 0.1029$\n",
    "\n",
    "d) Find the probability mass function of X.\n",
    "\n",
    "$f(x) = 0.7^{x - 1} * 0.3$"
   ]
  },
  {
   "cell_type": "markdown",
   "metadata": {},
   "source": [
    "### Problem 2.4.15\n",
    "The function lifetime of a transistor in a certain application is random with probability density. \n",
    "\n",
    "$$\n",
    " \\begin{equation}\n",
    "    f(t)=\n",
    "    \\begin{cases}\n",
    "      0.1e^{-0.1t} & t \\gt 0 \\\\\n",
    "      0 & t \\leq 0\n",
    "    \\end{cases}\n",
    "  \\end{equation}\n",
    "$$\n",
    "\n",
    "a) Find the mean lifetime\n",
    "\n",
    "$\\mu_t = \\int_{0}^\\infty tf(t)dt = 0.1 \\int_{0}^\\infty te^{-0.1t}dt = 0.1 \\times \\frac{1}{0.1^2} = 10$ \n",
    "\n",
    "10 mánuðir. \n",
    "\n",
    "b)\n",
    "\n",
    "$\\sigma_x^2 = \\int_{0}^{\\infty} t^2 f(t)dt - \\mu^2 = 0.1 \\int_{0}^{\\infty} t^2 e^{-0.1t} dt - \\mu^2 = 0.1 \\frac{2}{0.1^3} - 10^2 = 200 - 100 = 100$\n",
    "\n",
    "$\\sigma_x = 10$ (sqrt of b)\n",
    "\n",
    "c) \n",
    "\n",
    "$F(L) = P(0 \\lt t \\lt L) = \\int_{0}^{L} f(t)dt = 0.1 \\int_{0}^{L} e^{-0.1t} dt = 1 - e^{-0.1L}$\n",
    "\n",
    "d) \n",
    "\n",
    "$F(12) = P(0 \\lt t \\lt 12) = 1 - e^{-0.1 * 12} = 0.6988$\n"
   ]
  },
  {
   "cell_type": "markdown",
   "metadata": {},
   "source": [
    "### Problem 2.4.24\n",
    "Particles are a major component of air pollution in many areas. It is of interest to study the sizes of contaminating particles. Let X represent the diameter, in micrometers, of a randomly chosen particle. Assume that in a certain area, the probability density function of X is inversely proportional to the volume of the particle; that is, assume that\n",
    "\n",
    "$$\n",
    " \\begin{equation}\n",
    "    f(x)=\n",
    "    \\begin{cases}\n",
    "      \\frac{c}{x^3} & x \\geq 1 \\\\\n",
    "      0 & x \\lt 1\n",
    "    \\end{cases}\n",
    "  \\end{equation}\n",
    "$$\n",
    "\n",
    "where c is a constant. \n",
    "\n",
    "\n",
    "a) Find the value of c so that f(x) is a probability density function.\n",
    "\n",
    "$\n",
    "\\begin{align}\n",
    "1 &= \\int_{1}^{\\infty} \\frac{c}{x^3} dx\\\\\n",
    "&= c \\int_{1}^{A} \\frac{1}{x^3} dx \\,,\\, A \\rightarrow \\infty \\\\\n",
    "&= c -\\frac{1}{2x^2} \\Big|_{1}^{A} \\\\\n",
    "&= c (-\\frac{1}{2A^2} + \\frac{1}{2}) \\\\\n",
    "&= \\frac{c}{2} \\\\\n",
    "c &= 2\n",
    "\\end{align}\n",
    "$ \n",
    "\n",
    "b) Find the mean particle diameter.\n",
    "\n",
    "$\n",
    "\\begin{align}\n",
    "\\mu_x &= 2 \\int_{1}^{\\infty} x * \\frac{1}{x^3} dx\\\\\n",
    "&= 2 \\int_{1}^{A} \\frac{1}{x^2} dx \\,,\\, A \\rightarrow \\infty \\\\\n",
    "&= 2 -\\frac{1}{x} \\Big|_{1}^{A} \\\\\n",
    "&= 2 (-\\frac{1}{A} + \\frac{1}{1}) \\\\\n",
    "&= 2 * 1 \\quad (-\\frac{1}{A} -> 0) \\\\\n",
    "&= 2\n",
    "\\end{align}\n",
    "$ \n",
    "\n",
    "c) Find the cumulative distribution function of the particle diameter.\n",
    "\n",
    "$\n",
    "\\begin{align}\n",
    "F(a) &= 2 \\int_{1}^{a} \\frac{1}{x^3} dx\\\\\n",
    "&= 2 -\\frac{1}{2x^2} \\Big|_{1}^{a} \\\\\n",
    "&= 2 (-\\frac{1}{2a^2} + \\frac{1}{2}) \\\\\n",
    "&= 1 - \\frac{1}{a^2} \\\\\n",
    "\\end{align}\n",
    "$ \n",
    "\n",
    "d) Find the median particle diameter.\n",
    "\n",
    "$\n",
    "\\begin{align}\n",
    "0.5 &= 1 - \\frac{1}{a^2} \\\\\n",
    "a^2 &= \\frac{1}{0.5} \\\\\n",
    "a &= \\sqrt{2}\n",
    "\\end{align}\n",
    "$\n",
    "\n",
    "e) The term PM10 refers to particles 10 μm or less in diameter. What proportion of the contaminating particles are PM10?\n",
    "\n",
    "$\n",
    "\\begin{align}\n",
    "P(x \\leq 10) &= 2 \\int_{1}^{10} \\frac{1}{x^3} dx\\\\\n",
    "&= 2 -\\frac{1}{2x^2} \\Big|_{1}^{10} \\\\\n",
    "&= 2 (-\\frac{1}{200} + \\frac{1}{2}) \\\\\n",
    "&= 0.99 \\\\\n",
    "\\end{align}\n",
    "$ \n",
    "\n",
    "f) The term PM25 refers to particles 2.5 μm or less in diameter. What proportion of the contaminating particles are PM25?\n",
    "\n",
    "$\n",
    "\\begin{align}\n",
    "P(x \\leq 2.5) &= 2 \\int_{1}^{2.5} \\frac{1}{x^3} dx\\\\\n",
    "&= 2 -\\frac{1}{2x^2} \\Big|_{1}^{2.5} \\\\\n",
    "&= 2 (-\\frac{2}{25} + \\frac{1}{2}) \\\\\n",
    "&= 0.84 \\\\\n",
    "\\end{align}\n",
    "$ \n",
    "\n",
    "g) What proportion of the PM10 particles are PM25?\n",
    "\n",
    "$\\frac{0.84}{0.99} = 0.8484$"
   ]
  },
  {
   "cell_type": "markdown",
   "metadata": {},
   "source": [
    "### Problem 2.5.10\n",
    "A gas station earns $2.60 in revenue for each gallon of regular gas it sells, $2.75 for each gallon of midgrade gas, and $2.90 for each gallon of premium gas. Let X1, X2, and X3\n",
    "denote the numbers of gallons of regular, midgrade, and premium gasoline sold in a day. \n",
    "\n",
    "Assume that X1, X2, and X3 have means $\\mu_1 = 1500\\, \\mu_2 = 500\\,\\,and\\,\\mu_3 = 300$, \n",
    "\n",
    "and standard deviations $\\sigma_1 = 180\\,\\, \\sigma_2 = 90\\,\\,, and\\,\\, \\sigma_3 = 40$, respectively."
   ]
  },
  {
   "cell_type": "markdown",
   "metadata": {},
   "source": [
    "$c_1 = 2.6 \\\\ \n",
    "c_2 = 2.75 \\\\\n",
    "c_3 = 2.9$\n",
    "\n",
    "$ x_1 \\\\\n",
    "x_2 \\\\\n",
    "x_3$ \n",
    "\n",
    "$ \\mu_1 = 1500 \\\\\n",
    "\\mu_2 = 500 \\\\\n",
    "\\mu_3 = 300$\n",
    "\n",
    "$\\sigma_1 = 180 \\\\\n",
    "\\sigma_2 = 90 \\\\\n",
    "\\sigma_3 = 40$\n",
    "\n",
    "a) $\\mu = c_1 \\mu_1 + c_2 \\mu_2 + c_3 \\mu_3 = 6145$ $\n",
    "\n",
    "b) $\\sigma^2 = c_1^2 \\sigma_1^2 + c_2^2 \\sigma_2^2 + c_3^2 \\sigma_3^2$\n",
    "\n",
    "$\\sigma = \\sqrt{\\sigma^2} = 541.97$ $"
   ]
  },
  {
   "cell_type": "markdown",
   "metadata": {},
   "source": [
    "### Problem 2.6.2\n",
    "In a certain community, levels of air pollution may exceed federal standards for ozone or for particulate matter on some days. For a particular summer season, let X be the number of days on which the ozone standard is exceeded and let Y be the number of days on which the particulate matter standard is exceeded. Assume that the joint probability mass function of X and Y is given in the following table:\n",
    "\n",
    "Need explaining (?)\n",
    "\n",
    "a) Find the marginal probability mass function pX(x).\n",
    "\n",
    "b) Find the marginal probability mass function pY(y).\n",
    "\n",
    "c) Find $\\mu_x$.\n",
    "\n",
    "d) Find $\\mu_y$. \n",
    "\n",
    "e) Find $\\sigma_x$.\n",
    "\n",
    "f) Find $\\sigma_y$.\n",
    "\n",
    "g) Find Cov(X, Y).\n",
    "\n",
    "h) Find $\\rho_{X,Y}$.\n",
    "\n",
    "i) Are X and Y independent? Explain."
   ]
  },
  {
   "cell_type": "code",
   "execution_count": 32,
   "metadata": {},
   "outputs": [
    {
     "name": "stdout",
     "output_type": "stream",
     "text": [
      "a)\n",
      "p_x(0) = 0.26 \n",
      "p_x(1) = 0.48\n",
      "p_x(2) = 0.26\n",
      "b)\n",
      "p_y(0) = 0.33 \n",
      "p_y(1) = 0.48 \n",
      "p_y(2) = 0.19\n",
      "c) mu_x = 1.0\n",
      "d) mu_y = 0.86\n",
      "e) sigma_x = 0.1678743874230476\n",
      "f) sigma_y = 0.09300048461702293\n",
      "Cov(X,Y):\n",
      "[[0.00103333 0.00155   ]\n",
      " [0.00155    0.0031    ]]\n",
      "0.8660254037844386\n"
     ]
    }
   ],
   "source": [
    "import numpy as np\n",
    "from scipy.stats import pearsonr\n",
    "\n",
    "data = np.array([[0.10, 0.11, 0.05], [0.17, 0.23, 0.08], [0.06, 0.14, 0.06]])\n",
    "\n",
    "df = pd.DataFrame(data)\n",
    "\n",
    "cov = np.cov(df.iloc[0], df[0])\n",
    "\n",
    "p_x_zero = df.iloc[0].sum() \n",
    "\n",
    "p_x_one = df.iloc[1].sum() \n",
    "\n",
    "p_x_two  = df.iloc[2].sum()\n",
    "\n",
    "p_y_zero = df[0].sum()\n",
    "\n",
    "p_y_one = df[1].sum()\n",
    "\n",
    "p_y_two = df[2].sum()\n",
    "\n",
    "print(f'a)\\np_x(0) = {p_x_zero} \\np_x(1) = {round(p_x_one,4)}\\np_x(2) = {p_x_two}')\n",
    "print(f'b)\\np_y(0) = {p_y_zero} \\np_y(1) = {round(p_y_one,4)} \\np_y(2) = {p_y_two}')\n",
    "print(f'c) mu_x = {(p_x_zero * 0 + p_x_one * 1 + p_x_two * 2)}')\n",
    "print(f'd) mu_y = {round((p_y_zero * 0 + p_y_one * 1 + p_y_two * 2),4)}')\n",
    "print(f'e) sigma_x = {df.iloc[0].std() * 0 + df.iloc[1].std() * 1  + df.iloc[2].std() * 2}')\n",
    "print(f'f) sigma_y = {df[0].std() * 0 + df[1].std() * 1  + df[2].std() * 2}')\n",
    "print('Cov(X,Y):')\n",
    "print(cov)\n",
    "\n",
    "r, p = pearsonr(df.iloc[0], df[0])\n",
    "print(r)\n",
    "\n",
    "\n"
   ]
  },
  {
   "cell_type": "markdown",
   "metadata": {},
   "source": [
    "### Problem 3.2.3\n",
    "The length of a rod is to be measured by a process whose uncertainty is 3 mm. Several independent measurements will be taken, and the average of these measurements will be used to estimate the length of the rod. How many measurements must be made so that the uncertainty in the average will be 1 mm?\n",
    "\n",
    "$\\sigma = \\frac{3}{\\sqrt{n}}$\n",
    "\n",
    "$1 = \\frac{3}{\\sqrt{n}}$\n",
    "\n",
    "$n = 3^2 = 9$"
   ]
  },
  {
   "cell_type": "markdown",
   "metadata": {},
   "source": [
    "### Problem 3.2.6 \n",
    "A cylindrical hole is bored through a steel block, and a cylindrical piston is machined to fit into the hole. The diameter of the hole is 20.00 ± 0.01 cm, and the diameter of the piston is 19.90 ± 0.02 cm. The clearance is one-half the difference between the diameters. Estimate the clearance and find the uncertainty in the estimate."
   ]
  },
  {
   "cell_type": "code",
   "execution_count": 33,
   "metadata": {},
   "outputs": [
    {
     "data": {
      "text/html": [
       "<img src=\"Problem3.2.6.jpg\" width=\"600\" height=\"200\"/>"
      ],
      "text/plain": [
       "<IPython.core.display.Image object>"
      ]
     },
     "execution_count": 33,
     "metadata": {},
     "output_type": "execute_result"
    }
   ],
   "source": [
    "from IPython.display import Image\n",
    "  \n",
    "# get the image\n",
    "Image(url=\"Problem3.2.6.jpg\", width=600, height=200)"
   ]
  },
  {
   "cell_type": "markdown",
   "metadata": {},
   "source": [
    "$c = \\frac{1}{2}(D - d) = \\frac{1}{2}(20.00 - 19.90) = 0.05$\n",
    "\n",
    "$\\sigma_c^2 = c_1^2 \\sigma_D^2  + c_2^2 \\sigma_d^2 = (\\frac{1}{2})^2 (\\sigma_D^2 + \\sigma_d^2)$\n",
    "\n",
    "$\\sigma_c = \\sqrt{\\sigma_c^2} = \\frac{1}{2} \\sqrt{\\sigma_D^2 + \\sigma_d^2} = \\frac{1}{2} \\sqrt{(0.01)^2 + (0.02)^2} = 0.011$ cm\n",
    "\n",
    "$c = 0.05 \\pm 0.011$ cm"
   ]
  },
  {
   "cell_type": "markdown",
   "metadata": {},
   "source": [
    "### Proble 3.2.14\n",
    "A certain scale has an uncertainty of 3 g and a bias of 2 g.\n",
    "\n",
    "a) A single measurement is made on this scale. What are the bias and uncertainty in this measurement?\n",
    "\n",
    "$\\sigma = 3 g \\quad bias = 2 g$\n",
    "\n",
    "b) Four independent measurements are made on this scale. What are the bias and uncertainty in the average of these measurements?\n",
    "\n",
    "$\\sigma = \\frac{3g}{\\sqrt{n}} =  \\frac{3g}{\\sqrt{4}} = 1.5g \\quad bias = 2g$\n",
    "\n",
    "c) Four hundred independent measurements are made on this scale. What are the bias and uncertainty in the average of these measurements?\n",
    "\n",
    "$\\sigma = \\frac{3g}{\\sqrt{n}} =  \\frac{3g}{\\sqrt{400}} = 0.15g \\quad bias = 2g$\n",
    "\n",
    "d) As more measurements are made, does the uncertainty get smaller, get larger, or stay the same?\n",
    "\n",
    "The uncertainty gets smaller with more measurements.\n",
    "\n",
    "e) As more measurements are made, does the bias get smaller, get larger, or stay the same?\n",
    "\n",
    "The bias stays the same. "
   ]
  },
  {
   "cell_type": "markdown",
   "metadata": {},
   "source": [
    "### Problem 3.2.15\n",
    "The volume of a rock is measured by placing the rock in a graduated cylinder partially filled with water and measuring the increase in volume. Eight independent measurements are made. The average of the measurements is 87.0 mL, and the standard deviation is 2.0 mL.\n",
    "\n",
    "a) Estimate the volume of the rock, and find the uncertainty in the estimate.\n",
    "\n",
    "b) Eight additional measurements are made, for a total of 16. What is the uncertainty, approximately, in the average of the 16 measurements?\n",
    "\n",
    "c) Approximately how many measurements would be needed to reduce the uncertainty to 0.4 mL?"
   ]
  },
  {
   "cell_type": "markdown",
   "metadata": {},
   "source": [
    "$n = 8 \\\\ \n",
    "\\bar{v} = 87.0 \\\\ \n",
    "\\sigma_v = 2.0$\n",
    "\n",
    "a) $\\bar{v} = 87.0$ ml\n",
    "\n",
    "$\\sigma_{\\bar{v}} = \\frac{\\sigma_v}{\\sqrt{n}} = \\frac{2.0}{\\sqrt{8}} = 0.707$ ml\n",
    "\n",
    "b) $n = 16 \\qquad \\sigma_{\\bar{v}} = \\frac{\\sigma_v}{\\sqrt{n}} = \\frac{2.0}{\\sqrt{16}} = 0.5$ ml\n",
    "\n",
    "c) $0.4 = \\frac{2.0}{\\sqrt{n}}$\n",
    "\n",
    "$n = (\\frac{2.0}{0.4})^2 = 25$"
   ]
  },
  {
   "cell_type": "markdown",
   "metadata": {},
   "source": [
    "### Problem 3.3.2\n",
    "Given that X and Y are related by the given equation, and that X = 3.0 ± 0.1, estimate Y and its uncertainty.\n",
    "\n",
    "$X = 3.0 \\pm 0.1$\n",
    "\n",
    "$\\sigma_y = \\big|\\frac{dY}{dX}\\big| \\times \\sigma_x$\n",
    "\n",
    "a) $XY = 1$ \n",
    "\n",
    "$Y = \\frac{1}{X} = \\frac{1}{3} = 0.33$\n",
    "\n",
    "$\\sigma_Y = \\Big| -\\frac{1}{x^2} \\big| \\times \\sigma_X = \\big| -\\frac{1}{3^2} \\big| \\times 0.1 \\approx 0.01 \\Rightarrow Y = 0.33 \\pm 0.01$\n",
    "\n",
    "b) $\\frac{Y}{X} = 2$\n",
    "\n",
    "$Y = 2X = 6$\n",
    "\n",
    "$\\sigma_Y = \\big| 2 \\big| \\times \\sigma_X = \\big| 2 \\big| \\times 0.1 \\approx 0.02 \\Rightarrow Y = 6 \\pm 0.02$\n",
    "\n",
    "c) $\\sqrt{XY} = 3$\n",
    "\n",
    "$Y = \\frac{9}{X} = 3$ \n",
    "\n",
    "$\\sigma_Y = \\big| - \\frac{9}{x^2} \\big| \\times \\sigma_X = \\big|  - \\frac{9}{3^2}  \\big| \\times 0.1 = 0.1 \\Rightarrow Y = 3 \\pm 0.01$\n",
    "\n",
    "d) $Y \\sqrt{X} = 4$ \n",
    "\n",
    "$ Y = \\frac{4}{\\sqrt{X}} = \\frac{4}{\\sqrt{3}}$\n",
    "\n",
    "$\\sigma_Y = \\big| - \\frac{2}{x^{\\frac{3}{2}}} \\big| \\times \\sigma_X = \\big|  - \\frac{2}{3^{\\frac{3}{2}}}  \\big| \\times 0.1 \\approx 0.04 \\Rightarrow Y = \\frac{4}{\\sqrt{3}} \\pm 0.04$\n",
    "\n"
   ]
  },
  {
   "cell_type": "markdown",
   "metadata": {},
   "source": [
    "### Problem 3.4.1 \n",
    "Find the uncertainty in U, assuming that X = 10.0 ± 0.5, Y = 5.0 ± 0.1 \n",
    "\n",
    "$\\sigma_u = \\sqrt{(\\frac{\\delta U}{\\delta x} \\sigma_x)^2 + (\\frac{\\delta U}{\\delta y} \\sigma_y)^2}$ (formula for the propagation of errors)\n",
    "\n",
    "a) $U = XY^2$\n",
    "\n",
    "$$\n",
    "\\begin{align}\n",
    "\\sigma_u &= \\sqrt{(Y^2 * 0.5)^2 + ( 2XY * 0.1)^2} \\\\\n",
    "&= \\sqrt{(5^2 * 0.5)^2 + ( 2 * 10 * 5 * 0.1)^2} \\\\\n",
    "&= 16.007\n",
    "\\end{align}\n",
    "$$\n",
    "\n",
    "b) $U = X^2 + Y^2$\n",
    "\n",
    "$$\n",
    "\\begin{align}\n",
    "\\sigma_u &= \\sqrt{(2X * 0.5)^2 + ( 2Y * 0.1)^2} \\\\\n",
    "&= \\sqrt{(10 * 0.5)^2 + ( 2 * 5 * 0.1)^2} \\\\\n",
    "&= 5.099\n",
    "\\end{align}\n",
    "$$\n",
    "\n",
    "c) $U = \\frac{X^2 + Y^2}{2}$\n",
    "\n",
    "$$\n",
    "\\begin{align}\n",
    "\\sigma_u &= \\sqrt{(X * 0.5)^2 + (Y * 0.1)^2} \\\\\n",
    "&= \\sqrt{(10 * 0.5)^2 + ( 2 * 5 * 0.1)^2} \\\\\n",
    "&= 2.55\n",
    "\\end{align}\n",
    "$$"
   ]
  },
  {
   "cell_type": "markdown",
   "metadata": {},
   "source": [
    "### Problem 3.4.3\n",
    "From a fixed point on the ground, the distance to a certain tree is measured to be s = 55.2 ± 0.1 m and the angle from the point to the top of the tree is measured to be θ = 0.50 ± 0.02 radians. The height of the tree is given by h = s tan θ.\n",
    "\n",
    "$\\sigma_u = \\sqrt{(\\frac{\\delta U}{\\delta x} \\sigma_x)^2 + (\\frac{\\delta U}{\\delta y} \\sigma_y)^2}$ (formula for the propagation of errors)\n",
    "\n",
    "$\\sigma_s = 0.1m$\n",
    "\n",
    "$\\sigma_{\\theta} = 0.02 rads$\n",
    "\n",
    "a) Estimate h, and find the uncertainty in the estimate.\n",
    "\n",
    "$$\n",
    "\\begin{align}\n",
    "\\sigma_u &= \\sqrt{(\\frac{\\delta U}{\\delta s} \\sigma_s)^2 + (\\frac{\\delta U}{\\delta \\theta} \\sigma_{\\theta})^2} \\\\ \n",
    "&= \\sqrt{(\\tan{\\theta} * 0.1)^2 + (\\frac{s}{\\cos^2{\\theta}} 0.02)^2} \\\\\n",
    "&= \\sqrt{(\\tan{0.5} * 0.1)^2 + (\\frac{55.2}{\\cos^2{0.5}} 0.02)^2} \\\\\n",
    "&= 1.4345\n",
    "\\end{align}\n",
    "$$\n",
    "\n",
    "\n",
    "b) Which would provide a greater reduction in the uncertainty in h: reducing the\n",
    "uncertainty in s to 0.05 m or reducing the uncertainty in θ to 0.01 radians?\n",
    "\n",
    "$$\n",
    "\\begin{align}\n",
    "\\sigma_u &= \\sqrt{(\\frac{\\delta U}{\\delta s} \\sigma_s)^2 + (\\frac{\\delta U}{\\delta \\theta} \\sigma_{\\theta})^2} \\\\ \n",
    "&= \\sqrt{(\\tan{\\theta} * 0.1)^2 + (\\frac{s}{\\cos^2{\\theta}} 0.01)^2} \\\\\n",
    "&= \\sqrt{(\\tan{0.5} * 0.1)^2 + (\\frac{55.2}{\\cos^2{0.5}} 0.01)^2} \\\\\n",
    "&= 0.7188\n",
    "\\end{align}\n",
    "$$\n",
    "\n",
    "$$\n",
    "\\begin{align}\n",
    "\\sigma_u &= \\sqrt{(\\frac{\\delta U}{\\delta s} \\sigma_s)^2 + (\\frac{\\delta U}{\\delta \\theta} \\sigma_{\\theta})^2} \\\\ \n",
    "&= \\sqrt{(\\tan{\\theta} * 0.05)^2 + (\\frac{s}{\\cos^2{\\theta}} 0.02)^2} \\\\\n",
    "&= \\sqrt{(\\tan{0.5} * 0.05)^2 + (\\frac{55.2}{\\cos^2{0.5}} 0.02)^2} \\\\\n",
    "&= 1.4337\n",
    "\\end{align}\n",
    "$$\n",
    "\n",
    "Reducing the radians has much more of an effect. \n",
    "\n"
   ]
  },
  {
   "cell_type": "markdown",
   "metadata": {},
   "source": [
    "### Problem 4.1.4\n",
    "Let X and Y be Bernoulli random variables. Let Z = X + Y.\n",
    "\n",
    "a) Show that if X and Y cannot both be equal to 1, then Z is a Bernoulli random variable.\n",
    "\n",
    "If X = 1 then we have Z = 1 + 0 = 1 and if we have Y = 1 then we have Z = 0 + 1 = 1. If both X and Y = 0 then Z = 0 + 0 = 0, so Z is also a Bernoulli random variable since Z can only be either equal 0 or 1. \n",
    "\n",
    "b) Show that if X and Y cannot both be equal to 1, then $p_Z =p_X +p_Y$\n",
    "\n",
    "Likely hood that X = 1 is p. Likewise X = 0 is 1 - p.\n",
    "\n",
    "Likely hood that Y = 1 is p. Likewise Y = 0 is 1 - p.\n",
    "\n",
    "Z = 1 + 0 = p + (1 - p) = 1 \n",
    "\n",
    "Z = 0 + 1 = 1 - p + p = 1 \n",
    "\n",
    "Z = 0 + 0 = 1 - p + 1 - p = 0 \n",
    "\n",
    "\n",
    "c) Show that if X and Y can both be equal to 1, then Z is not a Bernoulli random variable.\n",
    "\n",
    "if X = 1 and Y = 1 then Z = 1 + 1 = 2 which doesn't equal a Bernoulli random variable, which can only be either 0 or 1. "
   ]
  },
  {
   "cell_type": "markdown",
   "metadata": {},
   "source": [
    "### Problem 4.1.6 \n",
    "Two dice are rolled. Let X = 1 if the dice come up doubles and let X = 0 otherwise. Let Y = 1 if the sum is 6, and let Y = 0 otherwise. Let Z = 1 if the dice come up both doubles and\n",
    "with a sum of 6 (that is, double 3), and let Z = 0 otherwise.\n",
    "\n",
    "a) Let $p_X$ denote the success probability for X. Find $p_X$.\n",
    "\n",
    "$P(X = 1) = \\frac{6\\, doubles}{6 * 6 \\, poss.} = \\frac{1}{6}$\n",
    "\n",
    "b) Let $p_Y$ denote the success probability for Y. Find $p_Y$.\n",
    "\n",
    "$P(Y = 1) = \\frac{count(1+5\\,, 2+4\\,, 3+3\\,, 4+2\\,, 5+1)}{6 * 6 \\, poss.} = \\frac{5}{36}$\n",
    "\n",
    "c) Let $p_Z$ denote the success probability for Z. Find $p_Z$.\n",
    "\n",
    "$P(Z = 1) = \\frac{1\\,case}{36}$\n",
    "\n",
    "d) Are X and Y independent?\n",
    "\n",
    "$Z = X \\cap Y$\n",
    "\n",
    "if independant then $P(X)P(Y) = P(Z)$. $P(X)P(Y) = \\frac{1}{6} \\times \\frac{5}{36} \\neq P(Z)$ so they are not independant. \n",
    "\n",
    "e) Does $p_Z$ = $p_Xp_Y$?\n",
    "\n",
    "No, see calculations above.\n",
    "\n",
    "f) Does Z = XY? Explain.\n",
    "\n",
    "if X = 1 and Y = 1 then Z = 1. If X = 1 and Y = 0 then Z = 0 and if X = 0 and Y = 1 then Z = 0. So as we can see Z = XY. "
   ]
  },
  {
   "cell_type": "markdown",
   "metadata": {},
   "source": [
    "### Problem 4.1.8 \n",
    "A Bernoulli random variable has variance 0.21. What are the possible values for its success probability?\n",
    "\n",
    "$Var(x) = p(1 - p)$\n",
    "\n",
    "$$\n",
    "\\begin{align}\n",
    "0.21 &= p(1 - p) \\\\\n",
    "\\frac{0.21}{p} &= 1 - p \\\\\n",
    "\\frac{0.21}{p} + p &= 1 \\\\ \n",
    "\\frac{0.21 + p^2}{p} &= 1 \\\\\n",
    "0.21 + p^2 &= p \\\\\n",
    "p^2 - p + 0.21 &= 0 \\\\\n",
    "p &= [0.3:0.7]\n",
    "\\end{align}\n",
    "$$"
   ]
  },
  {
   "cell_type": "markdown",
   "metadata": {},
   "source": [
    "### Problem 4.2.3\n",
    "Find the following probabilities:\n",
    "\n",
    "a) P(X = 2) when X ∼ Bin(4, 0.6)\n",
    "\n",
    "b) P(X > 2) when X ∼ Bin(8, 0.2)\n",
    "\n",
    "c) P(X ≤ 2) when X ∼ Bin(5, 0.4)\n",
    "\n",
    "d) P(3≤X≤5) when X ∼ Bin(6,0.7)"
   ]
  },
  {
   "cell_type": "code",
   "execution_count": 34,
   "metadata": {},
   "outputs": [
    {
     "name": "stdout",
     "output_type": "stream",
     "text": [
      "a) 0.3456\n",
      "b) 0.20308\n",
      "c) 0.68256\n",
      "d) 0.81188 or 0.81188\n"
     ]
    }
   ],
   "source": [
    "from scipy.stats import binom\n",
    "\n",
    "k_1 = 2\n",
    "n_1 = 4 \n",
    "p_1 = 0.6 \n",
    "\n",
    "x_eq_2 = binom.pmf(k_1, n_1, p_1) \n",
    "print(f'a) {x_eq_2}')\n",
    "\n",
    "k_2 = 2\n",
    "n_2 = 8\n",
    "p_2 = 0.2\n",
    "\n",
    "#P(x > 2) = 1 - P(x <= 2)\n",
    "\n",
    "x_gt_2 = 1 - binom.cdf(2, 8, 0.2)\n",
    "x_gt_2\n",
    "\n",
    "print(f'b) {round(x_gt_2,5)}')\n",
    "\n",
    "k_3 = 2\n",
    "n_3 = 5\n",
    "p_3 = 0.4\n",
    "\n",
    "x_leq_2 = binom.cdf(2,5,0.4)\n",
    "\n",
    "print(f'c) {x_leq_2}')\n",
    "\n",
    "k_4 = 5\n",
    "n_4 = 6\n",
    "p_4 = 0.7\n",
    "\n",
    "#P(x > 5) = 1 - P(x <= 5)\n",
    "\n",
    "x_gt_5 = 1 - binom.cdf(k_4, n_4, p_4)\n",
    "\n",
    "#P(x < 3) \n",
    "\n",
    "x_lt_3 = binom.cdf(2, n_4, p_4)\n",
    "\n",
    "three_leq_x_leq_five = 1 - x_gt_5 - x_lt_3\n",
    "\n",
    "other_way = sum(binom.pmf([i for i in range(3,6)], n_4, p_4))\n",
    "\n",
    "print(f'd) {round(three_leq_x_leq_five,5)} or {round(other_way,5)}')\n"
   ]
  },
  {
   "cell_type": "markdown",
   "metadata": {},
   "source": [
    "### Problem 4.2.9\n",
    "Several million lottery tickets are sold, and 60% of the tickets are held by women. Five winning tickets will be drawn at random.\n",
    "\n",
    "60% women\n",
    "\n",
    "40% men \n",
    "\n",
    "P = 0.6 (women)\n",
    "\n",
    "1 - p = 0.4 (men)\n",
    "\n",
    "n = 5\n",
    "\n",
    "a) What is the probability that three or fewer of the winners will be women?\n",
    "\n",
    "b) What is the probability that three of the winners will be of one gender and two of the winners will be of the other gender?"
   ]
  },
  {
   "cell_type": "code",
   "execution_count": 35,
   "metadata": {},
   "outputs": [
    {
     "name": "stdout",
     "output_type": "stream",
     "text": [
      "a) 0.66304\n",
      "b) 0.576\n"
     ]
    }
   ],
   "source": [
    "p = 0.6\n",
    "n = 5\n",
    "k_a = 3\n",
    "\n",
    "three_or_fewer = binom.cdf(k_a, n, p)\n",
    "print(f'a) {round(three_or_fewer,5)}')\n",
    "\n",
    "#P(3 women) + P(2 women) \n",
    "b_4_1_9 = binom.pmf(3, n, p) + binom.pmf(2, n, p)\n",
    "print(f'b) {round(b_4_1_9,5)}')"
   ]
  },
  {
   "cell_type": "markdown",
   "metadata": {},
   "source": [
    "### Problem 4.2.11\n",
    "A quality engineer samples 100 steel rods made on mill A and 150 rods made on mill B. Of the rods from mill A, 88 meet specifications, and of the rods from mill B, 135 meet specifications.\n",
    "\n",
    "Regla 4.7 segir okkur að ef við erum með binomial dreifingu (X ~ bin(n,p)) þá eru áætlaðar líkur p: \n",
    "\n",
    "$\\hat{p} = \\frac{\\bar{x}}{n}$\n",
    "\n",
    "$\\bar{x} = \\mu \\quad \\sigma_{\\bar{x}}^2 = \\sigma_{\\mu}^2 = np(1 - p) \\approx n\\hat{p}(1 - \\hat{p})$\n",
    "\n",
    "$\\sigma_{\\hat{p}} = \\sigma_{\\frac{\\bar{x}}{n}} = \\frac{\\sigma_{\\bar{x}}}{n} = \\frac{\\sqrt{n\\hat{p}(1 - \\hat{p})}}{n}= \\sqrt{\\frac{\\hat{p}(1 - \\hat{p})}{n}}$\n",
    "\n",
    "Mill A:\n",
    "\n",
    "N = 100\n",
    "\n",
    "$\\hat{p} = \\frac{88}{100} = 0.88$\n",
    "\n",
    "$1 - \\hat{p} = 0.12$\n",
    "\n",
    "Mill B:\n",
    "\n",
    "N = 150\n",
    "\n",
    "$\\hat{p} = \\frac{135}{150} = 0.90$\n",
    "\n",
    "$1 - \\hat{p} = 0.1$\n",
    "\n",
    "\n",
    "a) Estimate the proportion of rods from mill A that meet specifications, and find the uncertainty in the estimate.\n",
    "\n",
    "$\\hat{p} = \\frac{88}{100} = 0.88$\n",
    "\n",
    "$\\sigma_{\\hat{p}} = \\frac{\\sqrt{n\\hat{p}(1 - \\hat{p})}}{n}= \\sqrt{\\frac{\\hat{p}(1 - \\hat{p})}{n}} = \\sqrt{\\frac{0.88(1 - 0.88)}{100}} = 0.0325$\n",
    "\n",
    "b) Estimate the proportion of rods from mill B that meet specifications, and find the uncertainty in the estimate.\n",
    "\n",
    "$\\hat{p} = \\frac{135}{150} = 0.90$\n",
    "\n",
    "$\\sigma_{\\hat{p}} = \\frac{\\sqrt{n\\hat{p}(1 - \\hat{p})}}{n}= \\sqrt{\\frac{\\hat{p}(1 - \\hat{p})}{n}} = \\sqrt{\\frac{0.9(1 - 0.9)}{150}} = 0.0245$\n",
    "\n",
    "c) Estimate the difference between the proportions, and find the uncertainty in the estimate.\n",
    "\n",
    "$\\hat{p_a} - \\hat{p_b} = 0.90 - 0.88 = 0.02$\n",
    "\n",
    "$\\sigma = \\sqrt{\\sigma_{\\hat{p_a}}^2 + \\sigma_{\\hat{p_b}}^2} = 0.04069$ (Propagation of errors)"
   ]
  },
  {
   "cell_type": "markdown",
   "metadata": {},
   "source": [
    "### Problem 4.2.11 (4th edition)\n",
    "In a random sample of 100 parts ordered from vendor A, In a random sample of 200 parts ordered from vendor B, 10 were defective. \n",
    "\n",
    "Regla 4.7 segir okkur að ef við erum með binomial dreifingu (X ~ bin(n,p)) þá eru áætlaðar líkur p: $\\hat{p} = \\frac{\\bar{x}}{n}$\n",
    "\n",
    "$\\bar{x} = \\mu \\quad \\sigma_{\\bar{x}}^2 = \\sigma_mu^2 = np(1 - p) \\approx n\\hat{p}(1 - \\hat{p})$\n",
    "\n",
    "$\\sigma_{\\hat{p}} = \\sigma_{\\frac{\\bar{x}}{n}} = \\frac{\\sigma_{\\bar{x}}}{n} = \\frac{\\sqrt{n\\hat{p}(1 - \\hat{p})}}{n}= \\sqrt{\\frac{\\hat{p}(1 - \\hat{p})}{n}}$\n",
    "\n",
    "a) \n",
    "\n",
    "$\\hat{p} = \\frac{12}{100} = 0.12$\n",
    "\n",
    "$\\sigma_{\\hat{p_a}} = \\sqrt{\\frac{0.12(1 - 0.12)}{100}} = 0.0325$\n",
    "\n",
    "b)\n",
    "\n",
    "$\\hat{p} = \\frac{10}{200} = 0.05$\n",
    "\n",
    "$\\sigma_{\\hat{p_b}} = \\sqrt{\\frac{0.05(1 - 0.05)}{100}} = 0.0154$\n",
    "\n",
    "c)\n",
    "\n",
    "$\\hat{p_a} - \\hat{p_b} = 0.12 - 0.05 = 0.07$\n",
    "\n",
    "$\\sigma = \\sqrt{\\sigma_{\\hat{p_a}}^2 + \\sigma_{\\hat{p_b}}^2} = 0.036$ (Propagation of errors)\n"
   ]
  },
  {
   "cell_type": "markdown",
   "metadata": {},
   "source": [
    "### Problem 4.2.24\n",
    "One design for a system requires the installation of two identical components. The system will work if at least one of the components works. An alternative design requires four of these components, and the system will work if at least two of the four components work. If the probability that a component works is 0.9, and if the components function independently, which design has the greater probability of functioning?\n",
    "\n",
    "p = 0.9 \n",
    "\n",
    "System A:\n",
    "\n",
    "two components\n",
    "\n",
    "one has to work\n",
    "\n",
    "System B:\n",
    "\n",
    "four components \n",
    "\n",
    "two have to work\n",
    "\n",
    "$P(A) = P(c_1 \\cup c_2) = 0.9 + 0.9 - 0.9 * 0.9 = 0.99$\n",
    "\n",
    "or"
   ]
  },
  {
   "cell_type": "code",
   "execution_count": 36,
   "metadata": {},
   "outputs": [
    {
     "name": "stdout",
     "output_type": "stream",
     "text": [
      "P(A) = 0.99\n",
      "P(B) = 0.9963\n"
     ]
    }
   ],
   "source": [
    "n = 4\n",
    "p = 0.9\n",
    "k = 1\n",
    "\n",
    "print(f'P(A) = {1 - binom.pmf(0,2,p)}')\n",
    "\n",
    "print(f'P(B) = {1 - binom.cdf(k,n,p)}')"
   ]
  },
  {
   "cell_type": "markdown",
   "metadata": {},
   "source": [
    "So system B is more likely to function. "
   ]
  },
  {
   "cell_type": "markdown",
   "metadata": {},
   "source": [
    "### Problem 4.3.3\n",
    "The number of large packages delivered by a courier service follows a Poisson distribution with a rate of 5per day. Let X be the number of large packages delivered on a given day. Find:\n",
    "\n",
    "a) $P(X = 6) \\\\$\n",
    "b) $P(X \\leq 2)\\\\$\n",
    "c) $P(5 \\lt X \\lt8)\\\\$\n",
    "d) $\\mu_x\\\\$\n",
    "e) $\\sigma_x$"
   ]
  },
  {
   "cell_type": "code",
   "execution_count": 37,
   "metadata": {},
   "outputs": [
    {
     "name": "stdout",
     "output_type": "stream",
     "text": [
      "a) P(X = 6) = 0.14622\n",
      "b) P(X ≤ 2) = 0.87535\n",
      "c) P(5 < X < 8) = 0.25067\n",
      "d) mu_x = 5\n",
      "e) sigma_x = 2.23607\n"
     ]
    }
   ],
   "source": [
    "from scipy.stats import poisson\n",
    "from math import sqrt\n",
    "\n",
    "lambda_4_3_3 = 5\n",
    "a_4_3_3 = poisson.pmf(6, lambda_4_3_3)\n",
    "b_4_3_3 = 1 - poisson.cdf(2, lambda_4_3_3) \n",
    "c_4_3_3 = poisson.cdf(7, lambda_4_3_3) - poisson.cdf(5, lambda_4_3_3)\n",
    "\n",
    "\n",
    "\n",
    "print(f'a) P(X = 6) = {round(a_4_3_3,5)}')\n",
    "print(f'b) P(X ≤ 2) = {round(b_4_3_3,5)}')\n",
    "print(f'c) P(5 < X < 8) = {round(c_4_3_3,5)}')\n",
    "print(f'd) mu_x = {lambda_4_3_3}')\n",
    "print(f'e) sigma_x = {round(sqrt(lambda_4_3_3),5)}')\n",
    "\n"
   ]
  },
  {
   "cell_type": "markdown",
   "metadata": {},
   "source": [
    "### Problem 4.3.6\n",
    "K ~Bin(n,p), n er mjög stórt og p er mjög lítið. \n",
    "\n",
    "$\\lambda = \\mu = np \\Rightarrow p = \\frac{\\lambda}{n}$\n",
    "\n",
    "$P(k) = \\begin{pmatrix} n \\\\ k\\end{pmatrix}p^k (1 - p)^{n - k} = \\frac{n!}{k!(n - k)!} (\\frac{\\lambda}{n})^k(1 - \\frac{\\lambda}{n})^{n - k}$\n",
    "\n",
    "$n \\rightarrow \\infty \\quad P(k) = \\frac{\\lambda^k}{k} e^{-\\lambda}$\n",
    "\n",
    "K ~Poisson($\\lambda$)\n",
    "\n",
    "$\\mu = \\lambda \\\\\n",
    "\\sigma^2 = \\lambda \\\\\n",
    "\\sigma = \\sqrt{\\lambda}$\n",
    "\n",
    "One out of every 5000 individuals in a population carries a certain defective gene. A random sample of 1000 individuals is studied.\n",
    "\n",
    "$\\lambda = np = 1000 * \\frac{1}{5000} = 0.2$ "
   ]
  },
  {
   "cell_type": "code",
   "execution_count": 38,
   "metadata": {},
   "outputs": [
    {
     "name": "stdout",
     "output_type": "stream",
     "text": [
      "a) 0.16375\n",
      "b) 0.81873\n",
      "c) 0.0011485\n",
      "d) 0.2\n",
      "e) 0.44721\n"
     ]
    }
   ],
   "source": [
    "from scipy.stats import poisson\n",
    "from math import sqrt\n",
    "\n",
    "lambda_4_2_6 = 1000 / 5000\n",
    "\n",
    "#a P(x = 1)\n",
    "a_4_2_6 = poisson.pmf(1,lambda_4_2_6) # == binom.pmf(1,1000,1/5000)\n",
    "print(f'a) {round(a_4_2_6,5)}')\n",
    "\n",
    "#b P(x = 0) \n",
    "b_4_2_6 = poisson.pmf(0, lambda_4_2_6)\n",
    "print(f'b) {round(b_4_2_6,5)}')\n",
    "\n",
    "#c P(x > 2)\n",
    "c_4_2_6 = 1 - poisson.cdf(2, lambda_4_2_6)\n",
    "print(f'c) {round(c_4_2_6,7)}')\n",
    "\n",
    "#d avg = mu = lambda\n",
    "mu = lambda_4_2_6\n",
    "print(f'd) {mu}')\n",
    "\n",
    "#e stddev\n",
    "sigma = sqrt(lambda_4_2_6)\n",
    "print(f'e) {round(sigma,5)}')"
   ]
  },
  {
   "cell_type": "markdown",
   "metadata": {},
   "source": [
    "### Problem 4.3.11\n",
    "A microbiologist wants to estimate the concentration of a certain type of bacterium in a waste-water sample. She puts a 0.5 mL sample of the wastewater on a microscope slide and counts 39 bacteria. Estimate the concentration of bacteria, per mL, in this wastewater, and find the uncertainty in the estimate.\n",
    "\n",
    "$\\sigma_{\\lambda} = \\sqrt{\\frac{\\lambda}{t}}$"
   ]
  },
  {
   "cell_type": "code",
   "execution_count": 39,
   "metadata": {},
   "outputs": [
    {
     "name": "stdout",
     "output_type": "stream",
     "text": [
      "Mean:\n",
      "Lambda_bacteria = 78.0 bacteria/mL\n",
      "Uncertainty:\n",
      "Sigma_bacteria = 12.49 bacteria/mL\n"
     ]
    }
   ],
   "source": [
    "lambda_bac = 39 / 0.5\n",
    "sigma_bac = sqrt(lambda_bac / 0.5)\n",
    "print('Mean:')\n",
    "print(f'Lambda_bacteria = {lambda_bac} bacteria/mL')\n",
    "print('Uncertainty:')\n",
    "print(f'Sigma_bacteria = {round(sigma_bac,5)} bacteria/mL')"
   ]
  },
  {
   "cell_type": "markdown",
   "metadata": {},
   "source": [
    "### Problem 4.3.13 Þarf ad klara\n",
    "The number of defective components produced by a certain process in one day has a Poisson distribution with mean 20. Each defective component has probability 0.60 of being repairable.\n",
    "\n",
    "a) Find the probability that exactly 15 defective components are produced.\n",
    "\n",
    "b) Given that exactly 15 defective components are produced, find the probability that exactly 10 of them are repairable.\n",
    "\n",
    "$P(10 repairable | 15 defective) = P(15 defective | 10 repairable) P(15 defective)$\n",
    "\n",
    "$P(10 repairable | 15 defective) = \\frac{P(10 repairable \\cap 15 defective)}{P(15 defective)}$\n",
    "\n",
    "c) Let N be the number of defective components produced, and let X be the number of them that are repairable. Given the value of N, what is the distribution of X?\n",
    "\n",
    "d) Find the probability that exactly 15 defective components are produced, with exactly 10 of them being repairable."
   ]
  },
  {
   "cell_type": "code",
   "execution_count": 40,
   "metadata": {},
   "outputs": [
    {
     "name": "stdout",
     "output_type": "stream",
     "text": [
      "a) P(X = 15) = 0.05165\n"
     ]
    }
   ],
   "source": [
    "lambda_4_3_13 = 20\n",
    "p = 0.6\n",
    "\n",
    "a_4_3_13 = poisson.pmf(15, lambda_4_3_13)\n",
    "\n",
    "print(f'a) P(X = 15) = {round(a_4_3_13,5)}')\n"
   ]
  },
  {
   "cell_type": "markdown",
   "metadata": {},
   "source": [
    "### Problem 4.5.1\n",
    "Find the area under the normal curve\n",
    "\n",
    "a) To the right of z = −0.85.\n",
    "\n",
    "b) Between z = 0.40 and z = 1.30.\n",
    "\n",
    "c) Between z = −0.30 and z = 0.90.\n",
    "\n",
    "d) Outside z = −1.50 to z=−0.45."
   ]
  },
  {
   "cell_type": "code",
   "execution_count": 41,
   "metadata": {},
   "outputs": [
    {
     "name": "stdout",
     "output_type": "stream",
     "text": [
      "a) 0.80234\n",
      "b) 0.24778\n",
      "c) 0.43385\n",
      "d) 0.74045\n"
     ]
    }
   ],
   "source": [
    "from scipy.stats import norm\n",
    "\n",
    "mu = 0\n",
    "stddev = 1\n",
    "\n",
    "print(f'a) {round(1 - norm.cdf(-0.85, mu, stddev),5)}')\n",
    "print(f'b) {round(norm.cdf(1.3, mu, stddev) - norm.cdf(0.4, mu, stddev),5)}')\n",
    "print(f'c) {round(norm.cdf(0.9, mu, stddev) - norm.cdf(-0.3, mu, stddev),5)}')\n",
    "print(f'd) {round(1 - (norm.cdf(-0.45, mu, stddev) - norm.cdf(-1.5, mu, stddev)),5)}')\n"
   ]
  },
  {
   "cell_type": "markdown",
   "metadata": {},
   "source": [
    "### Problem 4.5.3\n",
    "Let Z ∼ N(0, 1). Find a constant c for which\n",
    "\n",
    "a) P(Z ≥ c) = 0.1587\n",
    "\n",
    "b) P(c≤Z≤0)=0.4772\n",
    "\n",
    "c) P(−c≤Z≤c)=0.8664\n",
    "\n",
    "d) P(0≤Z≤c)=0.2967\n",
    "\n",
    "e) P(|Z| ≤ c) = 0.1470"
   ]
  },
  {
   "cell_type": "code",
   "execution_count": 42,
   "metadata": {},
   "outputs": [
    {
     "name": "stdout",
     "output_type": "stream",
     "text": [
      "a) 0.999815\n",
      "b) -1.999077\n",
      "c) c = -1.500056 and 1.500056\n",
      "d) 0.829892\n",
      "e) c = -1.45021 and 1.45021\n"
     ]
    }
   ],
   "source": [
    "print(f'a) {round(norm.ppf(1 - 0.1587, 0, 1),6)}')\n",
    "print(f'b) {round(norm.ppf(1 - (0.4772 + 0.5), 0, 1),6)}')\n",
    "print(f'c) c = {round(norm.ppf((0.5 - 0.8664/2), 0, 1),6)} and {-round(norm.ppf((0.5 - 0.8664/2), 0, 1),6)}')\n",
    "print(f'd) {round(norm.ppf((0.5 + 0.2967), 0, 1),6)}')\n",
    "print(f'e) c = {round(norm.ppf((0.1470/2), 0, 1),6)} and {round(norm.ppf((1 - 0.1470/2), 0, 1),6)}')\n"
   ]
  },
  {
   "cell_type": "markdown",
   "metadata": {},
   "source": [
    "### Problem 4.5.7\n",
    "In a recent study, the Centers for Disease Control reported that diastolic blood pressures (in mmHg) of adult women in the U.S. are approximately normally distributed with mean 80.5 and standard deviation 9.9.\n",
    "\n",
    "a) What proportion of women have blood pressures lower than 70?\n",
    "\n",
    "b) What is the 80th percentile of blood pressures?\n",
    "\n",
    "c) A woman has a blood pressure of 84. What percentile is her blood pressure on?\n",
    "\n",
    "d) A diastolic blood pressure greater than 90 is classified as hypertension (high blood pressure). What proportion of women have hypertension?"
   ]
  },
  {
   "cell_type": "code",
   "execution_count": 43,
   "metadata": {},
   "outputs": [
    {
     "name": "stdout",
     "output_type": "stream",
     "text": [
      "a) 0.14443\n",
      "b) 88.83205\n",
      "c) 0.03786\n",
      "d) 0.16863\n"
     ]
    }
   ],
   "source": [
    "from scipy.stats import norm\n",
    "\n",
    "mean_4_5_7 = 80.5\n",
    "std_4_5_7 = 9.9\n",
    "\n",
    "\n",
    "print(f'a) {round(norm.cdf(70, mean_4_5_7, std_4_5_7),5)}')\n",
    "print(f'b) {round(norm.ppf(0.8, mean_4_5_7, std_4_5_7),5)}')\n",
    "print(f'c) {round(norm.pdf(84, mean_4_5_7, std_4_5_7),5)}')\n",
    "print(f'd) {round(norm.sf(90, mean_4_5_7, std_4_5_7),5)}')"
   ]
  },
  {
   "cell_type": "markdown",
   "metadata": {},
   "source": [
    "### Problem 4.5.9\n",
    "The lifetime of a lightbulb in a certain application is normally distributed with mean $\\mu$ = 1400 hours and standard deviation $\\sigma$ = 200 hours.\n",
    "\n",
    "a) What is the probability that a lightbulb will last more than 1800 hours?\n",
    "\n",
    "b) Find the 10th percentile of the lifetimes.\n",
    "\n",
    "c) A particular lightbulb lasts 1645 hours. What percentile is its lifetime on?\n",
    "\n",
    "d) What is the probability that the lifetime of a light-bulb is between 1350 and 1550 hours?\n",
    "\n",
    "e) Eight lightbulbs are chosen at random. What is the probability that exactly two of them have lifetimes between 1350 and 1550 hours?\n",
    "\n",
    "$P(X = 2) = \\begin{pmatrix} 8 \\\\2 \\end{pmatrix} p^{2}(1 - p)^{6}$"
   ]
  },
  {
   "cell_type": "code",
   "execution_count": 44,
   "metadata": {},
   "outputs": [
    {
     "name": "stdout",
     "output_type": "stream",
     "text": [
      "a) 0.02275\n",
      "b) 1143.69 hours\n",
      "c) 0.00094\n",
      "d) 0.37208\n",
      "e) 0.23761\n"
     ]
    }
   ],
   "source": [
    "from scipy.stats import norm\n",
    "from math import comb, pow\n",
    "\n",
    "mu_4_5_9 = 1400\n",
    "std_4_5_9 = 200\n",
    "d_4_5_9 = norm.cdf(1550, mu_4_5_9, std_4_5_9) - norm.cdf(1350, mu_4_5_9, std_4_5_9)\n",
    "\n",
    "print(f'a) {round(norm.sf(1800, mu_4_5_9, std_4_5_9),5)}')\n",
    "print(f'b) {round(norm.ppf(0.1, mu_4_5_9, std_4_5_9),3)} hours')\n",
    "print(f'c) {round(norm.pdf(1645, mu_4_5_9, std_4_5_9),5)}')\n",
    "print(f'd) {round(d_4_5_9,5)}')\n",
    "print(f'e) {round(comb(8,2) * pow(d_4_5_9,2) * pow((1 - d_4_5_9),6),5)}')\n",
    "\n"
   ]
  },
  {
   "cell_type": "markdown",
   "metadata": {},
   "source": [
    "### Problem 4.5.13\n",
    "A cylindrical hole is drilled in a block, and a cylindrical piston is placed in the hole. The clearance is equal to one-half the difference between the diameters of the hole and the piston. The diameter of the hole is normally distributed with mean 15 cm and standard deviation 0.025 cm, and the diameter of the piston is normally distributed with mean 14.88 cm and standard deviation 0.015 cm. The diameters of hole and piston are independent.\n",
    "\n",
    "a) Find the mean clearance.\n",
    "\n",
    "b) Find the standard deviation of the clearance.\n",
    "\n",
    "c) What is the probability that the clearance is less than 0.05 cm?\n",
    "\n",
    "d) Find the 25th percentile of the clearance.\n",
    "\n",
    "e) Specifications call for the clearance to be between 0.05 and 0.09 cm. What is the probability that the clearance meets the specification?\n",
    "\n",
    "f) It is possible to adjust the mean hole diameter. To what value should it be adjusted so as to maximize the probability that the clearance will be between 0.05 and 0.09 cm?"
   ]
  },
  {
   "cell_type": "code",
   "execution_count": 45,
   "metadata": {},
   "outputs": [
    {
     "name": "stdout",
     "output_type": "stream",
     "text": [
      "a) 0.06\n",
      "b) 0.01458\n",
      "c) 0.2464\n",
      "d) 0.05017\n",
      "e) 0.73379\n",
      "f) 15.02 cm\n"
     ]
    }
   ],
   "source": [
    "from scipy.stats import norm\n",
    "from math import sqrt, pow\n",
    "\n",
    "mean_hole = 15\n",
    "std_hole = 0.025\n",
    "\n",
    "mean_piston = 14.88\n",
    "std_piston = 0.015\n",
    "\n",
    "mean_clearance = round((mean_hole - mean_piston) / 2,3)\n",
    "var_clearance = pow(0.5, 2) * (pow(std_hole,2) + pow(std_piston,2))\n",
    "std_clearance = round(sqrt(var_clearance),5)\n",
    "\n",
    "p_clear_less_point_five = norm.cdf(0.05, mean_clearance, std_clearance)\n",
    "\n",
    "p_25_percentile = round(norm.ppf(0.25, mean_clearance, std_clearance),5)\n",
    "\n",
    "p_between_poin_nine_and_point_five = norm.cdf(0.09, mean_clearance, std_clearance) - p_clear_less_point_five\n",
    "\n",
    "#likurnar eru í hámarki á milli 0.7 þegar við erum á milli 0.5 og 0.9\n",
    "\n",
    "mean_hole_two = 0.07 * 2 + mean_piston\n",
    "\n",
    "print(f'a) {mean_clearance}')\n",
    "print(f'b) {std_clearance}')\n",
    "print(f'c) {round(p_clear_less_point_five,5)}')\n",
    "print(f'd) {p_25_percentile}')\n",
    "print(f'e) {round(p_between_poin_nine_and_point_five,5)}')\n",
    "print(f'f) {round(mean_hole_two,5)} cm')"
   ]
  },
  {
   "cell_type": "markdown",
   "metadata": {},
   "source": [
    "### Problem 4.5.21 Sönnun þarf ad gera"
   ]
  },
  {
   "cell_type": "markdown",
   "metadata": {},
   "source": [
    "### Problem 4.6.1\n",
    "The lifetime (in days) of a certain electronic component that operates in a high-temperature\n",
    "environment is lognormally distributed with μ = 1.2 and σ = 0.4.\n",
    "\n",
    "a) Find the mean lifetime.\n",
    "\n",
    "b) Find the probability that a component lasts between three and six days.\n",
    "\n",
    "c) Find the median lifetime.\n",
    "\n",
    "d) Find the 90th percentile of the lifetimes"
   ]
  },
  {
   "cell_type": "code",
   "execution_count": 46,
   "metadata": {},
   "outputs": [
    {
     "name": "stdout",
     "output_type": "stream",
     "text": [
      "a) mean lifetime: 3.59664\n",
      "b) P(3 ≤ x ≤ 6): 0.53053\n",
      "c) median lifetime: 3.32012\n",
      "d) 90th percentile: 5.54347\n"
     ]
    }
   ],
   "source": [
    "from math import exp\n",
    "from scipy.stats import lognorm\n",
    "\n",
    "mu = 1.2\n",
    "sigma = 0.4\n",
    "\n",
    "mean_4_6_1 = exp(mu + (sigma**2) / 2)\n",
    "print(f'a) mean lifetime: {round(mean_4_6_1,5)}')\n",
    "print(f'b) P(3 ≤ x ≤ 6): {round(lognorm.cdf(6, sigma, 0, exp(mu)) - lognorm.cdf(3, sigma, 0, exp(mu)),5)}')\n",
    "print(f'c) median lifetime: {round(lognorm.median(sigma, 0, exp(mu)),5)}')\n",
    "print(f'd) 90th percentile: {round(lognorm.ppf(0.9, sigma, 0, exp(mu)), 5)}')"
   ]
  },
  {
   "cell_type": "markdown",
   "metadata": {},
   "source": [
    "### Problem 4.6.3\n",
    "The body mass index (BMI) of a person is defined to be the person’s body mass divided by the square of the person’s height. The article “Influences of Parameter Uncertainties within the ICRP 66 Respiratory Tract Model: Particle Deposition” (W. Bolch, E. Farfan, et al., Health Physics, 2001:378–394) states that body mass index (in kg/m2) in men aged 25–34 is lognormally distributed with parameters μ = 3.215 and σ = 0.157.\n",
    "\n",
    "a) Find the mean BMI for men aged 25–34.\n",
    "\n",
    "b) Find the standard deviation of BMI for men aged 25–34.\n",
    "\n",
    "c) Find the median BMI for men aged 25–34.\n",
    "\n",
    "d) What proportion of men aged 25–34 have a BMI less than 22?\n",
    "\n",
    "e) Find the 75th percentile of BMI for men aged 25–34."
   ]
  },
  {
   "cell_type": "code",
   "execution_count": 47,
   "metadata": {},
   "outputs": [
    {
     "name": "stdout",
     "output_type": "stream",
     "text": [
      "a) mean BMI: 25.2121\n",
      "b) std BMI: 3.9828\n",
      "c) median BMI: 24.9033\n",
      "d) % BMI less than 22: 0.2149\n",
      "e) 75th percentile: 27.6851\n"
     ]
    }
   ],
   "source": [
    "from math import exp, sqrt\n",
    "from statistics import median_grouped \n",
    "from scipy.stats import lognorm\n",
    "\n",
    "mu = 3.215\n",
    "sigma = 0.157\n",
    "\n",
    "mean_BMI_4_6_3 = exp(mu + (sigma**2) / 2)\n",
    "std_BMI_4_6_3 = sqrt(exp(2 * mu + 2 * sigma**2) - mean_BMI_4_6_3**2)\n",
    "median_BMI_4_6_3 = lognorm.median(sigma, 0, exp(mu))\n",
    "BMI_less_22 = lognorm.cdf(22, sigma, 0, exp(mu))\n",
    "percentile = lognorm.ppf(0.75, sigma, 0, exp(mu))\n",
    "\n",
    "print(f'a) mean BMI: {round(mean_BMI_4_6_3,4)}')\n",
    "print(f'b) std BMI: {round(std_BMI_4_6_3,4)}')\n",
    "print(f'c) median BMI: {round(median_BMI_4_6_3,4)}')\n",
    "print(f'd) % BMI less than 22: {round(BMI_less_22,4)}')\n",
    "print(f'e) 75th percentile: {round(percentile, 4)}')\n",
    "\n",
    "\n",
    "\n",
    "\n"
   ]
  },
  {
   "cell_type": "markdown",
   "metadata": {},
   "source": [
    "### Problem 4.6.4\n",
    "The article “Stochastic Estimates of Exposure and Cancer Risk from Carbon Tetrachloride Released to the Air from the Rocky Flats Plant” (A. Rood, P. McGavran, et al., Page 261 Risk Analysis, 2001:675–695) models the increase in the risk of cancer due to exposure to carbon tetrachloride as lognormal with $\\mu = −15.65$ and $\\sigma = 0.79$.\n",
    "\n",
    "mean $E(x) = e^{\\mu + \\frac{\\sigma^2}{2}}$\n",
    "variance $Var(x) = e^{2\\mu + 2\\sigma^2} - E(x)^2$\n",
    "\n",
    "a) Find the mean risk.\n",
    "\n",
    "x = risk \n",
    "\n",
    "$E(x) = e^{-15.65 + \\frac{0.79^2}{2}} = 2.182 \\times 10^{-7}$\n",
    "\n",
    "b) Find the median risk.\n",
    "\n",
    "c) Find the standard deviation of the risk.\n",
    "\n",
    "d) Find the 5th percentile.\n",
    "\n",
    "e) Find the 95th percentile"
   ]
  },
  {
   "cell_type": "code",
   "execution_count": 48,
   "metadata": {},
   "outputs": [
    {
     "name": "stdout",
     "output_type": "stream",
     "text": [
      "a) mean risk: 2.1817900221644364e-07\n",
      "b) median risk: 1.5969501451937286e-07\n",
      "c) std risk: 2.031017178297292e-07\n",
      "d) 5th percentile: 4.3546593145177714e-08\n",
      "e) 95th percentile 5.856370342754772e-07\n"
     ]
    }
   ],
   "source": [
    "from math import exp, sqrt\n",
    "from scipy.stats import lognorm\n",
    "\n",
    "mu = -15.65\n",
    "sigma = 0.79\n",
    "\n",
    "mean_risk_4_6_4 = exp(mu + (sigma**2) / 2)\n",
    "median_risk_4_6_4 = lognorm.median(sigma, 0, exp(mu))\n",
    "std_risk_4_6_4 = sqrt(exp(2 * mu + 2 * sigma**2) - mean_risk_4_6_4**2)\n",
    "fith_percentile = lognorm.ppf(0.05, sigma, 0, exp(mu))\n",
    "ninity_percentile = lognorm.ppf(0.95, sigma, 0, exp(mu))\n",
    "\n",
    "print(f'a) mean risk: {mean_risk_4_6_4}')\n",
    "print(f'b) median risk: {median_risk_4_6_4}')\n",
    "print(f'c) std risk: {std_risk_4_6_4}')\n",
    "print(f'd) 5th percentile: {fith_percentile}')\n",
    "print(f'e) 95th percentile {ninity_percentile}')\n",
    "\n"
   ]
  },
  {
   "cell_type": "markdown",
   "metadata": {},
   "source": [
    "### Problem 4.7.2\n",
    "The time between requests to a web server is exponentially distributed with mean 0.5\n",
    "seconds.\n",
    "\n",
    "a) What is the value of the parameter λ?\n",
    "\n",
    "b) What is the median time between requests?\n",
    "\n",
    "c) What is the standard deviation?\n",
    "  \n",
    "d) What is the 80th percentile?"
   ]
  },
  {
   "cell_type": "markdown",
   "metadata": {},
   "source": [
    "### Problem 4.7.8 þarf ad gera"
   ]
  },
  {
   "cell_type": "markdown",
   "metadata": {},
   "source": [
    "### Problem 4.8.8\n",
    "If T is a continuous random variable that is always positive (such as a waiting time), with probability density function f(t) and cumulative distribution function F(t), then the hazard function is defined to be the function:\n",
    "\n",
    "$$h(t) = \\frac{f(t)}{1 - F(t)}$$\n",
    "\n",
    "The hazard function is the rate of failure per unit time, expressed as a proportion of the items that have not failed.\n",
    "\n",
    "a) If T ∼ Weibull(α, β), find h(t).\n",
    "\n",
    "b) For what values of α is the hazard rate increasing with time? For what values of α is it decreasing?\n",
    "\n",
    "c) If T has an exponential distribution, show that the hazard function is constant.\n",
    "\n",
    "$$ \n",
    "\\begin{align}\n",
    "h(t) &= \\frac{\\lambda e^{-\\lambda x}}{1 - (1 - e^{-\\lambda x})} \\\\ \n",
    "h(t) &= \\frac{\\lambda e^{-\\lambda x}}{e^{-\\lambda x}} \\\\\n",
    "h(t) &= \\lambda\n",
    "\\end{align}\n",
    "$$"
   ]
  },
  {
   "cell_type": "markdown",
   "metadata": {},
   "source": [
    "### Problem 4.7.11\n",
    "The number of traffic accidents at a certain intersection is thought to be well modeled by a Poisson process with a mean of 3 accidents per year.\n",
    "\n",
    "a) Find the mean waiting time between accidents.\n",
    "\n",
    "b) Find the standard deviation of the waiting times between accidents.\n",
    "\n",
    "c) Find the probability that more than one year elapses between accidents.\n",
    "\n",
    "d) Find the probability that less than one month elapses between accidents.\n",
    "\n",
    "e) If no accidents have occurred within the last six months, what is the probability that an accident will occur within the next year? (?)"
   ]
  },
  {
   "cell_type": "code",
   "execution_count": 49,
   "metadata": {},
   "outputs": [
    {
     "name": "stdout",
     "output_type": "stream",
     "text": [
      "mean waiting time: 4.0 months\n",
      "std waiting time: 4.0 months\n",
      "prob of more than one year: 0.0498\n",
      "prob less than a month: 0.2212\n",
      "prob of acc next year, if not acc last six months: 0.9502\n"
     ]
    }
   ],
   "source": [
    "from scipy.stats import expon\n",
    "\n",
    "mean_waiting_time = 12 / 3\n",
    "std_waiting_time = mean_waiting_time\n",
    "\n",
    "more_than_one_year = expon.sf(12, 0, mean_waiting_time)\n",
    "less_than_one_month = expon.cdf(1, 0, mean_waiting_time)\n",
    "\n",
    "print(f'mean waiting time: {mean_waiting_time} months')\n",
    "print(f'std waiting time: {std_waiting_time} months')\n",
    "print(f'prob of more than one year: {round(more_than_one_year,4)}')\n",
    "print(f'prob less than a month: {round(less_than_one_month,4)}')\n",
    "print(f'prob of acc next year, if not acc last six months: {round(expon.cdf(12, 0, mean_waiting_time), 4)}')\n"
   ]
  },
  {
   "cell_type": "markdown",
   "metadata": {},
   "source": [
    "### Problem 4.9.3\n",
    "Let $X_1$ and $X_2$ be independent, each with unknown mean $\\mu$ and known variance $\\sigma^2 = 1$.\n",
    "\n",
    "a) Let $\\hat{\\mu_1} = \\frac{X_1 + X_2}{2}$. Find the bias, variance, and mean squared error of $\\hat{\\mu_1}$\n",
    "\n",
    "$E(\\hat{\\mu_1}) = \\frac{\\mu_{x_1} + \\mu_{x_2}}{2} = \\frac{\\mu + \\mu}{2} = \\mu$\n",
    "\n",
    "The bias of $\\hat{\\mu_1} = E(\\hat{\\mu_1}) - \\mu = \\mu - \\mu = 0 \\Rightarrow$ is unbiased\n",
    "\n",
    "The variance of $\\hat{\\mu_1} = Var(\\hat{\\mu_1}) = (\\frac{\\sigma + \\sigma}{2})^2 = \\frac{\\sigma^2 + \\sigma^2}{4} = \\frac{1 + 1}{4} = \\frac{1}{2}$\n",
    "\n",
    "The mean squared error of $\\hat{\\mu_1}$ is the sum of the variance and the square of the bias: \n",
    "\n",
    "$MSE(\\hat{\\mu_1}) = \\frac{1}{2} + 0^2 = 0.5$\n",
    "\n",
    "b) Let $\\hat{\\mu_2} = \\frac{X_1 + 2X_2}{3}$. Find the bias, variance, and mean squared error of $\\hat{\\mu_2}$\n",
    "\n",
    "$E(\\hat{\\mu_2}) = \\frac{\\mu_{x_1} + 2\\mu_{x_2}}{2} = \\frac{\\mu + 2 \\mu}{3} = \\mu$\n",
    "\n",
    "The bias of $\\hat{\\mu_2} = E(\\hat{\\mu_2}) - \\mu = \\mu - \\mu = 0 \\Rightarrow$ is unbiased\n",
    "\n",
    "The variance of $\\hat{\\mu_2} = Var(\\hat{\\mu_2}) = (\\frac{\\sigma + 2\\sigma}{2})^2 = \\frac{\\sigma^2 + 4\\sigma^2}{9} = \\frac{1 + 4}{5} = \\frac{5}{9}$\n",
    "\n",
    "The mean squared error of $\\hat{\\mu_2}$ is the sum of the variance and the square of the bias: \n",
    "\n",
    "$MSE(\\hat{\\mu_2}) = \\frac{5}{9} + 0^2 = \\frac{5}{9}$\n",
    "\n",
    "c) Let $\\hat{\\mu_3} = \\frac{X_1 + X_2}{4}$. Find the bias, variance, and mean squared error of $\\hat{\\mu_3}$\n",
    "\n",
    "$E(\\hat{\\mu_3}) = \\frac{\\mu_{x_1} + \\mu_{x_2}}{4} = \\frac{\\mu +  \\mu}{4} = \\frac{\\mu}{2}$\n",
    "\n",
    "The bias of $\\hat{\\mu_3} = E(\\hat{\\mu_3}) - \\mu = \\frac{\\mu}{2} - \\mu = -\\frac{\\mu}{2} = \\frac{\\mu}{2}$ (absolute value) $\\Rightarrow$ is biased\n",
    "\n",
    "The variance of $\\hat{\\mu_3} = Var(\\hat{\\mu_3}) = (\\frac{\\sigma + \\sigma}{4})^2 = \\frac{\\sigma^2 + \\sigma^2}{16} = \\frac{2}{16} = \\frac{1}{8}$\n",
    "\n",
    "The mean squared error of $\\hat{\\mu_3}$ is the sum of the variance and the square of the bias: \n",
    "\n",
    "$MSE(\\hat{\\mu_3}) =  (\\frac{\\mu}{2})^2 + \\frac{1}{8} = \\frac{\\mu^2}{4} + \\frac{1}{8}$\n",
    "\n",
    "d) For what values of $\\mu$ does $\\hat{\\mu_3}$ have smaller mean squared error than $\\hat{\\mu_1}$?\n",
    "\n",
    "$$\n",
    "\\begin{align}\n",
    "MSE(\\hat{\\mu_3}) < MSE(\\hat{\\mu_1}) \\Longleftrightarrow  \\frac{\\mu^2}{4} + \\frac{1}{8} < \\frac{1}{2} \\\\\n",
    "&= \\frac{\\mu^2}{4} < \\frac{3}{8} \\\\\n",
    "&= \\mu^2 < \\frac{12}{8} \\Rightarrow -1.2247 < \\mu < 1.2247 \\quad (\\pm \\sqrt(1.5))\n",
    "\\end{align}\n",
    "$$\n",
    "\n",
    "e) For what values of $\\mu$ does $\\hat{\\mu_3}$ have smaller mean squared error than $\\hat{\\mu_2}$?\n",
    "\n",
    "$$\n",
    "\\begin{align}\n",
    "MSE(\\hat{\\mu_3}) < MSE(\\hat{\\mu_2}) \\Longleftrightarrow  \\frac{\\mu^2}{4} + \\frac{1}{8} < \\frac{5}{9} \\\\\n",
    "&= \\frac{\\mu^2}{4} < \\frac{31}{72} \\\\\n",
    "&= \\mu^2 < \\frac{31}{18} \\Rightarrow -1.31233 < \\mu < 1.31233 \\quad (\\pm \\sqrt(\\frac{31}{18}))\n",
    "\\end{align}\n",
    "$$"
   ]
  },
  {
   "cell_type": "markdown",
   "metadata": {},
   "source": [
    "### Problem 4.9.6\n",
    "Let $X_1, ..., X_n$ be a random sample from a population with the Poisson($\\lambda$) distribution. Find\n",
    "the MLE of $\\lambda$.\n",
    "\n",
    "x ~ Poission($\\lambda$)         $\\lambda = ?$\n",
    "\n",
    "P(data | $\\lambda$) = L(p)\n",
    "\n",
    "$P(x) = e^{-\\lambda} \\frac{\\lambda^x}{x!} \\quad x = 1,2,...$\n",
    "\n",
    "data = {$x_1, x_2, ..., x_n$}\n",
    "\n",
    "$P(data) = P(x_1) P(x_2)...P(x_n) = L(\\lambda)$\n",
    "\n",
    "$\\frac{d}{d\\lambda} L = 0 \\Longleftrightarrow \\frac{d}{d\\lambda}ln(L) = 0$\n",
    "\n",
    "$ln(L) = \\sum_i P(x_i) \\qquad \\frac{d}{d\\lambda}ln(L) = \\sum_i \\frac{d}{d\\lambda} P(x_i) = 0$\n",
    "\n",
    "$ln(P(x_i)) = ln(e^{-\\lambda} \\frac{\\lambda^{x_i}}{x_i!}) = -\\lambda + x_i ln(\\lambda) - ln(x_i!)$\n",
    "\n",
    "$\\frac{d}{d\\lambda}ln(P(x_i)) = -1 + \\frac{x_i}{\\lambda}$\n",
    "\n",
    "$\\frac{d}{d\\lambda}ln(L) = \\sum_{i = 1}^n (1 - \\frac{x_i}{\\lambda} = -n + \\frac{1}{\\lambda}\\sum_{i = 1}^n x_i = 0$\n",
    "\n",
    "$\\Rightarrow \\hat{\\lambda} = \\frac{1}{n}\\sum_{i = 1}^n x_i$     an estimation of $\\lambda = E(x)$, MLE coincides with the sample mean."
   ]
  },
  {
   "cell_type": "markdown",
   "metadata": {},
   "source": [
    "### Problem 4.9.10\n",
    "Let $X_1,...,X_n$ be a random sample from a $N(\\mu, \\sigma^2)$ population. Find the MLEs of $\\mu$ and of $\\sigma$.\n",
    "\n",
    "x ~ $N(\\mu, \\sigma^2)$      data = ${x_1,x_2,...,x_n}$\n",
    "\n",
    "Estimate $\\mu,\\sigma^2$ using the ML method\n",
    "\n",
    "P(data | $\\mu, \\sigma^2$) = L($\\mu, \\sigma^2$)  max\n",
    "\n",
    "$P(x_1,x_2, ..., x_n) = P(x_1) P(x_2) ... P(x_n)$\n",
    "\n",
    "$dP(x_1) = f(x_1) dx \\quad f(x) = \\frac{1}{\\sqrt{2\\pi\\sigma^2}} e^{\\frac{-(x_i - \\mu)^2}{2\\sigma^2}}$\n",
    "\n",
    "$L(\\mu, \\sigma^2) = f(x_1) f(x_2) ... f(x_n)$\n",
    "\n",
    "$ln(L) = \\sum_i ln(f(x_i)) = \\sum_i (-\\frac{1}{2} ln(2\\pi\\sigma^2) - \\frac{-(x_i - \\mu)^2}{2\\sigma^2})$\n",
    "\n",
    "1) $\\mu \\quad \\frac{d}{d\\mu}ln(L) = \\sum_i (-\\frac{2(x_i - \\mu)}{2\\sigma^2}) = 0$\n",
    "\n",
    "$\\sum_{i = 0}^n (x_i - \\mu) = 0 \\Rightarrow \\sum_i x_i - n\\mu = 0 \\Rightarrow \\hat{\\mu} = \\frac{1}{n} \\sum_{i = 1}^n = x_i$\n",
    "\n",
    "2) $\\sigma \\quad \\frac{d}{d\\sigma^2}ln(L) = \\sum_i (-\\frac{1}{2} \\frac{1}{\\sigma^2} - \\frac{(x_i - \\mu)^2}{2}-\\frac{1}{\\sigma^4}) = 0$\n",
    "\n",
    "$\\sum_i(-1 + \\frac{(x_i - \\mu)^2}{\\sigma^2}) = 0 \\Rightarrow \\sigma^2 = \\frac{1}{n} \\sum_i (x_i - \\mu)$\n",
    "\n",
    "$\\hat{\\sigma^2} = \\frac{1}{n} \\sum_i (x_i - \\hat{\\mu})^2$ MLE does not coincide with sample std deviation which is $s^2 = \\frac{1}{n - 1}\\sum_i (x_i - \\hat{\\mu})^2$\n",
    "\n"
   ]
  },
  {
   "cell_type": "markdown",
   "metadata": {},
   "source": [
    "### Problem 5.1.13\n",
    "The sugar content in a one-cup serving of a certain breakfast cereal was measured for a\n",
    "sample of 140 servings. The average was 11.9 g and the standard deviation was 1.1 g.\n",
    "\n",
    "$\\bar{x} = 11.9$ g\n",
    "\n",
    "s = 1.1\n",
    "\n",
    "n = 140\n",
    "\n",
    "$\\sigma_{\\bar{x}} = \\frac{s}{\\sqrt{n}}$\n",
    "\n",
    "a) Find a 95% confidence interval for the mean sugar content.\n",
    "\n",
    "$\\sigma_{\\bar{x}} = \\frac{1.1}{\\sqrt{140}}$\n",
    "\n",
    "$\\mu \\in [11.9 - 1.96 * 0.093, 11.9 + 1.96 * 0.093] \\Longleftrightarrow \\mu \\in [11.718, 12.082]$\n",
    "\n",
    "b) Find a 99% confidence interval for the mean sugar content.\n",
    "\n",
    "$\\mu \\in [11.9 - 2.58 * 0.093, 11.9 + 2.58 * 0.093] \\Longleftrightarrow \\mu \\in [11.66, 12.14]$\n",
    "\n",
    "c) What is the confidence level of the interval (11.81, 11.99)?\n",
    "\n",
    "$\\bar{x} - Z_{score} \\sigma_{\\bar{x}} = 11.81$\n",
    "\n",
    "$\\bar{x} + Z_{score} \\sigma_{\\bar{x}} = 11.99$\n",
    "\n",
    "Isolate for $Z_{score}$\n",
    "\n",
    "$Z_{score} = \\frac{11.99 - 11.9}{0.093} = 0.9677$\n",
    "\n",
    "$Z_{score} = \\frac{11.9 - 11.81}{0.093} = 0.9677$\n",
    "\n",
    "See interval code\n",
    "\n",
    "d) How large a sample is needed so that a 95% confidence interval specifies the mean to within ±0.1?\n",
    "\n",
    "95% CI = $[\\bar{x} - 0.1, \\bar{x} + 0.1]$ =  $[\\bar{x} - 1.96\\sigma_{\\bar{x}}, \\bar{x} + 1.96\\sigma_{\\bar{x}}]$\n",
    "\n",
    "$1.96\\sigma_{\\bar{x}} = 0.1 \\Rightarrow 1.96 \\frac{s}{\\sqrt{n}} = 0.1 \\Rightarrow n = (\\frac{1.96 * 1.1}{0.1})^2 = 465$\n",
    "\n",
    "e) How large a sample is needed so that a 99% confidence interval specifies the mean to within ±0.1?\n",
    "\n",
    "99% CI = $[\\bar{x} - 0.1, \\bar{x} + 0.1]$ =  $[\\bar{x} - 2.58\\sigma_{\\bar{x}}, \\bar{x} + 2.58\\sigma_{\\bar{x}}]$\n",
    "\n",
    "$2.58\\sigma_{\\bar{x}} = 0.1 \\Rightarrow 2.58 \\frac{s}{\\sqrt{n}} = 0.1 \\Rightarrow n = (\\frac{2.58 * 1.1}{0.1})^2 = 806$"
   ]
  },
  {
   "cell_type": "code",
   "execution_count": 50,
   "metadata": {},
   "outputs": [
    {
     "name": "stdout",
     "output_type": "stream",
     "text": [
      "CI: 66.7\n"
     ]
    }
   ],
   "source": [
    "from scipy.stats import norm \n",
    "\n",
    "z = 0.9677\n",
    "\n",
    "CI = norm.cdf(z, 0, 1) - norm.cdf(-z, 0, 1) \n",
    "#print(1 - 2 * norm.cdf(-z, 0, 1))\n",
    "\n",
    "print(f'CI: {round(CI,3) * 100}')"
   ]
  },
  {
   "cell_type": "markdown",
   "metadata": {},
   "source": [
    "### Problem 5.1.23\n",
    "Based on a large sample of capacitors of a certain type, a 95% confidence interval for the mean capacitance, in $\\mu F$, was computed to be (0.213, 0.241). Find a 90% confidence interval for the mean capacitance of this type of capacitor.\n",
    "\n",
    "$0.241 = \\bar{x} + 1.96 \\sigma_{\\bar{x}}$\n",
    "\n",
    "$0.213 = \\bar{x} - 1.96 \\sigma_{\\bar{x}}$\n",
    "\n",
    "$0.241 - 0.213 = 2 * 1.96 \\sigma_{\\bar{x}}$\n",
    "\n",
    "$\\sigma_{\\bar{x}} = \\frac{0.241 - 0.213}{3.92} = 0.00714$ \n",
    "\n",
    "$\\bar{x} = 0.213 + 1.96 * 0.00714 = 0.223$ "
   ]
  },
  {
   "cell_type": "code",
   "execution_count": 51,
   "metadata": {},
   "outputs": [
    {
     "name": "stdout",
     "output_type": "stream",
     "text": [
      "90% CI: [0.21125574510356648, 0.23474425489643352]\n"
     ]
    }
   ],
   "source": [
    "from scipy.stats import norm \n",
    "\n",
    "fith_percent = norm.ppf(0.05, 0.223, 0.00714)\n",
    "ninityfith_percen  = norm.ppf(0.95, 0.223, 0.00714)\n",
    "\n",
    "print(f'90% CI: [{fith_percent}, {ninityfith_percen}]')"
   ]
  },
  {
   "cell_type": "markdown",
   "metadata": {},
   "source": [
    "### Problem 5.8.6\n",
    "Following are weights, in pounds, of 12 two-month-old baby girls. Assume that the population is normally distributed.\n",
    "\n",
    "a) Find the sample standard deviation s.\n",
    "\n",
    "b) Construct a 95% confidence interval for population standard deviation σ."
   ]
  },
  {
   "cell_type": "code",
   "execution_count": 52,
   "metadata": {},
   "outputs": [
    {
     "name": "stdout",
     "output_type": "stream",
     "text": [
      "std.dev: 1.798172\n",
      "95% CI: [1.274, 3.053]\n"
     ]
    }
   ],
   "source": [
    "from scipy.stats import norm, chi2\n",
    "from math import sqrt\n",
    "import pandas as pd\n",
    "\n",
    "df = pd.read_csv(\"./datasets/Ch5/ex5-8-6.csv\")\n",
    "\n",
    "sample_mean = df.mean()\n",
    "std_dev = df.std()\n",
    "sigma_5_8_6 = std_dev / sqrt(len(df))\n",
    "\n",
    "upper_z = chi2.ppf(0.975, len(df) - 1)\n",
    "lower_z = chi2.ppf(0.025, len(df) - 1)\n",
    "\n",
    "low_interval = sqrt(((len(df) - 1) * std_dev **2) / upper_z)\n",
    "high_interval = sqrt(((len(df) - 1) * std_dev **2) / lower_z)\n",
    "\n",
    "\n",
    "print(f\"std.dev: {std_dev.to_string(index=False)}\")\n",
    "\n",
    "print(f'95% CI: [{round(low_interval,3)}, {round(high_interval,3)}]')"
   ]
  },
  {
   "cell_type": "markdown",
   "metadata": {},
   "source": [
    "### Problem 5.8.10\n",
    "A sample of size 101 from a normal population has sample standard deviation s = 40. The lower and upper 0.025 points of the $\\chi^2_{100}$  distribution are $\\chi^2_{[100, 0.975]}= 74.222$ and $\\chi^2_{[100, 0.025]} = 129.561$. Use these values to construct a 95% confidence interval for $\\sigma$."
   ]
  },
  {
   "cell_type": "code",
   "execution_count": 53,
   "metadata": {},
   "outputs": [
    {
     "name": "stdout",
     "output_type": "stream",
     "text": [
      "95% CI for sigma: [35.14170636942747, 46.42946345728505]\n"
     ]
    }
   ],
   "source": [
    "\n",
    "n = 101\n",
    "s = 40\n",
    "\n",
    "higher_chi = 74.222\n",
    "lower_chi = 129.561\n",
    "\n",
    "lower_interval = sqrt(((n - 1) * s**2) / lower_chi)\n",
    "higher_interval = sqrt(((n - 1) * s**2) / higher_chi)\n",
    "\n",
    "print(f'95% CI for sigma: [{lower_interval}, {higher_interval}]')"
   ]
  },
  {
   "cell_type": "markdown",
   "metadata": {},
   "source": [
    "### Problem 6.1.6\n",
    "A certain type of stainless steel powder is supposed to have a mean particle diameter of μ = 15 μm. A random sample of 87 particles had a mean diameter of 15.2 μm, with a standard deviation of 1.8 μm. A test is made of $H_0$: μ = 15 versus $H_1$: μ ≠ 15.\n",
    "\n",
    "a) Find the P-value.\n",
    "\n",
    "See below\n",
    "\n",
    "b) Do you believe it is plausible that the mean diameter is 15 μm, or are you convinced\n",
    "that it differs from 15 μm? Explain your reasoning.\n",
    "\n",
    "Since p-value is a lot higher than 0.05  we can be sceptical about the correctness of $H_0$ but further research is needed. "
   ]
  },
  {
   "cell_type": "code",
   "execution_count": 54,
   "metadata": {},
   "outputs": [
    {
     "name": "stdout",
     "output_type": "stream",
     "text": [
      "p-value: 0.30002701885400107\n"
     ]
    }
   ],
   "source": [
    "from scipy.stats import norm\n",
    "from math import sqrt\n",
    "\n",
    "n = 87\n",
    "\n",
    "mu = 15\n",
    "s = 1.8\n",
    "\n",
    "sigma = s / sqrt(n)\n",
    "sample_mean = 15.2\n",
    "\n",
    "z = (sample_mean - mu) / sigma\n",
    "\n",
    "p_value = norm.cdf(-z, 0, 1) * 2\n",
    "\n",
    "print(f'p-value: {p_value}')\n",
    "\n",
    "\n"
   ]
  },
  {
   "cell_type": "markdown",
   "metadata": {},
   "source": [
    "### Problem 6.1.7\n",
    "In a test of corrosion resistance, a sample of 60 Incoloy steel specimens were immersed in acidified brine for four hours, after which each specimen had developed a number of corrosive pits. The maximum pit depth was measured for each specimen. The mean depth was 850 μm with a standard deviation of 153 μm. The specification is that the population mean depth μ is less than 900 μm.\n",
    "\n",
    "a. Find the P-value for testing H0: μ ≥ 900 versus H1: μ < 900.\n",
    "\n",
    "b. Do you believe it is plausible that the mean depth is at least 900μm, or are you\n",
    "convinced that it is less than 900μm? Explain.\n",
    "\n",
    "We reject H0, since the probability of observing a sample mean as small as 850 that was actually observed is 0.0057. Therefore we except H1. "
   ]
  },
  {
   "cell_type": "code",
   "execution_count": 55,
   "metadata": {},
   "outputs": [
    {
     "name": "stdout",
     "output_type": "stream",
     "text": [
      "p-value: 0.005681031317330347\n"
     ]
    }
   ],
   "source": [
    "from scipy.stats import norm \n",
    "import numpy as np\n",
    "import matplotlib.pyplot as plt\n",
    "\n",
    "n = 60 \n",
    "sample_mean_6_1_7= 850\n",
    "std_6_1_7 = 153\n",
    "\n",
    "mu_6_1_7 = 900\n",
    "\n",
    "sigma_6_1_7 = std_6_1_7 / sqrt(n)\n",
    "\n",
    "z = (sample_mean_6_1_7 - mu_6_1_7) / sigma_6_1_7\n",
    "\n",
    "print(f'p-value: {norm.cdf(z, 0, 1)}') #why?\n",
    "\n",
    "#plt.hist(norm.cdf(z,0, 1))\n",
    "\n"
   ]
  },
  {
   "cell_type": "markdown",
   "metadata": {},
   "source": [
    "### Problem 6.3.5\n",
    "In a survey of 500 residents in a certain town, 274 said they were opposed to constructing a new shopping mall. Can you conclude that more than half of the residents in this town are opposed to constructing a new shopping mall?\n",
    "\n",
    "$H_0: p \\leq 0.5$ $\\quad H_1: p \\gt0.5$ "
   ]
  },
  {
   "cell_type": "code",
   "execution_count": 56,
   "metadata": {},
   "outputs": [
    {
     "name": "stdout",
     "output_type": "stream",
     "text": [
      "p-value: 0.01591156369324498\n",
      "So we can conclude that it is likely the survay is statisticly significant since the p-value is < 0.05\n"
     ]
    }
   ],
   "source": [
    "from scipy.stats import norm\n",
    "from math import sqrt\n",
    "\n",
    "n = 500\n",
    "k = 274\n",
    "p = 0.5\n",
    "\n",
    "p_hat = k / n\n",
    "sigma = sqrt((p * (1 - p) / n))\n",
    "\n",
    "z = (p_hat - p) / sigma\n",
    "\n",
    "p_value = 1 - norm.cdf(z, 0, 1)\n",
    "\n",
    "print(f'p-value: {p_value}')\n",
    "print('So we can conclude that it is likely the survay is statisticly significant since the p-value is < 0.05')"
   ]
  },
  {
   "cell_type": "markdown",
   "metadata": {},
   "source": [
    "### Problem 6.3.8\n",
    "A grinding machine will be qualified for a particular task if it can be shown to produce less than 8% defective parts. In a random sample of 300 parts, 12 were defective. On the basis of these data, can the machine be qualified?\n",
    "\n",
    "$H_0$ : $p \\geq 0.08$\n",
    "\n",
    "$H_1$ : $p < 0.08$\n",
    "\n",
    "p-value = 0.0053 (see calculations below)\n",
    "\n",
    "The p-value is smaller than then the standard 0.05 and thus it is safe to assume the machine is qulified, and we reject $H_0$. Also this is only a one sided test so it gives more room for inaccuracies. "
   ]
  },
  {
   "cell_type": "code",
   "execution_count": 57,
   "metadata": {},
   "outputs": [
    {
     "name": "stdout",
     "output_type": "stream",
     "text": [
      "p-value: 0.005328187360645716\n"
     ]
    }
   ],
   "source": [
    "from scipy.stats import norm\n",
    "n = 300\n",
    "k = 12 \n",
    "p = 0.08\n",
    "\n",
    "p_hat = k / n\n",
    "sigma = sqrt((p * (1 - p)) / n)\n",
    "\n",
    "z = (p_hat - p) / sigma\n",
    "\n",
    "p_value = norm.cdf(z, 0, 1)\n",
    "\n",
    "print(f'p-value: {p_value}')"
   ]
  },
  {
   "cell_type": "markdown",
   "metadata": {},
   "source": [
    "### Problem 6.5.4\n",
    "A sample of 413 male college students, the average number of energy drinks consumed per month was 2.49 with a standard deviation of 4.87, and in a sample of 382 female college students, the average was 1.22 with a standard deviation of 3.24. Can you conclude that the mean number of energy drinks is greater for male students than for female students?\n",
    "\n",
    "$\\bar{x_b} = 2.49$\n",
    "\n",
    "$\\bar{x_g} = 1.22$\n",
    "\n",
    "D = the difference between the two sample means = $\\bar{x_b} - \\bar{x_g}$ seen as random numbers\n",
    "\n",
    "$H_0$: $D \\leq 0$, Their consumption is not greater.\n",
    "\n",
    "$H_1$: $D \\gt 0$, Their consumption is greater.\n",
    "\n",
    "The z score for D: $z = \\frac{D - \\mu_D}{\\sigma_D} = \\frac{\\bar{x_b} - \\bar{x_g - 0}}{\\sqrt{\\frac{s^2_b}{n_b} + \\frac{s^2_g}{n_g}}}$\n"
   ]
  },
  {
   "cell_type": "code",
   "execution_count": 58,
   "metadata": {},
   "outputs": [
    {
     "name": "stdout",
     "output_type": "stream",
     "text": [
      "p-value: 6.549014480741914e-06\n"
     ]
    }
   ],
   "source": [
    "from scipy.stats import norm\n",
    "from math import sqrt\n",
    "\n",
    "mean_b = 2.49\n",
    "mean_g = 1.22\n",
    "\n",
    "s_b = 4.87\n",
    "s_g = 3.24\n",
    "\n",
    "n_b = 413\n",
    "n_g = 382\n",
    "\n",
    "z = (mean_b - mean_g - 0) / sqrt((s_b**2 / n_b) + (s_g**2 / n_g)) \n",
    "\n",
    "p_value = norm.cdf(-z, 0, 1)\n",
    "\n",
    "print(f'p-value: {p_value}')"
   ]
  },
  {
   "cell_type": "markdown",
   "metadata": {},
   "source": [
    "So we reject $H_0$, their consumption is greater. "
   ]
  },
  {
   "cell_type": "markdown",
   "metadata": {},
   "source": [
    "### Problem 6.5.9\n",
    "A sample of 77 subjects went on a low-carbohydrate diet for six months. At the end of that time the sample mean weight loss was 4.7 kg with a sample standard deviation of 7.2 kg. A second sample of 79 subjects went on a low-fat diet. Their sample mean weight loss was 2.6 kg with a standard deviation of 5.9 kg.\n",
    "\n",
    "a) Can you conclude that the mean weight loss is greater for those on the low- carbohydrate diet?\n",
    "\n",
    "$D = \\bar{x_{lc}} - \\bar{x_{lf}}$\n",
    "\n",
    "$H_0$: $D \\leq 0$\n",
    "\n",
    "$H_1$: $D \\gt 0$"
   ]
  },
  {
   "cell_type": "code",
   "execution_count": 59,
   "metadata": {},
   "outputs": [
    {
     "name": "stdout",
     "output_type": "stream",
     "text": [
      "a) p-value: 0.023308825922513803\n"
     ]
    }
   ],
   "source": [
    "from scipy.stats import norm\n",
    "from math import sqrt\n",
    "\n",
    "mean_lc = 4.7\n",
    "s_lc = 7.2\n",
    "\n",
    "mean_lf = 2.6\n",
    "s_lf = 5.9\n",
    "\n",
    "n_lc = 77\n",
    "n_lf = 79\n",
    "\n",
    "z = (mean_lc - mean_lf - 0) / sqrt((s_lc**2 / n_lc) + (s_lf**2 / n_lf))\n",
    "\n",
    "p_value = norm.cdf(-z, 0 , 1)\n",
    "\n",
    "print(f'a) p-value: {p_value}')"
   ]
  },
  {
   "cell_type": "markdown",
   "metadata": {},
   "source": [
    "So we reject $H_0$, mean weight loss greater for low carbohydrate group."
   ]
  },
  {
   "cell_type": "markdown",
   "metadata": {},
   "source": [
    "b) Can you conclude that the mean weight loss on the low-carbohydrate diet is more than 1 kg greater than that of the low-fat diet?\n",
    "\n",
    "$D = \\bar{x_{lc}} - \\bar{x_{lf}}$\n",
    "\n",
    "$H_0$: $D \\leq 1$\n",
    "\n",
    "$H_1$: $D \\gt 1$"
   ]
  },
  {
   "cell_type": "code",
   "execution_count": 60,
   "metadata": {},
   "outputs": [
    {
     "name": "stdout",
     "output_type": "stream",
     "text": [
      "a) p-value: 0.14864697938616772\n"
     ]
    }
   ],
   "source": [
    "from scipy.stats import norm\n",
    "from math import sqrt\n",
    "\n",
    "mean_lc = 4.7\n",
    "s_lc = 7.2\n",
    "\n",
    "mean_lf = 2.6\n",
    "s_lf = 5.9\n",
    "\n",
    "n_lc = 77\n",
    "n_lf = 79\n",
    "\n",
    "z = (mean_lc - mean_lf - 1) / sqrt((s_lc**2 / n_lc) + (s_lf**2 / n_lf))\n",
    "\n",
    "p_value = norm.cdf(-z, 0 , 1)\n",
    "\n",
    "print(f'a) p-value: {p_value}')"
   ]
  },
  {
   "cell_type": "markdown",
   "metadata": {},
   "source": [
    "We accept $H_0$, we can not conclude that the mean weight loss on the lc dies is more than 1 kg greater than the lf diet. "
   ]
  },
  {
   "cell_type": "markdown",
   "metadata": {},
   "source": [
    "### Problem 6.7.2\n",
    "In a study of the relationship of the shape of a tablet to its dissolution time, 6 disk-shaped ibuprofen tablets and 8 oval-shaped ibuprofen tablets were dissolved in water. The dissolve times, in seconds, were as follows:\n",
    "\n",
    "Disk: 269.0 249.3 255.2 252.7 247.0 261.6 \n",
    "\n",
    "Oval: 268.8 260.0 273.5 253.9 278.5 289.4 261.6 280.2\n",
    "\n",
    "Can you conclude that the mean dissolve times differ between the two shapes?"
   ]
  },
  {
   "cell_type": "code",
   "execution_count": 61,
   "metadata": {},
   "outputs": [
    {
     "name": "stdout",
     "output_type": "stream",
     "text": [
      "p-value: 0.016829011493447114\n",
      "t: -2.775676251020437\n"
     ]
    }
   ],
   "source": [
    "from scipy.stats import t, ttest_ind\n",
    "\n",
    "#ttest_ind = Students t test\n",
    "#ttest_rel = Paired students t test\n",
    "\n",
    "disk = [269.0, 249.3, 255.2, 252.7, 247.0, 261.6]\n",
    "oval = [268.8, 260.0, 273.5, 253.9, 278.5, 289.4, 261.6, 280.2]\n",
    "\n",
    "t, p = ttest_ind(disk, oval, equal_var=False)\n",
    "\n",
    "print(f'p-value: {p}')\n",
    "print(f't: {t}')\n",
    "\n",
    "#p-value: the probability that the result is due to chance\n",
    "#p-value < 0.05, so we can conclude that the mean dissolve times differ"
   ]
  },
  {
   "cell_type": "markdown",
   "metadata": {},
   "source": [
    "### Problem 6.7.6\n",
    "Two weights, each labeled as weighing 100 g, are each weighed several times on the same scale. The results, in units of μg above 100 g, are as follows:\n",
    "\n",
    "Firstweight: 53 88 89 62 39 66 \n",
    "\n",
    "Second weight: 23 39 28 2 49\n",
    "\n",
    "Since the same scale was used for both weights, and since both weights are similar, it is reasonable to assume that the variance of the weighing does not depend on the object being weighed. Can you conclude that the weights differ?"
   ]
  },
  {
   "cell_type": "code",
   "execution_count": 62,
   "metadata": {},
   "outputs": [
    {
     "name": "stdout",
     "output_type": "stream",
     "text": [
      "p-value: 0.008791204429500437\n",
      "t: 3.330562809466136\n"
     ]
    }
   ],
   "source": [
    "from scipy.stats import ttest_ind\n",
    "\n",
    "first_weight = [53, 88, 89, 62, 39, 66]\n",
    "second_weight = [23, 39, 28, 2, 49]\n",
    "\n",
    "t, p = ttest_ind(first_weight, second_weight, equal_var=True)\n",
    "\n",
    "print(f'p-value: {p}')\n",
    "print(f't: {t}')\n",
    "\n",
    "#p-value = 0.00898 < 0.05 so we can conclude that the weights differ"
   ]
  },
  {
   "cell_type": "markdown",
   "metadata": {},
   "source": [
    "### Problem 6.7.14\n",
    "A new post-surgical treatment was compared with a standard treatment. Seven subjects received the new treatment, while seven others (the controls) received the standard treatment. The recovery times, in days, are given below.\n",
    "\n",
    "Can you conclude that the mean recovery time for those receiving the new treatment is less than the mean for those receiving the standard treatment?\n",
    "\n",
    "D = $\\bar{x_t} - \\bar{x_c}$ \n",
    "\n",
    "$H_0: D \\geq 0$ \n",
    "\n",
    "$H_1: D \\lt 0$\n"
   ]
  },
  {
   "cell_type": "code",
   "execution_count": 63,
   "metadata": {},
   "outputs": [
    {
     "name": "stdout",
     "output_type": "stream",
     "text": [
      "p-value: 0.005592188590202719\n",
      "t: -3.0635646318651624\n"
     ]
    }
   ],
   "source": [
    "import pandas as pd\n",
    "import numpy as np\n",
    "from scipy.stats import ttest_ind\n",
    "\n",
    "df = pd.read_csv(\"datasets/Ch6/ex6-9-7.csv\")\n",
    "df\n",
    "\n",
    "t, p = ttest_ind(df[\"Treatment (X)\"], df[\"Control (Y)\"], equal_var=False, alternative=\"less\")\n",
    "\n",
    "print(f'p-value: {p}')\n",
    "print(f't: {t}')"
   ]
  },
  {
   "cell_type": "markdown",
   "metadata": {},
   "source": [
    "Since the p-value is less than 0.05 we reject $H_0$ and thus we conclude that the mean recovery time is less for those receiving the treatment. "
   ]
  },
  {
   "cell_type": "markdown",
   "metadata": {},
   "source": [
    "### Problem 6.8.1\n",
    "The article “Improved Bioequivalence Assessment of Topical Dermatological Drug Products Using Dermatopharmacokinetics” (B. N’Dri-Stempfer, W. Navidi, R. Guy, and A. Bunge, Pharmaceutical Research, 2009:316–328) described a study comparing the amounts of econozole nitrate absorbed into human skin for several formulations of antifungal ointment. Both a brand name and generic drug were applied to the arms of 14 subjects, and the amounts absorbed, in μg/cm2, were measured. Following are the results. Can you conclude that the mean amount absorbed differs between the brand name and the generic drug?\n",
    "\n",
    "Want to use two sided test. \n",
    "\n",
    "$H_0$: $D = 0$\n",
    "\n",
    "$H_1$: $D \\neq 0$"
   ]
  },
  {
   "cell_type": "code",
   "execution_count": 64,
   "metadata": {},
   "outputs": [
    {
     "name": "stdout",
     "output_type": "stream",
     "text": [
      "p-value: 0.1682108810646709\n",
      "t: 1.459336638331387\n"
     ]
    }
   ],
   "source": [
    "from scipy.stats import ttest_rel\n",
    "import pandas as pd\n",
    "import numpy as np\n",
    "\n",
    "df = pd.read_csv(\"./datasets/Ch6/ex6-8-1.csv\", header=0, names=[\"Brand Name\", \"Generic\", \"Difference\"])\n",
    "\n",
    "t, p = ttest_rel(df[\"Brand Name\"], df[\"Generic\"])\n",
    "\n",
    "print(f'p-value: {p}')\n",
    "print(f't: {t}')\n",
    "\n",
    "#p-value 0.168 > 0.05, we can not conclude there is a diffrence. H_0 is accepted "
   ]
  },
  {
   "cell_type": "markdown",
   "metadata": {},
   "source": [
    "### Problem 6.8.5\n",
    "Two formulations of a certain coating, designed to inhibit corrosion, are being tested. For each of eight pipes, half the pipe is coated with formulation A and the other half is coated with formulation B. Each pipe is exposed to a salt environment for 500 hours. Afterward, the corrosion loss (in μm) is measured for each formulation on each pipe.\n",
    "\n",
    "Can you conclude that the mean amount of corrosion differs between the two formulations?\n",
    "\n",
    "D = $\\bar{x_A} - \\bar{x_B}$\n",
    "\n",
    "$H_0$: $D = 0$\n",
    "\n",
    "$H_1$: $D \\neq 0$\n",
    "\n"
   ]
  },
  {
   "cell_type": "code",
   "execution_count": 65,
   "metadata": {},
   "outputs": [
    {
     "name": "stdout",
     "output_type": "stream",
     "text": [
      "p-value: 0.01934828466050993\n",
      "t: -3.021390645237225\n"
     ]
    }
   ],
   "source": [
    "import pandas as pd\n",
    "import numpy as np\n",
    "from scipy.stats import ttest_rel\n",
    "\n",
    "df = pd.read_csv(\"./datasets/Ch6/ex6-8-5.csv\")\n",
    "t, p = ttest_rel(df[\"A\"], df[\"B\"])\n",
    "\n",
    "print(f'p-value: {p}')\n",
    "print(f't: {t}')\n",
    "\n"
   ]
  },
  {
   "cell_type": "markdown",
   "metadata": {},
   "source": [
    "We reject $H_0$ since p-value is less than 0.05. Thus we can conclude that the mean corrosion differs between the formulations. "
   ]
  },
  {
   "cell_type": "markdown",
   "metadata": {},
   "source": [
    "### Problem 6.8.10\n",
    "A group of eight individuals with high cholesterol levels were given a new drug that was designed to lower cholesterol levels. Cholesterol levels, in mg/dL, were measured before and after treatment for each individual, with the following results:\n",
    "\n",
    "a. Can you conclude that the mean cholesterol level after treatment is less than the mean before treatment?\n",
    "\n",
    "D = $\\bar{x_a} - \\bar{x_b}$\n",
    "\n",
    "$H_0: D \\geq 0$ \n",
    "\n",
    "$H_1: D \\lt 0$ "
   ]
  },
  {
   "cell_type": "code",
   "execution_count": 66,
   "metadata": {},
   "outputs": [
    {
     "name": "stdout",
     "output_type": "stream",
     "text": [
      "p-value: 3.2732685392738495e-07\n",
      "t: -16.7745404068734\n"
     ]
    }
   ],
   "source": [
    "import pandas as pd\n",
    "import numpy as np\n",
    "from scipy.stats import ttest_rel\n",
    "\n",
    "df = pd.read_csv(\"./datasets/Ch6/ex6-8-10.csv\")\n",
    "\n",
    "t, p = ttest_rel(df[\"After\"], df[\"Before\"], alternative=\"less\", )\n",
    "\n",
    "\n",
    "print(f'p-value: {p}')\n",
    "print(f't: {t}')\n"
   ]
  },
  {
   "cell_type": "markdown",
   "metadata": {},
   "source": [
    "So we reject $H_0$ because the p-value is < 0.05. Thus we can conclude that the mean cholesterol level after a treament is less than before it. "
   ]
  },
  {
   "cell_type": "markdown",
   "metadata": {},
   "source": [
    "b. Can you conclude that the reduction in mean cholesterol level after treatment is greater than 75 mg/dL?\n",
    "\n",
    "D = $\\bar{x_b} - \\bar{x_a} $\n",
    "\n",
    "$H_0: D \\lt 75$ \n",
    "\n",
    "$H_1: D \\geq 75$ "
   ]
  },
  {
   "cell_type": "code",
   "execution_count": 67,
   "metadata": {},
   "outputs": [
    {
     "name": "stdout",
     "output_type": "stream",
     "text": [
      "p-value: 0.19297378266765725\n",
      "t: 0.9245809673079826\n"
     ]
    }
   ],
   "source": [
    "import pandas as pd\n",
    "import numpy as np\n",
    "from scipy.stats import ttest_ind\n",
    "\n",
    "df = pd.read_csv(\"./datasets/Ch6/ex6-8-10.csv\")\n",
    "\n",
    "difference = df[\"Before\"] - df[\"After\"]\n",
    "\n",
    "D = [75 for i in range(len(difference))]\n",
    "\n",
    "t, p = ttest_ind(difference, D, equal_var=False, alternative=\"greater\")\n",
    "\n",
    "\n",
    "print(f'p-value: {p}')\n",
    "print(f't: {t}')"
   ]
  },
  {
   "cell_type": "markdown",
   "metadata": {},
   "source": [
    "We accept $H_0$, and thus conclude that the difference is less than 75mg/dL after the treatment. "
   ]
  },
  {
   "cell_type": "markdown",
   "metadata": {},
   "source": [
    "### Problem 6.10.2"
   ]
  },
  {
   "cell_type": "markdown",
   "metadata": {},
   "source": [
    "At an assembly plant for light trucks, routine monitoring of the quality of welds yields the following data (see table below):\n",
    "\n",
    "Can you conclude that the quality varies among shifts?\n",
    "\n",
    "a) State the appropriate null hypothesis.\n",
    "\n",
    "$D = 0$ \n",
    "\n",
    "$H_0: D = 0$, there is no difference of quality between shifts.\n",
    "\n",
    "$H_1; D \\neq 0$, there quality varies between shifts.\n",
    "\n",
    "Let's use a chi-squared test of homogenity\n",
    "\n",
    "b) Compute the expected values under the null hypothesis.\n",
    "\n",
    "c) Compute the value of the chi-square statistic.\n",
    "\n",
    "d) Find the P-value. What do you conclude?"
   ]
  },
  {
   "cell_type": "code",
   "execution_count": 68,
   "metadata": {},
   "outputs": [
    {
     "name": "stdout",
     "output_type": "stream",
     "text": [
      "Expected Matrix:\n",
      "[[466.4        196.4         37.2       ]\n",
      " [433.08571429 182.37142857  34.54285714]\n",
      " [266.51428571 112.22857143  21.25714286]]\n",
      "\n",
      "chi-square statistic: 5.76044648212817\n",
      "p-value: 0.21776679146359837\n"
     ]
    }
   ],
   "source": [
    "import pandas as pd\n",
    "from scipy.stats import chi2_contingency\n",
    "\n",
    "df = pd.read_csv(\"datasets/Ch6/ex6-10-2.csv\")\n",
    "\n",
    "info = chi2_contingency(df[[\"High Quality\", \"Moderate Quality\",\"Low Quality\"]])\n",
    "\n",
    "chi_stat = info[0]\n",
    "p_val = info[1]\n",
    "\n",
    "\n",
    "print(\"Expected Matrix:\")\n",
    "print(info[3])\n",
    "print(f'\\nchi-square statistic: {chi_stat}')\n",
    "print(f'p-value: {p_val}')"
   ]
  },
  {
   "cell_type": "markdown",
   "metadata": {},
   "source": [
    "Since the p-value > 0.05 we accept $H_0$ and thus conclude that the quality doesn't vary between shifts"
   ]
  },
  {
   "cell_type": "markdown",
   "metadata": {},
   "source": [
    "### Problem 6.10.3\n",
    "Each respondent was categorized by gender and income level. The numbers in each category (calculated from percentages given in the article) are presented in the following table.\n",
    "Can you conclude that the proportions in the various income categories differ between men and women?\n",
    "\n",
    "$H_0:$ The proportions in the various income categories doesn't differ between men and women (D = 0)\n",
    "\n",
    "$H_1:$ The proporiton in the various income coatgories differ between men and women ($D \\neq 0$)"
   ]
  },
  {
   "cell_type": "code",
   "execution_count": 69,
   "metadata": {},
   "outputs": [
    {
     "name": "stdout",
     "output_type": "stream",
     "text": [
      "p-value: 1.6334870030348423e-22\n"
     ]
    }
   ],
   "source": [
    "import pandas as pd \n",
    "from scipy.stats import chi2_contingency\n",
    "\n",
    "df = pd.read_csv(\"datasets/Ch6/ex6-10-3.csv\")\n",
    "\n",
    "results = chi2_contingency(df.drop(columns=\"Unnamed: 0\"))\n",
    "\n",
    "p_val = results[1]\n",
    "\n",
    "print(f'p-value: {p_val}')"
   ]
  },
  {
   "cell_type": "markdown",
   "metadata": {},
   "source": [
    "We reject $H_0$ since p < 0.05 is significantly lower. It differs between men and women. "
   ]
  },
  {
   "cell_type": "markdown",
   "metadata": {},
   "source": [
    "### Problem 6.10.4\n",
    "The article “Analysis of Time Headways on Urban Roads: Case Study from Riyadh” (A. Al-Ghamdi, Journal of Transportation Engineering, 2001:289–294) presents a model for the time elapsed between the arrival of consecutive vehicles on urban roads. Following are 137 arrival times (in seconds) along with the values expected from a theoretical model.\n",
    "\n",
    "Can you conclude that the theoretical model does not explain the observed values well?\n",
    "\n",
    "$H_0:$ the theoretical model does explain thte observed values\n",
    "\n",
    "$H_1:$ the theoretical model doesn't explain thte observed values"
   ]
  },
  {
   "cell_type": "code",
   "execution_count": 70,
   "metadata": {},
   "outputs": [
    {
     "name": "stdout",
     "output_type": "stream",
     "text": [
      "21.47460834360148\n",
      "p-value: 0.005988018189390258\n"
     ]
    },
    {
     "data": {
      "text/html": [
       "<div>\n",
       "<style scoped>\n",
       "    .dataframe tbody tr th:only-of-type {\n",
       "        vertical-align: middle;\n",
       "    }\n",
       "\n",
       "    .dataframe tbody tr th {\n",
       "        vertical-align: top;\n",
       "    }\n",
       "\n",
       "    .dataframe thead th {\n",
       "        text-align: right;\n",
       "    }\n",
       "</style>\n",
       "<table border=\"1\" class=\"dataframe\">\n",
       "  <thead>\n",
       "    <tr style=\"text-align: right;\">\n",
       "      <th></th>\n",
       "      <th>Time</th>\n",
       "      <th>Observed</th>\n",
       "      <th>Expected</th>\n",
       "    </tr>\n",
       "  </thead>\n",
       "  <tbody>\n",
       "    <tr>\n",
       "      <th>0</th>\n",
       "      <td>0 to 2</td>\n",
       "      <td>18</td>\n",
       "      <td>23</td>\n",
       "    </tr>\n",
       "    <tr>\n",
       "      <th>1</th>\n",
       "      <td>2 to 4</td>\n",
       "      <td>28</td>\n",
       "      <td>18</td>\n",
       "    </tr>\n",
       "    <tr>\n",
       "      <th>2</th>\n",
       "      <td>4 to 6</td>\n",
       "      <td>14</td>\n",
       "      <td>16</td>\n",
       "    </tr>\n",
       "    <tr>\n",
       "      <th>3</th>\n",
       "      <td>6 to 8</td>\n",
       "      <td>7</td>\n",
       "      <td>13</td>\n",
       "    </tr>\n",
       "    <tr>\n",
       "      <th>4</th>\n",
       "      <td>8 to 10</td>\n",
       "      <td>11</td>\n",
       "      <td>11</td>\n",
       "    </tr>\n",
       "    <tr>\n",
       "      <th>5</th>\n",
       "      <td>10 to 12</td>\n",
       "      <td>11</td>\n",
       "      <td>9</td>\n",
       "    </tr>\n",
       "    <tr>\n",
       "      <th>6</th>\n",
       "      <td>12 to 18</td>\n",
       "      <td>10</td>\n",
       "      <td>20</td>\n",
       "    </tr>\n",
       "    <tr>\n",
       "      <th>7</th>\n",
       "      <td>18 to 22</td>\n",
       "      <td>8</td>\n",
       "      <td>8</td>\n",
       "    </tr>\n",
       "    <tr>\n",
       "      <th>8</th>\n",
       "      <td>&gt;22</td>\n",
       "      <td>30</td>\n",
       "      <td>19</td>\n",
       "    </tr>\n",
       "  </tbody>\n",
       "</table>\n",
       "</div>"
      ],
      "text/plain": [
       "       Time  Observed  Expected\n",
       "0    0 to 2        18        23\n",
       "1    2 to 4        28        18\n",
       "2    4 to 6        14        16\n",
       "3    6 to 8         7        13\n",
       "4   8 to 10        11        11\n",
       "5  10 to 12        11         9\n",
       "6  12 to 18        10        20\n",
       "7  18 to 22         8         8\n",
       "8       >22        30        19"
      ]
     },
     "execution_count": 70,
     "metadata": {},
     "output_type": "execute_result"
    }
   ],
   "source": [
    "import pandas as pd\n",
    "from scipy.stats import chisquare\n",
    "\n",
    "df = pd.read_csv(\"datasets/Ch6/ex6-10-4.csv\")\n",
    "\n",
    "\n",
    "x, p = chisquare(df['Observed'], df['Expected'])\n",
    "print(x)\n",
    "print(f'p-value: {p}')\n",
    "df"
   ]
  },
  {
   "cell_type": "markdown",
   "metadata": {},
   "source": [
    "Since the p value is significantly < 0.05 we reject $H_0$, and conclude the theoretical model doesn't explain the data. "
   ]
  },
  {
   "cell_type": "markdown",
   "metadata": {},
   "source": [
    "### Problem 6.10.12 \n",
    "Following are the numbers of workers reporting various symptoms, categorized by work shift. The numbers were read from a graph.\n",
    "\n",
    "Can you conclude that the proportions of workers with the various symptoms differ among the shifts?\n",
    "\n",
    "$H_0:$ the symptoms do not differ between shifts (D = 0)\n",
    "\n",
    "$H_1:$ the symptoms do not differ between shifts ($D \\neq 0$)"
   ]
  },
  {
   "cell_type": "code",
   "execution_count": 71,
   "metadata": {},
   "outputs": [
    {
     "name": "stdout",
     "output_type": "stream",
     "text": [
      "p-value:0.007397040450634263\n"
     ]
    }
   ],
   "source": [
    "import pandas as pd\n",
    "from scipy.stats import chi2_contingency\n",
    "\n",
    "df = pd.read_csv(\"datasets/Ch6/ex6-10-12.csv\")\n",
    "\n",
    "results = chi2_contingency(df.drop(columns=\"Unnamed: 0\"))\n",
    "\n",
    "p_value = results[1]\n",
    "\n",
    "print(f'p-value:{p_value}')"
   ]
  },
  {
   "cell_type": "markdown",
   "metadata": {},
   "source": [
    "Since the p-value is significantly lower than < 0.05 we reject $H_0$ and thus conclude that the symptoms differ between shifts. "
   ]
  },
  {
   "cell_type": "markdown",
   "metadata": {},
   "source": [
    "### Problem 7.1.1\n",
    "Compute the correlation coefficient for the following data set.\n"
   ]
  },
  {
   "cell_type": "code",
   "execution_count": 72,
   "metadata": {},
   "outputs": [
    {
     "name": "stdout",
     "output_type": "stream",
     "text": [
      "   x  y\n",
      "0  1  2\n",
      "1  2  1\n",
      "2  3  4\n",
      "3  4  3\n",
      "4  5  7\n",
      "5  6  5\n",
      "6  7  6\n",
      "\n",
      "Correlation coefficient: 0.8214285714285715\n",
      "p-value: 0.023448808345691494\n"
     ]
    }
   ],
   "source": [
    "import pandas as pd\n",
    "from scipy.stats import pearsonr\n",
    "\n",
    "df = pd.read_csv(\"datasets/Ch7/ex7-1-1.csv\")\n",
    "print(df)\n",
    "\n",
    "r, p = pearsonr(df['x'], df['y'])\n",
    "\n",
    "print()\n",
    "print(f'Correlation coefficient: {r}')\n",
    "print(f'p-value: {p}')\n"
   ]
  },
  {
   "cell_type": "markdown",
   "metadata": {},
   "source": [
    "### Problem 7.1.2\n",
    "Since the correlation coefficient is unitless it remains unchanged when: \n",
    "- Multiplying each value of a variable by a positive constant.\n",
    "- Adding a constant to each value of a variable.\n",
    "- Interchanging the values of x and y.\n",
    "\n",
    "Need explaining (?)\n",
    "\n",
    "a) Since the constant three was added to each variable in dataset y, it doesn't affect the correlation coefficient. \n",
    "\n",
    "b) Again the constant three is added to each variable in the dataset y, and "
   ]
  },
  {
   "cell_type": "code",
   "execution_count": 73,
   "metadata": {},
   "outputs": [
    {
     "name": "stdout",
     "output_type": "stream",
     "text": [
      "0.3352119050341078\n"
     ]
    },
    {
     "data": {
      "text/plain": [
       "<matplotlib.collections.PathCollection at 0x7fbe6a1ead70>"
      ]
     },
     "execution_count": 73,
     "metadata": {},
     "output_type": "execute_result"
    },
    {
     "data": {
      "image/png": "[encoded data removed]",
      "text/plain": [
       "<Figure size 432x288 with 1 Axes>"
      ]
     },
     "metadata": {
      "needs_background": "light"
     },
     "output_type": "display_data"
    }
   ],
   "source": [
    "import pandas as pd\n",
    "from scipy.stats import pearsonr\n",
    "import matplotlib.pyplot as plt \n",
    "\n",
    "df = pd.read_csv(\"datasets/Ch7/ex7-1-2a.csv\")\n",
    "\n",
    "r, p = pearsonr(df['x'], df['y'])\n",
    "\n",
    "print(r)\n",
    "\n",
    "plt.scatter(df['x'], df['y'])\n",
    "\n"
   ]
  },
  {
   "cell_type": "markdown",
   "metadata": {},
   "source": [
    "### Problem 7.1.6\n",
    "In a study of ground motion caused by earthquakes, the peak velocity (in m/s) and peak acceleration (in m/s2) were recorded for five earthquakes. The results are presented in the following table.\n",
    "\n",
    "a) Compute the correlation coefficient between peak velocity and peak acceleration.\n",
    "\n",
    "b) Construct a scatterplot for these data.\n",
    "\n",
    "c) Is the correlation coefficient an appropriate summary for these data? Explain why or why not.\n",
    "\n",
    "d) Someone suggests converting the units from meters to centimeters and from seconds to minutes. What effect would this have on the correlation?"
   ]
  },
  {
   "cell_type": "code",
   "execution_count": 79,
   "metadata": {},
   "outputs": [
    {
     "name": "stdout",
     "output_type": "stream",
     "text": [
      "a) Correlation coefficient: -0.8027544804065294\n",
      "b) p-value: 0.10199023144451251\n",
      "c) No since the p > 0.05, so they are not correlated\n",
      "d) No, it has no effect on the correlation coefficient\n"
     ]
    },
    {
     "data": {
      "text/html": [
       "<div>\n",
       "<style scoped>\n",
       "    .dataframe tbody tr th:only-of-type {\n",
       "        vertical-align: middle;\n",
       "    }\n",
       "\n",
       "    .dataframe tbody tr th {\n",
       "        vertical-align: top;\n",
       "    }\n",
       "\n",
       "    .dataframe thead th {\n",
       "        text-align: right;\n",
       "    }\n",
       "</style>\n",
       "<table border=\"1\" class=\"dataframe\">\n",
       "  <thead>\n",
       "    <tr style=\"text-align: right;\">\n",
       "      <th></th>\n",
       "      <th>Velocity</th>\n",
       "      <th>Acceleration</th>\n",
       "    </tr>\n",
       "  </thead>\n",
       "  <tbody>\n",
       "    <tr>\n",
       "      <th>0</th>\n",
       "      <td>1.54</td>\n",
       "      <td>7.64</td>\n",
       "    </tr>\n",
       "    <tr>\n",
       "      <th>1</th>\n",
       "      <td>1.60</td>\n",
       "      <td>8.04</td>\n",
       "    </tr>\n",
       "    <tr>\n",
       "      <th>2</th>\n",
       "      <td>0.95</td>\n",
       "      <td>8.04</td>\n",
       "    </tr>\n",
       "    <tr>\n",
       "      <th>3</th>\n",
       "      <td>1.30</td>\n",
       "      <td>6.37</td>\n",
       "    </tr>\n",
       "    <tr>\n",
       "      <th>4</th>\n",
       "      <td>2.92</td>\n",
       "      <td>5.00</td>\n",
       "    </tr>\n",
       "  </tbody>\n",
       "</table>\n",
       "</div>"
      ],
      "text/plain": [
       "   Velocity  Acceleration\n",
       "0      1.54          7.64\n",
       "1      1.60          8.04\n",
       "2      0.95          8.04\n",
       "3      1.30          6.37\n",
       "4      2.92          5.00"
      ]
     },
     "execution_count": 79,
     "metadata": {},
     "output_type": "execute_result"
    },
    {
     "data": {
      "image/png": "[encoded data removed]",
      "text/plain": [
       "<Figure size 432x288 with 1 Axes>"
      ]
     },
     "metadata": {
      "needs_background": "light"
     },
     "output_type": "display_data"
    }
   ],
   "source": [
    "import pandas as pd\n",
    "import numpy as np \n",
    "from scipy.stats import pearsonr\n",
    "import matplotlib.pyplot as plt\n",
    "\n",
    "df = pd.read_csv(\"datasets/Ch7/ex7-1-6.csv\")\n",
    "\n",
    "r, p = pearsonr(df['Velocity'], df['Acceleration'])\n",
    "\n",
    "print(f'a) Correlation coefficient: {r}')\n",
    "print(f'b) p-value: {p}')\n",
    "print(f'c) No since the p > 0.05, so they are not correlated')\n",
    "print(f'd) No, it has no effect on the correlation coefficient')\n",
    "plt.scatter(df['Velocity'], df['Acceleration'],)\n",
    "plt.xlabel(\"Velocity\")\n",
    "plt.ylabel(\"Acceleration\")\n",
    "\n",
    "df"
   ]
  },
  {
   "cell_type": "markdown",
   "metadata": {},
   "source": [
    "### Problem 7.1.9\n",
    "A blood pressure measurement consists of two numbers: the systolic pressure, which is the maximum pressure taken when the heart is contracting, and the diastolic pressure, which is the minimum pressure taken at the beginning of the heartbeat. Blood pressures were measured, in millimeters of mercury (mmHg), for a sample of 14 adults. The following table presents the results. Assume that blood pressures follow a bivariate normal distribution."
   ]
  },
  {
   "cell_type": "markdown",
   "metadata": {},
   "source": [
    "a) Find a 95% confidence interval for ρ, the correlation between systolic and diastolic blood pressure.\n",
    "\n",
    "c) Can you conclude that $\\rho$ > 0?"
   ]
  },
  {
   "cell_type": "code",
   "execution_count": 75,
   "metadata": {},
   "outputs": [
    {
     "name": "stdout",
     "output_type": "stream",
     "text": [
      "95% CI for rho: [0.2508320831610047, 0.8933354657851348]\n",
      "p-value: 0.006353392756217353\n"
     ]
    },
    {
     "data": {
      "text/html": [
       "<div>\n",
       "<style scoped>\n",
       "    .dataframe tbody tr th:only-of-type {\n",
       "        vertical-align: middle;\n",
       "    }\n",
       "\n",
       "    .dataframe tbody tr th {\n",
       "        vertical-align: top;\n",
       "    }\n",
       "\n",
       "    .dataframe thead th {\n",
       "        text-align: right;\n",
       "    }\n",
       "</style>\n",
       "<table border=\"1\" class=\"dataframe\">\n",
       "  <thead>\n",
       "    <tr style=\"text-align: right;\">\n",
       "      <th></th>\n",
       "      <th>Systolic</th>\n",
       "      <th>Diastolic</th>\n",
       "    </tr>\n",
       "  </thead>\n",
       "  <tbody>\n",
       "    <tr>\n",
       "      <th>0</th>\n",
       "      <td>134</td>\n",
       "      <td>87</td>\n",
       "    </tr>\n",
       "    <tr>\n",
       "      <th>1</th>\n",
       "      <td>115</td>\n",
       "      <td>83</td>\n",
       "    </tr>\n",
       "    <tr>\n",
       "      <th>2</th>\n",
       "      <td>113</td>\n",
       "      <td>77</td>\n",
       "    </tr>\n",
       "    <tr>\n",
       "      <th>3</th>\n",
       "      <td>123</td>\n",
       "      <td>77</td>\n",
       "    </tr>\n",
       "    <tr>\n",
       "      <th>4</th>\n",
       "      <td>119</td>\n",
       "      <td>69</td>\n",
       "    </tr>\n",
       "    <tr>\n",
       "      <th>5</th>\n",
       "      <td>118</td>\n",
       "      <td>88</td>\n",
       "    </tr>\n",
       "    <tr>\n",
       "      <th>6</th>\n",
       "      <td>130</td>\n",
       "      <td>76</td>\n",
       "    </tr>\n",
       "    <tr>\n",
       "      <th>7</th>\n",
       "      <td>116</td>\n",
       "      <td>70</td>\n",
       "    </tr>\n",
       "    <tr>\n",
       "      <th>8</th>\n",
       "      <td>133</td>\n",
       "      <td>91</td>\n",
       "    </tr>\n",
       "    <tr>\n",
       "      <th>9</th>\n",
       "      <td>112</td>\n",
       "      <td>75</td>\n",
       "    </tr>\n",
       "    <tr>\n",
       "      <th>10</th>\n",
       "      <td>107</td>\n",
       "      <td>71</td>\n",
       "    </tr>\n",
       "    <tr>\n",
       "      <th>11</th>\n",
       "      <td>110</td>\n",
       "      <td>74</td>\n",
       "    </tr>\n",
       "    <tr>\n",
       "      <th>12</th>\n",
       "      <td>108</td>\n",
       "      <td>69</td>\n",
       "    </tr>\n",
       "    <tr>\n",
       "      <th>13</th>\n",
       "      <td>105</td>\n",
       "      <td>66</td>\n",
       "    </tr>\n",
       "  </tbody>\n",
       "</table>\n",
       "</div>"
      ],
      "text/plain": [
       "    Systolic  Diastolic\n",
       "0        134         87\n",
       "1        115         83\n",
       "2        113         77\n",
       "3        123         77\n",
       "4        119         69\n",
       "5        118         88\n",
       "6        130         76\n",
       "7        116         70\n",
       "8        133         91\n",
       "9        112         75\n",
       "10       107         71\n",
       "11       110         74\n",
       "12       108         69\n",
       "13       105         66"
      ]
     },
     "execution_count": 75,
     "metadata": {},
     "output_type": "execute_result"
    }
   ],
   "source": [
    "import pandas as pd\n",
    "from scipy.stats import pearsonr\n",
    "import numpy as np\n",
    "\n",
    "df = pd.read_csv(\"datasets/Ch7/ex7-1-9.csv\")\n",
    "r, p, lo, hi = pearsonr_ci(df['Systolic'], df['Diastolic'])\n",
    "\n",
    "print(f'95% CI for rho: [{lo}, {hi}]')\n",
    "print(f'p-value: {p}')\n",
    "\n",
    "df\n"
   ]
  },
  {
   "cell_type": "markdown",
   "metadata": {},
   "source": [
    "Yes since the confidence interval is > 0 we can conclude that the correlation coefficent is > 0"
   ]
  },
  {
   "cell_type": "markdown",
   "metadata": {},
   "source": [
    "### Problem 7.2.11\n",
    "Structural engineers use wireless sensor networks to monitor the condition of dams and bridges. The article “Statistical Analysis of Vibration Modes of a Suspension Bridge Using Spatially Dense Wireless Sensor Network” (S. Pakzad and G. Fenves, Journal of Structural Engineering, 2009:863–872) describes an experiment in which accelerometers were placed on the Golden Gate Bridge for the purpose of estimating vibration modes. For 18 vertical modes, the system was underdamped (damping ratio < 1). Following are the damping ratios and frequencies for those modes.\n",
    "\n",
    "a) Construct a scatterplot of frequency (y) versus damping ratio (x). Verify that a linear model is appropriate.\n",
    "\n",
    "b) Compute the least-squares line for predicting frequency from damping ratio.\n",
    "\n",
    "c) If two modes differ in damping ratio by 0.2, by how much would you predict their frequencies to differ?\n",
    "\n",
    "d) Predict the frequency for modes with damping ratio 0.75.\n",
    "\n",
    "e) Should the equation be used to predict the frequency for modes that are overdamped (damping ratio > 1)? Explain why or why not.\n",
    "\n",
    "f) For what damping ratio would you predict a frequency of 2.0?"
   ]
  },
  {
   "cell_type": "code",
   "execution_count": 27,
   "metadata": {},
   "outputs": [
    {
     "name": "stdout",
     "output_type": "stream",
     "text": [
      "a) As we can see from the graph a linear model is appropriate\n",
      "b) Freq: y = 4.3416 + -4.9051x\n",
      "c) diffrence in freq: 0.981\n",
      "d) Freq for modes 0.75: 0.6627\n",
      "e) No since, all the modes in the data set ar less than 1, it would be illogical to use this dataset to try to predict damping over 1\n",
      "f) Predicted damping ration for freq 2: 0.4774\n"
     ]
    },
    {
     "data": {
      "text/plain": [
       "[<matplotlib.lines.Line2D at 0x7fb322265f00>]"
      ]
     },
     "execution_count": 27,
     "metadata": {},
     "output_type": "execute_result"
    },
    {
     "data": {
      "image/png": "[encoded data removed]",
      "text/plain": [
       "<Figure size 432x288 with 1 Axes>"
      ]
     },
     "metadata": {
      "needs_background": "light"
     },
     "output_type": "display_data"
    }
   ],
   "source": [
    "import pandas as pd\n",
    "import numpy as np\n",
    "import matplotlib.pyplot as plt \n",
    "from scipy.stats import linregress\n",
    "\n",
    "df = pd.read_csv(\"datasets/Ch7/ex7-2-11.csv\")\n",
    "\n",
    "x = df[\"Damping Ratio\"]\n",
    "y = df[\"Frequency\"]\n",
    "\n",
    "reg = linregress(x,y)\n",
    "\n",
    "slope = reg.slope\n",
    "intercept = reg.intercept\n",
    "p_val = reg.pvalue\n",
    "\n",
    "best_line = lambda x: intercept + slope * x\n",
    "inverse_best_line = lambda y: (y - intercept) / slope\n",
    "\n",
    "answer_a = f'As we can see from the graph a linear model is appropriate'\n",
    "answer_b = f'y = {round(intercept,4)} + {round(slope,4)}x'\n",
    "answer_c = round(best_line(0.2) - best_line(0.4), 4)\n",
    "answer_d = round(best_line(0.75),4)\n",
    "answer_e = f'No since, all the modes in the data set ar less than 1, it would be illogical to use this dataset to try to predict damping over 1'\n",
    "answer_f = round(inverse_best_line(2),4)\n",
    "\n",
    "print(f'a) {answer_a}')\n",
    "print(f'b) Freq: {answer_b}')\n",
    "print(f'c) diffrence in freq: {answer_c}')\n",
    "print(f'd) Freq for modes 0.75: {answer_d}')\n",
    "print(f'e) {answer_e}')\n",
    "print(f'f) Predicted damping ration for freq 2: {answer_f}')\n",
    "\n",
    "plt.scatter(x,y)\n",
    "plt.plot(x, slope * x + intercept, color=\"red\", linestyle=\"--\")"
   ]
  },
  {
   "cell_type": "markdown",
   "metadata": {},
   "source": [
    "### Problem 7.2.12\n",
    "The article “Effect of Environmental Factors on Steel Plate Corrosion Under Marine Immersion Conditions” (C. Soares, Y. Garbatov, and A. Zayed, Corrosion Engineering, Science and Technology, 2011:524–541) describes an experiment in which nine steel specimens were submerged in seawater at various temperatures, and the corrosion rates were measured. The results are presented in the following table (obtained by digitizing a graph).\n",
    "\n",
    "a) Construct a scatterplot of corrosion (y) versus temperature (x). Verify that a linear model is appropriate.\n",
    "\n",
    "b) Compute the least-squares line for predicting corrosion from temperature.\n",
    "\n",
    "c) Two steel specimens whose temperatures differ by 10°C are submerged in seawater. By how much would you predict their corrosion rates to differ?\n",
    "\n",
    "d) Predict the corrosion rate for steel submerged in seawater at a temperature of 20°C.\n",
    "\n",
    "e) Compute the fitted values.\n",
    "\n",
    "f) Compute the residuals. Which point has the residual with the largest magnitude?\n",
    "\n",
    "g) Compute the correlation between temperature and corrosion rate.\n",
    "\n",
    "h) Compute the regression sum of squares, the error sum of squares, and the total sum of squares.\n",
    "\n",
    "i) Divide the regression sum of squares by the total sum of squares. What is the relationship between this quantity and the correlation coefficient?"
   ]
  },
  {
   "cell_type": "code",
   "execution_count": 65,
   "metadata": {},
   "outputs": [
    {
     "name": "stdout",
     "output_type": "stream",
     "text": [
      "a) yes as we can see from the scatter a linear model is appropriate\n",
      "b) 0.394 + 0.0355x\n",
      "c) 0.3551\n",
      "d) 1.1041\n",
      "e) [1.3385, 1.3172, 1.3669, 1.1645, 0.923, 0.7952, 0.9266, 0.7029, 0.6851]\n",
      "f)\n",
      "0    0.2415\n",
      "1    0.1328\n",
      "2   -0.2369\n",
      "3   -0.2045\n",
      "4    0.0670\n",
      "5    0.2548\n",
      "6   -0.1066\n",
      "7   -0.0229\n",
      "8   -0.1251\n",
      "Name: Corrosion, dtype: float64\n",
      "max residual: index 5\n",
      "g) 0.8326\n",
      "h)\n",
      "ESS: 0.2708\n",
      "RSS: 0.6122\n",
      "TSS: 0.883\n",
      "i) RSS/TSS = correlation coefficient^2 = 0.6933 = 0.6933\n"
     ]
    },
    {
     "data": {
      "text/plain": [
       "[<matplotlib.lines.Line2D at 0x7fb2c072fa60>]"
      ]
     },
     "execution_count": 65,
     "metadata": {},
     "output_type": "execute_result"
    },
    {
     "data": {
      "image/png": "[encoded data removed]",
      "text/plain": [
       "<Figure size 432x288 with 1 Axes>"
      ]
     },
     "metadata": {
      "needs_background": "light"
     },
     "output_type": "display_data"
    }
   ],
   "source": [
    "import pandas as pd\n",
    "import numpy as np\n",
    "import matplotlib.pyplot as plt \n",
    "from scipy.stats import linregress\n",
    "\n",
    "df = pd.read_csv(\"datasets/Ch7/ex7-2-12.csv\")\n",
    "df\n",
    "\n",
    "x = df[\"Temperature\"]\n",
    "y = df[\"Corrosion\"]\n",
    "y_bar = y.mean()\n",
    "\n",
    "reg = linregress(x,y)\n",
    "slope = reg.slope\n",
    "intercept = reg.intercept\n",
    "\n",
    "best_line = lambda x: intercept + slope * x\n",
    "fitted_values = []\n",
    "\n",
    "for x_i in x:\n",
    "    y_hat = intercept + slope * x_i\n",
    "    fitted_values.append(round(y_hat,4))\n",
    "\n",
    "\n",
    "residuals = y - fitted_values \n",
    "max_res = abs(residuals).argmax()\n",
    "\n",
    "ess = ((fitted_values - y)**2).sum()\n",
    "rss = sum([(y - y_bar)**2 for y in fitted_values])\n",
    "tss = ess + rss\n",
    "r_2 = rss / tss\n",
    "\n",
    "answer_a = f'a) yes as we can see from the scatter a linear model is appropriate'\n",
    "answer_b = f'b) {round(intercept,4)} + {round(slope, 4)}x'\n",
    "answer_c = f'c) {round(best_line(20) - best_line(10),4)}'\n",
    "answer_d = f'd) {round(best_line(20),4)}'\n",
    "answer_e = f'e) {fitted_values}'\n",
    "answer_f = f'f)\\n{residuals}\\nmax residual: index {max_res}'\n",
    "answer_g = f'g) {round(reg.rvalue,4)}'\n",
    "answer_h = f'h)\\nESS: {round(ess,4)}\\nRSS: {round(rss,4)}\\nTSS: {round(tss,4)}'\n",
    "answer_i = f'i) RSS/TSS = correlation coefficient^2 = {round(rss / tss,4)} = {round(reg.rvalue**2,4)}'\n",
    "\n",
    "print(answer_a)\n",
    "print(answer_b)\n",
    "print(answer_c)\n",
    "print(answer_d)\n",
    "print(answer_e)\n",
    "print(answer_f)\n",
    "print(answer_g)\n",
    "print(answer_h)\n",
    "print(answer_i)\n",
    "\n",
    "plt.scatter(x,y)\n",
    "plt.plot(x, intercept + slope * x, color=\"red\", linestyle=\"--\")"
   ]
  },
  {
   "cell_type": "markdown",
   "metadata": {},
   "source": [
    "### Problem 7.3.9\n",
    "\n",
    "a) Compute the least-squares line for predicting evaporation (y) from temperature (x).\n",
    "\n",
    "b) Compute 95% confidence intervals for $\\beta_0$ and $\\beta_1$.\n",
    "\n",
    "c) Predict the evaporation rate when the temperature is 20°C.\n"
   ]
  },
  {
   "cell_type": "code",
   "execution_count": 76,
   "metadata": {},
   "outputs": [
    {
     "name": "stdout",
     "output_type": "stream",
     "text": [
      "a) y = -0.3258 + 0.2234x\n",
      "b)\n",
      "95% CI beta_0: [-2.0308,1.3791]\n",
      "95% CI beta_1: [0.1464,0.3005]\n",
      "c) 4.1431\n"
     ]
    }
   ],
   "source": [
    "import pandas as pd\n",
    "import numpy as np\n",
    "import matplotlib.pyplot as plt \n",
    "from scipy.stats import linregress, t\n",
    "\n",
    "df = pd.read_csv(\"datasets/Ch7/ex7-3-9.csv\")\n",
    "\n",
    "x = df[\"Temp\"]\n",
    "y = df[\"Evap\"]\n",
    "\n",
    "reg = linregress(x,y)\n",
    "\n",
    "slope = reg.slope\n",
    "intercept = reg.intercept\n",
    "\n",
    "best_line = lambda x: intercept + slope * x\n",
    "\n",
    "a = t.ppf(0.975, x.size - 2)\n",
    "\n",
    "ci_beta_0 = f'[{round(intercept - a * reg.intercept_stderr,4)},{round(intercept + a * reg.intercept_stderr,4)}]'\n",
    "ci_beta_1 = f'[{round(slope - a * reg.stderr,4)},{round(slope + a * reg.stderr,4)}]'\n",
    "\n",
    "answer_c = round(best_line(20),4)\n",
    "\n",
    "print(f'a) y = {round(intercept,4)} + {round(slope, 4)}x')\n",
    "print(f'b)\\n95% CI beta_0: {ci_beta_0}\\n95% CI beta_1: {ci_beta_1}')\n",
    "print(f'c) {answer_c}')"
   ]
  },
  {
   "cell_type": "markdown",
   "metadata": {},
   "source": [
    "### Problem 7.4.9\n",
    "The National Assessment for Educational Progress measured the percentage of eighth grade students who were proficient in reading and the percentage of students who graduated from high school in each state in the U.S. The results for the ten most populous states are as follows:\n",
    "\n",
    "a) Construct a scatterplot of graduation rate (y) versus reading proficiency (x). Which state is an outlier?\n",
    "\n",
    "b) Compute the least-squares line for predicting graduation rate from reading proficiency, using the data from all ten states.\n",
    "\n",
    "c) Remove the outlier and compute the least-squares line, using the data from the other nine states.\n",
    "\n",
    "d) Is the outlier an influential point? Explain."
   ]
  },
  {
   "cell_type": "code",
   "execution_count": 101,
   "metadata": {},
   "outputs": [
    {
     "name": "stdout",
     "output_type": "stream",
     "text": [
      "a) California is an outlier\n",
      "b) y = 30.1218 + 0.5958x\n",
      "c) y = -22.7145 + 1.3046x\n",
      "d)\n",
      "p-value with outlier: 0.1307\n",
      "p-value without outlier: 0.0076\n",
      "As we can see from the p-values the outliers is really influential on the dataset, with the outlier the correlation is rejected and attributed to randomness, but without it we see that the data produces as significant trend.\n"
     ]
    },
    {
     "data": {
      "text/plain": [
       "[<matplotlib.lines.Line2D at 0x7fb2c1614b50>]"
      ]
     },
     "execution_count": 101,
     "metadata": {},
     "output_type": "execute_result"
    },
    {
     "data": {
      "image/png": "[encoded data removed]",
      "text/plain": [
       "<Figure size 432x288 with 1 Axes>"
      ]
     },
     "metadata": {
      "needs_background": "light"
     },
     "output_type": "display_data"
    }
   ],
   "source": [
    "import pandas as pd\n",
    "import numpy as np\n",
    "import matplotlib.pyplot as plt \n",
    "from scipy.stats import linregress\n",
    "\n",
    "df = pd.read_csv(\"datasets/Ch7/ex7-4-9.csv\")\n",
    "\n",
    "df2 = df.loc[1:9]\n",
    "\n",
    "\n",
    "x = df[\"Reading Proficiency\"]\n",
    "y = df[\"Graduation Rate\"]\n",
    "\n",
    "x2 = df2[\"Reading Proficiency\"]\n",
    "y2 = df2[\"Graduation Rate\"]\n",
    "\n",
    "reg_10 = linregress(x,y)\n",
    "slope_10 = reg_10.slope\n",
    "intercept_10 = reg_10.intercept\n",
    "p_10 = reg_10.pvalue\n",
    "\n",
    "reg_9 = linregress(x2,y2)\n",
    "slope_9 = reg_9.slope\n",
    "intercept_9 = reg_9.intercept\n",
    "p_9 = reg_9.pvalue\n",
    "\n",
    "answer_a = f'a) California is an outlier'\n",
    "answer_b = f'b) y = {round(intercept_10,4)} + {round(slope_10, 4)}x'\n",
    "answer_c = f'c) y = {round(intercept_9,4)} + {round(slope_9, 4)}x'\n",
    "\n",
    "print(answer_a)\n",
    "print(answer_b)\n",
    "print(answer_c)\n",
    "print('d)')\n",
    "print(f'p-value with outlier: {round(p_10,4)}')\n",
    "print(f'p-value without outlier: {round(p_9,4)}')\n",
    "print(f'As we can see from the p-values the outliers is really influential on the dataset, with the outlier the correlation is rejected and attributed to randomness, but without it we see that the data produces as significant trend.')\n",
    "\n",
    "plt.scatter(x,y)\n",
    "plt.plot(x, intercept_10 + slope_10 * x, color=\"red\", linestyle=\"--\")\n",
    "\n",
    "plt.scatter(x2,y2)\n",
    "plt.plot(x2, intercept_9 + slope_9 * x2, color=\"blue\", linestyle=\"--\")\n"
   ]
  },
  {
   "cell_type": "markdown",
   "metadata": {},
   "source": [
    "### Fisher 2x2 contingency test"
   ]
  },
  {
   "cell_type": "code",
   "execution_count": 76,
   "metadata": {},
   "outputs": [
    {
     "name": "stdout",
     "output_type": "stream",
     "text": [
      "2.5972222222222223\n",
      "0.08003496009127051\n"
     ]
    },
    {
     "data": {
      "text/html": [
       "<div>\n",
       "<style scoped>\n",
       "    .dataframe tbody tr th:only-of-type {\n",
       "        vertical-align: middle;\n",
       "    }\n",
       "\n",
       "    .dataframe tbody tr th {\n",
       "        vertical-align: top;\n",
       "    }\n",
       "\n",
       "    .dataframe thead th {\n",
       "        text-align: right;\n",
       "    }\n",
       "</style>\n",
       "<table border=\"1\" class=\"dataframe\">\n",
       "  <thead>\n",
       "    <tr style=\"text-align: right;\">\n",
       "      <th></th>\n",
       "      <th>girls</th>\n",
       "      <th>boys</th>\n",
       "    </tr>\n",
       "  </thead>\n",
       "  <tbody>\n",
       "    <tr>\n",
       "      <th>admitted</th>\n",
       "      <td>17</td>\n",
       "      <td>9</td>\n",
       "    </tr>\n",
       "    <tr>\n",
       "      <th>rejected</th>\n",
       "      <td>16</td>\n",
       "      <td>22</td>\n",
       "    </tr>\n",
       "  </tbody>\n",
       "</table>\n",
       "</div>"
      ],
      "text/plain": [
       "          girls  boys\n",
       "admitted     17     9\n",
       "rejected     16    22"
      ]
     },
     "execution_count": 76,
     "metadata": {},
     "output_type": "execute_result"
    }
   ],
   "source": [
    "import numpy as np\n",
    "import pandas as pd\n",
    "from scipy.stats import fisher_exact\n",
    "\n",
    "data = np.array([[17, 9], [16, 22]])\n",
    "\n",
    "df = pd.DataFrame(data, index=['admitted', 'rejected'], columns=['girls', 'boys'])\n",
    "\n",
    "odds_rat, p = fisher_exact(df)\n",
    "print(odds_rat)\n",
    "print(p)\n",
    "df"
   ]
  },
  {
   "cell_type": "markdown",
   "metadata": {},
   "source": [
    "Since the p-value is above 0.05 we accept $H_0$ and conclude that there is not a gender bias. "
   ]
  },
  {
   "cell_type": "markdown",
   "metadata": {},
   "source": [
    "### Simple linear regression\n",
    "a)"
   ]
  },
  {
   "cell_type": "code",
   "execution_count": 25,
   "metadata": {},
   "outputs": [
    {
     "name": "stdout",
     "output_type": "stream",
     "text": [
      "LinregressResult(slope=0.20462406015037599, intercept=4.999714285714285, rvalue=0.9743193083175269, pvalue=4.2037584649203017e-13, stderr=0.011146311882917918, intercept_stderr=0.02477391625966531)\n"
     ]
    },
    {
     "data": {
      "text/plain": [
       "Text(0.25, 5.7, 'y = 4.9997 + 0.2046x')"
      ]
     },
     "execution_count": 25,
     "metadata": {},
     "output_type": "execute_result"
    },
    {
     "data": {
      "image/png": "[encoded data removed]",
      "text/plain": [
       "<Figure size 432x288 with 1 Axes>"
      ]
     },
     "metadata": {
      "needs_background": "light"
     },
     "output_type": "display_data"
    }
   ],
   "source": [
    "import pandas as pd\n",
    "import numpy as np\n",
    "import matplotlib.pylab as plt\n",
    "from scipy.stats import linregress\n",
    "\n",
    "\n",
    "df = pd.read_csv(\"datasets/Ch7/table7-1.csv\")\n",
    "\n",
    "x = df['Weight (x)']\n",
    "y = df['Measured Length (y)']\n",
    "\n",
    "reg = linregress(x, y)\n",
    "print(reg) \n",
    "slope = reg[0]\n",
    "intercept = reg[1]\n",
    "\n",
    "plt.scatter(x, y)\n",
    "plt.plot(x, slope * x + intercept, color='red',linestyle='--')\n",
    "\n",
    "\n",
    "plt.xlabel('Weight (lb)')\n",
    "plt.ylabel('Measured Length (in)')\n",
    "\n",
    "best_line = f'y = {round(intercept,4)} + {round(slope,4)}x'\n",
    "\n",
    "plt.text(0.25, 5.7, best_line)"
   ]
  },
  {
   "cell_type": "markdown",
   "metadata": {},
   "source": [
    "b)"
   ]
  },
  {
   "cell_type": "code",
   "execution_count": 26,
   "metadata": {},
   "outputs": [
    {
     "name": "stdout",
     "output_type": "stream",
     "text": [
      "LinregressResult(slope=0.11684917103910851, intercept=12.699274285714289, rvalue=0.9743193083175268, pvalue=4.203758464920466e-13, stderr=0.006365025220910872, intercept_stderr=0.06292574729954999)\n"
     ]
    },
    {
     "data": {
      "text/plain": [
       "Text(0.25, 14.5, 'y = 12.6993 + 0.1168x')"
      ]
     },
     "execution_count": 26,
     "metadata": {},
     "output_type": "execute_result"
    },
    {
     "data": {
      "image/png": "[encoded data removed]",
      "text/plain": [
       "<Figure size 432x288 with 1 Axes>"
      ]
     },
     "metadata": {
      "needs_background": "light"
     },
     "output_type": "display_data"
    }
   ],
   "source": [
    "import pandas as pd\n",
    "import numpy as np\n",
    "import matplotlib.pylab as plt\n",
    "from scipy.stats import linregress\n",
    "\n",
    "\n",
    "df = pd.read_csv(\"datasets/Ch7/table7-1.csv\")\n",
    "\n",
    "\n",
    "x = df['Weight (x)'] * 4.448\n",
    "y = df['Measured Length (y)'] * 2.54\n",
    "\n",
    "reg = linregress(x, y)\n",
    "print(reg) \n",
    "slope = reg[0]\n",
    "intercept = reg[1]\n",
    "\n",
    "plt.scatter(x, y)\n",
    "plt.plot(x, slope * x + intercept, color='red',linestyle='--')\n",
    "\n",
    "\n",
    "plt.xlabel('Force (N)')\n",
    "plt.ylabel('Measured Length (cm)')\n",
    "\n",
    "best_line = f'y = {round(intercept,4)} + {round(slope,4)}x'\n",
    "\n",
    "plt.text(0.25, 14.5, best_line)"
   ]
  },
  {
   "cell_type": "markdown",
   "metadata": {},
   "source": [
    "c) "
   ]
  },
  {
   "cell_type": "code",
   "execution_count": 29,
   "metadata": {},
   "outputs": [
    {
     "name": "stdout",
     "output_type": "stream",
     "text": [
      "12.6993 + 0.1168x\n"
     ]
    }
   ],
   "source": [
    "import pandas as pd\n",
    "import numpy as np\n",
    "\n",
    "df = pd.read_csv(\"datasets/Ch7/table7-1.csv\")\n",
    "\n",
    "x = df['Weight (x)'] * 4.448\n",
    "y = df['Measured Length (y)'] * 2.54\n",
    "\n",
    "xy = x * y\n",
    "x_2 = x * x\n",
    "\n",
    "xy_bar = xy.mean()\n",
    "x_2_bar = x_2.mean()\n",
    "\n",
    "x_bar = x.mean()\n",
    "y_bar = y.mean()\n",
    "\n",
    "slope = (xy_bar - x_bar * y_bar) / (x_2_bar  - x_bar**2)\n",
    "\n",
    "intercept = y_bar - slope * x_bar\n",
    "\n",
    "print(f'{round(intercept,4)} + {round(slope,4)}x')\n",
    "\n",
    "\n",
    "\n"
   ]
  },
  {
   "cell_type": "markdown",
   "metadata": {},
   "source": [
    "Which is the same as the calculations made by the software so the math checks out. "
   ]
  },
  {
   "cell_type": "markdown",
   "metadata": {},
   "source": [
    "d) "
   ]
  },
  {
   "cell_type": "code",
   "execution_count": 47,
   "metadata": {},
   "outputs": [
    {
     "name": "stdout",
     "output_type": "stream",
     "text": [
      "95% CI for slope: [0.1035,0.1302]\n",
      "95% CI for intercept: [12.5671,12.8315]\n"
     ]
    }
   ],
   "source": [
    "import pandas as pd\n",
    "import numpy as np\n",
    "import matplotlib.pylab as plt\n",
    "from scipy.stats import linregress, t\n",
    "\n",
    "\n",
    "df = pd.read_csv(\"datasets/Ch7/table7-1.csv\")\n",
    "\n",
    "\n",
    "x = df['Weight (x)'] * 4.448\n",
    "y = df['Measured Length (y)'] * 2.54\n",
    "\n",
    "reg = linregress(x,y)\n",
    "\n",
    "slope = reg.slope\n",
    "intercept = reg.intercept\n",
    "stderr = reg.stderr\n",
    "int_stderr = reg.intercept_stderr\n",
    "\n",
    "#print(t.ppf(0.025, len(x) - 2))\n",
    "a = t.ppf(0.975, len(x) - 2)\n",
    "\n",
    "\n",
    "print(f'95% CI for slope: [{round(slope - a * stderr,4)},{round(slope + a * stderr, 4)}]')\n",
    "print(f'95% CI for intercept: [{round(intercept - a * int_stderr,4)},{round(intercept + a * int_stderr,4)}]')\n",
    "\n",
    "\n"
   ]
  },
  {
   "cell_type": "markdown",
   "metadata": {},
   "source": [
    "e)"
   ]
  },
  {
   "cell_type": "code",
   "execution_count": 58,
   "metadata": {},
   "outputs": [
    {
     "name": "stdout",
     "output_type": "stream",
     "text": [
      "0.9492981145603439\n",
      "0.9492981145603439\n",
      "0.9492981145603439 = 0.9492981145603439 = R^2\n"
     ]
    }
   ],
   "source": [
    "import pandas as pd\n",
    "import numpy as np\n",
    "import matplotlib.pylab as plt\n",
    "from scipy.stats import linregress\n",
    "\n",
    "\n",
    "df = pd.read_csv(\"datasets/Ch7/table7-1.csv\")\n",
    "\n",
    "x = df['Weight (x)'] * 4.448\n",
    "y = df['Measured Length (y)'] * 2.54\n",
    "\n",
    "reg_new = linregress(y, x)\n",
    "reg_old = linregress(x, y)\n",
    "\n",
    "r_val = reg_new.rvalue\n",
    "\n",
    "new_slope = reg_new.slope\n",
    "old_slope = reg_old.slope\n",
    "\n",
    "new_intercept = reg_new.intercept\n",
    "old_intercept = reg_old.intercept\n",
    "\n",
    "r_calc = new_slope * old_slope\n",
    "print(r_calc)\n",
    "print(r_val**2)\n",
    "print(f'{r_calc} = {r_val**2} = R^2')"
   ]
  },
  {
   "cell_type": "markdown",
   "metadata": {},
   "source": [
    "## Miniprojects"
   ]
  },
  {
   "cell_type": "markdown",
   "metadata": {},
   "source": [
    "### Miniproject 1 (week 5)\n",
    "Step 1:\n",
    "\n",
    "$\\mu = E(x) = \\int_{a}^{b} x dP = \\int_{a}^{b} xf(x)dx = \\frac{1}{b - a} \\int_{a}^{b} x dx = \\frac{1}{b - a}\\, \\frac{x^2}{2} \\Big|_a^b = \\frac{b^2 - a^2}{2(a - b)} = \\frac{(b - a)(b - a)}{2(b - a)} \\Rightarrow \\mu = \\frac{b - a}{2}$\n",
    "\n",
    "$\n",
    "\\begin{align}\n",
    "\\sigma^2 &= Var(x)\\\\\n",
    "&= \\mu_{x^2} - (\\mu_x)^2 \\\\\n",
    "&= \\int_{a}^{b} x^2 f(x)dx \\\\\n",
    "&= \\frac{1}{b - a} \\int_{a}^{b} x^2 dx \\\\\n",
    "&= \\frac{1}{b - a}\\, \\frac{x^3}{3} \\Big|_{a}^{b}\\\\\n",
    "&= \\frac{1}{b - a} \\times \\frac{b^3 - a^3}{3} \\\\\n",
    "&= \\frac{(b - a)(b^2 + ab + a^2)}{3(b - a)} \\\\\n",
    "&= \\frac{b^2 + ab + a^2}{3}\n",
    "\\end{align}\n",
    "$\n",
    "\n",
    "$0 \\leq x \\leq 1$ \n",
    "\n",
    "$\\mu = \\frac{1 - 0}{2} = \\frac{1}{2}$\n",
    "\n",
    "$\\sigma^2 = \\frac{(1 - 0)^2}{12} \\\\\n",
    "\\sigma = \\sqrt{\\frac{1}{12}} = \\frac{1}{2\\sqrt{3}}$\n"
   ]
  },
  {
   "cell_type": "code",
   "execution_count": 77,
   "metadata": {},
   "outputs": [],
   "source": [
    "from numpy import random, mean, std\n",
    "import pandas as pd\n",
    "\n",
    "k = 10\n",
    "n = 10\n",
    "m = []\n",
    "stddevs = []\n",
    "df = pd.DataFrame()\n",
    "\n",
    "for i in range(k):\n",
    "    rand_lis =  [random.random_sample(1) for _ in range(n)]\n",
    "    m.append(mean(rand_lis))\n",
    "    stddevs.append(std(rand_lis))\n",
    "\n",
    "df['M'] = m\n",
    "df['Std.dev'] = stddevs\n",
    "#df = df.set_axis([f'S{i}' for i in range(1,k)])\n",
    "\n"
   ]
  },
  {
   "cell_type": "markdown",
   "metadata": {},
   "source": [
    "As we can observe from the data all the means are in range 0.15 from the actual mean. The standard deviation looks to be closer to the actual stddev than the mean. "
   ]
  },
  {
   "cell_type": "code",
   "execution_count": 78,
   "metadata": {},
   "outputs": [
    {
     "name": "stdout",
     "output_type": "stream",
     "text": [
      "n: 10\n",
      "k: 10\n",
      "Mean of the mean: 0.49311\n",
      "Mean of stddev: 0.30987\n",
      "Stddev: 0.28868\n",
      "Sample std of m: 0.0971542\n",
      "True sample std: 0.0912871\n",
      "As we can observe the mean of the mean is much closer to the true mean (0.5) than in array M\n"
     ]
    }
   ],
   "source": [
    "mean_mean = df['M'].mean()\n",
    "print(f'n: {n}\\nk: {k}')\n",
    "print(f'Mean of the mean: {round(mean_mean,5)}')\n",
    "sample_std_of_m = df['M'].std()\n",
    "mean_of_std = df['Std.dev'].mean()\n",
    "print(f'Mean of stddev: {round(mean_of_std,5)}\\nStddev: {round(1 / sqrt(12),5)}\\nSample std of m: {round(sample_std_of_m,7)}\\nTrue sample std: {round(1 / sqrt(12 * n),7)}')\n",
    "print('As we can observe the mean of the mean is much closer to the true mean (0.5) than in array M')\n"
   ]
  },
  {
   "cell_type": "markdown",
   "metadata": {},
   "source": [
    "n: 10\n",
    "\n",
    "k: 10\n",
    "\n",
    "Mean of the mean: 0.46781\n",
    "\n",
    "Mean of stddev: 0.25057\n",
    "\n",
    "Stddev: 0.28868\n",
    "\n",
    "Sample std of m: 0.0840819\n",
    "\n",
    "True sample std: 0.0912871"
   ]
  },
  {
   "cell_type": "markdown",
   "metadata": {},
   "source": [
    "n: 100\n",
    "\n",
    "k: 10\n",
    "\n",
    "Mean of the mean: 0.49524\n",
    "\n",
    "Mean of stddev: 0.28404\n",
    "\n",
    "Stddev: 0.28868\n",
    "\n",
    "Sample std of m: 0.0339839\n",
    "\n",
    "True sample std: 0.0288675"
   ]
  },
  {
   "cell_type": "markdown",
   "metadata": {},
   "source": [
    "n: 1000\n",
    "\n",
    "k: 10\n",
    "\n",
    "Mean of the mean: 0.50005\n",
    "\n",
    "Mean of stddev: 0.28852\n",
    "\n",
    "Stddev: 0.28868\n",
    "\n",
    "Sample std of m: 0.0070751\n",
    "\n",
    "True sample std: 0.0091287"
   ]
  },
  {
   "cell_type": "markdown",
   "metadata": {},
   "source": [
    "n: 10000\n",
    "\n",
    "k: 10\n",
    "\n",
    "Mean of the mean: 0.50059\n",
    "\n",
    "Mean of stddev: 0.28877\n",
    "\n",
    "Stddev: 0.28868\n",
    "\n",
    "Sample std of m: 0.0021885\n",
    "\n",
    "True sample std: 0.0028868"
   ]
  },
  {
   "cell_type": "markdown",
   "metadata": {},
   "source": [
    "n: 100000\n",
    "\n",
    "k: 10\n",
    "\n",
    "Mean of the mean: 0.49977\n",
    "\n",
    "Mean of stddev: 0.28855\n",
    "\n",
    "Stddev: 0.28868\n",
    "\n",
    "Sample std of m: 0.0013092\n",
    "\n",
    "True sample std: 0.0009129"
   ]
  },
  {
   "cell_type": "markdown",
   "metadata": {},
   "source": [
    "n: 1000000\n",
    "\n",
    "k: 10\n",
    "\n",
    "Mean of the mean: 0.49999\n",
    "\n",
    "Mean of stddev: 0.28866\n",
    "\n",
    "Stddev: 0.28868\n",
    "\n",
    "Sample std of m: 0.0002473\n",
    "\n",
    "True sample std: 0.0002887"
   ]
  },
  {
   "cell_type": "markdown",
   "metadata": {},
   "source": [
    "n: 10\n",
    "\n",
    "k: 100\n",
    "\n",
    "Mean of the mean: 0.48305\n",
    "\n",
    "Mean of stddev: 0.26485\n",
    "\n",
    "Stddev: 0.28868\n",
    "\n",
    "Sample std of m: 0.0944039\n",
    "\n",
    "True sample std: 0.0912871"
   ]
  },
  {
   "cell_type": "markdown",
   "metadata": {},
   "source": [
    "n: 10\n",
    "\n",
    "k: 1000\n",
    "\n",
    "Mean of the mean: 0.49714\n",
    "\n",
    "Mean of stddev: 0.2687\n",
    "\n",
    "Stddev: 0.28868\n",
    "\n",
    "Sample std of m: 0.0856888\n",
    "\n",
    "True sample std: 0.0912871"
   ]
  },
  {
   "cell_type": "markdown",
   "metadata": {},
   "source": [
    "n: 10\n",
    "\n",
    "k: 10000\n",
    "\n",
    "Mean of the mean: 0.499\n",
    "\n",
    "Mean of stddev: 0.26983\n",
    "\n",
    "Stddev: 0.28868\n",
    "\n",
    "Sample std of m: 0.0910039\n",
    "\n",
    "True sample std: 0.0912871"
   ]
  },
  {
   "cell_type": "markdown",
   "metadata": {},
   "source": [
    "n: 10\n",
    "\n",
    "k: 100000\n",
    "\n",
    "Mean of the mean: 0.49967\n",
    "\n",
    "Mean of stddev: 0.27023\n",
    "\n",
    "Stddev: 0.28868\n",
    "\n",
    "Sample std of m: 0.0911934\n",
    "\n",
    "True sample std: 0.0912871"
   ]
  }
 ],
 "metadata": {
  "kernelspec": {
   "display_name": "Python 3.10.4 ('datascience')",
   "language": "python",
   "name": "python3"
  },
  "language_info": {
   "codemirror_mode": {
    "name": "ipython",
    "version": 3
   },
   "file_extension": ".py",
   "mimetype": "text/x-python",
   "name": "python",
   "nbconvert_exporter": "python",
   "pygments_lexer": "ipython3",
   "version": "3.10.4"
  },
  "orig_nbformat": 4,
  "vscode": {
   "interpreter": {
    "hash": "e60faada378f6b3d3e839d3773c81eab86867a18f20f84015888fc9faa7ad49d"
   }
  }
 },
 "nbformat": 4,
 "nbformat_minor": 2
}
